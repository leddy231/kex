{
 "metadata": {
  "language_info": {
   "codemirror_mode": {
    "name": "ipython",
    "version": 3
   },
   "file_extension": ".py",
   "mimetype": "text/x-python",
   "name": "python",
   "nbconvert_exporter": "python",
   "pygments_lexer": "ipython3",
   "version": "3.8.5"
  },
  "orig_nbformat": 2,
  "kernelspec": {
   "name": "python385jvsc74a57bd0c44b72c526c8c2d5c61f5343e5a1f2700c1b4b253758e0d185049d36041666fd",
   "display_name": "Python 3.8.5 64-bit ('base': conda)"
  }
 },
 "nbformat": 4,
 "nbformat_minor": 2,
 "cells": [
  {
   "cell_type": "code",
   "execution_count": 1,
   "metadata": {},
   "outputs": [],
   "source": [
    "import os\n",
    "import pickle\n",
    "import pandas as pd\n",
    "import statsmodels.api as sm\n",
    "from tqdm.notebook import tqdm"
   ]
  },
  {
   "cell_type": "code",
   "execution_count": 2,
   "metadata": {},
   "outputs": [],
   "source": [
    "#datasets = os.listdir('./data')\n",
    "datasets = ['AirlineTweets']\n",
    "#datasets = ['Sentiment140']"
   ]
  },
  {
   "cell_type": "code",
   "execution_count": 3,
   "metadata": {},
   "outputs": [],
   "source": [
    "def readFile(path):\n",
    "    with open(path, 'r') as file:\n",
    "        return file.read()"
   ]
  },
  {
   "cell_type": "code",
   "execution_count": 4,
   "metadata": {},
   "outputs": [],
   "source": [
    "dimensions = pickle.load(open('./helpdata/pickedDimensions.pickle', mode='rb'))"
   ]
  },
  {
   "cell_type": "code",
   "execution_count": 8,
   "metadata": {},
   "outputs": [
    {
     "output_type": "display_data",
     "data": {
      "text/plain": "Datasets:   0%|          | 0/1 [00:00<?, ?it/s]",
      "application/vnd.jupyter.widget-view+json": {
       "version_major": 2,
       "version_minor": 0,
       "model_id": "a11d7ad89b814ce79b3d11d115abd979"
      }
     },
     "metadata": {}
    },
    {
     "output_type": "stream",
     "name": "stdout",
     "text": [
      "Optimization terminated successfully    (Exit mode 0)\n            Current function value: 0.4369531133705893\n            Iterations: 155\n            Function evaluations: 158\n            Gradient evaluations: 155\n"
     ]
    }
   ],
   "source": [
    "for dataset in tqdm(datasets, desc=\"Datasets\"):\n",
    "    inputFile  = f'./data/{dataset}/Data-With-Dimensions.csv'\n",
    "    outputFile = f'./data/{dataset}/Regression.txt'\n",
    "    df = pd.read_csv(inputFile)\n",
    "\n",
    "    y = df['Word2Vec_predict_correct']\n",
    "    X = df[dimensions]\n",
    "\n",
    "    logit_model=sm.Logit(y,X)\n",
    "    result=logit_model.fit_regularized(cov_type=\"HC3\", maxiter=1000, alpha=0)\n",
    "    with open(outputFile, mode='w') as f:\n",
    "        f.write(str(result.summary()))"
   ]
  },
  {
   "cell_type": "code",
   "execution_count": null,
   "metadata": {},
   "outputs": [],
   "source": []
  }
 ]
}