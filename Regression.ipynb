{
 "metadata": {
  "language_info": {
   "codemirror_mode": {
    "name": "ipython",
    "version": 3
   },
   "file_extension": ".py",
   "mimetype": "text/x-python",
   "name": "python",
   "nbconvert_exporter": "python",
   "pygments_lexer": "ipython3",
   "version": "3.8.5"
  },
  "orig_nbformat": 2,
  "kernelspec": {
   "name": "python385jvsc74a57bd0c44b72c526c8c2d5c61f5343e5a1f2700c1b4b253758e0d185049d36041666fd",
   "display_name": "Python 3.8.5 64-bit ('base': conda)"
  }
 },
 "nbformat": 4,
 "nbformat_minor": 2,
 "cells": [
  {
   "cell_type": "code",
   "execution_count": 1,
   "metadata": {},
   "outputs": [],
   "source": [
    "import os\n",
    "import pickle\n",
    "import pandas as pd\n",
    "import statsmodels.api as sm\n",
    "from tqdm.notebook import tqdm"
   ]
  },
  {
   "cell_type": "code",
   "execution_count": 2,
   "metadata": {},
   "outputs": [],
   "source": [
    "#datasets = os.listdir('./data')\n",
    "datasets = ['AirlineTweets']\n",
    "#datasets = ['Sentiment140']"
   ]
  },
  {
   "cell_type": "code",
   "execution_count": 3,
   "metadata": {},
   "outputs": [],
   "source": [
    "dimensions = pickle.load(open('./Data-Dimensions-Uncorrelated.pickle', mode='rb'))"
   ]
  },
  {
   "cell_type": "code",
   "execution_count": 4,
   "metadata": {},
   "outputs": [
    {
     "output_type": "display_data",
     "data": {
      "text/plain": "Datasets:   0%|          | 0/1 [00:00<?, ?it/s]",
      "application/vnd.jupyter.widget-view+json": {
       "version_major": 2,
       "version_minor": 0,
       "model_id": "4da0a6ce01aa47179eebcc4a503cd9df"
      }
     },
     "metadata": {}
    },
    {
     "output_type": "stream",
     "name": "stdout",
     "text": [
      "Optimization terminated successfully    (Exit mode 0)\n            Current function value: 0.4369531133705893\n            Iterations: 155\n            Function evaluations: 158\n            Gradient evaluations: 155\n"
     ]
    }
   ],
   "source": [
    "for dataset in tqdm(datasets, desc=\"Datasets\"):\n",
    "    inputFile  = f'./data/{dataset}/Data-With-Dimensions.csv'\n",
    "    outputFile = f'./data/{dataset}/Regression.txt'\n",
    "    df = pd.read_csv(inputFile)\n",
    "\n",
    "    y = df['Word2Vec_predict_correct']\n",
    "    X = df[dimensions]\n",
    "    logit_model=sm.Logit(y,X)\n",
    "    result=logit_model.fit_regularized(cov_type=\"HC3\", maxiter=1000, alpha=0)\n",
    "    with open(outputFile, mode='w') as f:\n",
    "        f.write(str(result.summary()))"
   ]
  },
  {
   "cell_type": "code",
   "execution_count": 5,
   "metadata": {},
   "outputs": [
    {
     "output_type": "stream",
     "name": "stdout",
     "text": [
      "Optimization terminated successfully    (Exit mode 0)\n            Current function value: 0.5604726365448648\n            Iterations: 9\n            Function evaluations: 9\n            Gradient evaluations: 9\n                              Logit Regression Results                              \n====================================================================================\nDep. Variable:     Word2Vec_predict_correct   No. Observations:                11541\nModel:                                Logit   Df Residuals:                    11540\nMethod:                                 MLE   Df Model:                            0\nDate:                      Thu, 22 Apr 2021   Pseudo R-squ.:                 -0.1220\nTime:                              03:00:58   Log-Likelihood:                -6468.4\nconverged:                             True   LL-Null:                       -5765.1\nCovariance Type:                        HC3   LLR p-value:                       nan\n==================================================================================\n                     coef    std err          z      P>|z|      [0.025      0.975]\n----------------------------------------------------------------------------------\nmeanUniqueness     4.8004      0.121     39.780      0.000       4.564       5.037\n==================================================================================\n"
     ]
    }
   ],
   "source": [
    "y = df['Word2Vec_predict_correct']\n",
    "X = df['meanUniqueness']\n",
    "logit_model=sm.Logit(y,X)\n",
    "result=logit_model.fit_regularized(cov_type=\"HC3\", maxiter=1000, alpha=0)\n",
    "print(result.summary())"
   ]
  },
  {
   "cell_type": "code",
   "execution_count": 6,
   "metadata": {},
   "outputs": [
    {
     "output_type": "stream",
     "name": "stdout",
     "text": [
      "Optimization terminated successfully    (Exit mode 0)\n",
      "            Current function value: 0.5404657858604246\n",
      "            Iterations: 9\n",
      "            Function evaluations: 9\n",
      "            Gradient evaluations: 9\n",
      "                              Logit Regression Results                              \n",
      "====================================================================================\n",
      "Dep. Variable:     Word2Vec_predict_correct   No. Observations:                11541\n",
      "Model:                                Logit   Df Residuals:                    11540\n",
      "Method:                                 MLE   Df Model:                            0\n",
      "Date:                      Thu, 22 Apr 2021   Pseudo R-squ.:                -0.08193\n",
      "Time:                              03:00:58   Log-Likelihood:                -6237.5\n",
      "converged:                             True   LL-Null:                       -5765.1\n",
      "Covariance Type:                        HC3   LLR p-value:                       nan\n",
      "=========================================================================================\n",
      "                            coef    std err          z      P>|z|      [0.025      0.975]\n",
      "-----------------------------------------------------------------------------------------\n",
      "nrBiSyllables/nrWords     6.0307      0.145     41.669      0.000       5.747       6.314\n",
      "=========================================================================================\n"
     ]
    }
   ],
   "source": [
    "y = df['Word2Vec_predict_correct']\n",
    "X = df['nrBiSyllables/nrWords']\n",
    "logit_model=sm.Logit(y,X)\n",
    "result=logit_model.fit_regularized(cov_type=\"HC3\", maxiter=1000, alpha=0)\n",
    "print(result.summary())"
   ]
  },
  {
   "cell_type": "code",
   "execution_count": 7,
   "metadata": {},
   "outputs": [
    {
     "output_type": "stream",
     "name": "stdout",
     "text": [
      "Optimization terminated successfully    (Exit mode 0)\n",
      "            Current function value: 0.5375626596511939\n",
      "            Iterations: 18\n",
      "            Function evaluations: 18\n",
      "            Gradient evaluations: 18\n",
      "                              Logit Regression Results                              \n",
      "====================================================================================\n",
      "Dep. Variable:     Word2Vec_predict_correct   No. Observations:                11541\n",
      "Model:                                Logit   Df Residuals:                    11539\n",
      "Method:                                 MLE   Df Model:                            1\n",
      "Date:                      Thu, 22 Apr 2021   Pseudo R-squ.:                -0.07612\n",
      "Time:                              03:00:58   Log-Likelihood:                -6204.0\n",
      "converged:                             True   LL-Null:                       -5765.1\n",
      "Covariance Type:                        HC3   LLR p-value:                     1.000\n",
      "=========================================================================================\n",
      "                            coef    std err          z      P>|z|      [0.025      0.975]\n",
      "-----------------------------------------------------------------------------------------\n",
      "nrBiSyllables/nrWords     4.6491      0.242     19.230      0.000       4.175       5.123\n",
      "meanUniqueness            1.3380      0.193      6.942      0.000       0.960       1.716\n",
      "=========================================================================================\n"
     ]
    }
   ],
   "source": [
    "y = df['Word2Vec_predict_correct']\n",
    "X = df[['nrBiSyllables/nrWords','meanUniqueness']]\n",
    "logit_model=sm.Logit(y,X)\n",
    "result=logit_model.fit_regularized(cov_type=\"HC3\", maxiter=1000, alpha=0)\n",
    "print(result.summary())"
   ]
  },
  {
   "cell_type": "code",
   "execution_count": 8,
   "metadata": {},
   "outputs": [],
   "source": [
    "from sklearn.linear_model import LogisticRegression"
   ]
  },
  {
   "cell_type": "code",
   "execution_count": 9,
   "metadata": {},
   "outputs": [],
   "source": [
    "model = LogisticRegression()"
   ]
  },
  {
   "cell_type": "code",
   "execution_count": 10,
   "metadata": {},
   "outputs": [
    {
     "output_type": "stream",
     "name": "stdout",
     "text": [
      "[[0.02008175]]\n"
     ]
    }
   ],
   "source": [
    "X = df['nrBiSyllables/nrWords'].values.reshape(-1,1)\n",
    "res = model.fit(X, y)\n",
    "print(res.coef_)"
   ]
  },
  {
   "cell_type": "code",
   "execution_count": 11,
   "metadata": {},
   "outputs": [
    {
     "output_type": "stream",
     "name": "stdout",
     "text": [
      "[[-8.18635503]]\n"
     ]
    }
   ],
   "source": [
    "X = df['meanUniqueness'].values.reshape(-1,1)\n",
    "res = model.fit(X, y)\n",
    "print(res.coef_)"
   ]
  },
  {
   "cell_type": "code",
   "execution_count": 12,
   "metadata": {},
   "outputs": [
    {
     "output_type": "stream",
     "name": "stdout",
     "text": [
      "[[ 0.8572918  -8.36762814]]\n"
     ]
    }
   ],
   "source": [
    "X = df[['nrBiSyllables/nrWords','meanUniqueness']]\n",
    "res = model.fit(X, y)\n",
    "print(res.coef_)"
   ]
  },
  {
   "cell_type": "code",
   "execution_count": 13,
   "metadata": {},
   "outputs": [
    {
     "output_type": "execute_result",
     "data": {
      "text/plain": [
       "['nrSentences',\n",
       " 'nrLongWords',\n",
       " 'nrSlangWords',\n",
       " 'nrConjunctions/nrWords',\n",
       " 'nrAdjectives/nrWords',\n",
       " 'nrAdverbs/nrWords',\n",
       " 'nrComplexVerbs/nrWords',\n",
       " 'nrPossesives/nrWords',\n",
       " 'nrDeterminers/nrWords',\n",
       " 'meanUniqueness',\n",
       " 'stdUniqueness',\n",
       " 'nrLetters/nrWords',\n",
       " 'nrBiSyllables/nrWords',\n",
       " 'nrDifficultWordsSAT/nrWords',\n",
       " 'nrDifficultWordsDaleChall/nrWords',\n",
       " 'nrSynsets/nrWords',\n",
       " 'nrWords/nrSentences',\n",
       " 'opinionMixScore',\n",
       " 'nrAmbiguousSentimentWords',\n",
       " 'nrStrongSentimentWords']"
      ]
     },
     "metadata": {},
     "execution_count": 13
    }
   ],
   "source": [
    "dimensions"
   ]
  },
  {
   "cell_type": "code",
   "execution_count": null,
   "metadata": {},
   "outputs": [],
   "source": []
  }
 ]
}