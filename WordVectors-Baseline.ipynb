{
 "metadata": {
  "language_info": {
   "codemirror_mode": {
    "name": "ipython",
    "version": 3
   },
   "file_extension": ".py",
   "mimetype": "text/x-python",
   "name": "python",
   "nbconvert_exporter": "python",
   "pygments_lexer": "ipython3",
   "version": "3.8.5"
  },
  "orig_nbformat": 2,
  "kernelspec": {
   "name": "python385jvsc74a57bd0c44b72c526c8c2d5c61f5343e5a1f2700c1b4b253758e0d185049d36041666fd",
   "display_name": "Python 3.8.5 64-bit ('base': conda)"
  }
 },
 "nbformat": 4,
 "nbformat_minor": 2,
 "cells": [
  {
   "cell_type": "code",
   "execution_count": 1,
   "metadata": {},
   "outputs": [],
   "source": [
    "import pandas as pd\n",
    "import numpy as np\n",
    "import os\n",
    "from wordEmbedders import Word2Vec, WESCScore, WESClassifier, AverageTFIDFClassifier, AverageClassifier\n",
    "from tqdm.notebook import tqdm\n",
    "from gensim.models import TfidfModel\n",
    "from gensim.corpora import Dictionary\n",
    "from prettytable import PrettyTable\n",
    "tqdm.pandas()"
   ]
  },
  {
   "cell_type": "code",
   "execution_count": 2,
   "metadata": {},
   "outputs": [],
   "source": [
    "#datasets = os.listdir('./data')\n",
    "#datasets = ['Sentiment140']\n",
    "datasets = ['AirlineTweets']"
   ]
  },
  {
   "cell_type": "code",
   "execution_count": 3,
   "metadata": {},
   "outputs": [],
   "source": [
    "wordEmbedders = [Word2Vec]\n",
    "#classifier = AverageTFIDFClassifier\n",
    "classifier = AverageClassifier"
   ]
  },
  {
   "cell_type": "code",
   "execution_count": 4,
   "metadata": {},
   "outputs": [],
   "source": [
    "positiveWords = [\"good\", \"nice\", \"cool\", \"lovely\", \"wonderful\", \"great\", \"awesome\", \"fantastic\", \"amazing\", \"fun\", \"excellent\"]\n",
    "negativeWords = [\"bad\", \"horrible\", \"terrible\", \"awful\", \"worst\", \"shitty\", \"crappy\", \"sucks\", \"hate\"]"
   ]
  },
  {
   "cell_type": "code",
   "execution_count": 5,
   "metadata": {},
   "outputs": [
    {
     "output_type": "display_data",
     "data": {
      "text/plain": "Datasets:   0%|          | 0/1 [00:00<?, ?it/s]",
      "application/vnd.jupyter.widget-view+json": {
       "version_major": 2,
       "version_minor": 0,
       "model_id": "cf640d772f5b4aa8b6b341b33401d6bc"
      }
     },
     "metadata": {}
    },
    {
     "output_type": "display_data",
     "data": {
      "text/plain": "  0%|          | 0/11541 [00:00<?, ?it/s]",
      "application/vnd.jupyter.widget-view+json": {
       "version_major": 2,
       "version_minor": 0,
       "model_id": "3eeeabc776f94395ac196eeb2aabf4ab"
      }
     },
     "metadata": {}
    }
   ],
   "source": [
    "out = []\n",
    "for dataset in tqdm(datasets, desc=\"Datasets\"):\n",
    "    dataFile   = f'./data/{dataset}/Data-Cleaned.csv'\n",
    "    outputFile = f'./data/{dataset}/Data-Predicted.csv'\n",
    "    tfidfFile  = f'./models/{dataset}/TF-IDF.model'\n",
    "    dictFile   = f'./models/{dataset}/Dictionary.model'\n",
    "    tfidf = TfidfModel.load(tfidfFile)\n",
    "    dct   = Dictionary.load(dictFile)\n",
    "\n",
    "    if not os.path.exists(dataFile):\n",
    "        raise ValueError(f'Dataset {dataset} has not been cleaned')\n",
    "    df = pd.read_csv(dataFile)\n",
    "    # if os.path.exists(outputFile):\n",
    "    #     df = pd.read_csv(outputFile)\n",
    "    # else:\n",
    "    #     df = pd.read_csv(dataFile)\n",
    "\n",
    "    embedderOut = []\n",
    "    for embedder in wordEmbedders:\n",
    "        columnPredict = f\"{embedder.name}_predict\"\n",
    "        columnPredictCorrect = f\"{embedder.name}_predict_correct\"\n",
    "\n",
    "        if columnPredict in df: \n",
    "            #load previus results\n",
    "            data = pd.DataFrame()\n",
    "            data['truth'] = df['sentiment']\n",
    "            data['predicted'] = df[columnPredict]\n",
    "            result = WESCScore(data)\n",
    "            embedderOut.append((embedder.name, result))\n",
    "        else:\n",
    "            #predict results\n",
    "            modelFile = f'./models/{dataset}/{embedder.name}.model'\n",
    "            if not os.path.exists(modelFile):\n",
    "                raise ValueError(f'Dataset {dataset} has no {embedder} trained')\n",
    "\n",
    "            model = embedder.load(modelFile)\n",
    "            clas = classifier(model, positiveWords, negativeWords, tfidf, dct)\n",
    "            result = clas.predict(df)\n",
    "            embedderOut.append((embedder.name, result))\n",
    "            df[columnPredict] = result.data['predicted']\n",
    "            df[columnPredictCorrect] = result.correctPredictions\n",
    "\n",
    "    df.to_csv(outputFile, index=False)\n",
    "    out.append((dataset, embedderOut))"
   ]
  },
  {
   "cell_type": "code",
   "execution_count": 7,
   "metadata": {},
   "outputs": [
    {
     "output_type": "stream",
     "name": "stdout",
     "text": [
      "Baseline dataset evaluation\n\nAirlineTweets:\n+------------+--------------------+---------------------+\n| Embeddings | Balanced Accuracy  |          F1         |\n+------------+--------------------+---------------------+\n|  Word2Vec  | 0.5384148067187106 | 0.16235893702220605 |\n+------------+--------------------+---------------------+\n"
     ]
    }
   ],
   "source": [
    "print(\"Baseline dataset evaluation\")\n",
    "for resultset in out:\n",
    "    (dataset, results) = resultset\n",
    "    table = PrettyTable(['Embeddings', 'Balanced Accuracy', 'F1'])\n",
    "    for result in results:\n",
    "        name, result = result\n",
    "        table.add_row([name, result.balancedAccuracy, result.f1Score])\n",
    "\n",
    "    print(f\"\\n{dataset}:\")\n",
    "    print(table)"
   ]
  },
  {
   "cell_type": "code",
   "execution_count": null,
   "metadata": {},
   "outputs": [],
   "source": []
  }
 ]
}