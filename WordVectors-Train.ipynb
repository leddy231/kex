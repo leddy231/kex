{
 "metadata": {
  "language_info": {
   "codemirror_mode": {
    "name": "ipython",
    "version": 3
   },
   "file_extension": ".py",
   "mimetype": "text/x-python",
   "name": "python",
   "nbconvert_exporter": "python",
   "pygments_lexer": "ipython3",
   "version": "3.8.5"
  },
  "orig_nbformat": 2,
  "kernelspec": {
   "name": "python3",
   "display_name": "Python 3.8.5 64-bit ('base': conda)",
   "metadata": {
    "interpreter": {
     "hash": "c44b72c526c8c2d5c61f5343e5a1f2700c1b4b253758e0d185049d36041666fd"
    }
   }
  }
 },
 "nbformat": 4,
 "nbformat_minor": 2,
 "cells": [
  {
   "cell_type": "code",
   "execution_count": 1,
   "metadata": {},
   "outputs": [],
   "source": [
    "import pandas as pd\n",
    "import numpy as np\n",
    "import os\n",
    "from wordEmbedders import Word2Vec\n",
    "from tqdm.notebook import tqdm\n",
    "from time import time \n",
    "tqdm.pandas()"
   ]
  },
  {
   "cell_type": "code",
   "execution_count": 2,
   "metadata": {},
   "outputs": [],
   "source": [
    "datasets = os.listdir('./data')"
   ]
  },
  {
   "cell_type": "code",
   "execution_count": 3,
   "metadata": {},
   "outputs": [],
   "source": [
    "wordEmbedders = [Word2Vec]"
   ]
  },
  {
   "cell_type": "code",
   "execution_count": 4,
   "metadata": {},
   "outputs": [
    {
     "output_type": "display_data",
     "data": {
      "text/plain": "Datasets:   0%|          | 0/3 [00:00<?, ?it/s]",
      "application/vnd.jupyter.widget-view+json": {
       "version_major": 2,
       "version_minor": 0,
       "model_id": "ec9818154c74424cad6c691b0dd01b40"
      }
     },
     "metadata": {}
    },
    {
     "output_type": "stream",
     "name": "stdout",
     "text": [
      "Training Word2Vec for IMDB\n",
      "Vocab time: 0.67 mins\n"
     ]
    },
    {
     "output_type": "display_data",
     "data": {
      "text/plain": "Word2Vec epochs:   0%|          | 0/30 [00:00<?, ?it/s]",
      "application/vnd.jupyter.widget-view+json": {
       "version_major": 2,
       "version_minor": 0,
       "model_id": "c182d038798043159f516b031d340258"
      }
     },
     "metadata": {}
    }
   ],
   "source": [
    "\n",
    "for dataset in tqdm(datasets, desc=\"Datasets\"):\n",
    "    dataFile = f'./data/{dataset}/Data-Cleaned.csv'\n",
    "    df = None\n",
    "    \n",
    "    if not os.path.exists(dataFile):\n",
    "        raise ValueError(f'Dataset {dataset} has not been cleaned')\n",
    "    if not os.path.exists(f'./models/{dataset}'):\n",
    "        os.mkdir(f'./models/{dataset}')\n",
    "        \n",
    "    for embedder in wordEmbedders:\n",
    "        modelFile = f'./models/{dataset}/{embedder.name}.model'\n",
    "        if not os.path.exists(modelFile):\n",
    "            print(f'Training {embedder.name} for {dataset}')\n",
    "            df = df or pd.read_csv(dataFile)\n",
    "            model = embedder(df['text'])\n",
    "            print('Vocab time: {} mins'.format(round((model.vocabTime) / 60, 2)))\n",
    "            model.train(tqdm)\n",
    "            model.save(modelFile)"
   ]
  },
  {
   "cell_type": "code",
   "execution_count": null,
   "metadata": {},
   "outputs": [],
   "source": []
  }
 ]
}