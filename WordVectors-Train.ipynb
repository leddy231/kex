{
 "metadata": {
  "language_info": {
   "codemirror_mode": {
    "name": "ipython",
    "version": 3
   },
   "file_extension": ".py",
   "mimetype": "text/x-python",
   "name": "python",
   "nbconvert_exporter": "python",
   "pygments_lexer": "ipython3",
   "version": "3.8.5"
  },
  "orig_nbformat": 2,
  "kernelspec": {
   "name": "python385jvsc74a57bd0c44b72c526c8c2d5c61f5343e5a1f2700c1b4b253758e0d185049d36041666fd",
   "display_name": "Python 3.8.5 64-bit ('base': conda)"
  }
 },
 "nbformat": 4,
 "nbformat_minor": 2,
 "cells": [
  {
   "cell_type": "code",
   "execution_count": 1,
   "metadata": {},
   "outputs": [],
   "source": [
    "import os\n",
    "import numpy as np\n",
    "import pandas as pd\n",
    "from time import time \n",
    "from tqdm.notebook import tqdm\n",
    "from wordEmbedders import Word2Vec\n",
    "tqdm.pandas()"
   ]
  },
  {
   "cell_type": "code",
   "execution_count": 2,
   "metadata": {},
   "outputs": [],
   "source": [
    "datasets = ['AirlineTweets']\n",
    "wordEmbedders = [Word2Vec]\n",
    "ignoreCache = True"
   ]
  },
  {
   "cell_type": "code",
   "execution_count": 3,
   "metadata": {},
   "outputs": [
    {
     "output_type": "display_data",
     "data": {
      "text/plain": "Datasets:   0%|          | 0/1 [00:00<?, ?it/s]",
      "application/vnd.jupyter.widget-view+json": {
       "version_major": 2,
       "version_minor": 0,
       "model_id": "00f37ca288cc4a4884bd55a1b4a1ea12"
      }
     },
     "metadata": {}
    },
    {
     "output_type": "stream",
     "name": "stdout",
     "text": [
      "Training Word2Vec for AirlineTweets\n",
      "Vocab time: 0.02 mins\n"
     ]
    },
    {
     "output_type": "display_data",
     "data": {
      "text/plain": "Word2Vec epochs:   0%|          | 0/30 [00:00<?, ?it/s]",
      "application/vnd.jupyter.widget-view+json": {
       "version_major": 2,
       "version_minor": 0,
       "model_id": "74bb597231214208a763bb669156c7c8"
      }
     },
     "metadata": {}
    }
   ],
   "source": [
    "for dataset in tqdm(datasets, desc=\"Datasets\"):\n",
    "    dataFile = f'./data/{dataset}/Data-Cleaned.csv'\n",
    "    df = None\n",
    "    \n",
    "    if not os.path.exists(dataFile):\n",
    "        raise ValueError(f'Dataset {dataset} has not been cleaned')\n",
    "    if not os.path.exists(f'./models/{dataset}'):\n",
    "        os.mkdir(f'./models/{dataset}')\n",
    "        \n",
    "    for embedder in wordEmbedders:\n",
    "        modelFile = f'./models/{dataset}/{embedder.name}.model'\n",
    "        if not os.path.exists(modelFile) or ignoreCache:\n",
    "            print(f'Training {embedder.name} for {dataset}')\n",
    "            df = df or pd.read_csv(dataFile)\n",
    "            model = embedder(df['text'], 1)\n",
    "            print('Vocab time: {} mins'.format(round((model.vocabTime) / 60, 2)))\n",
    "            model.train(tqdm)\n",
    "            model.save(modelFile)"
   ]
  },
  {
   "cell_type": "code",
   "execution_count": null,
   "metadata": {},
   "outputs": [],
   "source": []
  }
 ]
}