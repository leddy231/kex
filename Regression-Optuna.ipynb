{
 "cells": [
  {
   "cell_type": "code",
   "execution_count": 1,
   "metadata": {},
   "outputs": [],
   "source": [
    "import os\r\n",
    "import pickle\r\n",
    "import optuna\r\n",
    "import numpy as np\r\n",
    "import pandas as pd\r\n",
    "from functions import regression, readSet, saveSet, corrMatrix\r\n",
    "from tqdm.notebook import tqdm\r\n",
    "tqdm.pandas()"
   ]
  },
  {
   "cell_type": "code",
   "execution_count": 2,
   "metadata": {},
   "outputs": [],
   "source": [
    "pickedBase = list(readSet('./data/Dimensions-Picked-Base.txt'))\n",
    "groups = pickle.load(open('./data/Dimensions-Correlated-Groups.pickle', 'rb'))\n",
    "baseGroup = groups['base']\n",
    "lexicalGroup = groups['lexical']\n",
    "syntacticGroup = groups['syntactic']"
   ]
  },
  {
   "cell_type": "code",
   "execution_count": 18,
   "metadata": {},
   "outputs": [
    {
     "data": {
      "application/vnd.jupyter.widget-view+json": {
       "model_id": "6eb2d77474d74ee7b15e909e33d8e4a8",
       "version_major": 2,
       "version_minor": 0
      },
      "text/plain": "  0%|          | 0/50000 [00:00<?, ?it/s]"
     },
     "metadata": {},
     "output_type": "display_data"
    }
   ],
   "source": [
    "dataset = 'AirlineTweets'\r\n",
    "dims = pd.read_csv(f'./data/{dataset}/Dimensions.csv')\r\n",
    "prediction = pd.read_csv(f'./data/{dataset}/Word2Vec-Prediction.csv')\r\n",
    "predictCorrect = prediction.progress_apply(lambda row: 1 if row['truth'] == row['predicted'] else 0, axis=1)"
   ]
  },
  {
   "cell_type": "code",
   "execution_count": 12,
   "metadata": {},
   "outputs": [],
   "source": [
    "def objective(trial):\r\n",
    "    #basePick      = trial.suggest_categorical('basePick', baseGroup)\r\n",
    "    lexicalPick   = trial.suggest_categorical('lexicalPick', lexicalGroup)\r\n",
    "    syntacticPick = trial.suggest_categorical('syntacticPick', syntacticGroup)\r\n",
    "    dimensions = pickedBase + [lexicalPick, syntacticPick]\r\n",
    "\r\n",
    "    res = regression(predictCorrect, dims[dimensions])\r\n",
    "    r2 = res.prsquared\r\n",
    "    p = pd.Series(res.pvalues).map(lambda r: 1 if r < 0.1 else 0)\r\n",
    "    #coefs = p.mul(res.params, axis=0)\r\n",
    "    #coefsum = np.sum(np.abs(coefs))\r\n",
    "    return r2, np.sum(p)"
   ]
  },
  {
   "cell_type": "code",
   "execution_count": 13,
   "metadata": {},
   "outputs": [
    {
     "name": "stderr",
     "output_type": "stream",
     "text": [
      "\u001b[32m[I 2021-05-03 17:58:10,302]\u001b[0m A new study created in memory with name: no-name-fe47224a-b626-42be-93f9-5cea9ddcb69e\u001b[0m\n"
     ]
    }
   ],
   "source": [
    "study = optuna.create_study(directions=['maximize', 'maximize'])"
   ]
  },
  {
   "cell_type": "code",
   "execution_count": 14,
   "metadata": {
    "tags": [
     "outputPrepend"
    ]
   },
   "outputs": [
    {
     "name": "stderr",
     "output_type": "stream",
     "text": [
      "C:\\Libraries\\anaconda3\\lib\\site-packages\\statsmodels\\discrete\\discrete_model.py:1799: RuntimeWarning: overflow encountered in exp\n",
      "  return 1/(1+np.exp(-X))\n",
      "C:\\Libraries\\anaconda3\\lib\\site-packages\\statsmodels\\discrete\\discrete_model.py:1852: RuntimeWarning: divide by zero encountered in log\n",
      "  return np.sum(np.log(self.cdf(q*np.dot(X,params))))\n",
      "\u001b[32m[I 2021-05-03 17:58:11,352]\u001b[0m Trial 0 finished with values: [0.10217180301487538, 13.0] and parameters: {'lexicalPick': 'nrSyllables/nrWords', 'syntacticPick': 'nrLetters/nrSentences'}. \u001b[0m\n",
      "\u001b[32m[I 2021-05-03 17:58:11,477]\u001b[0m Trial 1 finished with values: [0.10520933719332826, 13.0] and parameters: {'lexicalPick': 'nrSyllables/nrWords', 'syntacticPick': 'nrWords/nrSentences'}. \u001b[0m\n",
      "\u001b[32m[I 2021-05-03 17:58:11,611]\u001b[0m Trial 2 finished with values: [0.09830598587137629, 12.0] and parameters: {'lexicalPick': 'nrPolySyllables/nrWords', 'syntacticPick': 'nrLongWords/nrSentences'}. \u001b[0m\n",
      "\u001b[32m[I 2021-05-03 17:58:11,783]\u001b[0m Trial 3 finished with values: [0.10086350983823766, 13.0] and parameters: {'lexicalPick': 'nrLongWords/nrWords', 'syntacticPick': 'nrBiSyllables/nrSentences'}. \u001b[0m\n",
      "\u001b[32m[I 2021-05-03 17:58:11,933]\u001b[0m Trial 4 finished with values: [0.10534903883122981, 12.0] and parameters: {'lexicalPick': 'nrMonoSyllables/nrWords', 'syntacticPick': 'nrWords/nrSentences'}. \u001b[0m\n",
      "\u001b[32m[I 2021-05-03 17:58:12,079]\u001b[0m Trial 5 finished with values: [0.10520933719332826, 13.0] and parameters: {'lexicalPick': 'nrSyllables/nrWords', 'syntacticPick': 'nrWords/nrSentences'}. \u001b[0m\n",
      "\u001b[32m[I 2021-05-03 17:58:12,202]\u001b[0m Trial 6 finished with values: [0.10146419167446685, 14.0] and parameters: {'lexicalPick': 'nrLetters/nrWords', 'syntacticPick': 'nrLongWords/nrSentences'}. \u001b[0m\n",
      "\u001b[32m[I 2021-05-03 17:58:12,330]\u001b[0m Trial 7 finished with values: [0.10686797402822312, 12.0] and parameters: {'lexicalPick': 'nrMonoSyllables/nrWords', 'syntacticPick': 'nrMonoSyllables/nrSentences'}. \u001b[0m\n",
      "\u001b[32m[I 2021-05-03 17:58:12,468]\u001b[0m Trial 8 finished with values: [0.10081688951124679, 13.0] and parameters: {'lexicalPick': 'nrLongWords/nrWords', 'syntacticPick': 'nrLongWords/nrSentences'}. \u001b[0m\n",
      "\u001b[32m[I 2021-05-03 17:58:12,600]\u001b[0m Trial 9 finished with values: [0.09495757442879216, 12.0] and parameters: {'lexicalPick': 'nrLongWords/nrWords', 'syntacticPick': 'nrPolySyllables/nrSentences'}. \u001b[0m\n",
      "\u001b[32m[I 2021-05-03 17:58:12,733]\u001b[0m Trial 10 finished with values: [0.09774913019015219, 13.0] and parameters: {'lexicalPick': 'nrPolySyllables/nrWords', 'syntacticPick': 'nrPolySyllables/nrSentences'}. \u001b[0m\n",
      "\u001b[32m[I 2021-05-03 17:58:12,872]\u001b[0m Trial 11 finished with values: [0.10316071229941182, 12.0] and parameters: {'lexicalPick': 'nrBiSyllables/nrWords', 'syntacticPick': 'nrSyllables/nrSentences'}. \u001b[0m\n",
      "\u001b[32m[I 2021-05-03 17:58:12,995]\u001b[0m Trial 12 finished with values: [0.10146419167446685, 14.0] and parameters: {'lexicalPick': 'nrLetters/nrWords', 'syntacticPick': 'nrLongWords/nrSentences'}. \u001b[0m\n",
      "\u001b[32m[I 2021-05-03 17:58:13,141]\u001b[0m Trial 13 finished with values: [0.10086350983823766, 13.0] and parameters: {'lexicalPick': 'nrLongWords/nrWords', 'syntacticPick': 'nrBiSyllables/nrSentences'}. \u001b[0m\n",
      "\u001b[32m[I 2021-05-03 17:58:13,270]\u001b[0m Trial 14 finished with values: [0.10686797402822312, 12.0] and parameters: {'lexicalPick': 'nrMonoSyllables/nrWords', 'syntacticPick': 'nrMonoSyllables/nrSentences'}. \u001b[0m\n",
      "\u001b[32m[I 2021-05-03 17:58:13,399]\u001b[0m Trial 15 finished with values: [0.10081688951124679, 13.0] and parameters: {'lexicalPick': 'nrLongWords/nrWords', 'syntacticPick': 'nrLongWords/nrSentences'}. \u001b[0m\n",
      "\u001b[32m[I 2021-05-03 17:58:13,528]\u001b[0m Trial 16 finished with values: [0.10633361605772307, 12.0] and parameters: {'lexicalPick': 'nrBiSyllables/nrWords', 'syntacticPick': 'nrWords/nrSentences'}. \u001b[0m\n",
      "\u001b[32m[I 2021-05-03 17:58:13,650]\u001b[0m Trial 17 finished with values: [0.09727049513652586, 11.0] and parameters: {'lexicalPick': 'nrMonoSyllables/nrWords', 'syntacticPick': 'nrLongWords/nrSentences'}. \u001b[0m\n",
      "\u001b[32m[I 2021-05-03 17:58:13,781]\u001b[0m Trial 18 finished with values: [0.09774913019015219, 13.0] and parameters: {'lexicalPick': 'nrPolySyllables/nrWords', 'syntacticPick': 'nrPolySyllables/nrSentences'}. \u001b[0m\n",
      "C:\\Libraries\\anaconda3\\lib\\site-packages\\statsmodels\\discrete\\discrete_model.py:1799: RuntimeWarning: overflow encountered in exp\n",
      "  return 1/(1+np.exp(-X))\n",
      "C:\\Libraries\\anaconda3\\lib\\site-packages\\statsmodels\\discrete\\discrete_model.py:1852: RuntimeWarning: divide by zero encountered in log\n",
      "  return np.sum(np.log(self.cdf(q*np.dot(X,params))))\n",
      "\u001b[32m[I 2021-05-03 17:58:13,912]\u001b[0m Trial 19 finished with values: [0.10411615875441171, 14.0] and parameters: {'lexicalPick': 'nrLetters/nrWords', 'syntacticPick': 'nrLetters/nrSentences'}. \u001b[0m\n",
      "\u001b[32m[I 2021-05-03 17:58:14,039]\u001b[0m Trial 20 finished with values: [0.10187648242237368, 11.0] and parameters: {'lexicalPick': 'nrMonoSyllables/nrWords', 'syntacticPick': 'nrSyllables/nrSentences'}. \u001b[0m\n",
      "\u001b[32m[I 2021-05-03 17:58:14,164]\u001b[0m Trial 21 finished with values: [0.10534903883122981, 12.0] and parameters: {'lexicalPick': 'nrMonoSyllables/nrWords', 'syntacticPick': 'nrWords/nrSentences'}. \u001b[0m\n",
      "\u001b[32m[I 2021-05-03 17:58:14,287]\u001b[0m Trial 22 finished with values: [0.10125343613482085, 14.0] and parameters: {'lexicalPick': 'nrLetters/nrWords', 'syntacticPick': 'nrBiSyllables/nrSentences'}. \u001b[0m\n",
      "\u001b[32m[I 2021-05-03 17:58:14,418]\u001b[0m Trial 23 finished with values: [0.09495757442879216, 12.0] and parameters: {'lexicalPick': 'nrLongWords/nrWords', 'syntacticPick': 'nrPolySyllables/nrSentences'}. \u001b[0m\n",
      "\u001b[32m[I 2021-05-03 17:58:14,547]\u001b[0m Trial 24 finished with values: [0.0942222176440819, 10.0] and parameters: {'lexicalPick': 'nrMonoSyllables/nrWords', 'syntacticPick': 'nrPolySyllables/nrSentences'}. \u001b[0m\n",
      "C:\\Libraries\\anaconda3\\lib\\site-packages\\statsmodels\\discrete\\discrete_model.py:1799: RuntimeWarning: overflow encountered in exp\n",
      "  return 1/(1+np.exp(-X))\n",
      "C:\\Libraries\\anaconda3\\lib\\site-packages\\statsmodels\\discrete\\discrete_model.py:1852: RuntimeWarning: divide by zero encountered in log\n",
      "  return np.sum(np.log(self.cdf(q*np.dot(X,params))))\n",
      "\u001b[32m[I 2021-05-03 17:58:14,675]\u001b[0m Trial 25 finished with values: [0.10169884719830424, 13.0] and parameters: {'lexicalPick': 'nrPolySyllables/nrWords', 'syntacticPick': 'nrLetters/nrSentences'}. \u001b[0m\n",
      "\u001b[32m[I 2021-05-03 17:58:14,806]\u001b[0m Trial 26 finished with values: [0.10520933719332826, 13.0] and parameters: {'lexicalPick': 'nrSyllables/nrWords', 'syntacticPick': 'nrWords/nrSentences'}. \u001b[0m\n",
      "\u001b[32m[I 2021-05-03 17:58:14,940]\u001b[0m Trial 27 finished with values: [0.10428732404264207, 12.0] and parameters: {'lexicalPick': 'nrSyllables/nrWords', 'syntacticPick': 'nrMonoSyllables/nrSentences'}. \u001b[0m\n",
      "\u001b[32m[I 2021-05-03 17:58:15,065]\u001b[0m Trial 28 finished with values: [0.09799010790261964, 11.0] and parameters: {'lexicalPick': 'nrBiSyllables/nrWords', 'syntacticPick': 'nrLongWords/nrSentences'}. \u001b[0m\n",
      "\u001b[32m[I 2021-05-03 17:58:15,191]\u001b[0m Trial 29 finished with values: [0.09774913019015219, 13.0] and parameters: {'lexicalPick': 'nrPolySyllables/nrWords', 'syntacticPick': 'nrPolySyllables/nrSentences'}. \u001b[0m\n",
      "\u001b[32m[I 2021-05-03 17:58:15,315]\u001b[0m Trial 30 finished with values: [0.10086350983823766, 13.0] and parameters: {'lexicalPick': 'nrLongWords/nrWords', 'syntacticPick': 'nrBiSyllables/nrSentences'}. \u001b[0m\n",
      "\u001b[32m[I 2021-05-03 17:58:15,442]\u001b[0m Trial 31 finished with values: [0.10534903883122981, 12.0] and parameters: {'lexicalPick': 'nrMonoSyllables/nrWords', 'syntacticPick': 'nrWords/nrSentences'}. \u001b[0m\n",
      "\u001b[32m[I 2021-05-03 17:58:15,576]\u001b[0m Trial 32 finished with values: [0.10475572828982604, 14.0] and parameters: {'lexicalPick': 'nrLetters/nrWords', 'syntacticPick': 'nrSyllables/nrSentences'}. \u001b[0m\n",
      "\u001b[32m[I 2021-05-03 17:58:15,702]\u001b[0m Trial 33 finished with values: [0.10187648242237368, 11.0] and parameters: {'lexicalPick': 'nrMonoSyllables/nrWords', 'syntacticPick': 'nrSyllables/nrSentences'}. \u001b[0m\n",
      "\u001b[32m[I 2021-05-03 17:58:15,836]\u001b[0m Trial 34 finished with values: [0.10513910256518066, 13.0] and parameters: {'lexicalPick': 'nrPolySyllables/nrWords', 'syntacticPick': 'nrWords/nrSentences'}. \u001b[0m\n",
      "\u001b[32m[I 2021-05-03 17:58:15,965]\u001b[0m Trial 35 finished with values: [0.10086350983823766, 13.0] and parameters: {'lexicalPick': 'nrLongWords/nrWords', 'syntacticPick': 'nrBiSyllables/nrSentences'}. \u001b[0m\n",
      "\u001b[32m[I 2021-05-03 17:58:16,096]\u001b[0m Trial 36 finished with values: [0.10756773753788584, 12.0] and parameters: {'lexicalPick': 'nrBiSyllables/nrWords', 'syntacticPick': 'nrMonoSyllables/nrSentences'}. \u001b[0m\n",
      "\u001b[32m[I 2021-05-03 17:58:16,220]\u001b[0m Trial 37 finished with values: [0.09830598587137629, 12.0] and parameters: {'lexicalPick': 'nrPolySyllables/nrWords', 'syntacticPick': 'nrLongWords/nrSentences'}. \u001b[0m\n",
      "\u001b[32m[I 2021-05-03 17:58:16,345]\u001b[0m Trial 38 finished with values: [0.10366343527992783, 13.0] and parameters: {'lexicalPick': 'nrSyllables/nrWords', 'syntacticPick': 'nrSyllables/nrSentences'}. \u001b[0m\n",
      "\u001b[32m[I 2021-05-03 17:58:16,471]\u001b[0m Trial 39 finished with values: [0.09830598587137629, 12.0] and parameters: {'lexicalPick': 'nrPolySyllables/nrWords', 'syntacticPick': 'nrLongWords/nrSentences'}. \u001b[0m\n",
      "\u001b[32m[I 2021-05-03 17:58:16,596]\u001b[0m Trial 40 finished with values: [0.10515997877358385, 13.0] and parameters: {'lexicalPick': 'nrLongWords/nrWords', 'syntacticPick': 'nrWords/nrSentences'}. \u001b[0m\n",
      "\u001b[32m[I 2021-05-03 17:58:16,720]\u001b[0m Trial 41 finished with values: [0.09830598587137629, 12.0] and parameters: {'lexicalPick': 'nrPolySyllables/nrWords', 'syntacticPick': 'nrLongWords/nrSentences'}. \u001b[0m\n",
      "\u001b[32m[I 2021-05-03 17:58:16,853]\u001b[0m Trial 42 finished with values: [0.09830598587137629, 12.0] and parameters: {'lexicalPick': 'nrPolySyllables/nrWords', 'syntacticPick': 'nrLongWords/nrSentences'}. \u001b[0m\n",
      "\u001b[32m[I 2021-05-03 17:58:16,983]\u001b[0m Trial 43 finished with values: [0.09785868162237421, 12.0] and parameters: {'lexicalPick': 'nrLetters/nrWords', 'syntacticPick': 'nrPolySyllables/nrSentences'}. \u001b[0m\n",
      "\u001b[32m[I 2021-05-03 17:58:17,108]\u001b[0m Trial 44 finished with values: [0.09727049513652586, 11.0] and parameters: {'lexicalPick': 'nrMonoSyllables/nrWords', 'syntacticPick': 'nrLongWords/nrSentences'}. \u001b[0m\n",
      "\u001b[32m[I 2021-05-03 17:58:17,231]\u001b[0m Trial 45 finished with values: [0.10366343527992783, 13.0] and parameters: {'lexicalPick': 'nrSyllables/nrWords', 'syntacticPick': 'nrSyllables/nrSentences'}. \u001b[0m\n",
      "\u001b[32m[I 2021-05-03 17:58:17,353]\u001b[0m Trial 46 finished with values: [0.10686797402822312, 12.0] and parameters: {'lexicalPick': 'nrMonoSyllables/nrWords', 'syntacticPick': 'nrMonoSyllables/nrSentences'}. \u001b[0m\n",
      "\u001b[32m[I 2021-05-03 17:58:17,483]\u001b[0m Trial 47 finished with values: [0.09727049513652586, 11.0] and parameters: {'lexicalPick': 'nrMonoSyllables/nrWords', 'syntacticPick': 'nrLongWords/nrSentences'}. \u001b[0m\n",
      "\u001b[32m[I 2021-05-03 17:58:17,610]\u001b[0m Trial 48 finished with values: [0.10187648242237368, 11.0] and parameters: {'lexicalPick': 'nrMonoSyllables/nrWords', 'syntacticPick': 'nrSyllables/nrSentences'}. \u001b[0m\n",
      "\u001b[32m[I 2021-05-03 17:58:17,746]\u001b[0m Trial 49 finished with values: [0.09495757442879216, 12.0] and parameters: {'lexicalPick': 'nrLongWords/nrWords', 'syntacticPick': 'nrPolySyllables/nrSentences'}. \u001b[0m\n",
      "\u001b[32m[I 2021-05-03 17:58:17,900]\u001b[0m Trial 50 finished with values: [0.09900788347789102, 11.0] and parameters: {'lexicalPick': 'nrBiSyllables/nrWords', 'syntacticPick': 'nrBiSyllables/nrSentences'}. \u001b[0m\n",
      "C:\\Libraries\\anaconda3\\lib\\site-packages\\statsmodels\\discrete\\discrete_model.py:1799: RuntimeWarning: overflow encountered in exp\n",
      "  return 1/(1+np.exp(-X))\n",
      "C:\\Libraries\\anaconda3\\lib\\site-packages\\statsmodels\\discrete\\discrete_model.py:1852: RuntimeWarning: divide by zero encountered in log\n",
      "  return np.sum(np.log(self.cdf(q*np.dot(X,params))))\n",
      "\u001b[32m[I 2021-05-03 17:58:18,032]\u001b[0m Trial 51 finished with values: [0.1006918657362873, 11.0] and parameters: {'lexicalPick': 'nrMonoSyllables/nrWords', 'syntacticPick': 'nrLetters/nrSentences'}. \u001b[0m\n",
      "C:\\Libraries\\anaconda3\\lib\\site-packages\\statsmodels\\discrete\\discrete_model.py:1799: RuntimeWarning: overflow encountered in exp\n",
      "  return 1/(1+np.exp(-X))\n",
      "C:\\Libraries\\anaconda3\\lib\\site-packages\\statsmodels\\discrete\\discrete_model.py:1852: RuntimeWarning: divide by zero encountered in log\n",
      "  return np.sum(np.log(self.cdf(q*np.dot(X,params))))\n",
      "\u001b[32m[I 2021-05-03 17:58:18,160]\u001b[0m Trial 52 finished with values: [0.10169884719830424, 13.0] and parameters: {'lexicalPick': 'nrPolySyllables/nrWords', 'syntacticPick': 'nrLetters/nrSentences'}. \u001b[0m\n",
      "\u001b[32m[I 2021-05-03 17:58:18,284]\u001b[0m Trial 53 finished with values: [0.10534903883122981, 12.0] and parameters: {'lexicalPick': 'nrMonoSyllables/nrWords', 'syntacticPick': 'nrWords/nrSentences'}. \u001b[0m\n",
      "\u001b[32m[I 2021-05-03 17:58:18,408]\u001b[0m Trial 54 finished with values: [0.10125343613482085, 14.0] and parameters: {'lexicalPick': 'nrLetters/nrWords', 'syntacticPick': 'nrBiSyllables/nrSentences'}. \u001b[0m\n",
      "\u001b[32m[I 2021-05-03 17:58:18,527]\u001b[0m Trial 55 finished with values: [0.10686797402822312, 12.0] and parameters: {'lexicalPick': 'nrMonoSyllables/nrWords', 'syntacticPick': 'nrMonoSyllables/nrSentences'}. \u001b[0m\n",
      "\u001b[32m[I 2021-05-03 17:58:18,651]\u001b[0m Trial 56 finished with values: [0.10534903883122981, 12.0] and parameters: {'lexicalPick': 'nrMonoSyllables/nrWords', 'syntacticPick': 'nrWords/nrSentences'}. \u001b[0m\n",
      "C:\\Libraries\\anaconda3\\lib\\site-packages\\statsmodels\\discrete\\discrete_model.py:1799: RuntimeWarning: overflow encountered in exp\n",
      "  return 1/(1+np.exp(-X))\n",
      "C:\\Libraries\\anaconda3\\lib\\site-packages\\statsmodels\\discrete\\discrete_model.py:1852: RuntimeWarning: divide by zero encountered in log\n",
      "  return np.sum(np.log(self.cdf(q*np.dot(X,params))))\n",
      "\u001b[32m[I 2021-05-03 17:58:18,778]\u001b[0m Trial 57 finished with values: [0.10411615875441171, 14.0] and parameters: {'lexicalPick': 'nrLetters/nrWords', 'syntacticPick': 'nrLetters/nrSentences'}. \u001b[0m\n",
      "\u001b[32m[I 2021-05-03 17:58:18,914]\u001b[0m Trial 58 finished with values: [0.10187648242237368, 11.0] and parameters: {'lexicalPick': 'nrMonoSyllables/nrWords', 'syntacticPick': 'nrSyllables/nrSentences'}. \u001b[0m\n",
      "\u001b[32m[I 2021-05-03 17:58:19,042]\u001b[0m Trial 59 finished with values: [0.09987739617348135, 12.0] and parameters: {'lexicalPick': 'nrSyllables/nrWords', 'syntacticPick': 'nrBiSyllables/nrSentences'}. \u001b[0m\n",
      "\u001b[32m[I 2021-05-03 17:58:19,160]\u001b[0m Trial 60 finished with values: [0.10686797402822312, 12.0] and parameters: {'lexicalPick': 'nrMonoSyllables/nrWords', 'syntacticPick': 'nrMonoSyllables/nrSentences'}. \u001b[0m\n",
      "\u001b[32m[I 2021-05-03 17:58:19,282]\u001b[0m Trial 61 finished with values: [0.10607852770807502, 14.0] and parameters: {'lexicalPick': 'nrLetters/nrWords', 'syntacticPick': 'nrWords/nrSentences'}. \u001b[0m\n",
      "\u001b[32m[I 2021-05-03 17:58:19,410]\u001b[0m Trial 62 finished with values: [0.10081688951124679, 13.0] and parameters: {'lexicalPick': 'nrLongWords/nrWords', 'syntacticPick': 'nrLongWords/nrSentences'}. \u001b[0m\n",
      "\u001b[32m[I 2021-05-03 17:58:19,537]\u001b[0m Trial 63 finished with values: [0.10633361605772307, 12.0] and parameters: {'lexicalPick': 'nrBiSyllables/nrWords', 'syntacticPick': 'nrWords/nrSentences'}. \u001b[0m\n",
      "C:\\Libraries\\anaconda3\\lib\\site-packages\\statsmodels\\discrete\\discrete_model.py:1799: RuntimeWarning: overflow encountered in exp\n",
      "  return 1/(1+np.exp(-X))\n",
      "C:\\Libraries\\anaconda3\\lib\\site-packages\\statsmodels\\discrete\\discrete_model.py:1852: RuntimeWarning: divide by zero encountered in log\n",
      "  return np.sum(np.log(self.cdf(q*np.dot(X,params))))\n",
      "\u001b[32m[I 2021-05-03 17:58:19,663]\u001b[0m Trial 64 finished with values: [0.1006918657362873, 11.0] and parameters: {'lexicalPick': 'nrMonoSyllables/nrWords', 'syntacticPick': 'nrLetters/nrSentences'}. \u001b[0m\n",
      "\u001b[32m[I 2021-05-03 17:58:19,786]\u001b[0m Trial 65 finished with values: [0.10428668925641305, 12.0] and parameters: {'lexicalPick': 'nrLongWords/nrWords', 'syntacticPick': 'nrMonoSyllables/nrSentences'}. \u001b[0m\n",
      "\u001b[32m[I 2021-05-03 17:58:19,911]\u001b[0m Trial 66 finished with values: [0.10686797402822312, 12.0] and parameters: {'lexicalPick': 'nrMonoSyllables/nrWords', 'syntacticPick': 'nrMonoSyllables/nrSentences'}. \u001b[0m\n",
      "\u001b[32m[I 2021-05-03 17:58:20,043]\u001b[0m Trial 67 finished with values: [0.09890344408469709, 11.0] and parameters: {'lexicalPick': 'nrPolySyllables/nrWords', 'syntacticPick': 'nrBiSyllables/nrSentences'}. \u001b[0m\n",
      "\u001b[32m[I 2021-05-03 17:58:20,166]\u001b[0m Trial 68 finished with values: [0.09660790931702934, 10.0] and parameters: {'lexicalPick': 'nrBiSyllables/nrWords', 'syntacticPick': 'nrPolySyllables/nrSentences'}. \u001b[0m\n",
      "\u001b[32m[I 2021-05-03 17:58:20,289]\u001b[0m Trial 69 finished with values: [0.10428668925641305, 12.0] and parameters: {'lexicalPick': 'nrLongWords/nrWords', 'syntacticPick': 'nrMonoSyllables/nrSentences'}. \u001b[0m\n",
      "C:\\Libraries\\anaconda3\\lib\\site-packages\\statsmodels\\discrete\\discrete_model.py:1799: RuntimeWarning: overflow encountered in exp\n",
      "  return 1/(1+np.exp(-X))\n",
      "C:\\Libraries\\anaconda3\\lib\\site-packages\\statsmodels\\discrete\\discrete_model.py:1852: RuntimeWarning: divide by zero encountered in log\n",
      "  return np.sum(np.log(self.cdf(q*np.dot(X,params))))\n",
      "\u001b[32m[I 2021-05-03 17:58:20,418]\u001b[0m Trial 70 finished with values: [0.10217180301487538, 13.0] and parameters: {'lexicalPick': 'nrSyllables/nrWords', 'syntacticPick': 'nrLetters/nrSentences'}. \u001b[0m\n",
      "\u001b[32m[I 2021-05-03 17:58:20,544]\u001b[0m Trial 71 finished with values: [0.10515997877358385, 13.0] and parameters: {'lexicalPick': 'nrLongWords/nrWords', 'syntacticPick': 'nrWords/nrSentences'}. \u001b[0m\n",
      "\u001b[32m[I 2021-05-03 17:58:20,669]\u001b[0m Trial 72 finished with values: [0.10534903883122981, 12.0] and parameters: {'lexicalPick': 'nrMonoSyllables/nrWords', 'syntacticPick': 'nrWords/nrSentences'}. \u001b[0m\n",
      "\u001b[32m[I 2021-05-03 17:58:20,793]\u001b[0m Trial 73 finished with values: [0.10515997877358385, 13.0] and parameters: {'lexicalPick': 'nrLongWords/nrWords', 'syntacticPick': 'nrWords/nrSentences'}. \u001b[0m\n",
      "\u001b[32m[I 2021-05-03 17:58:20,927]\u001b[0m Trial 74 finished with values: [0.10520933719332826, 13.0] and parameters: {'lexicalPick': 'nrSyllables/nrWords', 'syntacticPick': 'nrWords/nrSentences'}. \u001b[0m\n",
      "\u001b[32m[I 2021-05-03 17:58:21,055]\u001b[0m Trial 75 finished with values: [0.10513910256518066, 13.0] and parameters: {'lexicalPick': 'nrPolySyllables/nrWords', 'syntacticPick': 'nrWords/nrSentences'}. \u001b[0m\n",
      "\u001b[32m[I 2021-05-03 17:58:21,180]\u001b[0m Trial 76 finished with values: [0.10081688951124679, 13.0] and parameters: {'lexicalPick': 'nrLongWords/nrWords', 'syntacticPick': 'nrLongWords/nrSentences'}. \u001b[0m\n",
      "\u001b[32m[I 2021-05-03 17:58:21,304]\u001b[0m Trial 77 finished with values: [0.10534903883122981, 12.0] and parameters: {'lexicalPick': 'nrMonoSyllables/nrWords', 'syntacticPick': 'nrWords/nrSentences'}. \u001b[0m\n",
      "\u001b[32m[I 2021-05-03 17:58:21,435]\u001b[0m Trial 78 finished with values: [0.10428732404264207, 12.0] and parameters: {'lexicalPick': 'nrSyllables/nrWords', 'syntacticPick': 'nrMonoSyllables/nrSentences'}. \u001b[0m\n",
      "C:\\Libraries\\anaconda3\\lib\\site-packages\\statsmodels\\discrete\\discrete_model.py:1799: RuntimeWarning: overflow encountered in exp\n",
      "  return 1/(1+np.exp(-X))\n",
      "C:\\Libraries\\anaconda3\\lib\\site-packages\\statsmodels\\discrete\\discrete_model.py:1852: RuntimeWarning: divide by zero encountered in log\n",
      "  return np.sum(np.log(self.cdf(q*np.dot(X,params))))\n",
      "\u001b[32m[I 2021-05-03 17:58:21,565]\u001b[0m Trial 79 finished with values: [0.10190780372026054, 13.0] and parameters: {'lexicalPick': 'nrLongWords/nrWords', 'syntacticPick': 'nrLetters/nrSentences'}. \u001b[0m\n",
      "\u001b[32m[I 2021-05-03 17:58:21,682]\u001b[0m Trial 80 finished with values: [0.10686797402822312, 12.0] and parameters: {'lexicalPick': 'nrMonoSyllables/nrWords', 'syntacticPick': 'nrMonoSyllables/nrSentences'}. \u001b[0m\n",
      "\u001b[32m[I 2021-05-03 17:58:21,804]\u001b[0m Trial 81 finished with values: [0.10428668925641305, 12.0] and parameters: {'lexicalPick': 'nrLongWords/nrWords', 'syntacticPick': 'nrMonoSyllables/nrSentences'}. \u001b[0m\n",
      "\u001b[32m[I 2021-05-03 17:58:21,938]\u001b[0m Trial 82 finished with values: [0.0942222176440819, 10.0] and parameters: {'lexicalPick': 'nrMonoSyllables/nrWords', 'syntacticPick': 'nrPolySyllables/nrSentences'}. \u001b[0m\n",
      "\u001b[32m[I 2021-05-03 17:58:22,069]\u001b[0m Trial 83 finished with values: [0.10290096331855136, 13.0] and parameters: {'lexicalPick': 'nrLongWords/nrWords', 'syntacticPick': 'nrSyllables/nrSentences'}. \u001b[0m\n",
      "\u001b[32m[I 2021-05-03 17:58:22,192]\u001b[0m Trial 84 finished with values: [0.10607852770807502, 14.0] and parameters: {'lexicalPick': 'nrLetters/nrWords', 'syntacticPick': 'nrWords/nrSentences'}. \u001b[0m\n",
      "\u001b[32m[I 2021-05-03 17:58:22,317]\u001b[0m Trial 85 finished with values: [0.09900788347789102, 11.0] and parameters: {'lexicalPick': 'nrBiSyllables/nrWords', 'syntacticPick': 'nrBiSyllables/nrSentences'}. \u001b[0m\n",
      "\u001b[32m[I 2021-05-03 17:58:22,440]\u001b[0m Trial 86 finished with values: [0.10146419167446685, 14.0] and parameters: {'lexicalPick': 'nrLetters/nrWords', 'syntacticPick': 'nrLongWords/nrSentences'}. \u001b[0m\n",
      "\u001b[32m[I 2021-05-03 17:58:22,566]\u001b[0m Trial 87 finished with values: [0.10428668925641305, 12.0] and parameters: {'lexicalPick': 'nrLongWords/nrWords', 'syntacticPick': 'nrMonoSyllables/nrSentences'}. \u001b[0m\n",
      "\u001b[32m[I 2021-05-03 17:58:22,690]\u001b[0m Trial 88 finished with values: [0.10125343613482085, 14.0] and parameters: {'lexicalPick': 'nrLetters/nrWords', 'syntacticPick': 'nrBiSyllables/nrSentences'}. \u001b[0m\n",
      "\u001b[32m[I 2021-05-03 17:58:22,817]\u001b[0m Trial 89 finished with values: [0.10633361605772307, 12.0] and parameters: {'lexicalPick': 'nrBiSyllables/nrWords', 'syntacticPick': 'nrWords/nrSentences'}. \u001b[0m\n",
      "\u001b[32m[I 2021-05-03 17:58:22,946]\u001b[0m Trial 90 finished with values: [0.10312572492763517, 13.0] and parameters: {'lexicalPick': 'nrPolySyllables/nrWords', 'syntacticPick': 'nrSyllables/nrSentences'}. \u001b[0m\n",
      "\u001b[32m[I 2021-05-03 17:58:23,072]\u001b[0m Trial 91 finished with values: [0.09830598587137629, 12.0] and parameters: {'lexicalPick': 'nrPolySyllables/nrWords', 'syntacticPick': 'nrLongWords/nrSentences'}. \u001b[0m\n",
      "\u001b[32m[I 2021-05-03 17:58:23,201]\u001b[0m Trial 92 finished with values: [0.10534903883122981, 12.0] and parameters: {'lexicalPick': 'nrMonoSyllables/nrWords', 'syntacticPick': 'nrWords/nrSentences'}. \u001b[0m\n",
      "\u001b[32m[I 2021-05-03 17:58:23,329]\u001b[0m Trial 93 finished with values: [0.10086350983823766, 13.0] and parameters: {'lexicalPick': 'nrLongWords/nrWords', 'syntacticPick': 'nrBiSyllables/nrSentences'}. \u001b[0m\n",
      "\u001b[32m[I 2021-05-03 17:58:23,455]\u001b[0m Trial 94 finished with values: [0.10125343613482085, 14.0] and parameters: {'lexicalPick': 'nrLetters/nrWords', 'syntacticPick': 'nrBiSyllables/nrSentences'}. \u001b[0m\n",
      "\u001b[32m[I 2021-05-03 17:58:23,583]\u001b[0m Trial 95 finished with values: [0.10086350983823766, 13.0] and parameters: {'lexicalPick': 'nrLongWords/nrWords', 'syntacticPick': 'nrBiSyllables/nrSentences'}. \u001b[0m\n",
      "\u001b[32m[I 2021-05-03 17:58:23,707]\u001b[0m Trial 96 finished with values: [0.10534903883122981, 12.0] and parameters: {'lexicalPick': 'nrMonoSyllables/nrWords', 'syntacticPick': 'nrWords/nrSentences'}. \u001b[0m\n",
      "\u001b[32m[I 2021-05-03 17:58:23,832]\u001b[0m Trial 97 finished with values: [0.10290096331855136, 13.0] and parameters: {'lexicalPick': 'nrLongWords/nrWords', 'syntacticPick': 'nrSyllables/nrSentences'}. \u001b[0m\n",
      "\u001b[32m[I 2021-05-03 17:58:23,965]\u001b[0m Trial 98 finished with values: [0.10441172718177405, 12.0] and parameters: {'lexicalPick': 'nrPolySyllables/nrWords', 'syntacticPick': 'nrMonoSyllables/nrSentences'}. \u001b[0m\n",
      "\u001b[32m[I 2021-05-03 17:58:24,092]\u001b[0m Trial 99 finished with values: [0.0942222176440819, 10.0] and parameters: {'lexicalPick': 'nrMonoSyllables/nrWords', 'syntacticPick': 'nrPolySyllables/nrSentences'}. \u001b[0m\n"
     ]
    }
   ],
   "source": [
    "study.optimize(objective, n_trials=100)"
   ]
  },
  {
   "cell_type": "code",
   "execution_count": 7,
   "metadata": {},
   "outputs": [],
   "source": [
    "pickle.dump(study, open(f'./data/{dataset}/Dimensions-Optuna.pickle', mode='wb'))"
   ]
  },
  {
   "cell_type": "code",
   "execution_count": 4,
   "metadata": {},
   "outputs": [],
   "source": [
    "#study = pickle.load(open(f'./data/{dataset}/Dimensions-Optuna.pickle', mode='rb'))"
   ]
  },
  {
   "cell_type": "code",
   "execution_count": 27,
   "metadata": {},
   "outputs": [],
   "source": [
    "trials = study.trials\r\n",
    "bests = pd.DataFrame()\r\n",
    "bests['params'] = pd.Series([x.params for x in trials])\r\n",
    "bests['r2'] = pd.Series([x.values[0] for x in trials])\r\n",
    "bests['coefs'] = pd.Series([x.values[1] for x in trials])"
   ]
  },
  {
   "cell_type": "code",
   "execution_count": 29,
   "metadata": {},
   "outputs": [
    {
     "name": "stdout",
     "output_type": "stream",
     "text": [
      "{'lexicalPick': 'nrBiSyllables/nrWords', 'syntacticPick': 'nrMonoSyllables/nrSentences'}\n",
      "0.10756773753788584\n",
      "12.0\n",
      "{'lexicalPick': 'nrLetters/nrWords', 'syntacticPick': 'nrLongWords/nrSentences'}\n",
      "0.10146419167446685\n",
      "14.0\n"
     ]
    }
   ],
   "source": [
    "bestR2 = bests.iloc[bests['r2'].idxmax()]\r\n",
    "print(bestR2['params'])\r\n",
    "print(bestR2['r2'])\r\n",
    "print(bestR2['coefs'])\r\n",
    "bestCoef = bests.iloc[bests['coefs'].idxmax()]\r\n",
    "print(bestCoef['params'])\r\n",
    "print(bestCoef['r2'])\r\n",
    "print(bestCoef['coefs'])"
   ]
  },
  {
   "cell_type": "code",
   "execution_count": 30,
   "metadata": {},
   "outputs": [
    {
     "name": "stdout",
     "output_type": "stream",
     "text": [
      "{'lexicalPick': 'nrLetters/nrWords', 'syntacticPick': 'nrWords/nrSentences'}\n",
      "0.10607852770807502\n",
      "14.0\n"
     ]
    }
   ],
   "source": [
    "coefs = bests[(bests['coefs'] >= bestCoef['coefs'])]\r\n",
    "best = coefs.sort_values('r2', ascending=False).iloc[0]\r\n",
    "pickedDimensions = pickedBase + list(best['params'].values())\r\n",
    "print(best['params'])\r\n",
    "print(best['r2'])\r\n",
    "print(best['coefs'])"
   ]
  },
  {
   "cell_type": "code",
   "execution_count": 31,
   "metadata": {},
   "outputs": [],
   "source": [
    "saveSet('./data/Dimensions-Picked-Final.txt', pickedDimensions)"
   ]
  },
  {
   "cell_type": "code",
   "execution_count": 32,
   "metadata": {},
   "outputs": [
    {
     "data": {
      "application/vnd.plotly.v1+json": {
       "config": {
        "plotlyServerURL": "https://plot.ly"
       },
       "data": [
        {
         "cliponaxis": false,
         "hovertemplate": [
          "lexicalPick (CategoricalDistribution): 0.07110370674403801<extra></extra>",
          "syntacticPick (CategoricalDistribution): 0.928896293255962<extra></extra>"
         ],
         "marker": {
          "color": [
           "rgb(66,146,198)",
           "rgb(66,146,198)"
          ]
         },
         "orientation": "h",
         "text": [
          "0.07110370674403801",
          "0.928896293255962"
         ],
         "textposition": "outside",
         "texttemplate": "%{text:.2f}",
         "type": "bar",
         "x": [
          0.07110370674403801,
          0.928896293255962
         ],
         "y": [
          "lexicalPick",
          "syntacticPick"
         ]
        }
       ],
       "layout": {
        "showlegend": false,
        "template": {
         "data": {
          "bar": [
           {
            "error_x": {
             "color": "#2a3f5f"
            },
            "error_y": {
             "color": "#2a3f5f"
            },
            "marker": {
             "line": {
              "color": "#E5ECF6",
              "width": 0.5
             }
            },
            "type": "bar"
           }
          ],
          "barpolar": [
           {
            "marker": {
             "line": {
              "color": "#E5ECF6",
              "width": 0.5
             }
            },
            "type": "barpolar"
           }
          ],
          "carpet": [
           {
            "aaxis": {
             "endlinecolor": "#2a3f5f",
             "gridcolor": "white",
             "linecolor": "white",
             "minorgridcolor": "white",
             "startlinecolor": "#2a3f5f"
            },
            "baxis": {
             "endlinecolor": "#2a3f5f",
             "gridcolor": "white",
             "linecolor": "white",
             "minorgridcolor": "white",
             "startlinecolor": "#2a3f5f"
            },
            "type": "carpet"
           }
          ],
          "choropleth": [
           {
            "colorbar": {
             "outlinewidth": 0,
             "ticks": ""
            },
            "type": "choropleth"
           }
          ],
          "contour": [
           {
            "colorbar": {
             "outlinewidth": 0,
             "ticks": ""
            },
            "colorscale": [
             [
              0,
              "#0d0887"
             ],
             [
              0.1111111111111111,
              "#46039f"
             ],
             [
              0.2222222222222222,
              "#7201a8"
             ],
             [
              0.3333333333333333,
              "#9c179e"
             ],
             [
              0.4444444444444444,
              "#bd3786"
             ],
             [
              0.5555555555555556,
              "#d8576b"
             ],
             [
              0.6666666666666666,
              "#ed7953"
             ],
             [
              0.7777777777777778,
              "#fb9f3a"
             ],
             [
              0.8888888888888888,
              "#fdca26"
             ],
             [
              1,
              "#f0f921"
             ]
            ],
            "type": "contour"
           }
          ],
          "contourcarpet": [
           {
            "colorbar": {
             "outlinewidth": 0,
             "ticks": ""
            },
            "type": "contourcarpet"
           }
          ],
          "heatmap": [
           {
            "colorbar": {
             "outlinewidth": 0,
             "ticks": ""
            },
            "colorscale": [
             [
              0,
              "#0d0887"
             ],
             [
              0.1111111111111111,
              "#46039f"
             ],
             [
              0.2222222222222222,
              "#7201a8"
             ],
             [
              0.3333333333333333,
              "#9c179e"
             ],
             [
              0.4444444444444444,
              "#bd3786"
             ],
             [
              0.5555555555555556,
              "#d8576b"
             ],
             [
              0.6666666666666666,
              "#ed7953"
             ],
             [
              0.7777777777777778,
              "#fb9f3a"
             ],
             [
              0.8888888888888888,
              "#fdca26"
             ],
             [
              1,
              "#f0f921"
             ]
            ],
            "type": "heatmap"
           }
          ],
          "heatmapgl": [
           {
            "colorbar": {
             "outlinewidth": 0,
             "ticks": ""
            },
            "colorscale": [
             [
              0,
              "#0d0887"
             ],
             [
              0.1111111111111111,
              "#46039f"
             ],
             [
              0.2222222222222222,
              "#7201a8"
             ],
             [
              0.3333333333333333,
              "#9c179e"
             ],
             [
              0.4444444444444444,
              "#bd3786"
             ],
             [
              0.5555555555555556,
              "#d8576b"
             ],
             [
              0.6666666666666666,
              "#ed7953"
             ],
             [
              0.7777777777777778,
              "#fb9f3a"
             ],
             [
              0.8888888888888888,
              "#fdca26"
             ],
             [
              1,
              "#f0f921"
             ]
            ],
            "type": "heatmapgl"
           }
          ],
          "histogram": [
           {
            "marker": {
             "colorbar": {
              "outlinewidth": 0,
              "ticks": ""
             }
            },
            "type": "histogram"
           }
          ],
          "histogram2d": [
           {
            "colorbar": {
             "outlinewidth": 0,
             "ticks": ""
            },
            "colorscale": [
             [
              0,
              "#0d0887"
             ],
             [
              0.1111111111111111,
              "#46039f"
             ],
             [
              0.2222222222222222,
              "#7201a8"
             ],
             [
              0.3333333333333333,
              "#9c179e"
             ],
             [
              0.4444444444444444,
              "#bd3786"
             ],
             [
              0.5555555555555556,
              "#d8576b"
             ],
             [
              0.6666666666666666,
              "#ed7953"
             ],
             [
              0.7777777777777778,
              "#fb9f3a"
             ],
             [
              0.8888888888888888,
              "#fdca26"
             ],
             [
              1,
              "#f0f921"
             ]
            ],
            "type": "histogram2d"
           }
          ],
          "histogram2dcontour": [
           {
            "colorbar": {
             "outlinewidth": 0,
             "ticks": ""
            },
            "colorscale": [
             [
              0,
              "#0d0887"
             ],
             [
              0.1111111111111111,
              "#46039f"
             ],
             [
              0.2222222222222222,
              "#7201a8"
             ],
             [
              0.3333333333333333,
              "#9c179e"
             ],
             [
              0.4444444444444444,
              "#bd3786"
             ],
             [
              0.5555555555555556,
              "#d8576b"
             ],
             [
              0.6666666666666666,
              "#ed7953"
             ],
             [
              0.7777777777777778,
              "#fb9f3a"
             ],
             [
              0.8888888888888888,
              "#fdca26"
             ],
             [
              1,
              "#f0f921"
             ]
            ],
            "type": "histogram2dcontour"
           }
          ],
          "mesh3d": [
           {
            "colorbar": {
             "outlinewidth": 0,
             "ticks": ""
            },
            "type": "mesh3d"
           }
          ],
          "parcoords": [
           {
            "line": {
             "colorbar": {
              "outlinewidth": 0,
              "ticks": ""
             }
            },
            "type": "parcoords"
           }
          ],
          "pie": [
           {
            "automargin": true,
            "type": "pie"
           }
          ],
          "scatter": [
           {
            "marker": {
             "colorbar": {
              "outlinewidth": 0,
              "ticks": ""
             }
            },
            "type": "scatter"
           }
          ],
          "scatter3d": [
           {
            "line": {
             "colorbar": {
              "outlinewidth": 0,
              "ticks": ""
             }
            },
            "marker": {
             "colorbar": {
              "outlinewidth": 0,
              "ticks": ""
             }
            },
            "type": "scatter3d"
           }
          ],
          "scattercarpet": [
           {
            "marker": {
             "colorbar": {
              "outlinewidth": 0,
              "ticks": ""
             }
            },
            "type": "scattercarpet"
           }
          ],
          "scattergeo": [
           {
            "marker": {
             "colorbar": {
              "outlinewidth": 0,
              "ticks": ""
             }
            },
            "type": "scattergeo"
           }
          ],
          "scattergl": [
           {
            "marker": {
             "colorbar": {
              "outlinewidth": 0,
              "ticks": ""
             }
            },
            "type": "scattergl"
           }
          ],
          "scattermapbox": [
           {
            "marker": {
             "colorbar": {
              "outlinewidth": 0,
              "ticks": ""
             }
            },
            "type": "scattermapbox"
           }
          ],
          "scatterpolar": [
           {
            "marker": {
             "colorbar": {
              "outlinewidth": 0,
              "ticks": ""
             }
            },
            "type": "scatterpolar"
           }
          ],
          "scatterpolargl": [
           {
            "marker": {
             "colorbar": {
              "outlinewidth": 0,
              "ticks": ""
             }
            },
            "type": "scatterpolargl"
           }
          ],
          "scatterternary": [
           {
            "marker": {
             "colorbar": {
              "outlinewidth": 0,
              "ticks": ""
             }
            },
            "type": "scatterternary"
           }
          ],
          "surface": [
           {
            "colorbar": {
             "outlinewidth": 0,
             "ticks": ""
            },
            "colorscale": [
             [
              0,
              "#0d0887"
             ],
             [
              0.1111111111111111,
              "#46039f"
             ],
             [
              0.2222222222222222,
              "#7201a8"
             ],
             [
              0.3333333333333333,
              "#9c179e"
             ],
             [
              0.4444444444444444,
              "#bd3786"
             ],
             [
              0.5555555555555556,
              "#d8576b"
             ],
             [
              0.6666666666666666,
              "#ed7953"
             ],
             [
              0.7777777777777778,
              "#fb9f3a"
             ],
             [
              0.8888888888888888,
              "#fdca26"
             ],
             [
              1,
              "#f0f921"
             ]
            ],
            "type": "surface"
           }
          ],
          "table": [
           {
            "cells": {
             "fill": {
              "color": "#EBF0F8"
             },
             "line": {
              "color": "white"
             }
            },
            "header": {
             "fill": {
              "color": "#C8D4E3"
             },
             "line": {
              "color": "white"
             }
            },
            "type": "table"
           }
          ]
         },
         "layout": {
          "annotationdefaults": {
           "arrowcolor": "#2a3f5f",
           "arrowhead": 0,
           "arrowwidth": 1
          },
          "autotypenumbers": "strict",
          "coloraxis": {
           "colorbar": {
            "outlinewidth": 0,
            "ticks": ""
           }
          },
          "colorscale": {
           "diverging": [
            [
             0,
             "#8e0152"
            ],
            [
             0.1,
             "#c51b7d"
            ],
            [
             0.2,
             "#de77ae"
            ],
            [
             0.3,
             "#f1b6da"
            ],
            [
             0.4,
             "#fde0ef"
            ],
            [
             0.5,
             "#f7f7f7"
            ],
            [
             0.6,
             "#e6f5d0"
            ],
            [
             0.7,
             "#b8e186"
            ],
            [
             0.8,
             "#7fbc41"
            ],
            [
             0.9,
             "#4d9221"
            ],
            [
             1,
             "#276419"
            ]
           ],
           "sequential": [
            [
             0,
             "#0d0887"
            ],
            [
             0.1111111111111111,
             "#46039f"
            ],
            [
             0.2222222222222222,
             "#7201a8"
            ],
            [
             0.3333333333333333,
             "#9c179e"
            ],
            [
             0.4444444444444444,
             "#bd3786"
            ],
            [
             0.5555555555555556,
             "#d8576b"
            ],
            [
             0.6666666666666666,
             "#ed7953"
            ],
            [
             0.7777777777777778,
             "#fb9f3a"
            ],
            [
             0.8888888888888888,
             "#fdca26"
            ],
            [
             1,
             "#f0f921"
            ]
           ],
           "sequentialminus": [
            [
             0,
             "#0d0887"
            ],
            [
             0.1111111111111111,
             "#46039f"
            ],
            [
             0.2222222222222222,
             "#7201a8"
            ],
            [
             0.3333333333333333,
             "#9c179e"
            ],
            [
             0.4444444444444444,
             "#bd3786"
            ],
            [
             0.5555555555555556,
             "#d8576b"
            ],
            [
             0.6666666666666666,
             "#ed7953"
            ],
            [
             0.7777777777777778,
             "#fb9f3a"
            ],
            [
             0.8888888888888888,
             "#fdca26"
            ],
            [
             1,
             "#f0f921"
            ]
           ]
          },
          "colorway": [
           "#636efa",
           "#EF553B",
           "#00cc96",
           "#ab63fa",
           "#FFA15A",
           "#19d3f3",
           "#FF6692",
           "#B6E880",
           "#FF97FF",
           "#FECB52"
          ],
          "font": {
           "color": "#2a3f5f"
          },
          "geo": {
           "bgcolor": "white",
           "lakecolor": "white",
           "landcolor": "#E5ECF6",
           "showlakes": true,
           "showland": true,
           "subunitcolor": "white"
          },
          "hoverlabel": {
           "align": "left"
          },
          "hovermode": "closest",
          "mapbox": {
           "style": "light"
          },
          "paper_bgcolor": "white",
          "plot_bgcolor": "#E5ECF6",
          "polar": {
           "angularaxis": {
            "gridcolor": "white",
            "linecolor": "white",
            "ticks": ""
           },
           "bgcolor": "#E5ECF6",
           "radialaxis": {
            "gridcolor": "white",
            "linecolor": "white",
            "ticks": ""
           }
          },
          "scene": {
           "xaxis": {
            "backgroundcolor": "#E5ECF6",
            "gridcolor": "white",
            "gridwidth": 2,
            "linecolor": "white",
            "showbackground": true,
            "ticks": "",
            "zerolinecolor": "white"
           },
           "yaxis": {
            "backgroundcolor": "#E5ECF6",
            "gridcolor": "white",
            "gridwidth": 2,
            "linecolor": "white",
            "showbackground": true,
            "ticks": "",
            "zerolinecolor": "white"
           },
           "zaxis": {
            "backgroundcolor": "#E5ECF6",
            "gridcolor": "white",
            "gridwidth": 2,
            "linecolor": "white",
            "showbackground": true,
            "ticks": "",
            "zerolinecolor": "white"
           }
          },
          "shapedefaults": {
           "line": {
            "color": "#2a3f5f"
           }
          },
          "ternary": {
           "aaxis": {
            "gridcolor": "white",
            "linecolor": "white",
            "ticks": ""
           },
           "baxis": {
            "gridcolor": "white",
            "linecolor": "white",
            "ticks": ""
           },
           "bgcolor": "#E5ECF6",
           "caxis": {
            "gridcolor": "white",
            "linecolor": "white",
            "ticks": ""
           }
          },
          "title": {
           "x": 0.05
          },
          "xaxis": {
           "automargin": true,
           "gridcolor": "white",
           "linecolor": "white",
           "ticks": "",
           "title": {
            "standoff": 15
           },
           "zerolinecolor": "white",
           "zerolinewidth": 2
          },
          "yaxis": {
           "automargin": true,
           "gridcolor": "white",
           "linecolor": "white",
           "ticks": "",
           "title": {
            "standoff": 15
           },
           "zerolinecolor": "white",
           "zerolinewidth": 2
          }
         }
        },
        "title": {
         "text": "Hyperparameter Importances"
        },
        "xaxis": {
         "title": {
          "text": "Importance for R2"
         }
        },
        "yaxis": {
         "title": {
          "text": "Hyperparameter"
         }
        }
       }
      }
     },
     "metadata": {},
     "output_type": "display_data"
    }
   ],
   "source": [
    "fig = optuna.visualization.plot_param_importances(study, target=lambda x: x.values[0], target_name=\"R2\")\n",
    "fig.show()"
   ]
  },
  {
   "cell_type": "code",
   "execution_count": 33,
   "metadata": {},
   "outputs": [
    {
     "data": {
      "application/vnd.plotly.v1+json": {
       "config": {
        "plotlyServerURL": "https://plot.ly"
       },
       "data": [
        {
         "cliponaxis": false,
         "hovertemplate": [
          "syntacticPick (CategoricalDistribution): 0.2591885936100602<extra></extra>",
          "lexicalPick (CategoricalDistribution): 0.7408114063899398<extra></extra>"
         ],
         "marker": {
          "color": [
           "rgb(66,146,198)",
           "rgb(66,146,198)"
          ]
         },
         "orientation": "h",
         "text": [
          "0.2591885936100602",
          "0.7408114063899398"
         ],
         "textposition": "outside",
         "texttemplate": "%{text:.2f}",
         "type": "bar",
         "x": [
          0.2591885936100602,
          0.7408114063899398
         ],
         "y": [
          "syntacticPick",
          "lexicalPick"
         ]
        }
       ],
       "layout": {
        "showlegend": false,
        "template": {
         "data": {
          "bar": [
           {
            "error_x": {
             "color": "#2a3f5f"
            },
            "error_y": {
             "color": "#2a3f5f"
            },
            "marker": {
             "line": {
              "color": "#E5ECF6",
              "width": 0.5
             }
            },
            "type": "bar"
           }
          ],
          "barpolar": [
           {
            "marker": {
             "line": {
              "color": "#E5ECF6",
              "width": 0.5
             }
            },
            "type": "barpolar"
           }
          ],
          "carpet": [
           {
            "aaxis": {
             "endlinecolor": "#2a3f5f",
             "gridcolor": "white",
             "linecolor": "white",
             "minorgridcolor": "white",
             "startlinecolor": "#2a3f5f"
            },
            "baxis": {
             "endlinecolor": "#2a3f5f",
             "gridcolor": "white",
             "linecolor": "white",
             "minorgridcolor": "white",
             "startlinecolor": "#2a3f5f"
            },
            "type": "carpet"
           }
          ],
          "choropleth": [
           {
            "colorbar": {
             "outlinewidth": 0,
             "ticks": ""
            },
            "type": "choropleth"
           }
          ],
          "contour": [
           {
            "colorbar": {
             "outlinewidth": 0,
             "ticks": ""
            },
            "colorscale": [
             [
              0,
              "#0d0887"
             ],
             [
              0.1111111111111111,
              "#46039f"
             ],
             [
              0.2222222222222222,
              "#7201a8"
             ],
             [
              0.3333333333333333,
              "#9c179e"
             ],
             [
              0.4444444444444444,
              "#bd3786"
             ],
             [
              0.5555555555555556,
              "#d8576b"
             ],
             [
              0.6666666666666666,
              "#ed7953"
             ],
             [
              0.7777777777777778,
              "#fb9f3a"
             ],
             [
              0.8888888888888888,
              "#fdca26"
             ],
             [
              1,
              "#f0f921"
             ]
            ],
            "type": "contour"
           }
          ],
          "contourcarpet": [
           {
            "colorbar": {
             "outlinewidth": 0,
             "ticks": ""
            },
            "type": "contourcarpet"
           }
          ],
          "heatmap": [
           {
            "colorbar": {
             "outlinewidth": 0,
             "ticks": ""
            },
            "colorscale": [
             [
              0,
              "#0d0887"
             ],
             [
              0.1111111111111111,
              "#46039f"
             ],
             [
              0.2222222222222222,
              "#7201a8"
             ],
             [
              0.3333333333333333,
              "#9c179e"
             ],
             [
              0.4444444444444444,
              "#bd3786"
             ],
             [
              0.5555555555555556,
              "#d8576b"
             ],
             [
              0.6666666666666666,
              "#ed7953"
             ],
             [
              0.7777777777777778,
              "#fb9f3a"
             ],
             [
              0.8888888888888888,
              "#fdca26"
             ],
             [
              1,
              "#f0f921"
             ]
            ],
            "type": "heatmap"
           }
          ],
          "heatmapgl": [
           {
            "colorbar": {
             "outlinewidth": 0,
             "ticks": ""
            },
            "colorscale": [
             [
              0,
              "#0d0887"
             ],
             [
              0.1111111111111111,
              "#46039f"
             ],
             [
              0.2222222222222222,
              "#7201a8"
             ],
             [
              0.3333333333333333,
              "#9c179e"
             ],
             [
              0.4444444444444444,
              "#bd3786"
             ],
             [
              0.5555555555555556,
              "#d8576b"
             ],
             [
              0.6666666666666666,
              "#ed7953"
             ],
             [
              0.7777777777777778,
              "#fb9f3a"
             ],
             [
              0.8888888888888888,
              "#fdca26"
             ],
             [
              1,
              "#f0f921"
             ]
            ],
            "type": "heatmapgl"
           }
          ],
          "histogram": [
           {
            "marker": {
             "colorbar": {
              "outlinewidth": 0,
              "ticks": ""
             }
            },
            "type": "histogram"
           }
          ],
          "histogram2d": [
           {
            "colorbar": {
             "outlinewidth": 0,
             "ticks": ""
            },
            "colorscale": [
             [
              0,
              "#0d0887"
             ],
             [
              0.1111111111111111,
              "#46039f"
             ],
             [
              0.2222222222222222,
              "#7201a8"
             ],
             [
              0.3333333333333333,
              "#9c179e"
             ],
             [
              0.4444444444444444,
              "#bd3786"
             ],
             [
              0.5555555555555556,
              "#d8576b"
             ],
             [
              0.6666666666666666,
              "#ed7953"
             ],
             [
              0.7777777777777778,
              "#fb9f3a"
             ],
             [
              0.8888888888888888,
              "#fdca26"
             ],
             [
              1,
              "#f0f921"
             ]
            ],
            "type": "histogram2d"
           }
          ],
          "histogram2dcontour": [
           {
            "colorbar": {
             "outlinewidth": 0,
             "ticks": ""
            },
            "colorscale": [
             [
              0,
              "#0d0887"
             ],
             [
              0.1111111111111111,
              "#46039f"
             ],
             [
              0.2222222222222222,
              "#7201a8"
             ],
             [
              0.3333333333333333,
              "#9c179e"
             ],
             [
              0.4444444444444444,
              "#bd3786"
             ],
             [
              0.5555555555555556,
              "#d8576b"
             ],
             [
              0.6666666666666666,
              "#ed7953"
             ],
             [
              0.7777777777777778,
              "#fb9f3a"
             ],
             [
              0.8888888888888888,
              "#fdca26"
             ],
             [
              1,
              "#f0f921"
             ]
            ],
            "type": "histogram2dcontour"
           }
          ],
          "mesh3d": [
           {
            "colorbar": {
             "outlinewidth": 0,
             "ticks": ""
            },
            "type": "mesh3d"
           }
          ],
          "parcoords": [
           {
            "line": {
             "colorbar": {
              "outlinewidth": 0,
              "ticks": ""
             }
            },
            "type": "parcoords"
           }
          ],
          "pie": [
           {
            "automargin": true,
            "type": "pie"
           }
          ],
          "scatter": [
           {
            "marker": {
             "colorbar": {
              "outlinewidth": 0,
              "ticks": ""
             }
            },
            "type": "scatter"
           }
          ],
          "scatter3d": [
           {
            "line": {
             "colorbar": {
              "outlinewidth": 0,
              "ticks": ""
             }
            },
            "marker": {
             "colorbar": {
              "outlinewidth": 0,
              "ticks": ""
             }
            },
            "type": "scatter3d"
           }
          ],
          "scattercarpet": [
           {
            "marker": {
             "colorbar": {
              "outlinewidth": 0,
              "ticks": ""
             }
            },
            "type": "scattercarpet"
           }
          ],
          "scattergeo": [
           {
            "marker": {
             "colorbar": {
              "outlinewidth": 0,
              "ticks": ""
             }
            },
            "type": "scattergeo"
           }
          ],
          "scattergl": [
           {
            "marker": {
             "colorbar": {
              "outlinewidth": 0,
              "ticks": ""
             }
            },
            "type": "scattergl"
           }
          ],
          "scattermapbox": [
           {
            "marker": {
             "colorbar": {
              "outlinewidth": 0,
              "ticks": ""
             }
            },
            "type": "scattermapbox"
           }
          ],
          "scatterpolar": [
           {
            "marker": {
             "colorbar": {
              "outlinewidth": 0,
              "ticks": ""
             }
            },
            "type": "scatterpolar"
           }
          ],
          "scatterpolargl": [
           {
            "marker": {
             "colorbar": {
              "outlinewidth": 0,
              "ticks": ""
             }
            },
            "type": "scatterpolargl"
           }
          ],
          "scatterternary": [
           {
            "marker": {
             "colorbar": {
              "outlinewidth": 0,
              "ticks": ""
             }
            },
            "type": "scatterternary"
           }
          ],
          "surface": [
           {
            "colorbar": {
             "outlinewidth": 0,
             "ticks": ""
            },
            "colorscale": [
             [
              0,
              "#0d0887"
             ],
             [
              0.1111111111111111,
              "#46039f"
             ],
             [
              0.2222222222222222,
              "#7201a8"
             ],
             [
              0.3333333333333333,
              "#9c179e"
             ],
             [
              0.4444444444444444,
              "#bd3786"
             ],
             [
              0.5555555555555556,
              "#d8576b"
             ],
             [
              0.6666666666666666,
              "#ed7953"
             ],
             [
              0.7777777777777778,
              "#fb9f3a"
             ],
             [
              0.8888888888888888,
              "#fdca26"
             ],
             [
              1,
              "#f0f921"
             ]
            ],
            "type": "surface"
           }
          ],
          "table": [
           {
            "cells": {
             "fill": {
              "color": "#EBF0F8"
             },
             "line": {
              "color": "white"
             }
            },
            "header": {
             "fill": {
              "color": "#C8D4E3"
             },
             "line": {
              "color": "white"
             }
            },
            "type": "table"
           }
          ]
         },
         "layout": {
          "annotationdefaults": {
           "arrowcolor": "#2a3f5f",
           "arrowhead": 0,
           "arrowwidth": 1
          },
          "autotypenumbers": "strict",
          "coloraxis": {
           "colorbar": {
            "outlinewidth": 0,
            "ticks": ""
           }
          },
          "colorscale": {
           "diverging": [
            [
             0,
             "#8e0152"
            ],
            [
             0.1,
             "#c51b7d"
            ],
            [
             0.2,
             "#de77ae"
            ],
            [
             0.3,
             "#f1b6da"
            ],
            [
             0.4,
             "#fde0ef"
            ],
            [
             0.5,
             "#f7f7f7"
            ],
            [
             0.6,
             "#e6f5d0"
            ],
            [
             0.7,
             "#b8e186"
            ],
            [
             0.8,
             "#7fbc41"
            ],
            [
             0.9,
             "#4d9221"
            ],
            [
             1,
             "#276419"
            ]
           ],
           "sequential": [
            [
             0,
             "#0d0887"
            ],
            [
             0.1111111111111111,
             "#46039f"
            ],
            [
             0.2222222222222222,
             "#7201a8"
            ],
            [
             0.3333333333333333,
             "#9c179e"
            ],
            [
             0.4444444444444444,
             "#bd3786"
            ],
            [
             0.5555555555555556,
             "#d8576b"
            ],
            [
             0.6666666666666666,
             "#ed7953"
            ],
            [
             0.7777777777777778,
             "#fb9f3a"
            ],
            [
             0.8888888888888888,
             "#fdca26"
            ],
            [
             1,
             "#f0f921"
            ]
           ],
           "sequentialminus": [
            [
             0,
             "#0d0887"
            ],
            [
             0.1111111111111111,
             "#46039f"
            ],
            [
             0.2222222222222222,
             "#7201a8"
            ],
            [
             0.3333333333333333,
             "#9c179e"
            ],
            [
             0.4444444444444444,
             "#bd3786"
            ],
            [
             0.5555555555555556,
             "#d8576b"
            ],
            [
             0.6666666666666666,
             "#ed7953"
            ],
            [
             0.7777777777777778,
             "#fb9f3a"
            ],
            [
             0.8888888888888888,
             "#fdca26"
            ],
            [
             1,
             "#f0f921"
            ]
           ]
          },
          "colorway": [
           "#636efa",
           "#EF553B",
           "#00cc96",
           "#ab63fa",
           "#FFA15A",
           "#19d3f3",
           "#FF6692",
           "#B6E880",
           "#FF97FF",
           "#FECB52"
          ],
          "font": {
           "color": "#2a3f5f"
          },
          "geo": {
           "bgcolor": "white",
           "lakecolor": "white",
           "landcolor": "#E5ECF6",
           "showlakes": true,
           "showland": true,
           "subunitcolor": "white"
          },
          "hoverlabel": {
           "align": "left"
          },
          "hovermode": "closest",
          "mapbox": {
           "style": "light"
          },
          "paper_bgcolor": "white",
          "plot_bgcolor": "#E5ECF6",
          "polar": {
           "angularaxis": {
            "gridcolor": "white",
            "linecolor": "white",
            "ticks": ""
           },
           "bgcolor": "#E5ECF6",
           "radialaxis": {
            "gridcolor": "white",
            "linecolor": "white",
            "ticks": ""
           }
          },
          "scene": {
           "xaxis": {
            "backgroundcolor": "#E5ECF6",
            "gridcolor": "white",
            "gridwidth": 2,
            "linecolor": "white",
            "showbackground": true,
            "ticks": "",
            "zerolinecolor": "white"
           },
           "yaxis": {
            "backgroundcolor": "#E5ECF6",
            "gridcolor": "white",
            "gridwidth": 2,
            "linecolor": "white",
            "showbackground": true,
            "ticks": "",
            "zerolinecolor": "white"
           },
           "zaxis": {
            "backgroundcolor": "#E5ECF6",
            "gridcolor": "white",
            "gridwidth": 2,
            "linecolor": "white",
            "showbackground": true,
            "ticks": "",
            "zerolinecolor": "white"
           }
          },
          "shapedefaults": {
           "line": {
            "color": "#2a3f5f"
           }
          },
          "ternary": {
           "aaxis": {
            "gridcolor": "white",
            "linecolor": "white",
            "ticks": ""
           },
           "baxis": {
            "gridcolor": "white",
            "linecolor": "white",
            "ticks": ""
           },
           "bgcolor": "#E5ECF6",
           "caxis": {
            "gridcolor": "white",
            "linecolor": "white",
            "ticks": ""
           }
          },
          "title": {
           "x": 0.05
          },
          "xaxis": {
           "automargin": true,
           "gridcolor": "white",
           "linecolor": "white",
           "ticks": "",
           "title": {
            "standoff": 15
           },
           "zerolinecolor": "white",
           "zerolinewidth": 2
          },
          "yaxis": {
           "automargin": true,
           "gridcolor": "white",
           "linecolor": "white",
           "ticks": "",
           "title": {
            "standoff": 15
           },
           "zerolinecolor": "white",
           "zerolinewidth": 2
          }
         }
        },
        "title": {
         "text": "Hyperparameter Importances"
        },
        "xaxis": {
         "title": {
          "text": "Importance for Coefs"
         }
        },
        "yaxis": {
         "title": {
          "text": "Hyperparameter"
         }
        }
       }
      }
     },
     "metadata": {},
     "output_type": "display_data"
    }
   ],
   "source": [
    "fig = optuna.visualization.plot_param_importances(study, target=lambda x: x.values[1], target_name=\"Coefs\")\n",
    "fig.show()"
   ]
  },
  {
   "cell_type": "code",
   "execution_count": null,
   "metadata": {},
   "outputs": [],
   "source": []
  }
 ],
 "metadata": {
  "kernelspec": {
   "display_name": "Python 3.8.5 64-bit (conda)",
   "name": "python385jvsc74a57bd0c44b72c526c8c2d5c61f5343e5a1f2700c1b4b253758e0d185049d36041666fd"
  },
  "language_info": {
   "codemirror_mode": {
    "name": "ipython",
    "version": 3
   },
   "file_extension": ".py",
   "mimetype": "text/x-python",
   "name": "python",
   "nbconvert_exporter": "python",
   "pygments_lexer": "ipython3",
   "version": "3.8.5"
  },
  "orig_nbformat": 2
 },
 "nbformat": 4,
 "nbformat_minor": 2
}