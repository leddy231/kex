{
 "metadata": {
  "language_info": {
   "codemirror_mode": {
    "name": "ipython",
    "version": 3
   },
   "file_extension": ".py",
   "mimetype": "text/x-python",
   "name": "python",
   "nbconvert_exporter": "python",
   "pygments_lexer": "ipython3",
   "version": "3.8.5"
  },
  "orig_nbformat": 2,
  "kernelspec": {
   "name": "python385jvsc74a57bd0c44b72c526c8c2d5c61f5343e5a1f2700c1b4b253758e0d185049d36041666fd",
   "display_name": "Python 3.8.5 64-bit ('base': conda)"
  }
 },
 "nbformat": 4,
 "nbformat_minor": 2,
 "cells": [
  {
   "cell_type": "code",
   "execution_count": 1,
   "metadata": {},
   "outputs": [],
   "source": [
    "import os\n",
    "import pickle\n",
    "import optuna\n",
    "import numpy as np\n",
    "import pandas as pd\n",
    "from functions import regression, readSet, saveSet\n",
    "from tqdm.notebook import tqdm\n",
    "tqdm.pandas()"
   ]
  },
  {
   "cell_type": "code",
   "execution_count": 2,
   "metadata": {},
   "outputs": [],
   "source": [
    "pickedBase = list(readSet('./data/Dimensions-Picked-Base.txt'))\n",
    "groups = pickle.load(open('./data/Dimensions-Correlated-Groups.pickle', 'rb'))\n",
    "baseGroup = groups['base']\n",
    "lexicalGroup = groups['lexical']\n",
    "syntacticGroup = groups['syntactic']"
   ]
  },
  {
   "cell_type": "code",
   "execution_count": 3,
   "metadata": {},
   "outputs": [
    {
     "output_type": "display_data",
     "data": {
      "text/plain": "  0%|          | 0/11541 [00:00<?, ?it/s]",
      "application/vnd.jupyter.widget-view+json": {
       "version_major": 2,
       "version_minor": 0,
       "model_id": "eefd8838c18f46d7acc3b0d2e4bd874a"
      }
     },
     "metadata": {}
    }
   ],
   "source": [
    "dataset = 'AirlineTweets'\n",
    "dims = pd.read_csv(f'./data/{dataset}/Dimensions.csv')\n",
    "prediction = pd.read_csv(f'./data/{dataset}/Word2Vec-Prediction.csv')\n",
    "predictCorrect = prediction.progress_apply(lambda row: 1 if row['truth'] == row['predicted'] else 0, axis=1)"
   ]
  },
  {
   "cell_type": "code",
   "execution_count": 4,
   "metadata": {},
   "outputs": [],
   "source": [
    "def objective(trial):\n",
    "    basePick      = trial.suggest_categorical('basePick', baseGroup)\n",
    "    lexicalPick   = trial.suggest_categorical('lexicalPick', lexicalGroup)\n",
    "    syntacticPick = trial.suggest_categorical('syntacticPick', syntacticGroup)\n",
    "    dimensions = pickedBase + [basePick, lexicalPick, syntacticPick]\n",
    "\n",
    "    res = regression(predictCorrect, dims[dimensions])\n",
    "    r2 = res.prsquared\n",
    "    p = pd.Series(res.pvalues).map(lambda r: 1 if r < 0.1 else 0)\n",
    "    #coefs = p.mul(res.params, axis=0)\n",
    "    #coefsum = np.sum(np.abs(coefs))\n",
    "    return r2, np.sum(p)"
   ]
  },
  {
   "cell_type": "code",
   "execution_count": 5,
   "metadata": {},
   "outputs": [
    {
     "output_type": "stream",
     "name": "stderr",
     "text": [
      "\u001b[32m[I 2021-04-29 21:44:50,294]\u001b[0m A new study created in memory with name: no-name-baa67e57-ea15-47b6-bbdc-4cbdd1e23c61\u001b[0m\n"
     ]
    }
   ],
   "source": [
    "study = optuna.create_study(directions=['maximize', 'maximize'])"
   ]
  },
  {
   "cell_type": "code",
   "execution_count": 6,
   "metadata": {
    "tags": [
     "outputPrepend"
    ]
   },
   "outputs": [
    {
     "output_type": "stream",
     "name": "stderr",
     "text": [
      "onda3\\lib\\site-packages\\statsmodels\\discrete\\discrete_model.py:1852: RuntimeWarning: divide by zero encountered in log\n",
      "  return np.sum(np.log(self.cdf(q*np.dot(X,params))))\n",
      "\u001b[32m[I 2021-04-29 21:44:56,553]\u001b[0m Trial 38 finished with values: [0.10937155560474687, 16.0] and parameters: {'basePick': 'nrLongWords', 'lexicalPick': 'nrLongWords/nrWords', 'syntacticPick': 'nrLetters/nrSentences'}. \u001b[0m\n",
      "\u001b[32m[I 2021-04-29 21:44:56,695]\u001b[0m Trial 39 finished with values: [0.11640954636243717, 12.0] and parameters: {'basePick': 'nrMonoSyllables', 'lexicalPick': 'nrMonoSyllables/nrWords', 'syntacticPick': 'nrSyllables/nrSentences'}. \u001b[0m\n",
      "\u001b[32m[I 2021-04-29 21:44:56,849]\u001b[0m Trial 40 finished with values: [0.1142225121817777, 13.0] and parameters: {'basePick': 'nrSyllables', 'lexicalPick': 'nrPolySyllables/nrWords', 'syntacticPick': 'nrMonoSyllables/nrSentences'}. \u001b[0m\n",
      "C:\\Libraries\\anaconda3\\lib\\site-packages\\statsmodels\\discrete\\discrete_model.py:1799: RuntimeWarning: overflow encountered in exp\n",
      "  return 1/(1+np.exp(-X))\n",
      "C:\\Libraries\\anaconda3\\lib\\site-packages\\statsmodels\\discrete\\discrete_model.py:1852: RuntimeWarning: divide by zero encountered in log\n",
      "  return np.sum(np.log(self.cdf(q*np.dot(X,params))))\n",
      "\u001b[32m[I 2021-04-29 21:44:57,000]\u001b[0m Trial 41 finished with values: [0.1055619616225274, 15.0] and parameters: {'basePick': 'nrBiSyllables', 'lexicalPick': 'nrMonoSyllables/nrWords', 'syntacticPick': 'nrLetters/nrSentences'}. \u001b[0m\n",
      "\u001b[32m[I 2021-04-29 21:44:57,149]\u001b[0m Trial 42 finished with values: [0.11603721874044426, 14.0] and parameters: {'basePick': 'nrSyllables', 'lexicalPick': 'nrSyllables/nrWords', 'syntacticPick': 'nrBiSyllables/nrSentences'}. \u001b[0m\n",
      "\u001b[32m[I 2021-04-29 21:44:57,296]\u001b[0m Trial 43 finished with values: [0.11651764240880158, 13.0] and parameters: {'basePick': 'nrSyllables', 'lexicalPick': 'nrLetters/nrWords', 'syntacticPick': 'nrWords/nrSentences'}. \u001b[0m\n",
      "\u001b[32m[I 2021-04-29 21:44:57,454]\u001b[0m Trial 44 finished with values: [0.1062655309450411, 16.0] and parameters: {'basePick': 'nrLongWords', 'lexicalPick': 'nrLetters/nrWords', 'syntacticPick': 'nrBiSyllables/nrSentences'}. \u001b[0m\n",
      "\u001b[32m[I 2021-04-29 21:44:57,598]\u001b[0m Trial 45 finished with values: [0.1164599502380258, 13.0] and parameters: {'basePick': 'nrSyllables', 'lexicalPick': 'nrSyllables/nrWords', 'syntacticPick': 'nrMonoSyllables/nrSentences'}. \u001b[0m\n",
      "\u001b[32m[I 2021-04-29 21:44:57,740]\u001b[0m Trial 46 finished with values: [0.10933354148370589, 13.0] and parameters: {'basePick': 'nrLongWords', 'lexicalPick': 'nrMonoSyllables/nrWords', 'syntacticPick': 'nrMonoSyllables/nrSentences'}. \u001b[0m\n",
      "C:\\Libraries\\anaconda3\\lib\\site-packages\\statsmodels\\discrete\\discrete_model.py:1799: RuntimeWarning: overflow encountered in exp\n",
      "  return 1/(1+np.exp(-X))\n",
      "C:\\Libraries\\anaconda3\\lib\\site-packages\\statsmodels\\discrete\\discrete_model.py:1852: RuntimeWarning: divide by zero encountered in log\n",
      "  return np.sum(np.log(self.cdf(q*np.dot(X,params))))\n",
      "\u001b[32m[I 2021-04-29 21:44:57,898]\u001b[0m Trial 47 finished with values: [0.11150070917563282, 10.0] and parameters: {'basePick': 'nrLetters', 'lexicalPick': 'nrPolySyllables/nrWords', 'syntacticPick': 'nrMonoSyllables/nrSentences'}. \u001b[0m\n",
      "\u001b[32m[I 2021-04-29 21:44:58,054]\u001b[0m Trial 48 finished with values: [0.11356419082063907, 14.0] and parameters: {'basePick': 'nrSyllables', 'lexicalPick': 'nrMonoSyllables/nrWords', 'syntacticPick': 'nrLongWords/nrSentences'}. \u001b[0m\n",
      "\u001b[32m[I 2021-04-29 21:44:58,195]\u001b[0m Trial 49 finished with values: [0.11779535186935486, 14.0] and parameters: {'basePick': 'nrMonoSyllables', 'lexicalPick': 'nrLetters/nrWords', 'syntacticPick': 'nrSyllables/nrSentences'}. \u001b[0m\n",
      "\u001b[32m[I 2021-04-29 21:44:58,355]\u001b[0m Trial 50 finished with values: [0.10859200268159408, 15.0] and parameters: {'basePick': 'nrLongWords', 'lexicalPick': 'nrLongWords/nrWords', 'syntacticPick': 'nrPolySyllables/nrSentences'}. \u001b[0m\n",
      "\u001b[32m[I 2021-04-29 21:44:58,503]\u001b[0m Trial 51 finished with values: [0.11844354409885649, 12.0] and parameters: {'basePick': 'nrMonoSyllables', 'lexicalPick': 'nrLongWords/nrWords', 'syntacticPick': 'nrWords/nrSentences'}. \u001b[0m\n",
      "\u001b[32m[I 2021-04-29 21:44:58,654]\u001b[0m Trial 52 finished with values: [0.1062655309450411, 16.0] and parameters: {'basePick': 'nrLongWords', 'lexicalPick': 'nrLetters/nrWords', 'syntacticPick': 'nrBiSyllables/nrSentences'}. \u001b[0m\n",
      "C:\\Libraries\\anaconda3\\lib\\site-packages\\statsmodels\\discrete\\discrete_model.py:1799: RuntimeWarning: overflow encountered in exp\n",
      "  return 1/(1+np.exp(-X))\n",
      "C:\\Libraries\\anaconda3\\lib\\site-packages\\statsmodels\\discrete\\discrete_model.py:1852: RuntimeWarning: divide by zero encountered in log\n",
      "  return np.sum(np.log(self.cdf(q*np.dot(X,params))))\n",
      "\u001b[32m[I 2021-04-29 21:44:58,820]\u001b[0m Trial 53 finished with values: [0.10852497166716435, 11.0] and parameters: {'basePick': 'nrLetters', 'lexicalPick': 'nrMonoSyllables/nrWords', 'syntacticPick': 'nrLetters/nrSentences'}. \u001b[0m\n",
      "\u001b[32m[I 2021-04-29 21:44:58,970]\u001b[0m Trial 54 finished with values: [0.1162547514360861, 13.0] and parameters: {'basePick': 'nrSyllables', 'lexicalPick': 'nrLetters/nrWords', 'syntacticPick': 'nrLongWords/nrSentences'}. \u001b[0m\n",
      "\u001b[32m[I 2021-04-29 21:44:59,115]\u001b[0m Trial 55 finished with values: [0.11781411535520447, 14.0] and parameters: {'basePick': 'nrMonoSyllables', 'lexicalPick': 'nrLetters/nrWords', 'syntacticPick': 'nrLongWords/nrSentences'}. \u001b[0m\n",
      "C:\\Libraries\\anaconda3\\lib\\site-packages\\statsmodels\\discrete\\discrete_model.py:1799: RuntimeWarning: overflow encountered in exp\n",
      "  return 1/(1+np.exp(-X))\n",
      "C:\\Libraries\\anaconda3\\lib\\site-packages\\statsmodels\\discrete\\discrete_model.py:1852: RuntimeWarning: divide by zero encountered in log\n",
      "  return np.sum(np.log(self.cdf(q*np.dot(X,params))))\n",
      "\u001b[32m[I 2021-04-29 21:44:59,270]\u001b[0m Trial 56 finished with values: [0.10937155560474687, 16.0] and parameters: {'basePick': 'nrLongWords', 'lexicalPick': 'nrLongWords/nrWords', 'syntacticPick': 'nrLetters/nrSentences'}. \u001b[0m\n",
      "\u001b[32m[I 2021-04-29 21:44:59,414]\u001b[0m Trial 57 finished with values: [0.10738763927853778, 14.0] and parameters: {'basePick': 'nrLongWords', 'lexicalPick': 'nrMonoSyllables/nrWords', 'syntacticPick': 'nrWords/nrSentences'}. \u001b[0m\n",
      "\u001b[32m[I 2021-04-29 21:44:59,572]\u001b[0m Trial 58 finished with values: [0.11243723469127231, 16.0] and parameters: {'basePick': 'nrLongWords', 'lexicalPick': 'nrLetters/nrWords', 'syntacticPick': 'nrMonoSyllables/nrSentences'}. \u001b[0m\n",
      "\u001b[32m[I 2021-04-29 21:44:59,714]\u001b[0m Trial 59 finished with values: [0.1162547514360861, 13.0] and parameters: {'basePick': 'nrSyllables', 'lexicalPick': 'nrLetters/nrWords', 'syntacticPick': 'nrLongWords/nrSentences'}. \u001b[0m\n",
      "\u001b[32m[I 2021-04-29 21:44:59,860]\u001b[0m Trial 60 finished with values: [0.11631810806379494, 14.0] and parameters: {'basePick': 'nrSyllables', 'lexicalPick': 'nrSyllables/nrWords', 'syntacticPick': 'nrLongWords/nrSentences'}. \u001b[0m\n",
      "\u001b[32m[I 2021-04-29 21:45:00,006]\u001b[0m Trial 61 finished with values: [0.11285760638822451, 13.0] and parameters: {'basePick': 'nrSyllables', 'lexicalPick': 'nrMonoSyllables/nrWords', 'syntacticPick': 'nrPolySyllables/nrSentences'}. \u001b[0m\n",
      "\u001b[32m[I 2021-04-29 21:45:00,173]\u001b[0m Trial 62 finished with values: [0.1162547514360861, 13.0] and parameters: {'basePick': 'nrSyllables', 'lexicalPick': 'nrLetters/nrWords', 'syntacticPick': 'nrLongWords/nrSentences'}. \u001b[0m\n",
      "\u001b[32m[I 2021-04-29 21:45:00,316]\u001b[0m Trial 63 finished with values: [0.11526448468735762, 14.0] and parameters: {'basePick': 'nrDifficultWordsDaleChall', 'lexicalPick': 'nrLetters/nrWords', 'syntacticPick': 'nrMonoSyllables/nrSentences'}. \u001b[0m\n",
      "\u001b[32m[I 2021-04-29 21:45:00,458]\u001b[0m Trial 64 finished with values: [0.11651764240880158, 13.0] and parameters: {'basePick': 'nrSyllables', 'lexicalPick': 'nrLetters/nrWords', 'syntacticPick': 'nrWords/nrSentences'}. \u001b[0m\n",
      "\u001b[32m[I 2021-04-29 21:45:00,606]\u001b[0m Trial 65 finished with values: [0.11079968216785152, 14.0] and parameters: {'basePick': 'nrLongWords', 'lexicalPick': 'nrSyllables/nrWords', 'syntacticPick': 'nrMonoSyllables/nrSentences'}. \u001b[0m\n",
      "\u001b[32m[I 2021-04-29 21:45:00,746]\u001b[0m Trial 66 finished with values: [0.11656337016466123, 12.0] and parameters: {'basePick': 'nrMonoSyllables', 'lexicalPick': 'nrMonoSyllables/nrWords', 'syntacticPick': 'nrWords/nrSentences'}. \u001b[0m\n",
      "C:\\Libraries\\anaconda3\\lib\\site-packages\\statsmodels\\discrete\\discrete_model.py:1799: RuntimeWarning: overflow encountered in exp\n",
      "  return 1/(1+np.exp(-X))\n",
      "C:\\Libraries\\anaconda3\\lib\\site-packages\\statsmodels\\discrete\\discrete_model.py:1852: RuntimeWarning: divide by zero encountered in log\n",
      "  return np.sum(np.log(self.cdf(q*np.dot(X,params))))\n",
      "\u001b[32m[I 2021-04-29 21:45:00,896]\u001b[0m Trial 67 finished with values: [0.10956793393407838, 12.0] and parameters: {'basePick': 'nrLetters', 'lexicalPick': 'nrMonoSyllables/nrWords', 'syntacticPick': 'nrLongWords/nrSentences'}. \u001b[0m\n",
      "\u001b[32m[I 2021-04-29 21:45:01,052]\u001b[0m Trial 68 finished with values: [0.11440773532168524, 13.0] and parameters: {'basePick': 'nrDifficultWordsDaleChall', 'lexicalPick': 'nrSyllables/nrWords', 'syntacticPick': 'nrMonoSyllables/nrSentences'}. \u001b[0m\n",
      "\u001b[32m[I 2021-04-29 21:45:01,200]\u001b[0m Trial 69 finished with values: [0.11697139222099762, 13.0] and parameters: {'basePick': 'nrMonoSyllables', 'lexicalPick': 'nrSyllables/nrWords', 'syntacticPick': 'nrPolySyllables/nrSentences'}. \u001b[0m\n",
      "C:\\Libraries\\anaconda3\\lib\\site-packages\\statsmodels\\discrete\\discrete_model.py:1799: RuntimeWarning: overflow encountered in exp\n",
      "  return 1/(1+np.exp(-X))\n",
      "C:\\Libraries\\anaconda3\\lib\\site-packages\\statsmodels\\discrete\\discrete_model.py:1852: RuntimeWarning: divide by zero encountered in log\n",
      "  return np.sum(np.log(self.cdf(q*np.dot(X,params))))\n",
      "\u001b[32m[I 2021-04-29 21:45:01,353]\u001b[0m Trial 70 finished with values: [0.1055619616225274, 15.0] and parameters: {'basePick': 'nrBiSyllables', 'lexicalPick': 'nrMonoSyllables/nrWords', 'syntacticPick': 'nrLetters/nrSentences'}. \u001b[0m\n",
      "\u001b[32m[I 2021-04-29 21:45:01,496]\u001b[0m Trial 71 finished with values: [0.11671642642381597, 13.0] and parameters: {'basePick': 'nrMonoSyllables', 'lexicalPick': 'nrMonoSyllables/nrWords', 'syntacticPick': 'nrLongWords/nrSentences'}. \u001b[0m\n",
      "C:\\Libraries\\anaconda3\\lib\\site-packages\\statsmodels\\discrete\\discrete_model.py:1799: RuntimeWarning: overflow encountered in exp\n",
      "  return 1/(1+np.exp(-X))\n",
      "C:\\Libraries\\anaconda3\\lib\\site-packages\\statsmodels\\discrete\\discrete_model.py:1852: RuntimeWarning: divide by zero encountered in log\n",
      "  return np.sum(np.log(self.cdf(q*np.dot(X,params))))\n",
      "\u001b[32m[I 2021-04-29 21:45:01,642]\u001b[0m Trial 72 finished with values: [0.10815508753035641, 16.0] and parameters: {'basePick': 'nrLongWords', 'lexicalPick': 'nrLetters/nrWords', 'syntacticPick': 'nrLetters/nrSentences'}. \u001b[0m\n",
      "C:\\Libraries\\anaconda3\\lib\\site-packages\\statsmodels\\discrete\\discrete_model.py:1799: RuntimeWarning: overflow encountered in exp\n",
      "  return 1/(1+np.exp(-X))\n",
      "C:\\Libraries\\anaconda3\\lib\\site-packages\\statsmodels\\discrete\\discrete_model.py:1852: RuntimeWarning: divide by zero encountered in log\n",
      "  return np.sum(np.log(self.cdf(q*np.dot(X,params))))\n",
      "\u001b[32m[I 2021-04-29 21:45:01,798]\u001b[0m Trial 73 finished with values: [0.10856090130281004, 11.0] and parameters: {'basePick': 'nrLetters', 'lexicalPick': 'nrPolySyllables/nrWords', 'syntacticPick': 'nrBiSyllables/nrSentences'}. \u001b[0m\n",
      "\u001b[32m[I 2021-04-29 21:45:01,940]\u001b[0m Trial 74 finished with values: [0.10933354148370589, 13.0] and parameters: {'basePick': 'nrLongWords', 'lexicalPick': 'nrMonoSyllables/nrWords', 'syntacticPick': 'nrMonoSyllables/nrSentences'}. \u001b[0m\n",
      "C:\\Libraries\\anaconda3\\lib\\site-packages\\statsmodels\\discrete\\discrete_model.py:1799: RuntimeWarning: overflow encountered in exp\n",
      "  return 1/(1+np.exp(-X))\n",
      "C:\\Libraries\\anaconda3\\lib\\site-packages\\statsmodels\\discrete\\discrete_model.py:1852: RuntimeWarning: divide by zero encountered in log\n",
      "  return np.sum(np.log(self.cdf(q*np.dot(X,params))))\n",
      "\u001b[32m[I 2021-04-29 21:45:02,092]\u001b[0m Trial 75 finished with values: [0.11679836606463168, 14.0] and parameters: {'basePick': 'nrLetters', 'lexicalPick': 'nrLetters/nrWords', 'syntacticPick': 'nrMonoSyllables/nrSentences'}. \u001b[0m\n",
      "\u001b[32m[I 2021-04-29 21:45:02,252]\u001b[0m Trial 76 finished with values: [0.11651764240880158, 13.0] and parameters: {'basePick': 'nrSyllables', 'lexicalPick': 'nrLetters/nrWords', 'syntacticPick': 'nrWords/nrSentences'}. \u001b[0m\n",
      "\u001b[32m[I 2021-04-29 21:45:02,398]\u001b[0m Trial 77 finished with values: [0.11265047621103175, 13.0] and parameters: {'basePick': 'nrLongWords', 'lexicalPick': 'nrLongWords/nrWords', 'syntacticPick': 'nrWords/nrSentences'}. \u001b[0m\n",
      "C:\\Libraries\\anaconda3\\lib\\site-packages\\statsmodels\\discrete\\discrete_model.py:1799: RuntimeWarning: overflow encountered in exp\n",
      "  return 1/(1+np.exp(-X))\n",
      "C:\\Libraries\\anaconda3\\lib\\site-packages\\statsmodels\\discrete\\discrete_model.py:1852: RuntimeWarning: divide by zero encountered in log\n",
      "  return np.sum(np.log(self.cdf(q*np.dot(X,params))))\n",
      "\u001b[32m[I 2021-04-29 21:45:02,553]\u001b[0m Trial 78 finished with values: [0.1086814702495551, 11.0] and parameters: {'basePick': 'nrLetters', 'lexicalPick': 'nrMonoSyllables/nrWords', 'syntacticPick': 'nrSyllables/nrSentences'}. \u001b[0m\n",
      "\u001b[32m[I 2021-04-29 21:45:02,700]\u001b[0m Trial 79 finished with values: [0.1040147424404253, 12.0] and parameters: {'basePick': 'nrLongWords', 'lexicalPick': 'nrMonoSyllables/nrWords', 'syntacticPick': 'nrSyllables/nrSentences'}. \u001b[0m\n",
      "\u001b[32m[I 2021-04-29 21:45:02,845]\u001b[0m Trial 80 finished with values: [0.11056107820593719, 14.0] and parameters: {'basePick': 'nrDifficultWordsDaleChall', 'lexicalPick': 'nrMonoSyllables/nrWords', 'syntacticPick': 'nrLongWords/nrSentences'}. \u001b[0m\n",
      "\u001b[32m[I 2021-04-29 21:45:02,990]\u001b[0m Trial 81 finished with values: [0.11631810806379494, 14.0] and parameters: {'basePick': 'nrSyllables', 'lexicalPick': 'nrSyllables/nrWords', 'syntacticPick': 'nrLongWords/nrSentences'}. \u001b[0m\n",
      "C:\\Libraries\\anaconda3\\lib\\site-packages\\statsmodels\\discrete\\discrete_model.py:1799: RuntimeWarning: overflow encountered in exp\n",
      "  return 1/(1+np.exp(-X))\n",
      "C:\\Libraries\\anaconda3\\lib\\site-packages\\statsmodels\\discrete\\discrete_model.py:1852: RuntimeWarning: divide by zero encountered in log\n",
      "  return np.sum(np.log(self.cdf(q*np.dot(X,params))))\n",
      "\u001b[32m[I 2021-04-29 21:45:03,149]\u001b[0m Trial 82 finished with values: [0.10937155560474687, 16.0] and parameters: {'basePick': 'nrLongWords', 'lexicalPick': 'nrLongWords/nrWords', 'syntacticPick': 'nrLetters/nrSentences'}. \u001b[0m\n",
      "\u001b[32m[I 2021-04-29 21:45:03,298]\u001b[0m Trial 83 finished with values: [0.11148359617579673, 13.0] and parameters: {'basePick': 'nrBiSyllables', 'lexicalPick': 'nrLongWords/nrWords', 'syntacticPick': 'nrWords/nrSentences'}. \u001b[0m\n",
      "\u001b[32m[I 2021-04-29 21:45:03,448]\u001b[0m Trial 84 finished with values: [0.1162547514360861, 13.0] and parameters: {'basePick': 'nrSyllables', 'lexicalPick': 'nrLetters/nrWords', 'syntacticPick': 'nrLongWords/nrSentences'}. \u001b[0m\n",
      "\u001b[32m[I 2021-04-29 21:45:03,590]\u001b[0m Trial 85 finished with values: [0.11651764240880158, 13.0] and parameters: {'basePick': 'nrSyllables', 'lexicalPick': 'nrLetters/nrWords', 'syntacticPick': 'nrWords/nrSentences'}. \u001b[0m\n",
      "\u001b[32m[I 2021-04-29 21:45:03,742]\u001b[0m Trial 86 finished with values: [0.11356419082063907, 14.0] and parameters: {'basePick': 'nrSyllables', 'lexicalPick': 'nrMonoSyllables/nrWords', 'syntacticPick': 'nrLongWords/nrSentences'}. \u001b[0m\n",
      "\u001b[32m[I 2021-04-29 21:45:03,885]\u001b[0m Trial 87 finished with values: [0.11697675899508175, 14.0] and parameters: {'basePick': 'nrMonoSyllables', 'lexicalPick': 'nrSyllables/nrWords', 'syntacticPick': 'nrSyllables/nrSentences'}. \u001b[0m\n",
      "\u001b[32m[I 2021-04-29 21:45:04,022]\u001b[0m Trial 88 finished with values: [0.10919380256487965, 12.0] and parameters: {'basePick': 'nrBiSyllables', 'lexicalPick': 'nrPolySyllables/nrWords', 'syntacticPick': 'nrWords/nrSentences'}. \u001b[0m\n",
      "C:\\Libraries\\anaconda3\\lib\\site-packages\\statsmodels\\discrete\\discrete_model.py:1799: RuntimeWarning: overflow encountered in exp\n",
      "  return 1/(1+np.exp(-X))\n",
      "C:\\Libraries\\anaconda3\\lib\\site-packages\\statsmodels\\discrete\\discrete_model.py:1852: RuntimeWarning: divide by zero encountered in log\n",
      "  return np.sum(np.log(self.cdf(q*np.dot(X,params))))\n",
      "\u001b[32m[I 2021-04-29 21:45:04,224]\u001b[0m Trial 89 finished with values: [0.11420407083218698, 12.0] and parameters: {'basePick': 'nrLetters', 'lexicalPick': 'nrLongWords/nrWords', 'syntacticPick': 'nrWords/nrSentences'}. \u001b[0m\n",
      "\u001b[32m[I 2021-04-29 21:45:04,373]\u001b[0m Trial 90 finished with values: [0.1062655309450411, 16.0] and parameters: {'basePick': 'nrLongWords', 'lexicalPick': 'nrLetters/nrWords', 'syntacticPick': 'nrBiSyllables/nrSentences'}. \u001b[0m\n",
      "C:\\Libraries\\anaconda3\\lib\\site-packages\\statsmodels\\discrete\\discrete_model.py:1799: RuntimeWarning: overflow encountered in exp\n",
      "  return 1/(1+np.exp(-X))\n",
      "C:\\Libraries\\anaconda3\\lib\\site-packages\\statsmodels\\discrete\\discrete_model.py:1852: RuntimeWarning: divide by zero encountered in log\n",
      "  return np.sum(np.log(self.cdf(q*np.dot(X,params))))\n",
      "\u001b[32m[I 2021-04-29 21:45:04,545]\u001b[0m Trial 91 finished with values: [0.10956793393407838, 12.0] and parameters: {'basePick': 'nrLetters', 'lexicalPick': 'nrMonoSyllables/nrWords', 'syntacticPick': 'nrLongWords/nrSentences'}. \u001b[0m\n",
      "C:\\Libraries\\anaconda3\\lib\\site-packages\\statsmodels\\discrete\\discrete_model.py:1799: RuntimeWarning: overflow encountered in exp\n",
      "  return 1/(1+np.exp(-X))\n",
      "C:\\Libraries\\anaconda3\\lib\\site-packages\\statsmodels\\discrete\\discrete_model.py:1852: RuntimeWarning: divide by zero encountered in log\n",
      "  return np.sum(np.log(self.cdf(q*np.dot(X,params))))\n",
      "\u001b[32m[I 2021-04-29 21:45:04,713]\u001b[0m Trial 92 finished with values: [0.1129917569014306, 12.0] and parameters: {'basePick': 'nrLetters', 'lexicalPick': 'nrLongWords/nrWords', 'syntacticPick': 'nrPolySyllables/nrSentences'}. \u001b[0m\n",
      "\u001b[32m[I 2021-04-29 21:45:04,860]\u001b[0m Trial 93 finished with values: [0.11671642642381597, 13.0] and parameters: {'basePick': 'nrMonoSyllables', 'lexicalPick': 'nrMonoSyllables/nrWords', 'syntacticPick': 'nrLongWords/nrSentences'}. \u001b[0m\n",
      "C:\\Libraries\\anaconda3\\lib\\site-packages\\statsmodels\\discrete\\discrete_model.py:1799: RuntimeWarning: overflow encountered in exp\n",
      "  return 1/(1+np.exp(-X))\n",
      "C:\\Libraries\\anaconda3\\lib\\site-packages\\statsmodels\\discrete\\discrete_model.py:1852: RuntimeWarning: divide by zero encountered in log\n",
      "  return np.sum(np.log(self.cdf(q*np.dot(X,params))))\n",
      "\u001b[32m[I 2021-04-29 21:45:05,007]\u001b[0m Trial 94 finished with values: [0.11652905347328157, 12.0] and parameters: {'basePick': 'nrMonoSyllables', 'lexicalPick': 'nrMonoSyllables/nrWords', 'syntacticPick': 'nrLetters/nrSentences'}. \u001b[0m\n",
      "\u001b[32m[I 2021-04-29 21:45:05,161]\u001b[0m Trial 95 finished with values: [0.11697675899508175, 14.0] and parameters: {'basePick': 'nrMonoSyllables', 'lexicalPick': 'nrSyllables/nrWords', 'syntacticPick': 'nrSyllables/nrSentences'}. \u001b[0m\n",
      "\u001b[32m[I 2021-04-29 21:45:05,305]\u001b[0m Trial 96 finished with values: [0.11212182857120412, 16.0] and parameters: {'basePick': 'nrDifficultWordsDaleChall', 'lexicalPick': 'nrLetters/nrWords', 'syntacticPick': 'nrLongWords/nrSentences'}. \u001b[0m\n",
      "C:\\Libraries\\anaconda3\\lib\\site-packages\\statsmodels\\discrete\\discrete_model.py:1799: RuntimeWarning: overflow encountered in exp\n",
      "  return 1/(1+np.exp(-X))\n",
      "C:\\Libraries\\anaconda3\\lib\\site-packages\\statsmodels\\discrete\\discrete_model.py:1852: RuntimeWarning: divide by zero encountered in log\n",
      "  return np.sum(np.log(self.cdf(q*np.dot(X,params))))\n",
      "\u001b[32m[I 2021-04-29 21:45:05,462]\u001b[0m Trial 97 finished with values: [0.1084666410516868, 11.0] and parameters: {'basePick': 'nrLetters', 'lexicalPick': 'nrMonoSyllables/nrWords', 'syntacticPick': 'nrPolySyllables/nrSentences'}. \u001b[0m\n",
      "\u001b[32m[I 2021-04-29 21:45:05,619]\u001b[0m Trial 98 finished with values: [0.11671401097128997, 13.0] and parameters: {'basePick': 'nrMonoSyllables', 'lexicalPick': 'nrPolySyllables/nrWords', 'syntacticPick': 'nrMonoSyllables/nrSentences'}. \u001b[0m\n",
      "\u001b[32m[I 2021-04-29 21:45:05,775]\u001b[0m Trial 99 finished with values: [0.10738763927853778, 14.0] and parameters: {'basePick': 'nrLongWords', 'lexicalPick': 'nrMonoSyllables/nrWords', 'syntacticPick': 'nrWords/nrSentences'}. \u001b[0m\n"
     ]
    }
   ],
   "source": [
    "study.optimize(objective, n_trials=100)"
   ]
  },
  {
   "cell_type": "code",
   "execution_count": 7,
   "metadata": {},
   "outputs": [],
   "source": [
    "pickle.dump(study, open(f'./data/{dataset}/Dimensions-Optuna.pickle', mode='wb'))"
   ]
  },
  {
   "cell_type": "code",
   "execution_count": 8,
   "metadata": {},
   "outputs": [],
   "source": [
    "trials = study.best_trials\n",
    "bests = pd.DataFrame()\n",
    "bests['params'] = pd.Series([x.params for x in trials])\n",
    "bests['r2'] = pd.Series([x.values[0] for x in trials])\n",
    "bests['coefs'] = pd.Series([x.values[1] for x in trials])"
   ]
  },
  {
   "cell_type": "code",
   "execution_count": 9,
   "metadata": {},
   "outputs": [
    {
     "output_type": "stream",
     "name": "stdout",
     "text": [
      "{'basePick': 'nrMonoSyllables', 'lexicalPick': 'nrLongWords/nrWords', 'syntacticPick': 'nrWords/nrSentences'}\n0.11844354409885649\n12.0\n{'basePick': 'nrLongWords', 'lexicalPick': 'nrLetters/nrWords', 'syntacticPick': 'nrMonoSyllables/nrSentences'}\n0.11243723469127231\n16.0\n"
     ]
    }
   ],
   "source": [
    "bestR2 = bests.iloc[bests['r2'].idxmax()]\n",
    "print(bestR2['params'])\n",
    "print(bestR2['r2'])\n",
    "print(bestR2['coefs'])\n",
    "bestCoefs = bests.iloc[bests['coefs'].idxmax()]\n",
    "print(bestCoefs['params'])\n",
    "print(bestCoefs['r2'])\n",
    "print(bestCoefs['coefs'])\n",
    "\n",
    "b2 = bests[bests['r2'] > 0.14]"
   ]
  },
  {
   "cell_type": "code",
   "execution_count": 10,
   "metadata": {},
   "outputs": [],
   "source": [
    "pickedDimensions = pickedBase + list(bestCoefs['params'].values())"
   ]
  },
  {
   "cell_type": "code",
   "execution_count": 11,
   "metadata": {},
   "outputs": [],
   "source": [
    "saveSet('./data/Dimensions-Picked-Final.txt', pickedDimensions)"
   ]
  },
  {
   "cell_type": "code",
   "execution_count": 12,
   "metadata": {},
   "outputs": [
    {
     "output_type": "display_data",
     "data": {
      "application/vnd.plotly.v1+json": {
       "config": {
        "plotlyServerURL": "https://plot.ly"
       },
       "data": [
        {
         "cliponaxis": false,
         "hovertemplate": [
          "syntacticPick (CategoricalDistribution): 0.06654471739236376<extra></extra>",
          "lexicalPick (CategoricalDistribution): 0.08108460451050556<extra></extra>",
          "basePick (CategoricalDistribution): 0.8523706780971306<extra></extra>"
         ],
         "marker": {
          "color": [
           "rgb(66,146,198)",
           "rgb(66,146,198)",
           "rgb(66,146,198)"
          ]
         },
         "orientation": "h",
         "text": [
          "0.06654471739236376",
          "0.08108460451050556",
          "0.8523706780971306"
         ],
         "textposition": "outside",
         "texttemplate": "%{text:.2f}",
         "type": "bar",
         "x": [
          0.06654471739236376,
          0.08108460451050556,
          0.8523706780971306
         ],
         "y": [
          "syntacticPick",
          "lexicalPick",
          "basePick"
         ]
        }
       ],
       "layout": {
        "showlegend": false,
        "template": {
         "data": {
          "bar": [
           {
            "error_x": {
             "color": "#2a3f5f"
            },
            "error_y": {
             "color": "#2a3f5f"
            },
            "marker": {
             "line": {
              "color": "#E5ECF6",
              "width": 0.5
             }
            },
            "type": "bar"
           }
          ],
          "barpolar": [
           {
            "marker": {
             "line": {
              "color": "#E5ECF6",
              "width": 0.5
             }
            },
            "type": "barpolar"
           }
          ],
          "carpet": [
           {
            "aaxis": {
             "endlinecolor": "#2a3f5f",
             "gridcolor": "white",
             "linecolor": "white",
             "minorgridcolor": "white",
             "startlinecolor": "#2a3f5f"
            },
            "baxis": {
             "endlinecolor": "#2a3f5f",
             "gridcolor": "white",
             "linecolor": "white",
             "minorgridcolor": "white",
             "startlinecolor": "#2a3f5f"
            },
            "type": "carpet"
           }
          ],
          "choropleth": [
           {
            "colorbar": {
             "outlinewidth": 0,
             "ticks": ""
            },
            "type": "choropleth"
           }
          ],
          "contour": [
           {
            "colorbar": {
             "outlinewidth": 0,
             "ticks": ""
            },
            "colorscale": [
             [
              0,
              "#0d0887"
             ],
             [
              0.1111111111111111,
              "#46039f"
             ],
             [
              0.2222222222222222,
              "#7201a8"
             ],
             [
              0.3333333333333333,
              "#9c179e"
             ],
             [
              0.4444444444444444,
              "#bd3786"
             ],
             [
              0.5555555555555556,
              "#d8576b"
             ],
             [
              0.6666666666666666,
              "#ed7953"
             ],
             [
              0.7777777777777778,
              "#fb9f3a"
             ],
             [
              0.8888888888888888,
              "#fdca26"
             ],
             [
              1,
              "#f0f921"
             ]
            ],
            "type": "contour"
           }
          ],
          "contourcarpet": [
           {
            "colorbar": {
             "outlinewidth": 0,
             "ticks": ""
            },
            "type": "contourcarpet"
           }
          ],
          "heatmap": [
           {
            "colorbar": {
             "outlinewidth": 0,
             "ticks": ""
            },
            "colorscale": [
             [
              0,
              "#0d0887"
             ],
             [
              0.1111111111111111,
              "#46039f"
             ],
             [
              0.2222222222222222,
              "#7201a8"
             ],
             [
              0.3333333333333333,
              "#9c179e"
             ],
             [
              0.4444444444444444,
              "#bd3786"
             ],
             [
              0.5555555555555556,
              "#d8576b"
             ],
             [
              0.6666666666666666,
              "#ed7953"
             ],
             [
              0.7777777777777778,
              "#fb9f3a"
             ],
             [
              0.8888888888888888,
              "#fdca26"
             ],
             [
              1,
              "#f0f921"
             ]
            ],
            "type": "heatmap"
           }
          ],
          "heatmapgl": [
           {
            "colorbar": {
             "outlinewidth": 0,
             "ticks": ""
            },
            "colorscale": [
             [
              0,
              "#0d0887"
             ],
             [
              0.1111111111111111,
              "#46039f"
             ],
             [
              0.2222222222222222,
              "#7201a8"
             ],
             [
              0.3333333333333333,
              "#9c179e"
             ],
             [
              0.4444444444444444,
              "#bd3786"
             ],
             [
              0.5555555555555556,
              "#d8576b"
             ],
             [
              0.6666666666666666,
              "#ed7953"
             ],
             [
              0.7777777777777778,
              "#fb9f3a"
             ],
             [
              0.8888888888888888,
              "#fdca26"
             ],
             [
              1,
              "#f0f921"
             ]
            ],
            "type": "heatmapgl"
           }
          ],
          "histogram": [
           {
            "marker": {
             "colorbar": {
              "outlinewidth": 0,
              "ticks": ""
             }
            },
            "type": "histogram"
           }
          ],
          "histogram2d": [
           {
            "colorbar": {
             "outlinewidth": 0,
             "ticks": ""
            },
            "colorscale": [
             [
              0,
              "#0d0887"
             ],
             [
              0.1111111111111111,
              "#46039f"
             ],
             [
              0.2222222222222222,
              "#7201a8"
             ],
             [
              0.3333333333333333,
              "#9c179e"
             ],
             [
              0.4444444444444444,
              "#bd3786"
             ],
             [
              0.5555555555555556,
              "#d8576b"
             ],
             [
              0.6666666666666666,
              "#ed7953"
             ],
             [
              0.7777777777777778,
              "#fb9f3a"
             ],
             [
              0.8888888888888888,
              "#fdca26"
             ],
             [
              1,
              "#f0f921"
             ]
            ],
            "type": "histogram2d"
           }
          ],
          "histogram2dcontour": [
           {
            "colorbar": {
             "outlinewidth": 0,
             "ticks": ""
            },
            "colorscale": [
             [
              0,
              "#0d0887"
             ],
             [
              0.1111111111111111,
              "#46039f"
             ],
             [
              0.2222222222222222,
              "#7201a8"
             ],
             [
              0.3333333333333333,
              "#9c179e"
             ],
             [
              0.4444444444444444,
              "#bd3786"
             ],
             [
              0.5555555555555556,
              "#d8576b"
             ],
             [
              0.6666666666666666,
              "#ed7953"
             ],
             [
              0.7777777777777778,
              "#fb9f3a"
             ],
             [
              0.8888888888888888,
              "#fdca26"
             ],
             [
              1,
              "#f0f921"
             ]
            ],
            "type": "histogram2dcontour"
           }
          ],
          "mesh3d": [
           {
            "colorbar": {
             "outlinewidth": 0,
             "ticks": ""
            },
            "type": "mesh3d"
           }
          ],
          "parcoords": [
           {
            "line": {
             "colorbar": {
              "outlinewidth": 0,
              "ticks": ""
             }
            },
            "type": "parcoords"
           }
          ],
          "pie": [
           {
            "automargin": true,
            "type": "pie"
           }
          ],
          "scatter": [
           {
            "marker": {
             "colorbar": {
              "outlinewidth": 0,
              "ticks": ""
             }
            },
            "type": "scatter"
           }
          ],
          "scatter3d": [
           {
            "line": {
             "colorbar": {
              "outlinewidth": 0,
              "ticks": ""
             }
            },
            "marker": {
             "colorbar": {
              "outlinewidth": 0,
              "ticks": ""
             }
            },
            "type": "scatter3d"
           }
          ],
          "scattercarpet": [
           {
            "marker": {
             "colorbar": {
              "outlinewidth": 0,
              "ticks": ""
             }
            },
            "type": "scattercarpet"
           }
          ],
          "scattergeo": [
           {
            "marker": {
             "colorbar": {
              "outlinewidth": 0,
              "ticks": ""
             }
            },
            "type": "scattergeo"
           }
          ],
          "scattergl": [
           {
            "marker": {
             "colorbar": {
              "outlinewidth": 0,
              "ticks": ""
             }
            },
            "type": "scattergl"
           }
          ],
          "scattermapbox": [
           {
            "marker": {
             "colorbar": {
              "outlinewidth": 0,
              "ticks": ""
             }
            },
            "type": "scattermapbox"
           }
          ],
          "scatterpolar": [
           {
            "marker": {
             "colorbar": {
              "outlinewidth": 0,
              "ticks": ""
             }
            },
            "type": "scatterpolar"
           }
          ],
          "scatterpolargl": [
           {
            "marker": {
             "colorbar": {
              "outlinewidth": 0,
              "ticks": ""
             }
            },
            "type": "scatterpolargl"
           }
          ],
          "scatterternary": [
           {
            "marker": {
             "colorbar": {
              "outlinewidth": 0,
              "ticks": ""
             }
            },
            "type": "scatterternary"
           }
          ],
          "surface": [
           {
            "colorbar": {
             "outlinewidth": 0,
             "ticks": ""
            },
            "colorscale": [
             [
              0,
              "#0d0887"
             ],
             [
              0.1111111111111111,
              "#46039f"
             ],
             [
              0.2222222222222222,
              "#7201a8"
             ],
             [
              0.3333333333333333,
              "#9c179e"
             ],
             [
              0.4444444444444444,
              "#bd3786"
             ],
             [
              0.5555555555555556,
              "#d8576b"
             ],
             [
              0.6666666666666666,
              "#ed7953"
             ],
             [
              0.7777777777777778,
              "#fb9f3a"
             ],
             [
              0.8888888888888888,
              "#fdca26"
             ],
             [
              1,
              "#f0f921"
             ]
            ],
            "type": "surface"
           }
          ],
          "table": [
           {
            "cells": {
             "fill": {
              "color": "#EBF0F8"
             },
             "line": {
              "color": "white"
             }
            },
            "header": {
             "fill": {
              "color": "#C8D4E3"
             },
             "line": {
              "color": "white"
             }
            },
            "type": "table"
           }
          ]
         },
         "layout": {
          "annotationdefaults": {
           "arrowcolor": "#2a3f5f",
           "arrowhead": 0,
           "arrowwidth": 1
          },
          "autotypenumbers": "strict",
          "coloraxis": {
           "colorbar": {
            "outlinewidth": 0,
            "ticks": ""
           }
          },
          "colorscale": {
           "diverging": [
            [
             0,
             "#8e0152"
            ],
            [
             0.1,
             "#c51b7d"
            ],
            [
             0.2,
             "#de77ae"
            ],
            [
             0.3,
             "#f1b6da"
            ],
            [
             0.4,
             "#fde0ef"
            ],
            [
             0.5,
             "#f7f7f7"
            ],
            [
             0.6,
             "#e6f5d0"
            ],
            [
             0.7,
             "#b8e186"
            ],
            [
             0.8,
             "#7fbc41"
            ],
            [
             0.9,
             "#4d9221"
            ],
            [
             1,
             "#276419"
            ]
           ],
           "sequential": [
            [
             0,
             "#0d0887"
            ],
            [
             0.1111111111111111,
             "#46039f"
            ],
            [
             0.2222222222222222,
             "#7201a8"
            ],
            [
             0.3333333333333333,
             "#9c179e"
            ],
            [
             0.4444444444444444,
             "#bd3786"
            ],
            [
             0.5555555555555556,
             "#d8576b"
            ],
            [
             0.6666666666666666,
             "#ed7953"
            ],
            [
             0.7777777777777778,
             "#fb9f3a"
            ],
            [
             0.8888888888888888,
             "#fdca26"
            ],
            [
             1,
             "#f0f921"
            ]
           ],
           "sequentialminus": [
            [
             0,
             "#0d0887"
            ],
            [
             0.1111111111111111,
             "#46039f"
            ],
            [
             0.2222222222222222,
             "#7201a8"
            ],
            [
             0.3333333333333333,
             "#9c179e"
            ],
            [
             0.4444444444444444,
             "#bd3786"
            ],
            [
             0.5555555555555556,
             "#d8576b"
            ],
            [
             0.6666666666666666,
             "#ed7953"
            ],
            [
             0.7777777777777778,
             "#fb9f3a"
            ],
            [
             0.8888888888888888,
             "#fdca26"
            ],
            [
             1,
             "#f0f921"
            ]
           ]
          },
          "colorway": [
           "#636efa",
           "#EF553B",
           "#00cc96",
           "#ab63fa",
           "#FFA15A",
           "#19d3f3",
           "#FF6692",
           "#B6E880",
           "#FF97FF",
           "#FECB52"
          ],
          "font": {
           "color": "#2a3f5f"
          },
          "geo": {
           "bgcolor": "white",
           "lakecolor": "white",
           "landcolor": "#E5ECF6",
           "showlakes": true,
           "showland": true,
           "subunitcolor": "white"
          },
          "hoverlabel": {
           "align": "left"
          },
          "hovermode": "closest",
          "mapbox": {
           "style": "light"
          },
          "paper_bgcolor": "white",
          "plot_bgcolor": "#E5ECF6",
          "polar": {
           "angularaxis": {
            "gridcolor": "white",
            "linecolor": "white",
            "ticks": ""
           },
           "bgcolor": "#E5ECF6",
           "radialaxis": {
            "gridcolor": "white",
            "linecolor": "white",
            "ticks": ""
           }
          },
          "scene": {
           "xaxis": {
            "backgroundcolor": "#E5ECF6",
            "gridcolor": "white",
            "gridwidth": 2,
            "linecolor": "white",
            "showbackground": true,
            "ticks": "",
            "zerolinecolor": "white"
           },
           "yaxis": {
            "backgroundcolor": "#E5ECF6",
            "gridcolor": "white",
            "gridwidth": 2,
            "linecolor": "white",
            "showbackground": true,
            "ticks": "",
            "zerolinecolor": "white"
           },
           "zaxis": {
            "backgroundcolor": "#E5ECF6",
            "gridcolor": "white",
            "gridwidth": 2,
            "linecolor": "white",
            "showbackground": true,
            "ticks": "",
            "zerolinecolor": "white"
           }
          },
          "shapedefaults": {
           "line": {
            "color": "#2a3f5f"
           }
          },
          "ternary": {
           "aaxis": {
            "gridcolor": "white",
            "linecolor": "white",
            "ticks": ""
           },
           "baxis": {
            "gridcolor": "white",
            "linecolor": "white",
            "ticks": ""
           },
           "bgcolor": "#E5ECF6",
           "caxis": {
            "gridcolor": "white",
            "linecolor": "white",
            "ticks": ""
           }
          },
          "title": {
           "x": 0.05
          },
          "xaxis": {
           "automargin": true,
           "gridcolor": "white",
           "linecolor": "white",
           "ticks": "",
           "title": {
            "standoff": 15
           },
           "zerolinecolor": "white",
           "zerolinewidth": 2
          },
          "yaxis": {
           "automargin": true,
           "gridcolor": "white",
           "linecolor": "white",
           "ticks": "",
           "title": {
            "standoff": 15
           },
           "zerolinecolor": "white",
           "zerolinewidth": 2
          }
         }
        },
        "title": {
         "text": "Hyperparameter Importances"
        },
        "xaxis": {
         "title": {
          "text": "Importance for R2"
         }
        },
        "yaxis": {
         "title": {
          "text": "Hyperparameter"
         }
        }
       }
      }
     },
     "metadata": {}
    }
   ],
   "source": [
    "fig = optuna.visualization.plot_param_importances(study, target=lambda x: x.values[0], target_name=\"R2\")\n",
    "fig.show()"
   ]
  },
  {
   "cell_type": "code",
   "execution_count": 13,
   "metadata": {},
   "outputs": [
    {
     "output_type": "display_data",
     "data": {
      "application/vnd.plotly.v1+json": {
       "config": {
        "plotlyServerURL": "https://plot.ly"
       },
       "data": [
        {
         "cliponaxis": false,
         "hovertemplate": [
          "syntacticPick (CategoricalDistribution): 0.15522204463656153<extra></extra>",
          "lexicalPick (CategoricalDistribution): 0.36230585107195484<extra></extra>",
          "basePick (CategoricalDistribution): 0.4824721042914835<extra></extra>"
         ],
         "marker": {
          "color": [
           "rgb(66,146,198)",
           "rgb(66,146,198)",
           "rgb(66,146,198)"
          ]
         },
         "orientation": "h",
         "text": [
          "0.15522204463656153",
          "0.36230585107195484",
          "0.4824721042914835"
         ],
         "textposition": "outside",
         "texttemplate": "%{text:.2f}",
         "type": "bar",
         "x": [
          0.15522204463656153,
          0.36230585107195484,
          0.4824721042914835
         ],
         "y": [
          "syntacticPick",
          "lexicalPick",
          "basePick"
         ]
        }
       ],
       "layout": {
        "showlegend": false,
        "template": {
         "data": {
          "bar": [
           {
            "error_x": {
             "color": "#2a3f5f"
            },
            "error_y": {
             "color": "#2a3f5f"
            },
            "marker": {
             "line": {
              "color": "#E5ECF6",
              "width": 0.5
             }
            },
            "type": "bar"
           }
          ],
          "barpolar": [
           {
            "marker": {
             "line": {
              "color": "#E5ECF6",
              "width": 0.5
             }
            },
            "type": "barpolar"
           }
          ],
          "carpet": [
           {
            "aaxis": {
             "endlinecolor": "#2a3f5f",
             "gridcolor": "white",
             "linecolor": "white",
             "minorgridcolor": "white",
             "startlinecolor": "#2a3f5f"
            },
            "baxis": {
             "endlinecolor": "#2a3f5f",
             "gridcolor": "white",
             "linecolor": "white",
             "minorgridcolor": "white",
             "startlinecolor": "#2a3f5f"
            },
            "type": "carpet"
           }
          ],
          "choropleth": [
           {
            "colorbar": {
             "outlinewidth": 0,
             "ticks": ""
            },
            "type": "choropleth"
           }
          ],
          "contour": [
           {
            "colorbar": {
             "outlinewidth": 0,
             "ticks": ""
            },
            "colorscale": [
             [
              0,
              "#0d0887"
             ],
             [
              0.1111111111111111,
              "#46039f"
             ],
             [
              0.2222222222222222,
              "#7201a8"
             ],
             [
              0.3333333333333333,
              "#9c179e"
             ],
             [
              0.4444444444444444,
              "#bd3786"
             ],
             [
              0.5555555555555556,
              "#d8576b"
             ],
             [
              0.6666666666666666,
              "#ed7953"
             ],
             [
              0.7777777777777778,
              "#fb9f3a"
             ],
             [
              0.8888888888888888,
              "#fdca26"
             ],
             [
              1,
              "#f0f921"
             ]
            ],
            "type": "contour"
           }
          ],
          "contourcarpet": [
           {
            "colorbar": {
             "outlinewidth": 0,
             "ticks": ""
            },
            "type": "contourcarpet"
           }
          ],
          "heatmap": [
           {
            "colorbar": {
             "outlinewidth": 0,
             "ticks": ""
            },
            "colorscale": [
             [
              0,
              "#0d0887"
             ],
             [
              0.1111111111111111,
              "#46039f"
             ],
             [
              0.2222222222222222,
              "#7201a8"
             ],
             [
              0.3333333333333333,
              "#9c179e"
             ],
             [
              0.4444444444444444,
              "#bd3786"
             ],
             [
              0.5555555555555556,
              "#d8576b"
             ],
             [
              0.6666666666666666,
              "#ed7953"
             ],
             [
              0.7777777777777778,
              "#fb9f3a"
             ],
             [
              0.8888888888888888,
              "#fdca26"
             ],
             [
              1,
              "#f0f921"
             ]
            ],
            "type": "heatmap"
           }
          ],
          "heatmapgl": [
           {
            "colorbar": {
             "outlinewidth": 0,
             "ticks": ""
            },
            "colorscale": [
             [
              0,
              "#0d0887"
             ],
             [
              0.1111111111111111,
              "#46039f"
             ],
             [
              0.2222222222222222,
              "#7201a8"
             ],
             [
              0.3333333333333333,
              "#9c179e"
             ],
             [
              0.4444444444444444,
              "#bd3786"
             ],
             [
              0.5555555555555556,
              "#d8576b"
             ],
             [
              0.6666666666666666,
              "#ed7953"
             ],
             [
              0.7777777777777778,
              "#fb9f3a"
             ],
             [
              0.8888888888888888,
              "#fdca26"
             ],
             [
              1,
              "#f0f921"
             ]
            ],
            "type": "heatmapgl"
           }
          ],
          "histogram": [
           {
            "marker": {
             "colorbar": {
              "outlinewidth": 0,
              "ticks": ""
             }
            },
            "type": "histogram"
           }
          ],
          "histogram2d": [
           {
            "colorbar": {
             "outlinewidth": 0,
             "ticks": ""
            },
            "colorscale": [
             [
              0,
              "#0d0887"
             ],
             [
              0.1111111111111111,
              "#46039f"
             ],
             [
              0.2222222222222222,
              "#7201a8"
             ],
             [
              0.3333333333333333,
              "#9c179e"
             ],
             [
              0.4444444444444444,
              "#bd3786"
             ],
             [
              0.5555555555555556,
              "#d8576b"
             ],
             [
              0.6666666666666666,
              "#ed7953"
             ],
             [
              0.7777777777777778,
              "#fb9f3a"
             ],
             [
              0.8888888888888888,
              "#fdca26"
             ],
             [
              1,
              "#f0f921"
             ]
            ],
            "type": "histogram2d"
           }
          ],
          "histogram2dcontour": [
           {
            "colorbar": {
             "outlinewidth": 0,
             "ticks": ""
            },
            "colorscale": [
             [
              0,
              "#0d0887"
             ],
             [
              0.1111111111111111,
              "#46039f"
             ],
             [
              0.2222222222222222,
              "#7201a8"
             ],
             [
              0.3333333333333333,
              "#9c179e"
             ],
             [
              0.4444444444444444,
              "#bd3786"
             ],
             [
              0.5555555555555556,
              "#d8576b"
             ],
             [
              0.6666666666666666,
              "#ed7953"
             ],
             [
              0.7777777777777778,
              "#fb9f3a"
             ],
             [
              0.8888888888888888,
              "#fdca26"
             ],
             [
              1,
              "#f0f921"
             ]
            ],
            "type": "histogram2dcontour"
           }
          ],
          "mesh3d": [
           {
            "colorbar": {
             "outlinewidth": 0,
             "ticks": ""
            },
            "type": "mesh3d"
           }
          ],
          "parcoords": [
           {
            "line": {
             "colorbar": {
              "outlinewidth": 0,
              "ticks": ""
             }
            },
            "type": "parcoords"
           }
          ],
          "pie": [
           {
            "automargin": true,
            "type": "pie"
           }
          ],
          "scatter": [
           {
            "marker": {
             "colorbar": {
              "outlinewidth": 0,
              "ticks": ""
             }
            },
            "type": "scatter"
           }
          ],
          "scatter3d": [
           {
            "line": {
             "colorbar": {
              "outlinewidth": 0,
              "ticks": ""
             }
            },
            "marker": {
             "colorbar": {
              "outlinewidth": 0,
              "ticks": ""
             }
            },
            "type": "scatter3d"
           }
          ],
          "scattercarpet": [
           {
            "marker": {
             "colorbar": {
              "outlinewidth": 0,
              "ticks": ""
             }
            },
            "type": "scattercarpet"
           }
          ],
          "scattergeo": [
           {
            "marker": {
             "colorbar": {
              "outlinewidth": 0,
              "ticks": ""
             }
            },
            "type": "scattergeo"
           }
          ],
          "scattergl": [
           {
            "marker": {
             "colorbar": {
              "outlinewidth": 0,
              "ticks": ""
             }
            },
            "type": "scattergl"
           }
          ],
          "scattermapbox": [
           {
            "marker": {
             "colorbar": {
              "outlinewidth": 0,
              "ticks": ""
             }
            },
            "type": "scattermapbox"
           }
          ],
          "scatterpolar": [
           {
            "marker": {
             "colorbar": {
              "outlinewidth": 0,
              "ticks": ""
             }
            },
            "type": "scatterpolar"
           }
          ],
          "scatterpolargl": [
           {
            "marker": {
             "colorbar": {
              "outlinewidth": 0,
              "ticks": ""
             }
            },
            "type": "scatterpolargl"
           }
          ],
          "scatterternary": [
           {
            "marker": {
             "colorbar": {
              "outlinewidth": 0,
              "ticks": ""
             }
            },
            "type": "scatterternary"
           }
          ],
          "surface": [
           {
            "colorbar": {
             "outlinewidth": 0,
             "ticks": ""
            },
            "colorscale": [
             [
              0,
              "#0d0887"
             ],
             [
              0.1111111111111111,
              "#46039f"
             ],
             [
              0.2222222222222222,
              "#7201a8"
             ],
             [
              0.3333333333333333,
              "#9c179e"
             ],
             [
              0.4444444444444444,
              "#bd3786"
             ],
             [
              0.5555555555555556,
              "#d8576b"
             ],
             [
              0.6666666666666666,
              "#ed7953"
             ],
             [
              0.7777777777777778,
              "#fb9f3a"
             ],
             [
              0.8888888888888888,
              "#fdca26"
             ],
             [
              1,
              "#f0f921"
             ]
            ],
            "type": "surface"
           }
          ],
          "table": [
           {
            "cells": {
             "fill": {
              "color": "#EBF0F8"
             },
             "line": {
              "color": "white"
             }
            },
            "header": {
             "fill": {
              "color": "#C8D4E3"
             },
             "line": {
              "color": "white"
             }
            },
            "type": "table"
           }
          ]
         },
         "layout": {
          "annotationdefaults": {
           "arrowcolor": "#2a3f5f",
           "arrowhead": 0,
           "arrowwidth": 1
          },
          "autotypenumbers": "strict",
          "coloraxis": {
           "colorbar": {
            "outlinewidth": 0,
            "ticks": ""
           }
          },
          "colorscale": {
           "diverging": [
            [
             0,
             "#8e0152"
            ],
            [
             0.1,
             "#c51b7d"
            ],
            [
             0.2,
             "#de77ae"
            ],
            [
             0.3,
             "#f1b6da"
            ],
            [
             0.4,
             "#fde0ef"
            ],
            [
             0.5,
             "#f7f7f7"
            ],
            [
             0.6,
             "#e6f5d0"
            ],
            [
             0.7,
             "#b8e186"
            ],
            [
             0.8,
             "#7fbc41"
            ],
            [
             0.9,
             "#4d9221"
            ],
            [
             1,
             "#276419"
            ]
           ],
           "sequential": [
            [
             0,
             "#0d0887"
            ],
            [
             0.1111111111111111,
             "#46039f"
            ],
            [
             0.2222222222222222,
             "#7201a8"
            ],
            [
             0.3333333333333333,
             "#9c179e"
            ],
            [
             0.4444444444444444,
             "#bd3786"
            ],
            [
             0.5555555555555556,
             "#d8576b"
            ],
            [
             0.6666666666666666,
             "#ed7953"
            ],
            [
             0.7777777777777778,
             "#fb9f3a"
            ],
            [
             0.8888888888888888,
             "#fdca26"
            ],
            [
             1,
             "#f0f921"
            ]
           ],
           "sequentialminus": [
            [
             0,
             "#0d0887"
            ],
            [
             0.1111111111111111,
             "#46039f"
            ],
            [
             0.2222222222222222,
             "#7201a8"
            ],
            [
             0.3333333333333333,
             "#9c179e"
            ],
            [
             0.4444444444444444,
             "#bd3786"
            ],
            [
             0.5555555555555556,
             "#d8576b"
            ],
            [
             0.6666666666666666,
             "#ed7953"
            ],
            [
             0.7777777777777778,
             "#fb9f3a"
            ],
            [
             0.8888888888888888,
             "#fdca26"
            ],
            [
             1,
             "#f0f921"
            ]
           ]
          },
          "colorway": [
           "#636efa",
           "#EF553B",
           "#00cc96",
           "#ab63fa",
           "#FFA15A",
           "#19d3f3",
           "#FF6692",
           "#B6E880",
           "#FF97FF",
           "#FECB52"
          ],
          "font": {
           "color": "#2a3f5f"
          },
          "geo": {
           "bgcolor": "white",
           "lakecolor": "white",
           "landcolor": "#E5ECF6",
           "showlakes": true,
           "showland": true,
           "subunitcolor": "white"
          },
          "hoverlabel": {
           "align": "left"
          },
          "hovermode": "closest",
          "mapbox": {
           "style": "light"
          },
          "paper_bgcolor": "white",
          "plot_bgcolor": "#E5ECF6",
          "polar": {
           "angularaxis": {
            "gridcolor": "white",
            "linecolor": "white",
            "ticks": ""
           },
           "bgcolor": "#E5ECF6",
           "radialaxis": {
            "gridcolor": "white",
            "linecolor": "white",
            "ticks": ""
           }
          },
          "scene": {
           "xaxis": {
            "backgroundcolor": "#E5ECF6",
            "gridcolor": "white",
            "gridwidth": 2,
            "linecolor": "white",
            "showbackground": true,
            "ticks": "",
            "zerolinecolor": "white"
           },
           "yaxis": {
            "backgroundcolor": "#E5ECF6",
            "gridcolor": "white",
            "gridwidth": 2,
            "linecolor": "white",
            "showbackground": true,
            "ticks": "",
            "zerolinecolor": "white"
           },
           "zaxis": {
            "backgroundcolor": "#E5ECF6",
            "gridcolor": "white",
            "gridwidth": 2,
            "linecolor": "white",
            "showbackground": true,
            "ticks": "",
            "zerolinecolor": "white"
           }
          },
          "shapedefaults": {
           "line": {
            "color": "#2a3f5f"
           }
          },
          "ternary": {
           "aaxis": {
            "gridcolor": "white",
            "linecolor": "white",
            "ticks": ""
           },
           "baxis": {
            "gridcolor": "white",
            "linecolor": "white",
            "ticks": ""
           },
           "bgcolor": "#E5ECF6",
           "caxis": {
            "gridcolor": "white",
            "linecolor": "white",
            "ticks": ""
           }
          },
          "title": {
           "x": 0.05
          },
          "xaxis": {
           "automargin": true,
           "gridcolor": "white",
           "linecolor": "white",
           "ticks": "",
           "title": {
            "standoff": 15
           },
           "zerolinecolor": "white",
           "zerolinewidth": 2
          },
          "yaxis": {
           "automargin": true,
           "gridcolor": "white",
           "linecolor": "white",
           "ticks": "",
           "title": {
            "standoff": 15
           },
           "zerolinecolor": "white",
           "zerolinewidth": 2
          }
         }
        },
        "title": {
         "text": "Hyperparameter Importances"
        },
        "xaxis": {
         "title": {
          "text": "Importance for Coefs"
         }
        },
        "yaxis": {
         "title": {
          "text": "Hyperparameter"
         }
        }
       }
      }
     },
     "metadata": {}
    }
   ],
   "source": [
    "fig = optuna.visualization.plot_param_importances(study, target=lambda x: x.values[1], target_name=\"Coefs\")\n",
    "fig.show()"
   ]
  },
  {
   "cell_type": "code",
   "execution_count": null,
   "metadata": {},
   "outputs": [],
   "source": []
  }
 ]
}