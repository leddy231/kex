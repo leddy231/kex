{
 "metadata": {
  "language_info": {
   "codemirror_mode": {
    "name": "ipython",
    "version": 3
   },
   "file_extension": ".py",
   "mimetype": "text/x-python",
   "name": "python",
   "nbconvert_exporter": "python",
   "pygments_lexer": "ipython3",
   "version": "3.8.5"
  },
  "orig_nbformat": 2,
  "kernelspec": {
   "name": "python385jvsc74a57bd0c44b72c526c8c2d5c61f5343e5a1f2700c1b4b253758e0d185049d36041666fd",
   "display_name": "Python 3.8.5 64-bit ('base': conda)"
  }
 },
 "nbformat": 4,
 "nbformat_minor": 2,
 "cells": [
  {
   "cell_type": "code",
   "execution_count": 1,
   "metadata": {},
   "outputs": [],
   "source": [
    "import os\n",
    "import pandas as pd\n",
    "from re import sub\n",
    "from tqdm.notebook import tqdm\n",
    "from functions import readSet\n",
    "tqdm.pandas()"
   ]
  },
  {
   "cell_type": "code",
   "execution_count": 2,
   "metadata": {},
   "outputs": [],
   "source": [
    "datasets = os.listdir('./data')\n",
    "postags  = readSet('./wordlists/postags.txt')"
   ]
  },
  {
   "cell_type": "code",
   "execution_count": 3,
   "metadata": {},
   "outputs": [],
   "source": [
    "def cleanColumnName(name):\n",
    "    name = sub(r'[^a-zA-Z]', '', name)\n",
    "    name = name.lower()\n",
    "    return name"
   ]
  },
  {
   "cell_type": "code",
   "execution_count": 4,
   "metadata": {},
   "outputs": [
    {
     "output_type": "display_data",
     "data": {
      "text/plain": "Datasets:   0%|          | 0/3 [00:00<?, ?it/s]",
      "application/vnd.jupyter.widget-view+json": {
       "version_major": 2,
       "version_minor": 0,
       "model_id": "e23c6e7d977c4592b0b88b2ebbe5a9d0"
      }
     },
     "metadata": {}
    }
   ],
   "source": [
    "for dataset in tqdm(datasets, desc=\"Datasets\"):\n",
    "    dataFile       = f'./data/{dataset}/Data-Cleaned.csv'\n",
    "    dimensionsFile = f'./data/{dataset}/Dimensions.csv'\n",
    "    predictionFile = f'./data/{dataset}/Word2Vec-Prediction.csv'\n",
    "    outputFile     = f'./data/{dataset}/Stata-{dataset}.csv'\n",
    "\n",
    "    if not os.path.exists(dataFile):\n",
    "        raise ValueError(f\"Dataset {dataset} has not been cleaned\")\n",
    "    if not os.path.exists(dimensionsFile):\n",
    "        raise ValueError(f\"Dimensions for {dataset} has not been calculated\")\n",
    "    if not os.path.exists(predictionFile):\n",
    "        raise ValueError(f\"Dataset {dataset} has not been predicted\")\n",
    "\n",
    "    if not os.path.exists(outputFile):\n",
    "        data       = pd.read_csv(dataFile)\n",
    "        dimensions = pd.read_csv(dimensionsFile)\n",
    "        prediction = pd.read_csv(predictionFile)\n",
    "        data = data[['text','sentiment']]\n",
    "        prediction = prediction['predicted']\n",
    "        dimensions = dimensions.drop(columns=list(postags))\n",
    "        if 'words' in dimensions:\n",
    "            dimensions = dimensions.drop(columns=['words', 'sentences'])\n",
    "\n",
    "        output = pd.concat([data, prediction, dimensions], axis=1)\n",
    "        output.columns = output.columns.map(cleanColumnName)\n",
    "        output.to_csv(outputFile, index=False)"
   ]
  },
  {
   "cell_type": "code",
   "execution_count": null,
   "metadata": {},
   "outputs": [],
   "source": []
  }
 ]
}