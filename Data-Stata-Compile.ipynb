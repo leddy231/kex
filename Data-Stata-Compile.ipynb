{
 "cells": [
  {
   "cell_type": "code",
   "execution_count": 1,
   "metadata": {},
   "outputs": [],
   "source": [
    "import os\r\n",
    "import pandas as pd\r\n",
    "from re import sub\r\n",
    "from tqdm.notebook import tqdm\r\n",
    "from functions import readSet, dirs\r\n",
    "tqdm.pandas()"
   ]
  },
  {
   "cell_type": "code",
   "execution_count": 2,
   "metadata": {},
   "outputs": [],
   "source": [
    "datasets = dirs('./data')\r\n",
    "postags  = readSet('./wordlists/postags.txt')"
   ]
  },
  {
   "cell_type": "code",
   "execution_count": 3,
   "metadata": {},
   "outputs": [],
   "source": [
    "def cleanColumnName(name):\n",
    "    name = sub(r'[^a-zA-Z]', '', name)\n",
    "    name = name.lower()\n",
    "    return name"
   ]
  },
  {
   "cell_type": "code",
   "execution_count": 4,
   "metadata": {},
   "outputs": [
    {
     "data": {
      "application/vnd.jupyter.widget-view+json": {
       "model_id": "e23c6e7d977c4592b0b88b2ebbe5a9d0",
       "version_major": 2,
       "version_minor": 0
      },
      "text/plain": "Datasets:   0%|          | 0/3 [00:00<?, ?it/s]"
     },
     "metadata": {},
     "output_type": "display_data"
    }
   ],
   "source": [
    "for dataset in tqdm(datasets, desc=\"Datasets\"):\n",
    "    dataFile       = f'./data/{dataset}/Data-Cleaned.csv'\n",
    "    dimensionsFile = f'./data/{dataset}/Dimensions.csv'\n",
    "    predictionFile = f'./data/{dataset}/Word2Vec-Prediction.csv'\n",
    "    outputFile     = f'./data/{dataset}/Stata-{dataset}.csv'\n",
    "\n",
    "    if not os.path.exists(dataFile):\n",
    "        raise ValueError(f\"Dataset {dataset} has not been cleaned\")\n",
    "    if not os.path.exists(dimensionsFile):\n",
    "        raise ValueError(f\"Dimensions for {dataset} has not been calculated\")\n",
    "    if not os.path.exists(predictionFile):\n",
    "        raise ValueError(f\"Dataset {dataset} has not been predicted\")\n",
    "\n",
    "    if not os.path.exists(outputFile):\n",
    "        data       = pd.read_csv(dataFile)\n",
    "        dimensions = pd.read_csv(dimensionsFile)\n",
    "        prediction = pd.read_csv(predictionFile)\n",
    "        data = data[['text','sentiment']]\n",
    "        prediction = prediction['predicted']\n",
    "        dimensions = dimensions.drop(columns=list(postags))\n",
    "        if 'words' in dimensions:\n",
    "            dimensions = dimensions.drop(columns=['words', 'sentences'])\n",
    "\n",
    "        output = pd.concat([data, prediction, dimensions], axis=1)\n",
    "        output.columns = output.columns.map(cleanColumnName)\n",
    "        output.to_csv(outputFile, index=False)"
   ]
  },
  {
   "cell_type": "code",
   "execution_count": null,
   "metadata": {},
   "outputs": [],
   "source": []
  }
 ],
 "metadata": {
  "kernelspec": {
   "display_name": "Python 3.8.5 64-bit (conda)",
   "name": "python385jvsc74a57bd0c44b72c526c8c2d5c61f5343e5a1f2700c1b4b253758e0d185049d36041666fd"
  },
  "language_info": {
   "name": "python",
   "version": ""
  },
  "orig_nbformat": 2
 },
 "nbformat": 4,
 "nbformat_minor": 2
}