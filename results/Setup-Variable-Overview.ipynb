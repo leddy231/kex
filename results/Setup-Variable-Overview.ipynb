{
 "metadata": {
  "language_info": {
   "codemirror_mode": {
    "name": "ipython",
    "version": 3
   },
   "file_extension": ".py",
   "mimetype": "text/x-python",
   "name": "python",
   "nbconvert_exporter": "python",
   "pygments_lexer": "ipython3",
   "version": "3.8.5"
  },
  "orig_nbformat": 2,
  "kernelspec": {
   "name": "python385jvsc74a57bd0c44b72c526c8c2d5c61f5343e5a1f2700c1b4b253758e0d185049d36041666fd",
   "display_name": "Python 3.8.5 64-bit ('base': conda)"
  }
 },
 "nbformat": 4,
 "nbformat_minor": 2,
 "cells": [
  {
   "cell_type": "code",
   "execution_count": 1,
   "metadata": {},
   "outputs": [],
   "source": [
    "import os\n",
    "import sys\n",
    "import inspect\n",
    "currentdir = os.path.dirname(os.path.abspath(inspect.getfile(inspect.currentframe())))\n",
    "parentdir = os.path.dirname(currentdir)\n",
    "sys.path.insert(0, parentdir)\n",
    "\n",
    "import pandas as pd\n",
    "from functions import dirs, readSet\n",
    "import pickle\n",
    "import chevron\n",
    "from re import sub\n",
    "from latexTable import LatexTable"
   ]
  },
  {
   "cell_type": "code",
   "execution_count": 2,
   "metadata": {},
   "outputs": [],
   "source": [
    "dims = pickle.load(open('../data/Dimensions-All.pickle', mode='rb'))\n",
    "picked = readSet('../data/Dimensions-Picked-Final.txt')"
   ]
  },
  {
   "cell_type": "code",
   "execution_count": 3,
   "metadata": {},
   "outputs": [
    {
     "output_type": "stream",
     "name": "stdout",
     "text": [
      "\\begin{tabular}{|l|l|} \\hline\n\\textbf{Variable} & \\textbf{Definition} \\\\ \\hline\nnrWords & nr of words \\\\ \\hline\nnrSenteces & nr of sentences \\\\ \\hline\nnrLetters & nr of letters in all words \\\\ \\hline\nnrSynsets & nr of synsets in all words \\\\ \\hline\nnrSyllables & nr of syllables in all words \\\\ \\hline\nnrMonoSyllables & nr of words with one syllable \\\\ \\hline\nnrBiSyllables & nr of words with two syllables \\\\ \\hline\nnrPolySyllables & nr of words with three or more syllables \\\\ \\hline\nnrLongWords & nr of words with 6 or more letters \\\\ \\hline\nnrAmbiguousSentimentWords & nr of words with a positive and a negative synset \\\\ \\hline\nnrStrongSentimentWords & nr of words in the cluster words list \\\\ \\hline\nnrSlangWords & nr of words in the slang words list \\\\ \\hline\nnrDifficultWordsSAT & nr of words in the SAT difficult words list \\\\ \\hline\nnrDifficultWordsDaleChall & nr of words not in the Dale-Chall easy words list \\\\ \\Xhline{3\\arrayrulewidth}\nuniquenessMean & mean TF-IDF score of all words \\\\ \\hline\nuniquenessSTD & STD of the TF-IDF scores for all words \\\\ \\hline\nopinionPolarity & * \\\\ \n\\end{tabular}\n"
     ]
    }
   ],
   "source": [
    "table = LatexTable()\n",
    "table.headers = ['Variable','Definition']\n",
    "#table.columnAlignments = [\"l\", \"p{70mm}\"]\n",
    "table.boldIndexColumn = False\n",
    "table.rows = [\n",
    "        ['nrWords', 'nr of words'],\n",
    "        ['nrSenteces', 'nr of sentences'],\n",
    "        ['nrLetters', 'nr of letters in all words'],\n",
    "        ['nrSynsets', 'nr of synsets in all words'],\n",
    "        ['nrSyllables', 'nr of syllables in all words'],\n",
    "        ['nrMonoSyllables', 'nr of words with one syllable'],\n",
    "        ['nrBiSyllables', 'nr of words with two syllables'],\n",
    "        ['nrPolySyllables', 'nr of words with three or more syllables'],\n",
    "        ['nrLongWords', 'nr of words with 6 or more letters'],\n",
    "        ['nrAmbiguousSentimentWords', 'nr of words with a positive and a negative synset'],\n",
    "        ['nrStrongSentimentWords', 'nr of words in the cluster words list'],\n",
    "        ['nrSlangWords', 'nr of words in the slang words list'],\n",
    "        ['nrDifficultWordsSAT', 'nr of words in the SAT difficult words list'],\n",
    "        ['nrDifficultWordsDaleChall', 'nr of words not in the Dale-Chall easy words list'],\n",
    "        \"!boldLine\",\n",
    "        ['uniquenessMean', 'mean TF-IDF score of all words'],\n",
    "        ['uniquenessSTD', 'STD of the TF-IDF scores for all words'],\n",
    "        ['opinionPolarity', '*'], #max(#positiveSentences, #negativeSentences) / min(#positiveSentences, #negativeSentences)\n",
    "    ]\n",
    "result = table.render()\n",
    "outputFile = 'Setup-Software-Base.tex'\n",
    "with open(outputFile, mode='w') as output:\n",
    "    output.write(result)\n",
    "print(result)"
   ]
  },
  {
   "source": [
    "opinionPolarity is calculated by separatly counting the amount of positive and negative sentences in the document. The score is the max of those counts divided by the min of those counts. The score can be used as a measure on how polarized the document is. If the number is high, there is a higher amount of either positive or negative sentences. If the number is close to one, there is a closer to equal amount."
   ],
   "cell_type": "markdown",
   "metadata": {}
  },
  {
   "cell_type": "code",
   "execution_count": 4,
   "metadata": {},
   "outputs": [],
   "source": [
    "base = ['nrWords', 'nrSenteces', 'nrLetters', 'nrSynsets', 'nrSyllables', 'nrMonoSyllables', 'nrBiSyllables', \n",
    "'nrPolySyllables', 'nrLongWords', 'nrAmbiguousSentimentWords', 'nrStrongSentimentWords', 'nrSlangWords', \n",
    "'nrDifficultWordsSAT', 'nrDifficultWordsDaleChall', 'opinionPolarity', 'uniquenessMean', 'uniquenessSTD']\n",
    "\n",
    "names = {\n",
    "    'postagwords': 'POS Groups',\n",
    "    'lexical': 'Lexical',\n",
    "    'syntactic': 'Syntactic',\n",
    "    'semantic': 'Semantic',\n",
    "    'sentiment': 'Sentiment'\n",
    "}\n",
    "\n",
    "results = {}\n",
    "\n",
    "\n",
    "\n",
    "for aspect in ['postagwords', 'lexical', 'syntactic', 'semantic', 'sentiment']:\n",
    "    items = [x for x in dims[aspect] if x not in base]\n",
    "    items = list(map(lambda item: [item + '*'] if item in picked else [item], items))\n",
    "    items.append(\"!emptyRow\")\n",
    "\n",
    "    table = LatexTable()\n",
    "    table.headers = [names[aspect]]\n",
    "    table.boldIndexColumn = False\n",
    "    table.rows = items\n",
    "    results[aspect] = table.render()\n",
    "\n",
    "outputFile = './Setup-Variable-Overview-Derived.tex'\n",
    "with open(outputFile, mode='w') as output:\n",
    "    with open(f'{outputFile}.mustache') as template:\n",
    "        output.write(chevron.render(template, results))"
   ]
  },
  {
   "cell_type": "code",
   "execution_count": null,
   "metadata": {},
   "outputs": [],
   "source": []
  }
 ]
}