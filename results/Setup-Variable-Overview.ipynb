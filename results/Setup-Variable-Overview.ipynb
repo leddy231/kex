{
 "metadata": {
  "language_info": {
   "codemirror_mode": {
    "name": "ipython",
    "version": 3
   },
   "file_extension": ".py",
   "mimetype": "text/x-python",
   "name": "python",
   "nbconvert_exporter": "python",
   "pygments_lexer": "ipython3",
   "version": "3.8.5"
  },
  "orig_nbformat": 2,
  "kernelspec": {
   "name": "python385jvsc74a57bd0c44b72c526c8c2d5c61f5343e5a1f2700c1b4b253758e0d185049d36041666fd",
   "display_name": "Python 3.8.5 64-bit ('base': conda)"
  }
 },
 "nbformat": 4,
 "nbformat_minor": 2,
 "cells": [
  {
   "cell_type": "code",
   "execution_count": 1,
   "metadata": {},
   "outputs": [],
   "source": [
    "import os\n",
    "import sys\n",
    "import inspect\n",
    "currentdir = os.path.dirname(os.path.abspath(inspect.getfile(inspect.currentframe())))\n",
    "parentdir = os.path.dirname(currentdir)\n",
    "sys.path.insert(0, parentdir)\n",
    "\n",
    "import pandas as pd\n",
    "from functions import dirs, readSet\n",
    "import pickle\n",
    "import chevron\n",
    "from re import sub\n",
    "from latexTable import LatexTable"
   ]
  },
  {
   "cell_type": "code",
   "execution_count": 2,
   "metadata": {},
   "outputs": [],
   "source": [
    "dims = pickle.load(open('../data/Dimensions-All.pickle', mode='rb'))\n",
    "picked = readSet('../data/Dimensions-Picked-Final.txt')"
   ]
  },
  {
   "cell_type": "code",
   "execution_count": 4,
   "metadata": {},
   "outputs": [
    {
     "output_type": "stream",
     "name": "stdout",
     "text": [
      "\\begin{tabular}{|l|p{80mm}|} \\hline\n\\textbf{Variable} & \\textbf{Definition} \\\\ \\hline\nnrLetters & Number of letters \\\\ \\hline\nnrWords & Number of words \\\\ \\hline\nnrSentences & Number of sentences \\\\ \\hline\nnrSynsets & Number of synsets across all words \\\\ \\hline\nnrSyllables & Number of syllables across all words \\\\ \\hline\nnrMonoSyllables & Number of words with one syllable \\\\ \\hline\nnrBiSyllables & Number of words with two syllables \\\\ \\hline\nnrPolySyllables & Number of words with three or more syllables \\\\ \\hline\nnrLongWords & Number of words with 6 or more letters \\\\ \\hline\nnrSlangWords & Number of words that are found in a pre-defined list of slang words \\\\ \\hline\nnrHardWordsSAT & Number of words that are found in the SAT difficult words list \\\\ \\hline\nnrHardWordsDC & Number of words that are not found in the Dale-Chall easy words list \\\\ \\hline\nnrStrongSentiWords & Number of words that are found in a pre-defined list of strong sentiment words \\\\ \\hline\nnrMixedSentiWords & Number of words with both a positive and a negative synset \\\\ \\hline\nnrConjunctions & POS-tags pertaining to conjunctions: CC, IN \\\\ \\hline\nnrAdjectives & POS-tags pertaining to adjectives: JJ, JJR, JJS \\\\ \\hline\nnrAdverbs & POS-tags pertaining to adverbs: RB, RBR, RBS \\\\ \\hline\nnrComplexVerbs & POS-tags pertaining to complex verbs: MD, VBG \\\\ \\hline\nnrPossesives & POS-tags pertaining to possesives: POS, PRP, PRP$ \\\\ \\hline\nnrDeterminers & POS-tags pertaining to determiners: DT, PDT\\\\ \\hline\n \\multicolumn{3}{c}{} \\\\ [-1.5ex] \\hline\nuniquenessMean & Mean TF-IDF score for all words in an observation \\\\ \\hline\nuniquenessSTD & Standard deviation of the TF-IDF scores for all words in an observation \\\\ \\hline\nopinionPolarity & Measurement of how polarised an observation is. \\\\ \\hline\n\\end{tabular}\n"
     ]
    }
   ],
   "source": [
    "table = LatexTable()\n",
    "table.headers = ['Variable','Definition']\n",
    "table.columnAlignments = [\"l\", \"p{80mm}\"]\n",
    "table.boldIndexColumn = False\n",
    "table.rows = [\n",
    "        ['nrLetters', 'Number of letters'],\n",
    "        ['nrWords', 'Number of words'],\n",
    "        ['nrSentences', 'Number of sentences'],\n",
    "        ['nrSynsets', 'Number of synsets across all words'],\n",
    "        ['nrSyllables', 'Number of syllables across all words'],\n",
    "        ['nrMonoSyllables', 'Number of words with one syllable'],\n",
    "        ['nrBiSyllables', 'Number of words with two syllables'],\n",
    "        ['nrPolySyllables', 'Number of words with three or more syllables'],\n",
    "        ['nrLongWords', 'Number of words with 6 or more letters'],\n",
    "        \n",
    "        \n",
    "        ['nrSlangWords', 'Number of words that are found in a pre-defined list of slang words'],\n",
    "        ['nrHardWordsSAT', 'Number of words that are found in the SAT difficult words list'],\n",
    "        ['nrHardWordsDC', 'Number of words that are not found in the Dale-Chall easy words list'],\n",
    "        ['nrStrongSentiWords', 'Number of words that are found in a pre-defined list of strong sentiment words'],\n",
    "        ['nrMixedSentiWords', 'Number of words with both a positive and a negative synset'],\n",
    "        ['nrConjunctions', 'POS-tags pertaining to conjunctions: CC, IN'],\n",
    "        ['nrAdjectives', 'POS-tags pertaining to adjectives: JJ, JJR, JJS'],\n",
    "        ['nrAdverbs', 'POS-tags pertaining to adverbs: RB, RBR, RBS'],\n",
    "        ['nrComplexVerbs', 'POS-tags pertaining to complex verbs: MD, VBG'],\n",
    "        ['nrPossesives', 'POS-tags pertaining to possesives: POS, PRP, PRP\\$'],\n",
    "        ['nrDeterminers', 'POS-tags pertaining to determiners: DT, PDT'],\n",
    "        \"!boldLine\",\n",
    "        ['uniquenessMean', 'Mean TF-IDF score for all words in an observation'],\n",
    "        ['uniquenessSTD', 'Standard deviation of the TF-IDF scores for all words in an observation'],\n",
    "        ['opinionPolarity', 'Measurement of how polarised an observation is.'], #max(#positiveSentences, #negativeSentences) / min(#positiveSentences, #negativeSentences)\n",
    "    ]\n",
    "result = table.render()\n",
    "outputFile = 'Setup-Variable-Overview-Base.tex'\n",
    "with open(outputFile, mode='w') as output:\n",
    "    output.write(result)\n",
    "print(result)"
   ]
  },
  {
   "source": [
    "opinionPolarity is calculated by separatly counting the amount of positive and negative sentences in the document. The score is the max of those counts divided by the min of those counts. The score can be used as a measure on how polarized the document is. If the number is high, there is a higher amount of either positive or negative sentences. If the number is close to one, there is a closer to equal amount."
   ],
   "cell_type": "markdown",
   "metadata": {}
  },
  {
   "cell_type": "code",
   "execution_count": 5,
   "metadata": {},
   "outputs": [],
   "source": [
    "finalNames = pickle.load(open('./FinalNames.pickle', mode='rb'))"
   ]
  },
  {
   "cell_type": "code",
   "execution_count": 11,
   "metadata": {},
   "outputs": [
    {
     "output_type": "stream",
     "name": "stdout",
     "text": [
      "[['nrLetters/nrWords*'], ['nrSyllables/nrWords'], ['nrMonoSyllables/nrWords'], ['nrBiSyllables/nrWords'], ['nrPolySyllables/nrWords'], ['nrLongWords/nrWords'], '!emptyRow', ['\\\\textbf{Syntactic}'], ['nrLetters/nrSentences'], ['nrWords/nrSentences*'], ['nrSyllables/nrSentences'], ['nrMonoSyllables/nrSentences'], ['nrBiSyllables/nrSentences'], ['nrPolySyllables/nrSentences'], ['nrLongWords/nrSentences'], '!emptyRow', ['\\\\textbf{Semantic}'], ['nrSynsets/nrWords*'], ['nrSlangWords/nrWords*'], ['nrHardWordsSAT/nrWords*'], ['nrHardWordsDC/nrWords*'], '!emptyRow']\n\n\n\\begin{tabular}{rl}\n    \\begin{minipage}{.44\\linewidth}\n        \\begin{tabular}{|l|} \\hline\n\\textbf{Lexical} \\\\ \\hline\nnrLetters/nrWords* \\\\ \\hline\nnrSyllables/nrWords \\\\ \\hline\nnrMonoSyllables/nrWords \\\\ \\hline\nnrBiSyllables/nrWords \\\\ \\hline\nnrPolySyllables/nrWords \\\\ \\hline\nnrLongWords/nrWords \\\\ \\hline\n\\multicolumn{1}{c}{} \\\\ \\hline\n\\textbf{Syntactic} \\\\ \\hline\nnrLetters/nrSentences \\\\ \\hline\nnrWords/nrSentences* \\\\ \\hline\nnrSyllables/nrSentences \\\\ \\hline\nnrMonoSyllables/nrSentences \\\\ \\hline\nnrBiSyllables/nrSentences \\\\ \\hline\nnrPolySyllables/nrSentences \\\\ \\hline\nnrLongWords/nrSentences \\\\ \\hline\n\\multicolumn{1}{c}{} \\\\ \\hline\n\\textbf{Semantic} \\\\ \\hline\nnrSynsets/nrWords* \\\\ \\hline\nnrSlangWords/nrWords* \\\\ \\hline\nnrHardWordsSAT/nrWords* \\\\ \\hline\nnrHardWordsDC/nrWords* \\\\ \\hline\n\\multicolumn{1}{c}{} \\\\ \n\\end{tabular}\n    \\end{minipage} \n    &\n    \\begin{minipage}{.5\\linewidth}\n        \\begin{tabular}{|l|} \\hline\n\\textbf{POS groups} \\\\ \\hline\nnrConjunctions/nrWords* \\\\ \\hline\nnrAdjectives/nrWords* \\\\ \\hline\nnrAdverbs/nrWords* \\\\ \\hline\nnrComplexVerbs/nrWords* \\\\ \\hline\nnrPossesives/nrWords* \\\\ \\hline\nnrDeterminers/nrWords* \\\\ \\hline\n\\multicolumn{1}{c}{} \\\\ \\hline\n\\textbf{Sentiment} \\\\ \\hline\nnrMixedSentiWords/nrWords* \\\\ \\hline\nnrStrongSentiWords/nrWords* \\\\ \\hline\n\\multicolumn{1}{c}{} \\\\ \n\\multicolumn{1}{c}{} \\\\ \n\\multicolumn{1}{c}{} \\\\ \n\\multicolumn{1}{c}{} \\\\ \n\\multicolumn{1}{c}{} \\\\ \n\\multicolumn{1}{c}{} \\\\ \n\\multicolumn{1}{c}{} \\\\ \n\\multicolumn{1}{c}{} \\\\ \n\\multicolumn{1}{c}{} \\\\ \n\\multicolumn{1}{c}{} \\\\ \n\\multicolumn{1}{c}{} \\\\ \n\\multicolumn{1}{c}{} \\\\ \n\\end{tabular}\n    \\end{minipage} \n\\end{tabular}\n"
     ]
    }
   ],
   "source": [
    "base = ['nrWords', 'nrSenteces', 'nrLetters', 'nrSynsets', 'nrSyllables', 'nrMonoSyllables', 'nrBiSyllables', \n",
    "'nrPolySyllables', 'nrLongWords', 'nrAmbiguousSentimentWords', 'nrStrongSentimentWords', 'nrSlangWords', \n",
    "'nrDifficultWordsSAT', 'nrDifficultWordsDaleChall', 'opinionPolarity', 'uniquenessMean', 'uniquenessSTD']\n",
    "\n",
    "left = ['lexical', 'syntactic', 'semantic']\n",
    "right = ['postagwords', 'sentiment']\n",
    "\n",
    "def items(aspect):\n",
    "    i = [x for x in finalNames['dimensions'][aspect] if x not in base]\n",
    "    i = list(map(lambda item: [finalNames['dimensionNames'][item] + '*'] if item in picked else [finalNames['dimensionNames'][item]], i))\n",
    "    i.append(\"!emptyRow\")\n",
    "    return i\n",
    "\n",
    "left = LatexTable()\n",
    "left.headers = [\"\\\\textbf{\"+finalNames['aspects']['lexical']+\"}\"]\n",
    "left.boldIndexColumn = False\n",
    "left.boldHeaders = False\n",
    "rows = items('lexical')\n",
    "rows.append([\"\\\\textbf{\"+finalNames['aspects']['syntactic']+\"}\"])\n",
    "rows += items('syntactic')\n",
    "rows.append([\"\\\\textbf{\"+finalNames['aspects']['semantic']+\"}\"])\n",
    "rows += items('semantic')\n",
    "left.rows = rows\n",
    "print(rows)\n",
    "left = left.render()\n",
    "\n",
    "right = LatexTable()\n",
    "right.headers = [\"\\\\textbf{\"+finalNames['aspects']['postagwords']+\"}\"]\n",
    "right.boldIndexColumn = False\n",
    "right.boldHeaders = False\n",
    "rows = items('postagwords')\n",
    "rows.append([\"\\\\textbf{\"+finalNames['aspects']['sentiment']+\"}\"])\n",
    "rows += items('sentiment')\n",
    "right.rows = rows\n",
    "for i in range(11):\n",
    "    rows.append('!emptyRow')\n",
    "right = right.render()\n",
    "\n",
    "data = {\n",
    "    'left': left,\n",
    "    'right': right\n",
    "}\n",
    "\n",
    "outputFile = './Setup-Variable-Overview-Derived.tex'\n",
    "with open(outputFile, mode='w') as output:\n",
    "    with open(f'{outputFile}.mustache') as template:\n",
    "        res = chevron.render(template, data)\n",
    "        output.write(res)\n",
    "        print(res)"
   ]
  },
  {
   "cell_type": "code",
   "execution_count": null,
   "metadata": {},
   "outputs": [],
   "source": []
  }
 ]
}