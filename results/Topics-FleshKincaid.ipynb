{
 "metadata": {
  "language_info": {
   "codemirror_mode": {
    "name": "ipython",
    "version": 3
   },
   "file_extension": ".py",
   "mimetype": "text/x-python",
   "name": "python",
   "nbconvert_exporter": "python",
   "pygments_lexer": "ipython3",
   "version": "3.8.5"
  },
  "orig_nbformat": 2,
  "kernelspec": {
   "name": "python385jvsc74a57bd0c44b72c526c8c2d5c61f5343e5a1f2700c1b4b253758e0d185049d36041666fd",
   "display_name": "Python 3.8.5 64-bit ('base': conda)"
  }
 },
 "nbformat": 4,
 "nbformat_minor": 2,
 "cells": [
  {
   "cell_type": "code",
   "execution_count": 1,
   "metadata": {},
   "outputs": [],
   "source": [
    "import os\n",
    "from latexTable import LatexTable"
   ]
  },
  {
   "cell_type": "code",
   "execution_count": 2,
   "metadata": {},
   "outputs": [
    {
     "output_type": "stream",
     "name": "stdout",
     "text": [
      "\\begin{tabular}{|l|l|p{75mm}|} \\hline\n\\textbf{Score} & \\textbf{School level} & \\textbf{Description} \\\\ \\hline\n100-90 & 5th grade & Very easy to read. Easily understood by an average 11-year-old student. \\\\ \\hline\n90-80 & 6th grade & Easy to read. Conversational English for consumers. \\\\ \\hline\n80-70 & 7th grade & Fairly easy to read. \\\\ \\hline\n70-60 & 8th \\& 9th grade & Plain English. Easily understood by 13- to 15-year-old students. \\\\ \\hline\n60-50 & 10th to 12th grade & Fairly difficult to read. \\\\ \\hline\n50-30 & College & Difficult to read. \\\\ \\hline\n30-10 & College graduate & Very difficult to read. Best understood by university graduates. \\\\ \\hline\n10-0 & Professional & Extremely difficult to read. Best understood by university graduates. \\\\ \\hline\n\\end{tabular}\n"
     ]
    }
   ],
   "source": [
    "table = LatexTable()\n",
    "table.headers = ['Score', 'School level', 'Description']\n",
    "table.columnAlignments = ['l', 'l', \"p{75mm}\"]\n",
    "table.boldIndexColumn = False\n",
    "table.rows = [\n",
    "    ['100-90', '5th grade', 'Very easy to read. Easily understood by an average 11-year-old student.'],\n",
    "    ['90-80', '6th grade', 'Easy to read. Conversational English for consumers.'],\n",
    "    ['80-70', '7th grade', 'Fairly easy to read.'],\n",
    "    ['70-60', '8th \\\\& 9th grade', 'Plain English. Easily understood by 13- to 15-year-old students.'],\n",
    "    ['60-50', '10th to 12th grade', 'Fairly difficult to read.'],\n",
    "    ['50-30', 'College', 'Difficult to read.'],\n",
    "    ['30-10', 'College graduate', 'Very difficult to read. Best understood by university graduates.'],\n",
    "    ['10-0', 'Professional', 'Extremely difficult to read. Best understood by university graduates.'],\n",
    "]\n",
    "result = table.render()\n",
    "outputFile = 'Topics-FleshKincaid.tex'\n",
    "with open(outputFile, mode='w') as output:\n",
    "    output.write(result)\n",
    "print(result)"
   ]
  },
  {
   "cell_type": "code",
   "execution_count": null,
   "metadata": {},
   "outputs": [],
   "source": []
  }
 ]
}