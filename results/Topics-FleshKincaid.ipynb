{
 "metadata": {
  "language_info": {
   "codemirror_mode": {
    "name": "ipython",
    "version": 3
   },
   "file_extension": ".py",
   "mimetype": "text/x-python",
   "name": "python",
   "nbconvert_exporter": "python",
   "pygments_lexer": "ipython3",
   "version": "3.8.5"
  },
  "orig_nbformat": 2,
  "kernelspec": {
   "name": "python385jvsc74a57bd0c44b72c526c8c2d5c61f5343e5a1f2700c1b4b253758e0d185049d36041666fd",
   "display_name": "Python 3.8.5 64-bit ('base': conda)"
  }
 },
 "nbformat": 4,
 "nbformat_minor": 2,
 "cells": [
  {
   "cell_type": "code",
   "execution_count": 1,
   "metadata": {},
   "outputs": [],
   "source": [
    "import os\n",
    "import sys\n",
    "import inspect\n",
    "currentdir = os.path.dirname(os.path.abspath(inspect.getfile(inspect.currentframe())))\n",
    "parentdir = os.path.dirname(currentdir)\n",
    "sys.path.insert(0, parentdir)\n",
    "\n",
    "import pandas as pd\n",
    "from functions import dirs\n",
    "import pickle\n",
    "import chevron\n",
    "from re import sub\n",
    "from latexTable import LatexTable"
   ]
  },
  {
   "cell_type": "code",
   "execution_count": 2,
   "metadata": {},
   "outputs": [
    {
     "output_type": "stream",
     "name": "stdout",
     "text": [
      "\\begin{tabular}{|l|l|} \\hline\n\\textbf{Characteristics} & \\textbf{Description} \\\\ \\hline\n100-90 & Very easy to read. Easily understood by an average 11-year-old student \\\\ \\hline\n90-80 & Easy to read. Conversational English for consumers \\\\ \\hline\n80-70 & Fairly easy to read \\\\ \\hline\n70-60 & Plain English. Easily understood by 13- to 15-year-old students \\\\ \\hline\n60-50 & Fairly difficult to read \\\\ \\hline\n50-30 & Difficult to read \\\\ \\hline\n30-10 & Very difficult to read. Best understood by university graduates \\\\ \\hline\n10-0 & Extremely difficult to read. Best understood by university graduates \\\\ \\hline\n\\end{tabular}\n"
     ]
    }
   ],
   "source": [
    "table = LatexTable()\n",
    "table.headers = ['Characteristics', 'Description']\n",
    "table.columnAlignments = ['l', \"p{90mm}\"]\n",
    "table.boldIndexColumn = False\n",
    "table.rows = [\n",
    "    ['100-90', 'Very easy to read. Easily understood by an average 11-year-old student'],\n",
    "    ['90-80', 'Easy to read. Conversational English for consumers'],\n",
    "    ['80-70', 'Fairly easy to read'],\n",
    "    ['70-60', 'Plain English. Easily understood by 13- to 15-year-old students'],\n",
    "    ['60-50', 'Fairly difficult to read'],\n",
    "    ['50-30', 'Difficult to read'],\n",
    "    ['30-10', 'Very difficult to read. Best understood by university graduates'],\n",
    "    ['10-0', 'Extremely difficult to read. Best understood by university graduates'],\n",
    "]\n",
    "result = table.render()\n",
    "outputFile = 'Topics-FleshKincaid.tex'\n",
    "with open(outputFile, mode='w') as output:\n",
    "    output.write(result)\n",
    "print(result)"
   ]
  },
  {
   "cell_type": "code",
   "execution_count": null,
   "metadata": {},
   "outputs": [],
   "source": []
  }
 ]
}