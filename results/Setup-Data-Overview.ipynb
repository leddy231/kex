{
 "metadata": {
  "language_info": {
   "codemirror_mode": {
    "name": "ipython",
    "version": 3
   },
   "file_extension": ".py",
   "mimetype": "text/x-python",
   "name": "python",
   "nbconvert_exporter": "python",
   "pygments_lexer": "ipython3",
   "version": "3.8.5"
  },
  "orig_nbformat": 2,
  "kernelspec": {
   "name": "python385jvsc74a57bd0c44b72c526c8c2d5c61f5343e5a1f2700c1b4b253758e0d185049d36041666fd",
   "display_name": "Python 3.8.5 64-bit ('base': conda)"
  }
 },
 "nbformat": 4,
 "nbformat_minor": 2,
 "cells": [
  {
   "cell_type": "code",
   "execution_count": 49,
   "metadata": {},
   "outputs": [],
   "source": [
    "import os\n",
    "import sys\n",
    "import inspect\n",
    "currentdir = os.path.dirname(os.path.abspath(inspect.getfile(inspect.currentframe())))\n",
    "parentdir = os.path.dirname(currentdir)\n",
    "sys.path.insert(0, parentdir)\n",
    "\n",
    "import pandas as pd\n",
    "from functions import dirs, canonicalNames\n",
    "import pickle\n",
    "import chevron\n",
    "from re import sub"
   ]
  },
  {
   "cell_type": "code",
   "execution_count": 50,
   "metadata": {},
   "outputs": [],
   "source": [
    "def selectRange(dct, value):\n",
    "    keys = dct.keys()\n",
    "    picked = 0\n",
    "    for key in keys:\n",
    "        if value >= key:\n",
    "            picked = key\n",
    "    return dct[picked]"
   ]
  },
  {
   "cell_type": "code",
   "execution_count": 51,
   "metadata": {},
   "outputs": [],
   "source": [
    "datasets = dirs('../data')\n",
    "names = canonicalNames('../data')\n",
    "#datasets = ['AirlineTweets']\n",
    "df = pd.DataFrame()\n",
    "dimensions = pickle.load(open('../data/Dimensions-All.pickle', mode='rb'))\n",
    "formulas = dimensions['formulas']"
   ]
  },
  {
   "cell_type": "code",
   "execution_count": 52,
   "metadata": {},
   "outputs": [],
   "source": [
    "for dataset in datasets:\n",
    "    dataFile = f'../data/{dataset}/Data-Cleaned.csv'\n",
    "    dimsFile = f'../data/{dataset}/Dimensions.csv'\n",
    "    if not os.path.exists(dataFile):\n",
    "        raise ValueError(f'Dataset {dataset} has not been cleaned')\n",
    "    if not os.path.exists(dimsFile):\n",
    "        raise ValueError(f'Dataset {dataset} has no calculated dimensions')\n",
    "\n",
    "    data = pd.read_csv(dataFile)\n",
    "    dims = pd.read_csv(dimsFile)\n",
    "    total = len(data)\n",
    "    pos = len(data[data['sentiment'] == 'positive'])\n",
    "    neg = total - pos\n",
    "    column = [pos, neg, total]\n",
    "    for formula in dims[formulas].mean(axis=0).values:\n",
    "        column.append(formula)\n",
    "    df[dataset] = column\n"
   ]
  },
  {
   "cell_type": "code",
   "execution_count": 53,
   "metadata": {},
   "outputs": [],
   "source": [
    "df.index = ['pos', 'neg', 'total'] + formulas"
   ]
  },
  {
   "cell_type": "code",
   "execution_count": 54,
   "metadata": {},
   "outputs": [],
   "source": [
    "dataFile = './Setup-Data-Overview.csv'\n",
    "#df.to_csv(dataFile)\n",
    "#df = pd.read_csv(dataFile, index_col=0)"
   ]
  },
  {
   "cell_type": "code",
   "execution_count": 55,
   "metadata": {},
   "outputs": [],
   "source": [
    "def percentages(col):\n",
    "    pos = (col.loc[\"pos\"]/col.loc[\"total\"]) * 100\n",
    "    neg = (col.loc[\"neg\"]/col.loc[\"total\"]) * 100\n",
    "    col.loc['pos'] = f'{pos:.0f}\\%'\n",
    "    col.loc['neg'] = f'{neg:.0f}\\%'\n",
    "    col.loc['total'] = f'{col[\"total\"]:.0f}'\n",
    "    return col"
   ]
  },
  {
   "cell_type": "code",
   "execution_count": 56,
   "metadata": {},
   "outputs": [],
   "source": [
    "df2 = df.copy()\n",
    "df2 = df2.apply(lambda col: percentages(col))"
   ]
  },
  {
   "cell_type": "code",
   "execution_count": 57,
   "metadata": {},
   "outputs": [],
   "source": [
    "fleshKincaid = {\n",
    "    0: '22-23',\n",
    "    30: '18-19',\n",
    "    50: '15-18',\n",
    "    60: '13-15',\n",
    "    70: '12-13',\n",
    "    80: '11-12',\n",
    "    90: '11-'\n",
    "}\n",
    "gunningFog = {\n",
    "    0: '3-7',\n",
    "    1: '7-11',\n",
    "    5: '11-14',\n",
    "    8: '14-17',\n",
    "    11: '17+'\n",
    "}\n",
    "smog = gunningFog\n",
    "daleChall = {\n",
    "    0: '3-10',\n",
    "    5: '10-12',\n",
    "    6: '12-14',\n",
    "    7: '14-16',\n",
    "    8: '16-18',\n",
    "    9: '18-22',\n",
    "    10: '22+'\n",
    "}\n",
    "colmanLiau = smog\n",
    "linsearWrite = smog\n",
    "spache = smog\n",
    "lix = {\n",
    "    0: 'Childrens books',\n",
    "    25: 'Simple texts',\n",
    "    30: 'Fiction',\n",
    "    40: 'Factual information',\n",
    "    50: 'Technical texts',\n",
    "    60: 'Difficult texts'\n",
    "}\n",
    "forcast = smog"
   ]
  },
  {
   "cell_type": "code",
   "execution_count": 58,
   "metadata": {},
   "outputs": [],
   "source": [
    "\n",
    "def mapRow(df, rowname, dct):\n",
    "    df2.loc[rowname] = df2.loc[rowname].map(lambda val: selectRange(dct, val))\n",
    "\n",
    "mapRow(df2, 'formulaFleshKincaid', fleshKincaid)\n",
    "mapRow(df2, 'formulaGunningFog', gunningFog)\n",
    "mapRow(df2, 'formulaSMOG', smog)\n",
    "mapRow(df2, 'formulaDaleChall', daleChall)\n",
    "mapRow(df2, 'formulaColemanLiau', colmanLiau)  \n",
    "mapRow(df2, 'formulaLinsearWrite', linsearWrite)\n",
    "mapRow(df2, 'formulaSpacheSAT', spache)\n",
    "mapRow(df2, 'formulaSpacheDaleChall', spache)\n",
    "mapRow(df2, 'formulaLIX', lix)\n",
    "mapRow(df2, 'formulaFORCAST', forcast)"
   ]
  },
  {
   "cell_type": "code",
   "execution_count": 59,
   "metadata": {},
   "outputs": [
    {
     "output_type": "execute_result",
     "data": {
      "text/plain": [
       "                       AirlineTweets2             IMDB\n",
       "pos                              17\\%             50\\%\n",
       "neg                              83\\%             50\\%\n",
       "total                            8897            50000\n",
       "formulaFleshKincaid             11-12            13-15\n",
       "formulaGunningFog                7-11            14-17\n",
       "formulaSMOG                      7-11            14-17\n",
       "formulaDaleChall                14-16            14-16\n",
       "formulaColemanLiau              11-14            11-14\n",
       "formulaLinsearWrite              7-11              17+\n",
       "formulaSpacheSAT                 7-11             7-11\n",
       "formulaSpacheDaleChall           7-11             7-11\n",
       "formulaLIX                    Fiction  Technical texts\n",
       "formulaFORCAST                  14-17            14-17"
      ],
      "text/html": "<div>\n<style scoped>\n    .dataframe tbody tr th:only-of-type {\n        vertical-align: middle;\n    }\n\n    .dataframe tbody tr th {\n        vertical-align: top;\n    }\n\n    .dataframe thead th {\n        text-align: right;\n    }\n</style>\n<table border=\"1\" class=\"dataframe\">\n  <thead>\n    <tr style=\"text-align: right;\">\n      <th></th>\n      <th>AirlineTweets2</th>\n      <th>IMDB</th>\n    </tr>\n  </thead>\n  <tbody>\n    <tr>\n      <th>pos</th>\n      <td>17\\%</td>\n      <td>50\\%</td>\n    </tr>\n    <tr>\n      <th>neg</th>\n      <td>83\\%</td>\n      <td>50\\%</td>\n    </tr>\n    <tr>\n      <th>total</th>\n      <td>8897</td>\n      <td>50000</td>\n    </tr>\n    <tr>\n      <th>formulaFleshKincaid</th>\n      <td>11-12</td>\n      <td>13-15</td>\n    </tr>\n    <tr>\n      <th>formulaGunningFog</th>\n      <td>7-11</td>\n      <td>14-17</td>\n    </tr>\n    <tr>\n      <th>formulaSMOG</th>\n      <td>7-11</td>\n      <td>14-17</td>\n    </tr>\n    <tr>\n      <th>formulaDaleChall</th>\n      <td>14-16</td>\n      <td>14-16</td>\n    </tr>\n    <tr>\n      <th>formulaColemanLiau</th>\n      <td>11-14</td>\n      <td>11-14</td>\n    </tr>\n    <tr>\n      <th>formulaLinsearWrite</th>\n      <td>7-11</td>\n      <td>17+</td>\n    </tr>\n    <tr>\n      <th>formulaSpacheSAT</th>\n      <td>7-11</td>\n      <td>7-11</td>\n    </tr>\n    <tr>\n      <th>formulaSpacheDaleChall</th>\n      <td>7-11</td>\n      <td>7-11</td>\n    </tr>\n    <tr>\n      <th>formulaLIX</th>\n      <td>Fiction</td>\n      <td>Technical texts</td>\n    </tr>\n    <tr>\n      <th>formulaFORCAST</th>\n      <td>14-17</td>\n      <td>14-17</td>\n    </tr>\n  </tbody>\n</table>\n</div>"
     },
     "metadata": {},
     "execution_count": 59
    }
   ],
   "source": [
    "df2"
   ]
  },
  {
   "cell_type": "code",
   "execution_count": 60,
   "metadata": {},
   "outputs": [],
   "source": [
    "finalNames = pickle.load(open('./FinalNames.pickle', mode='rb'))"
   ]
  },
  {
   "cell_type": "code",
   "execution_count": 61,
   "metadata": {},
   "outputs": [],
   "source": [
    "f2 = {}\n",
    "for index, row in df2[df2.index.isin(formulas)].iterrows():\n",
    "    f2[index] = [sub('formula', '', index)] + list(row)\n",
    "\n",
    "f2 = list(map(f2.get, finalNames['dimensions']['formulas']))"
   ]
  },
  {
   "cell_type": "code",
   "execution_count": 62,
   "metadata": {},
   "outputs": [],
   "source": [
    "from latexTable import LatexTable"
   ]
  },
  {
   "cell_type": "code",
   "execution_count": 63,
   "metadata": {},
   "outputs": [
    {
     "output_type": "execute_result",
     "data": {
      "text/plain": [
       "['8897', '50000']"
      ]
     },
     "metadata": {},
     "execution_count": 63
    }
   ],
   "source": [
    "list(df2.loc['total'])"
   ]
  },
  {
   "cell_type": "code",
   "execution_count": 64,
   "metadata": {},
   "outputs": [
    {
     "output_type": "stream",
     "name": "stdout",
     "text": [
      "\\begin{tabular}{|l|l|l|} \\cline{2-3}\n\\multicolumn{1}{c|}{} & \\textbf{Airline tweets} & \\textbf{IMDB reviews} \\\\ \\hline\n\\textbf{Domain} & Twitter & Movie reviews \\\\ \\hline\n\\textbf{Time period} & February 2015 & June 2011 \\\\ \\hline\n\\textbf{Labelling} & Externally assesed & Self-provided\\\\ \\hline\n \\multicolumn{3}{c}{} \\\\ [-1.5ex] \\hline\n\\textbf{Total observations} & 8,897 & 50,000 \\\\ \\hline\n\\textbf{Positive sentiments} & 17\\% & 50\\% \\\\ \\hline\n\\textbf{Negative sentiments} & 83\\% & 50\\%\\\\ \\hline\n \\multicolumn{3}{c}{} \\\\ [-1.5ex] \\hline\n\\textbf{DaleChall} & 14-16 & 14-16 \\\\ \\hline\n\\textbf{GunningFog} & 7-11 & 14-17 \\\\ \\hline\n\\textbf{SpacheSAT} & 7-11 & 7-11 \\\\ \\hline\n\\textbf{SpacheDaleChall} & 7-11 & 7-11 \\\\ \\hline\n\\textbf{ColemanLiau} & 11-14 & 11-14 \\\\ \\hline\n\\textbf{LIX} & Fiction & Technical texts \\\\ \\hline\n\\textbf{SMOG} & 7-11 & 14-17 \\\\ \\hline\n\\textbf{FORCAST} & 14-17 & 14-17 \\\\ \\hline\n\\textbf{LinsearWrite} & 7-11 & 17+ \\\\ \\hline\n\\textbf{FleshKincaid} & 11-12 & 13-15 \\\\ \\hline\n\\end{tabular}\n"
     ]
    }
   ],
   "source": [
    "#|p{45mm}|p{35mm}|p{35mm}|\n",
    "\n",
    "table = LatexTable()\n",
    "table.headers = ['Airline tweets', 'IMDB reviews']\n",
    "table.emptyFirstHeader = True\n",
    "table.rows = [\n",
    "    ['Domain', 'Twitter', 'Movie reviews'],\n",
    "    ['Time period', 'February 2015', 'June 2011'],\n",
    "    ['Labelling', 'Externally assesed', 'Self-provided'],\n",
    "    \"!boldLine\",\n",
    "    ['Total observations'] + list(map(lambda t: f'{int(t):,}', df2.loc['total'])),\n",
    "    ['Positive sentiments']  + list(df2.loc['pos']),\n",
    "    ['Negative sentiments']  + list(df2.loc['neg']),\n",
    "    \"!boldLine\"\n",
    "] + f2\n",
    "result = table.render()\n",
    "print(result)\n",
    "outputFile = 'Setup-Data-Overview.tex'\n",
    "with open(outputFile, mode='w') as output:\n",
    "    output.write(result)"
   ]
  },
  {
   "cell_type": "code",
   "execution_count": null,
   "metadata": {},
   "outputs": [],
   "source": []
  }
 ]
}