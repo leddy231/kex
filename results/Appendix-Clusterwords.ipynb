{
 "metadata": {
  "language_info": {
   "codemirror_mode": {
    "name": "ipython",
    "version": 3
   },
   "file_extension": ".py",
   "mimetype": "text/x-python",
   "name": "python",
   "nbconvert_exporter": "python",
   "pygments_lexer": "ipython3",
   "version": "3.8.5"
  },
  "orig_nbformat": 2,
  "kernelspec": {
   "name": "python385jvsc74a57bd0c44b72c526c8c2d5c61f5343e5a1f2700c1b4b253758e0d185049d36041666fd",
   "display_name": "Python 3.8.5 64-bit ('base': conda)"
  }
 },
 "nbformat": 4,
 "nbformat_minor": 2,
 "cells": [
  {
   "cell_type": "code",
   "execution_count": 1,
   "metadata": {},
   "outputs": [],
   "source": [
    "import os\n",
    "from latexTable import LatexTable"
   ]
  },
  {
   "cell_type": "code",
   "execution_count": 4,
   "metadata": {},
   "outputs": [
    {
     "output_type": "stream",
     "name": "stdout",
     "text": [
      "\\begin{tabular}{|l|l|l|} \\cline{1-1}\\cline{3-3}\n\\textbf{Positive} & \\textbf{} & \\textbf{Negative} \\\\ \\cline{1-1}\\cline{3-3}\ngood &  & bad \\\\ \\cline{1-1}\\cline{3-3}\nnice &  & horrible \\\\ \\cline{1-1}\\cline{3-3}\ncool &  & terrible \\\\ \\cline{1-1}\\cline{3-3}\nlovely &  & awful \\\\ \\cline{1-1}\\cline{3-3}\nwonderful &  & worst \\\\ \\cline{1-1}\\cline{3-3}\ngreat &  & shitty \\\\ \\cline{1-1}\\cline{3-3}\nawesome &  & crappy \\\\ \\cline{1-1}\\cline{3-3}\nfantastic &  & sucks \\\\ \\cline{1-1}\\cline{3-3}\namazing &  & hate \\\\ \\cline{1-1}\\cline{3-3}\nfun &  & despise \\\\ \\cline{1-1}\\cline{3-3}\nexcellent & \\multicolumn{2}{c}{} \\\\ \\cline{1-1}\\cline{3-3}\n\\end{tabular}\n"
     ]
    }
   ],
   "source": [
    "good = [\"good\", \"nice\", \"cool\", \"lovely\", \"wonderful\", \"great\", \"awesome\", \"fantastic\", \"amazing\", \"fun\"]\n",
    "bad = [\"bad\", \"horrible\", \"terrible\", \"awful\", \"worst\", \"shitty\", \"crappy\", \"sucks\", \"hate\", \"despise\"]\n",
    "\n",
    "table = LatexTable()\n",
    "table.boldIndexColumn = False\n",
    "table.headers = ['Positive', '', 'Negative']\n",
    "rows = []\n",
    "\n",
    "for i, item in enumerate(good):\n",
    "    rows.append([item, '', bad[i]])\n",
    "\n",
    "rows.append(['excellent', '\\multicolumn{2}{c}{}'])\n",
    "table.rows = rows\n",
    "result = table.render()\n",
    "res = result.split('\\\\hline')\n",
    "result = \"\\\\cline{1-1}\\\\cline{3-3}\".join(res)\n",
    "print(result)\n",
    "outputFile = './Appendix-Clusterwords.tex'\n",
    "with open(outputFile, mode='w') as output:\n",
    "    output.write(result)"
   ]
  },
  {
   "cell_type": "code",
   "execution_count": null,
   "metadata": {},
   "outputs": [],
   "source": []
  }
 ]
}