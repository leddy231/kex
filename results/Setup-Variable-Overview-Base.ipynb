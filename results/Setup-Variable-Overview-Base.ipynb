{
 "metadata": {
  "language_info": {
   "codemirror_mode": {
    "name": "ipython",
    "version": 3
   },
   "file_extension": ".py",
   "mimetype": "text/x-python",
   "name": "python",
   "nbconvert_exporter": "python",
   "pygments_lexer": "ipython3",
   "version": "3.8.5"
  },
  "orig_nbformat": 2,
  "kernelspec": {
   "name": "python385jvsc74a57bd0c44b72c526c8c2d5c61f5343e5a1f2700c1b4b253758e0d185049d36041666fd",
   "display_name": "Python 3.8.5 64-bit ('base': conda)"
  }
 },
 "nbformat": 4,
 "nbformat_minor": 2,
 "cells": [
  {
   "cell_type": "code",
   "execution_count": 1,
   "metadata": {},
   "outputs": [],
   "source": [
    "import os\n",
    "import pickle\n",
    "from latexTable import LatexTable"
   ]
  },
  {
   "cell_type": "code",
   "execution_count": 4,
   "metadata": {},
   "outputs": [
    {
     "output_type": "execute_result",
     "data": {
      "text/plain": [
       "['nrLetters',\n",
       " 'nrWords',\n",
       " 'nrSentences',\n",
       " 'nrSynsets',\n",
       " 'nrSyllables',\n",
       " 'nrMonoSyllables',\n",
       " 'nrBiSyllables',\n",
       " 'nrPolySyllables',\n",
       " 'nrLongWords',\n",
       " 'nrSlangWords',\n",
       " 'nrDifficultWordsSAT',\n",
       " 'nrDifficultWordsDaleChall']"
      ]
     },
     "metadata": {},
     "execution_count": 4
    }
   ],
   "source": [
    "finalNames = pickle.load(open('./FinalNames.pickle', mode='rb'))\n",
    "finalNames['dimensions']['base']"
   ]
  },
  {
   "cell_type": "code",
   "execution_count": 7,
   "metadata": {},
   "outputs": [
    {
     "output_type": "execute_result",
     "data": {
      "text/plain": [
       "['nrConjunctions',\n",
       " 'nrAdjectives',\n",
       " 'nrAdverbs',\n",
       " 'nrComplexVerbs',\n",
       " 'nrPossesives',\n",
       " 'nrDeterminers']"
      ]
     },
     "metadata": {},
     "execution_count": 7
    }
   ],
   "source": [
    "finalNames['dimensions']['postag']"
   ]
  },
  {
   "cell_type": "code",
   "execution_count": 8,
   "metadata": {},
   "outputs": [
    {
     "output_type": "stream",
     "name": "stdout",
     "text": [
      "\\begin{tabular}{|l|p{90mm}|} \\hline\n\\textbf{Variable} & \\textbf{Definition} \\\\ \\hline\nnrLetters & Number of letters \\\\ \\hline\nnrWords & Number of words \\\\ \\hline\nnrSentences & Number of sentences \\\\ \\hline\nnrSynsets & Number of synsets across all words \\\\ \\hline\nnrSyllables & Number of syllables across all words \\\\ \\hline\nnrMonoSyllables & Number of words with one syllable \\\\ \\hline\nnrBiSyllables & Number of words with two syllables \\\\ \\hline\nnrPolySyllables & Number of words with three or more syllables \\\\ \\hline\nnrLongWords & Number of words with 6 or more letters \\\\ \\hline\nnrSlangWords & Number of words that are found in a pre-defined list of slang words \\\\ \\hline\nnrHardWordsSAT & Number of words that are found in the SAT difficult words list \\\\ \\hline\nnrHardWordsDC & Number of words that are not found in the Dale-Chall easy words list \\\\ \\hline\nnrStrongSentiWords & Number of words that are found in a pre-defined list of strong sentiment words \\\\ \\hline\nnrMixedSentiWords & Number of words with both a positive and a negative synset \\\\ \\hline\nnrConjunctions & POS-tags pertaining to conjunctions: CC, IN \\\\ \\hline\nnrAdjectives & POS-tags pertaining to adjectives: JJ, JJR, JJS \\\\ \\hline\nnrAdverbs & POS-tags pertaining to adverbs: RB, RBR, RBS \\\\ \\hline\nnrComplexVerbs & POS-tags pertaining to complex verbs: MD, VBG \\\\ \\hline\nnrPossesives & POS-tags pertaining to possesives: POS, PRP, PRP\\$ \\\\ \\hline\nnrDeterminers & POS-tags pertaining to determiners: DT, PDT\\\\ \\hline\n \\multicolumn{3}{c}{} \\\\ [-1.5ex] \\hline\nuniquenessMean & Mean TF-IDF score for all words in an observation \\\\ \\hline\nuniquenessSTD & Standard deviation of the TF-IDF scores for all words in an observation \\\\ \\hline\nopinionPolarity & Measurement of how polarised an observation is. \\\\ \\hline\n\\end{tabular}\n"
     ]
    }
   ],
   "source": [
    "table = LatexTable()\n",
    "table.headers = ['Variable','Definition']\n",
    "table.columnAlignments = [\"l\", \"p{90mm}\"]\n",
    "table.boldIndexColumn = False\n",
    "table.rows = [\n",
    "        ['nrLetters', 'Number of letters'],\n",
    "        ['nrWords', 'Number of words'],\n",
    "        ['nrSentences', 'Number of sentences'],\n",
    "        ['nrSynsets', 'Number of synsets across all words'],\n",
    "        ['nrSyllables', 'Number of syllables across all words'],\n",
    "        ['nrMonoSyllables', 'Number of words with one syllable'],\n",
    "        ['nrBiSyllables', 'Number of words with two syllables'],\n",
    "        ['nrPolySyllables', 'Number of words with three or more syllables'],\n",
    "        ['nrLongWords', 'Number of words with 6 or more letters'],\n",
    "        ['nrSlangWords', 'Number of words that are found in a pre-defined list of slang words'],\n",
    "        ['nrHardWordsSAT', 'Number of words that are found in the SAT difficult words list'],\n",
    "        ['nrHardWordsDC', 'Number of words that are not found in the Dale-Chall easy words list'],\n",
    "        \n",
    "        ['nrStrongSentiWords', 'Number of words that are found in a pre-defined list of strong sentiment words'],\n",
    "        ['nrMixedSentiWords', 'Number of words with both a positive and a negative synset'],\n",
    "        ['nrConjunctions', 'POS-tags pertaining to conjunctions: CC, IN'],\n",
    "        ['nrAdjectives', 'POS-tags pertaining to adjectives: JJ, JJR, JJS'],\n",
    "        ['nrAdverbs', 'POS-tags pertaining to adverbs: RB, RBR, RBS'],\n",
    "        ['nrComplexVerbs', 'POS-tags pertaining to complex verbs: MD, VBG'],\n",
    "        ['nrPossesives', 'POS-tags pertaining to possesives: POS, PRP, PRP\\$'],\n",
    "        ['nrDeterminers', 'POS-tags pertaining to determiners: DT, PDT'],\n",
    "        \"!boldLine\",\n",
    "        ['uniquenessMean', 'Mean TF-IDF score for all words in an observation'],\n",
    "        ['uniquenessSTD', 'Standard deviation of the TF-IDF scores for all words in an observation'],\n",
    "        ['opinionPolarity', 'Measurement of how polarised an observation is.'], #max(#positiveSentences, #negativeSentences) / min(#positiveSentences, #negativeSentences)\n",
    "    ]\n",
    "result = table.render()\n",
    "outputFile = 'Setup-Variable-Overview-Base.tex'\n",
    "with open(outputFile, mode='w') as output:\n",
    "    output.write(result)\n",
    "print(result)"
   ]
  }
 ]
}