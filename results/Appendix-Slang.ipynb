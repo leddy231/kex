{
 "metadata": {
  "language_info": {
   "codemirror_mode": {
    "name": "ipython",
    "version": 3
   },
   "file_extension": ".py",
   "mimetype": "text/x-python",
   "name": "python",
   "nbconvert_exporter": "python",
   "pygments_lexer": "ipython3",
   "version": "3.8.5"
  },
  "orig_nbformat": 2,
  "kernelspec": {
   "name": "python385jvsc74a57bd0c44b72c526c8c2d5c61f5343e5a1f2700c1b4b253758e0d185049d36041666fd",
   "display_name": "Python 3.8.5 64-bit ('base': conda)"
  }
 },
 "nbformat": 4,
 "nbformat_minor": 2,
 "cells": [
  {
   "cell_type": "code",
   "execution_count": 1,
   "metadata": {},
   "outputs": [],
   "source": [
    "import os\n",
    "from latexTable import LatexTable"
   ]
  },
  {
   "cell_type": "code",
   "execution_count": 2,
   "metadata": {},
   "outputs": [],
   "source": [
    "words = [\"af\", \"afaik\", \"ama\", \"bout\", \"cmv\", \"dae\", \"dnt\", \"dm\", \"eli\", \"eli5\", \"fml\", \"finna\", \"goin\", \"hmu\", \"hella\", \"iirc\", \"imo\", \"imho\", \"ikr\", \"irl\", \"lmao\", \"lmfao\", \"lol\", \"mrw\", \"mfw\", \"nsfw\", \"omg\", \"psa\", \"r\", \"rn\", \"stfu\", \"sus\", \"til\", \"tldr\", \"wtf\", \"wit\", \"ysk\", \"yw\", \"u\", \"ur\", \"y\", \"yea\"]"
   ]
  },
  {
   "cell_type": "code",
   "execution_count": 12,
   "metadata": {},
   "outputs": [
    {
     "output_type": "execute_result",
     "data": {
      "text/plain": [
       "42"
      ]
     },
     "metadata": {},
     "execution_count": 12
    }
   ],
   "source": [
    "7 * 2 * 3"
   ]
  },
  {
   "cell_type": "code",
   "execution_count": 15,
   "metadata": {},
   "outputs": [],
   "source": [
    "w1 = words[:14]\n",
    "w2 = words[14:28]\n",
    "w3 = words[28:]"
   ]
  },
  {
   "cell_type": "code",
   "execution_count": 16,
   "metadata": {},
   "outputs": [
    {
     "output_type": "stream",
     "name": "stdout",
     "text": [
      "\\begin{tabular}{|l|l|l|} \\hline\naf & hella & r \\\\ \\hline\nafaik & iirc & rn \\\\ \\hline\nama & imo & stfu \\\\ \\hline\nbout & imho & sus \\\\ \\hline\ncmv & ikr & til \\\\ \\hline\ndae & irl & tldr \\\\ \\hline\ndnt & lmao & wtf \\\\ \\hline\ndm & lmfao & wit \\\\ \\hline\neli & lol & ysk \\\\ \\hline\neli5 & mrw & yw \\\\ \\hline\nfml & mfw & u \\\\ \\hline\nfinna & nsfw & ur \\\\ \\hline\ngoin & omg & y \\\\ \\hline\nhmu & psa & yea \\\\ \\hline\n\\end{tabular}\n"
     ]
    }
   ],
   "source": [
    "\n",
    "table = LatexTable()\n",
    "table.boldIndexColumn = False\n",
    "table.boldHeaders = False\n",
    "rows = []\n",
    "\n",
    "for i, item in enumerate(w1):\n",
    "    rows.append([item, w2[i], w3[i]])\n",
    "\n",
    "table.headers = rows.pop(0)\n",
    "table.rows = rows\n",
    "result = table.render()\n",
    "print(result)\n",
    "outputFile = './Appendix-Slang.tex'\n",
    "with open(outputFile, mode='w') as output:\n",
    "    output.write(result)"
   ]
  },
  {
   "cell_type": "code",
   "execution_count": null,
   "metadata": {},
   "outputs": [],
   "source": []
  }
 ]
}