{
 "metadata": {
  "language_info": {
   "codemirror_mode": {
    "name": "ipython",
    "version": 3
   },
   "file_extension": ".py",
   "mimetype": "text/x-python",
   "name": "python",
   "nbconvert_exporter": "python",
   "pygments_lexer": "ipython3",
   "version": "3.8.5"
  },
  "orig_nbformat": 2,
  "kernelspec": {
   "name": "python385jvsc74a57bd0c44b72c526c8c2d5c61f5343e5a1f2700c1b4b253758e0d185049d36041666fd",
   "display_name": "Python 3.8.5 64-bit ('base': conda)"
  }
 },
 "nbformat": 4,
 "nbformat_minor": 2,
 "cells": [
  {
   "cell_type": "code",
   "execution_count": 2,
   "metadata": {},
   "outputs": [],
   "source": [
    "import os\n",
    "import sys\n",
    "import inspect\n",
    "currentdir = os.path.dirname(os.path.abspath(inspect.getfile(inspect.currentframe())))\n",
    "parentdir = os.path.dirname(currentdir)\n",
    "sys.path.insert(0, parentdir)\n",
    "\n",
    "import pandas as pd\n",
    "from functions import dirs, readFile, canonicalNames, readSet\n",
    "from wordEmbedders import WESCScore\n",
    "import pickle\n",
    "import chevron\n",
    "from re import sub\n",
    "from latexTable import LatexTable"
   ]
  },
  {
   "cell_type": "code",
   "execution_count": 3,
   "metadata": {},
   "outputs": [],
   "source": [
    "dimensions = pickle.load(open('../data/Dimensions-All.pickle', mode='rb'))"
   ]
  },
  {
   "cell_type": "code",
   "execution_count": 4,
   "metadata": {},
   "outputs": [
    {
     "output_type": "execute_result",
     "data": {
      "text/plain": [
       "['formulaFleshKincaid',\n",
       " 'formulaGunningFog',\n",
       " 'formulaSMOG',\n",
       " 'formulaDaleChall',\n",
       " 'formulaColemanLiau',\n",
       " 'formulaLinsearWrite',\n",
       " 'formulaSpacheSAT',\n",
       " 'formulaSpacheDaleChall',\n",
       " 'formulaLIX',\n",
       " 'formulaFORCAST']"
      ]
     },
     "metadata": {},
     "execution_count": 4
    }
   ],
   "source": [
    "dimensions['formulas']"
   ]
  },
  {
   "cell_type": "code",
   "execution_count": 20,
   "metadata": {},
   "outputs": [
    {
     "output_type": "stream",
     "name": "stdout",
     "text": [
      "\\bgroup\n\\def\\arraystretch{2}%\n\\begin{tabular}{|l|l|} \\hline\n\\textbf{Formula} & \\textbf{Equation} \\\\ \\hline\n\\textbf{FleshKincaid} & \\footnotesize\\(206.835 - (1.015 * \\dfrac{nrWords}{nrSentences}) - (84.6 * \\dfrac{nrSyllables}{nrWords})\\) \\\\ \\hline\n\\textbf{GunningFog} & \\footnotesize\\(0.4 * (\\dfrac{nrWords}{nrSentences} + \\dfrac{nrPolySyllables}{nrWords})\\) \\\\ \\hline\n\\textbf{SMOG} & \\footnotesize\\(1.043 * \\sqrt{3.1291 + (30 * \\dfrac{nrPolySyllables}{nrSentences})}\\) \\\\ \\hline\n\\textbf{DaleChall} & \\footnotesize\\((0.1579 * \\dfrac{nrDifficultWordsDaleChall}{nrWords} * 100) + (0.0496 * \\dfrac{nrWords}{nrSentences})\\) \\\\ \\hline\n\\textbf{ColemanLiau} & \\footnotesize\\((0.0588 * \\dfrac{nrLetters}{nrWords} * 100) - (0.296 * \\dfrac{nrSentences}{nrWords} * 100) - 15.8\\) \\\\ \\hline\n\\textbf{LinsearWrite} & \\footnotesize\\(\\dfrac{nrMonoSyllables + nrBiSyllables + nrPolySyllables * 3}{nrSentences * 20}\\) \\\\ \\hline\n\\textbf{SpacheSAT} & \\footnotesize\\(0.659 + (0.121 * \\dfrac{nrWords}{nrSentences}) + (0.082 * \\dfrac{nrDifficultWordsSAT}{nrWords})\\) \\\\ \\hline\n\\textbf{SpacheDaleChall} & \\footnotesize\\(0.659 + (0.121 * \\dfrac{nrWords}{nrSentences}) + (0.082 * \\dfrac{nrDifficultWordsDaleChall}{nrWords})\\) \\\\ \\hline\n\\textbf{FORCAST} & \\footnotesize\\(20 - (\\dfrac{nrMonoSyllables}{nrWords} * 15)\\) \\\\ \\hline\n\\textbf{LIX} & v\\( \\dfrac{nrWords}{nrSentences} + (100 * \\dfrac{nrLongWords}{nrWords})\\) \\\\ \\hline\n\\end{tabular}\n\\egroup\n"
     ]
    }
   ],
   "source": [
    "table = LatexTable()\n",
    "table.headers = ['Formula', 'Equation']\n",
    "table.rows = [\n",
    "    ['FleshKincaid', '\\\\footnotesize\\(206.835 - (1.015 * \\\\dfrac{nrWords}{nrSentences}) - (84.6 * \\\\dfrac{nrSyllables}{nrWords})\\)'],\n",
    "    ['GunningFog',  '\\\\footnotesize\\(0.4 * (\\\\dfrac{nrWords}{nrSentences} + \\\\dfrac{nrPolySyllables}{nrWords})\\)'],\n",
    "    ['SMOG', '\\\\footnotesize\\(1.043 * \\\\sqrt{3.1291 + (30 * \\\\dfrac{nrPolySyllables}{nrSentences})}\\)'],\n",
    "    ['DaleChall', '\\\\footnotesize\\((0.1579 * \\\\dfrac{nrDifficultWordsDaleChall}{nrWords} * 100) + (0.0496 * \\\\dfrac{nrWords}{nrSentences})\\)'],\n",
    "    ['ColemanLiau', '\\\\footnotesize\\((0.0588 * \\\\dfrac{nrLetters}{nrWords} * 100) - (0.296 * \\\\dfrac{nrSentences}{nrWords} * 100) - 15.8\\)'],\n",
    "    ['LinsearWrite', '\\\\footnotesize\\(\\dfrac{nrMonoSyllables + nrBiSyllables + nrPolySyllables * 3}{nrSentences * 20}\\)'],\n",
    "    ['SpacheSAT', '\\\\footnotesize\\(0.659 + (0.121 * \\\\dfrac{nrWords}{nrSentences}) + (0.082 * \\\\dfrac{nrDifficultWordsSAT}{nrWords})\\)'],\n",
    "    ['SpacheDaleChall', '\\\\footnotesize\\(0.659 + (0.121 * \\\\dfrac{nrWords}{nrSentences}) + (0.082 * \\\\dfrac{nrDifficultWordsDaleChall}{nrWords})\\)'],\n",
    "    ['FORCAST', '\\\\footnotesize\\(20 - (\\\\dfrac{nrMonoSyllables}{nrWords} * 15)\\)'],\n",
    "    ['LIX', 'v\\( \\\\dfrac{nrWords}{nrSentences} + (100 * \\\\dfrac{nrLongWords}{nrWords})\\)']\n",
    "]\n",
    "result = table.render()\n",
    "result = \"\\\\bgroup\\n\\def\\\\arraystretch{2}%\\n\" + result + \"\\n\\egroup\"\n",
    "with open('./Setup-Formulas.tex', mode='w') as f:\n",
    "    f.write(result)\n",
    "print(result)"
   ]
  },
  {
   "cell_type": "code",
   "execution_count": null,
   "metadata": {},
   "outputs": [],
   "source": []
  }
 ]
}