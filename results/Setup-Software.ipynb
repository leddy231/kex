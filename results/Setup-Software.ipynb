{
 "metadata": {
  "language_info": {
   "codemirror_mode": {
    "name": "ipython",
    "version": 3
   },
   "file_extension": ".py",
   "mimetype": "text/x-python",
   "name": "python",
   "nbconvert_exporter": "python",
   "pygments_lexer": "ipython3",
   "version": "3.8.5"
  },
  "orig_nbformat": 2,
  "kernelspec": {
   "name": "python385jvsc74a57bd0c44b72c526c8c2d5c61f5343e5a1f2700c1b4b253758e0d185049d36041666fd",
   "display_name": "Python 3.8.5 64-bit ('base': conda)"
  }
 },
 "nbformat": 4,
 "nbformat_minor": 2,
 "cells": [
  {
   "cell_type": "code",
   "execution_count": 2,
   "metadata": {},
   "outputs": [],
   "source": [
    "import os\n",
    "import sys\n",
    "import inspect\n",
    "currentdir = os.path.dirname(os.path.abspath(inspect.getfile(inspect.currentframe())))\n",
    "parentdir = os.path.dirname(currentdir)\n",
    "sys.path.insert(0, parentdir)\n",
    "\n",
    "import pandas as pd\n",
    "from functions import dirs\n",
    "import pickle\n",
    "import chevron\n",
    "from re import sub\n",
    "from latexTable import LatexTable"
   ]
  },
  {
   "cell_type": "code",
   "execution_count": 8,
   "metadata": {},
   "outputs": [
    {
     "output_type": "stream",
     "name": "stdout",
     "text": [
      "\\begin{tabular}{|p{30mm}|p{70mm}|l|} \\hline\n\\textbf{Software} & \\textbf{Description} & \\textbf{Version} \\\\ \\hline\nMicrosoft Visual Studio Code & Code editor used to write, run and debug code & 1.55.2 \\\\ \\hline\nAnaconda & Python distribution platform, used to code solution & 3.8.5 \\\\ \\hline\n\\multicolumn{3}{c}{} \\\\ \\hline\n\\textbf{Library} & \\textbf{Description} & \\textbf{Version} \\\\ \\hline\nPandas & Python data analysis library, used for manipulating data in tables & 1.2.3 \\\\ \\hline\nNLTK & Natural language toolkit, used for tokenisation of data & 3.6.2 \\\\ \\hline\nSklearn & Machine learning library, used for helper functions, correlations and VIF & 0.24.1 \\\\ \\hline\nGensim & Machine learning library, used for the Word2Vec model & 4.0.1 \\\\ \\hline\nStatsmodels & Statistics library, used for logistic regression & 0.9.0 \\\\ \\hline\n\\end{tabular}\n"
     ]
    }
   ],
   "source": [
    "table = LatexTable()\n",
    "table.headers = ['Software','Description','Version']\n",
    "table.columnAlignments = [\"p{30mm}\", \"p{70mm}\", \"l\"]\n",
    "table.boldIndexColumn = False\n",
    "table.rows = [\n",
    "        [\"Microsoft Visual Studio Code\", \"Code editor used to write, run and debug code\", \"1.55.2\"],\n",
    "        [\"Anaconda\",\"Python distribution platform, used to code solution\", \"3.8.5\"],\n",
    "        \"!emptyRow\",\n",
    "        ['\\\\textbf{Library}','\\\\textbf{Description}','\\\\textbf{Version}'],\n",
    "        [\"Pandas\",\"Python data analysis library, used for manipulating data in tables\",\"1.2.3\"],\n",
    "        [\"NLTK\",\"Natural language toolkit, used for tokenisation of data\",\"3.6.2\"],\n",
    "        [\"Sklearn\",\"Machine learning library, used for helper functions, correlations and VIF\",\"0.24.1\"],\n",
    "        [\"Gensim\",\"Machine learning library, used for the Word2Vec model\",\"4.0.1\"],\n",
    "        [\"Statsmodels\",\"Statistics library, used for logistic regression\",\"0.9.0\"],\n",
    "        #[\"Optuna\",\"Optimisation framework, used to pick readability metrics that maximise explanatory power\",\"2.7.0\"]\n",
    "\n",
    "    ]\n",
    "result = table.render()\n",
    "outputFile = 'Setup-Software.tex'\n",
    "with open(outputFile, mode='w') as output:\n",
    "    output.write(result)\n",
    "print(result)"
   ]
  },
  {
   "cell_type": "code",
   "execution_count": 2,
   "metadata": {},
   "outputs": [],
   "source": [
    "data = {\n",
    "    'software': [\n",
    "        \"Microsoft Visual Studio Code & Code editor used to write, run and debug code & 1.55.2\",\n",
    "        \"Anaconda & Python distribution platform, used to code solution & 3.8.5\"\n",
    "    ],\n",
    "    'libraries': [\n",
    "        \"Pandas & Python data analysis library, used for manipulating data in tables & 1.2.3\",\n",
    "        \"NLTK & Natural language toolkit, used for tokenisation of data & 3.6.2\",\n",
    "        \"Sklearn & Machine learning library, used for helper functions, correlations and VIF & 0.24.1\",\n",
    "        \"Gensim & Machine learning library, used for the Word2Vec model & 4.0.1\",\n",
    "        \"Statsmodels & Statistics library, used for logistic regression & 0.9.0\",\n",
    "        \"Optuna & Optimisation framework, used to pick readability metrics that maximise explanatory power & 2.7.0\"\n",
    "    ]\n",
    "}"
   ]
  },
  {
   "cell_type": "code",
   "execution_count": 4,
   "metadata": {},
   "outputs": [],
   "source": [
    "outputFile = 'Setup-Software.tex'\n",
    "with open(outputFile, mode='w') as output:\n",
    "    with open(f'{outputFile}.mustache') as template:\n",
    "        output.write(chevron.render(template, data))"
   ]
  },
  {
   "cell_type": "code",
   "execution_count": null,
   "metadata": {},
   "outputs": [],
   "source": []
  }
 ]
}