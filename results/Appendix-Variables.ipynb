{
 "metadata": {
  "language_info": {
   "codemirror_mode": {
    "name": "ipython",
    "version": 3
   },
   "file_extension": ".py",
   "mimetype": "text/x-python",
   "name": "python",
   "nbconvert_exporter": "python",
   "pygments_lexer": "ipython3",
   "version": "3.8.5"
  },
  "orig_nbformat": 2,
  "kernelspec": {
   "name": "python385jvsc74a57bd0c44b72c526c8c2d5c61f5343e5a1f2700c1b4b253758e0d185049d36041666fd",
   "display_name": "Python 3.8.5 64-bit ('base': conda)"
  }
 },
 "nbformat": 4,
 "nbformat_minor": 2,
 "cells": [
  {
   "cell_type": "code",
   "execution_count": 7,
   "metadata": {},
   "outputs": [],
   "source": [
    "import os\n",
    "import sys\n",
    "import inspect\n",
    "currentdir = os.path.dirname(os.path.abspath(inspect.getfile(inspect.currentframe())))\n",
    "parentdir = os.path.dirname(currentdir)\n",
    "sys.path.insert(0, parentdir)\n",
    "\n",
    "import pandas as pd\n",
    "from functions import dirs, readFile, canonicalNames\n",
    "from wordEmbedders import WESCScore\n",
    "import pickle\n",
    "import chevron\n",
    "from re import sub\n",
    "from latexTable import LatexTable"
   ]
  },
  {
   "cell_type": "code",
   "execution_count": 8,
   "metadata": {},
   "outputs": [],
   "source": [
    "datasets = dirs('../data')\n",
    "names = canonicalNames('../data')\n",
    "dimensions = pickle.load(open('../data/Dimensions-All.pickle', mode=\"rb\"))"
   ]
  },
  {
   "cell_type": "code",
   "execution_count": 9,
   "metadata": {},
   "outputs": [],
   "source": [
    "finalNames = pickle.load(open('./FinalNames.pickle', mode='rb'))"
   ]
  },
  {
   "cell_type": "code",
   "execution_count": 10,
   "metadata": {},
   "outputs": [],
   "source": [
    "alldims = list(finalNames['dimensionNames'].keys())"
   ]
  },
  {
   "cell_type": "code",
   "execution_count": 11,
   "metadata": {},
   "outputs": [],
   "source": [
    "fleshKincaid = {\n",
    "    0: '22-23',\n",
    "    30: '18-19',\n",
    "    50: '15-18',\n",
    "    60: '13-15',\n",
    "    70: '12-13',\n",
    "    80: '11-12',\n",
    "    90: '11-'\n",
    "}\n",
    "gunningFog = {\n",
    "    0: '3-7',\n",
    "    1: '7-11',\n",
    "    5: '11-14',\n",
    "    8: '14-17',\n",
    "    11: '17+'\n",
    "}\n",
    "smog = gunningFog\n",
    "daleChall = {\n",
    "    0: '3-10',\n",
    "    5: '10-12',\n",
    "    6: '12-14',\n",
    "    7: '14-16',\n",
    "    8: '16-18',\n",
    "    9: '18-22',\n",
    "    10: '22+'\n",
    "}\n",
    "colmanLiau = smog\n",
    "linsearWrite = smog\n",
    "spache = smog\n",
    "lix = {\n",
    "    0: 'Childrens books',\n",
    "    25: 'Simple texts',\n",
    "    30: 'Fiction',\n",
    "    40: 'Factual information',\n",
    "    50: 'Technical texts',\n",
    "    60: 'Difficult texts'\n",
    "}\n",
    "forcast = smog\n",
    "formulaRanges = {\n",
    "  'formulaFleshKincaid': (0, 100),\n",
    "  'formulaGunningFog': (0, 12),\n",
    "  'formulaSMOG': (0, 12),\n",
    "  'formulaDaleChall': (0, 12),\n",
    "  'formulaColemanLiau': (0, 12),\n",
    "  'formulaLinsearWrite': (0, 12),\n",
    "  'formulaSpacheSAT': (0, 12),\n",
    "  'formulaSpacheDaleChall': (0, 12),\n",
    "  'formulaLIX': (0, 70),\n",
    "  'formulaFORCAST': (0, 12),\n",
    "}"
   ]
  },
  {
   "cell_type": "code",
   "execution_count": 13,
   "metadata": {},
   "outputs": [],
   "source": [
    "for dataset in datasets:\n",
    "    dimsFile = f\"../data/{dataset}/Dimensions.csv\"\n",
    "    dims = pd.read_csv(dimsFile)\n",
    "    desc = pd.DataFrame()\n",
    "    for dim in alldims:\n",
    "        col = dims[dim]\n",
    "        if dim in dimensions['formulas']:\n",
    "            (low, high) = formulaRanges[dim]\n",
    "        else: \n",
    "            high = col.quantile(0.99)\n",
    "            low = col.quantile(0.01)\n",
    "        col = col[(col <= high) & (col >= low)]\n",
    "        \n",
    "        desc[dim] = col.describe()\n",
    "\n",
    "    def val(dim, v):\n",
    "        if dim in dimensions['base']:\n",
    "            return f\"{desc[dim][v]:.0f}\"\n",
    "        else:\n",
    "            return f\"{desc[dim][v]:.2f}\"\n",
    "    rows = []\n",
    "    for aspect in [x for x in dimensions.keys() if not x == 'postag']:\n",
    "        n = len(dimensions[aspect])\n",
    "        items = list(map(lambda dim: [\"\", finalNames['dimensionNames'][dim], val(dim, 'min'), val(dim, 'mean'), val(dim, 'max'), val(dim, 'std')], dimensions[aspect]))\n",
    "        items[0][0] = \"\\parbox[t]{2mm}{\\multirow{\"+str(n)+\"}{*}{\\\\rotatebox[origin=c]{90}{\"+aspect+\"}}}\"\n",
    "        rows += items\n",
    "    table = LatexTable()\n",
    "    table.headers = ['Variable', 'Min', 'Mean', 'Max', 'STD']\n",
    "    table.columnAlignments = ['l','l','r','r','r','r']\n",
    "    table.emptyFirstHeader = True\n",
    "    table.boldIndexColumn = False\n",
    "    table.rows = rows\n",
    "    result = table.render()\n",
    "    rows = result.split(\"\\n\")\n",
    "    out = []\n",
    "    for i, r in enumerate(rows):\n",
    "        if i + 1 < len(rows):\n",
    "            nxt = rows[i+1]\n",
    "        else:\n",
    "            nxt = None\n",
    "        if nxt is None or nxt[0] == ' ':\n",
    "            r = sub(r\"\\\\hline\", r\"\\\\cline{2-6}\", r)\n",
    "        out.append(r)\n",
    "    #result = sub(r\"\\\\hline\", r\"\\\\cline{2-6}\", result)\n",
    "    #print(\"\\n\".join(out))\n",
    "    with open(f'./Appendix-Variables-{dataset}.tex',mode=\"w\") as f:\n",
    "        f.write(\"\\n\".join(out))"
   ]
  },
  {
   "cell_type": "code",
   "execution_count": null,
   "metadata": {},
   "outputs": [],
   "source": []
  }
 ]
}