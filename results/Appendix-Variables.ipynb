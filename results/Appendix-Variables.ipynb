{
 "metadata": {
  "language_info": {
   "codemirror_mode": {
    "name": "ipython",
    "version": 3
   },
   "file_extension": ".py",
   "mimetype": "text/x-python",
   "name": "python",
   "nbconvert_exporter": "python",
   "pygments_lexer": "ipython3",
   "version": "3.8.5"
  },
  "orig_nbformat": 2,
  "kernelspec": {
   "name": "python385jvsc74a57bd0c44b72c526c8c2d5c61f5343e5a1f2700c1b4b253758e0d185049d36041666fd",
   "display_name": "Python 3.8.5 64-bit ('base': conda)"
  }
 },
 "nbformat": 4,
 "nbformat_minor": 2,
 "cells": [
  {
   "cell_type": "code",
   "execution_count": 1,
   "metadata": {},
   "outputs": [],
   "source": [
    "import os\n",
    "import sys\n",
    "import inspect\n",
    "currentdir = os.path.dirname(os.path.abspath(inspect.getfile(inspect.currentframe())))\n",
    "parentdir = os.path.dirname(currentdir)\n",
    "sys.path.insert(0, parentdir)\n",
    "\n",
    "import pandas as pd\n",
    "from functions import dirs, readFile, canonicalNames\n",
    "from wordEmbedders import WESCScore\n",
    "import pickle\n",
    "import chevron\n",
    "from re import sub\n",
    "from latexTable import LatexTable"
   ]
  },
  {
   "cell_type": "code",
   "execution_count": 3,
   "metadata": {},
   "outputs": [],
   "source": [
    "#datasets = dirs('../data')\n",
    "names = canonicalNames('../data')\n",
    "dimensions = pickle.load(open('../data/Dimensions-All.pickle', mode=\"rb\"))"
   ]
  },
  {
   "cell_type": "code",
   "execution_count": 11,
   "metadata": {},
   "outputs": [],
   "source": [
    "alldims = [item for sublist in dimensions.values() for item in sublist]"
   ]
  },
  {
   "cell_type": "code",
   "execution_count": 60,
   "metadata": {},
   "outputs": [],
   "source": [
    "for dataset in datasets:\n",
    "    dimsFile = f\"../data/{dataset}/Dimensions.csv\"\n",
    "    dims = pd.read_csv(dimsFile)\n",
    "    desc = dims.describe()\n",
    "    def val(dim, v):\n",
    "        return f\"{desc[dim][v]:.2f}\"\n",
    "    rows = []\n",
    "    for aspect in [x for x in dimensions.keys() if not x == 'postag']:\n",
    "        n = len(dimensions[aspect])\n",
    "        items = list(map(lambda dim: [\"\", dim, val(dim, 'min'), val(dim, 'mean'), val(dim, 'max'), val(dim, 'std')], dimensions[aspect]))\n",
    "        items[0][0] = \"\\parbox[t]{2mm}{\\multirow{\"+str(n)+\"}{*}{\\\\rotatebox[origin=c]{90}{\"+aspect+\"}}}\"\n",
    "        rows += items\n",
    "    table = LatexTable()\n",
    "    table.headers = ['Variable', 'Min', 'Mean', 'Max', 'STD']\n",
    "    table.columnAlignments = ['l','l','r','r','r','r']\n",
    "    table.emptyFirstHeader = True\n",
    "    table.boldIndexColumn = False\n",
    "    table.rows = rows\n",
    "    result = table.render()\n",
    "    rows = result.split(\"\\n\")\n",
    "    out = []\n",
    "    for i, r in enumerate(rows):\n",
    "        if i + 1 < len(rows):\n",
    "            nxt = rows[i+1]\n",
    "        else:\n",
    "            nxt = None\n",
    "        if nxt is None or nxt[0] == ' ':\n",
    "            r = sub(r\"\\\\hline\", r\"\\\\cline{2-6}\", r)\n",
    "        out.append(r)\n",
    "    #result = sub(r\"\\\\hline\", r\"\\\\cline{2-6}\", result)\n",
    "    #print(\"\\n\".join(out))\n",
    "    with open(f'./Appendix-Variables-{dataset}.tex',mode=\"w\") as f:\n",
    "        f.write(\"\\n\".join(out))"
   ]
  },
  {
   "cell_type": "code",
   "execution_count": null,
   "metadata": {},
   "outputs": [],
   "source": []
  }
 ]
}