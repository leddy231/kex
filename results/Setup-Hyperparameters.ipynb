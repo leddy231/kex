{
 "metadata": {
  "language_info": {
   "codemirror_mode": {
    "name": "ipython",
    "version": 3
   },
   "file_extension": ".py",
   "mimetype": "text/x-python",
   "name": "python",
   "nbconvert_exporter": "python",
   "pygments_lexer": "ipython3",
   "version": "3.8.5"
  },
  "orig_nbformat": 2,
  "kernelspec": {
   "name": "python385jvsc74a57bd0c44b72c526c8c2d5c61f5343e5a1f2700c1b4b253758e0d185049d36041666fd",
   "display_name": "Python 3.8.5 64-bit ('base': conda)"
  }
 },
 "nbformat": 4,
 "nbformat_minor": 2,
 "cells": [
  {
   "cell_type": "code",
   "execution_count": 1,
   "metadata": {},
   "outputs": [],
   "source": [
    "import os\n",
    "from latexTable import LatexTable"
   ]
  },
  {
   "cell_type": "code",
   "execution_count": 2,
   "metadata": {},
   "outputs": [
    {
     "output_type": "stream",
     "name": "stdout",
     "text": [
      "\\begin{tabular}{|l|p{70mm}|l|} \\hline\n\\textbf{Hyperparameter} & \\textbf{Description} & \\textbf{Value} \\\\ \\hline\nVector size & Number of dimensions for word vectors & 300* \\\\ \\hline\nEpochs & Number of iterative training epochs & 30* \\\\ \\hline\nWindow & Number of words in context window & 5 \\\\ \\hline\nAlpha & Initial learning rate & 0.025 \\\\ \\hline\nMin alpha & Minimum alpha value the learning rate can drop to & 0.0001 \\\\ \\hline\nSample & Word downsampling threshold & 0.001 \\\\ \\hline\nSampling method & Sampling methoddology & negative \\\\ \\hline\nTraining algorithm & Algorithm used, CBOW or skip-gram & CBOW \\\\ \\hline\nSeed & Random initialization seed & 1 \\\\ \\hline\n\\end{tabular}\n"
     ]
    }
   ],
   "source": [
    "#|l|p{70mm}|l|\n",
    "\n",
    "table = LatexTable()\n",
    "table.headers = ['Hyperparameter','Description','Value']\n",
    "table.columnAlignments = ['l', 'p{70mm}', 'l']\n",
    "table.boldIndexColumn = False\n",
    "table.rows = [\n",
    "        ['Vector size', 'Number of dimensions for word vectors', '300*'],\n",
    "        ['Epochs', 'Number of iterative training epochs', '30*'],\n",
    "        ['Window', 'Number of words in context window', '5'],\n",
    "        ['Alpha', 'Initial learning rate', '0.025'],\n",
    "        ['Min alpha', 'Minimum alpha value the learning rate can drop to', '0.0001'],\n",
    "        ['Sample', 'Word downsampling threshold', '0.001'],\n",
    "        ['Sampling method', 'Sampling methoddology', 'negative'],\n",
    "        ['Training algorithm', 'Algorithm used, CBOW or skip-gram', 'CBOW'],\n",
    "        ['Seed', 'Random initialization seed', '1'],\n",
    "    ]\n",
    "result = table.render()\n",
    "outputFile = 'Setup-Hyperparameters.tex'\n",
    "with open(outputFile, mode='w') as output:\n",
    "    output.write(result)\n",
    "print(result)"
   ]
  },
  {
   "cell_type": "code",
   "execution_count": null,
   "metadata": {},
   "outputs": [],
   "source": []
  }
 ]
}