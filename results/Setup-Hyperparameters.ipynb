{
 "metadata": {
  "language_info": {
   "codemirror_mode": {
    "name": "ipython",
    "version": 3
   },
   "file_extension": ".py",
   "mimetype": "text/x-python",
   "name": "python",
   "nbconvert_exporter": "python",
   "pygments_lexer": "ipython3",
   "version": "3.8.5"
  },
  "orig_nbformat": 2,
  "kernelspec": {
   "name": "python385jvsc74a57bd0c44b72c526c8c2d5c61f5343e5a1f2700c1b4b253758e0d185049d36041666fd",
   "display_name": "Python 3.8.5 64-bit ('base': conda)"
  }
 },
 "nbformat": 4,
 "nbformat_minor": 2,
 "cells": [
  {
   "cell_type": "code",
   "execution_count": 1,
   "metadata": {},
   "outputs": [],
   "source": [
    "import os\n",
    "import sys\n",
    "import inspect\n",
    "currentdir = os.path.dirname(os.path.abspath(inspect.getfile(inspect.currentframe())))\n",
    "parentdir = os.path.dirname(currentdir)\n",
    "sys.path.insert(0, parentdir)\n",
    "\n",
    "import pandas as pd\n",
    "from functions import dirs\n",
    "import pickle\n",
    "import chevron\n",
    "from re import sub\n",
    "from latexTable import LatexTable"
   ]
  },
  {
   "cell_type": "code",
   "execution_count": 3,
   "metadata": {},
   "outputs": [
    {
     "output_type": "stream",
     "name": "stdout",
     "text": [
      "\\begin{tabular}{|l|l|l|} \\hline\n\\textbf{Hyperparameter} & \\textbf{Description} & \\textbf{Value} \\\\ \\hline\nVector size & Dimensions in one word vector & 300* \\\\ \\hline\nAlpha & Initial learning rate & 0.025 \\\\ \\hline\nWindow & Nr of words in prediction context & 5 \\\\ \\hline\nSample & Word downsampling threshold & 0.001 \\\\ \\hline\nSeed & Random initialization seed & 1 \\\\ \\hline\nMin alpha & Minimum alpha value the learning rate can drop to & 0.0001 \\\\ \\hline\nTraining algorithm & Algorithm used, CBOW or skip-gram & CBOW \\\\ \\hline\nSampling method & Sampling method, hierarchical softmax or negative & negative \\\\ \\hline\nEpochs & Training epochs & 30* \\\\ \\hline\n\\end{tabular}\n"
     ]
    }
   ],
   "source": [
    "table = LatexTable()\n",
    "table.headers = ['Hyperparameter','Description','Value']\n",
    "table.boldIndexColumn = False\n",
    "table.rows = [\n",
    "        ['Vector size', 'Dimensions in one word vector', '300*'],\n",
    "        ['Alpha', 'Initial learning rate', '0.025'],\n",
    "        ['Window', 'Nr of words in prediction context', '5'],\n",
    "        ['Sample', 'Word downsampling threshold', '0.001'],\n",
    "        ['Seed', 'Random initialization seed', '1'],\n",
    "        ['Min alpha', 'Minimum alpha value the learning rate can drop to', '0.0001'],\n",
    "        ['Training algorithm', 'Algorithm used, CBOW or skip-gram', 'CBOW'],\n",
    "        ['Sampling method', 'Sampling method, hierarchical softmax or negative', 'negative'],\n",
    "        ['Epochs', 'Training epochs', '30*'],\n",
    "\n",
    "    ]\n",
    "result = table.render()\n",
    "outputFile = 'Setup-Hyperparameters.tex'\n",
    "with open(outputFile, mode='w') as output:\n",
    "    output.write(result)\n",
    "print(result)"
   ]
  },
  {
   "cell_type": "code",
   "execution_count": null,
   "metadata": {},
   "outputs": [],
   "source": []
  }
 ]
}