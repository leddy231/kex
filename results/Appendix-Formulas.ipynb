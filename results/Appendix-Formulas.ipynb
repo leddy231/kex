{
 "metadata": {
  "language_info": {
   "codemirror_mode": {
    "name": "ipython",
    "version": 3
   },
   "file_extension": ".py",
   "mimetype": "text/x-python",
   "name": "python",
   "nbconvert_exporter": "python",
   "pygments_lexer": "ipython3",
   "version": "3.8.5"
  },
  "orig_nbformat": 2,
  "kernelspec": {
   "name": "python385jvsc74a57bd0c44b72c526c8c2d5c61f5343e5a1f2700c1b4b253758e0d185049d36041666fd",
   "display_name": "Python 3.8.5 64-bit ('base': conda)"
  }
 },
 "nbformat": 4,
 "nbformat_minor": 2,
 "cells": [
  {
   "cell_type": "code",
   "execution_count": 1,
   "metadata": {},
   "outputs": [],
   "source": [
    "import os\n",
    "import pickle\n",
    "from latexTable import LatexTable"
   ]
  },
  {
   "cell_type": "code",
   "execution_count": 2,
   "metadata": {},
   "outputs": [
    {
     "output_type": "execute_result",
     "data": {
      "text/plain": [
       "['formulaFleshKincaid',\n",
       " 'formulaDaleChall',\n",
       " 'formulaGunningFog',\n",
       " 'formulaColemanLiau',\n",
       " 'formulaLIX',\n",
       " 'formulaSMOG',\n",
       " 'formulaFORCAST',\n",
       " 'formulaLinsearWrite']"
      ]
     },
     "metadata": {},
     "execution_count": 2
    }
   ],
   "source": [
    "finalNames = pickle.load(open('./FinalNames.pickle', mode='rb'))\n",
    "finalNames['dimensions']['formulas']"
   ]
  },
  {
   "cell_type": "code",
   "execution_count": 3,
   "metadata": {},
   "outputs": [
    {
     "output_type": "stream",
     "name": "stdout",
     "text": [
      "\\bgroup\n\\def\\arraystretch{2}%\n\\begin{tabular}{|l|l|} \\hline\n\\textbf{Formula} & \\textbf{Equation} \\\\ \\hline\n\\textbf{Flesh-Kincaid} & \\footnotesize\\(206.835 - \\left(1.015 * \\dfrac{\\textrm{nrWords}}{\\textrm{nrSentences}}\\right) - \\left(84.6 * \\dfrac{\\textrm{nrSyllables}}{\\textrm{nrWords}}\\right)\\) \\\\ \\hline\n\\textbf{Dale-Chall} & \\footnotesize\\(\\left(0.1579 * \\dfrac{\\textrm{nrDifficultWordsDaleChall}}{\\textrm{nrWords}} * 100\\right) + \\left(0.0496 * \\dfrac{\\textrm{nrWords}}{\\textrm{nrSentences}}\\right)\\) \\\\ \\hline\n\\textbf{Gunning-Fog} & \\footnotesize\\(0.4 * \\left(\\dfrac{\\textrm{nrWords}}{\\textrm{nrSentences}} + \\dfrac{\\textrm{nrPolySyllables}}{\\textrm{nrWords}}\\right)\\) \\\\ \\hline\n\\textbf{Coleman-Liau} & \\footnotesize\\(\\left(0.0588 * \\dfrac{\\textrm{nrLetters}}{\\textrm{nrWords}} * 100\\right) - \\left(0.296 * \\dfrac{\\textrm{nrSentences}}{\\textrm{nrWords}} * 100\\right) - 15.8\\) \\\\ \\hline\n\\textbf{LIX} & \\footnotesize\\( \\dfrac{\\textrm{nrWords}}{\\textrm{nrSentences}} + \\left(100 * \\dfrac{\\textrm{nrLongWords}}{\\textrm{nrWords}}\\right)\\) \\\\ \\hline\n\\textbf{SMOG} & \\footnotesize\\(1.043 * \\sqrt{3.1291 + \\left(30 * \\dfrac{\\textrm{nrPolySyllables}}{\\textrm{nrSentences}}\\right)}\\) \\\\ \\hline\n\\textbf{FORCAST} & \\footnotesize\\(20 - \\left(\\dfrac{\\textrm{nrMonoSyllables}}{\\textrm{nrWords}} * 15\\right)\\) \\\\ \\hline\n\\textbf{Linsear-Write} & \\footnotesize\\(\\dfrac{\\textrm{nrMonoSyllables + nrBiSyllables + nrPolySyllables * 3}}{\\textrm{nrSentences * 2 - b}}\\) \\\\ \\hline\n\\end{tabular}\n\\egroup\n"
     ]
    }
   ],
   "source": [
    "table = LatexTable()\n",
    "table.headers = ['Formula', 'Equation']\n",
    "table.rows = [\n",
    "    ['Flesh-Kincaid', '\\\\footnotesize\\(206.835 - \\\\left(1.015 * \\\\dfrac{\\\\textrm{nrWords}}{\\\\textrm{nrSentences}}\\\\right) - \\\\left(84.6 * \\\\dfrac{\\\\textrm{nrSyllables}}{\\\\textrm{nrWords}}\\\\right)\\)'],\n",
    "    ['Dale-Chall', '\\\\footnotesize\\(\\\\left(0.1579 * \\\\dfrac{\\\\textrm{nrDifficultWordsDaleChall}}{\\\\textrm{nrWords}} * 100\\\\right) + \\\\left(0.0496 * \\\\dfrac{\\\\textrm{nrWords}}{\\\\textrm{nrSentences}}\\\\right)\\)'],\n",
    "    ['Gunning-Fog',  '\\\\footnotesize\\(0.4 * \\\\left(\\\\dfrac{\\\\textrm{nrWords}}{\\\\textrm{nrSentences}} + \\\\dfrac{\\\\textrm{nrPolySyllables}}{\\\\textrm{nrWords}}\\\\right)\\)'],\n",
    "    ['Coleman-Liau', '\\\\footnotesize\\(\\\\left(0.0588 * \\\\dfrac{\\\\textrm{nrLetters}}{\\\\textrm{nrWords}} * 100\\\\right) - \\\\left(0.296 * \\\\dfrac{\\\\textrm{nrSentences}}{\\\\textrm{nrWords}} * 100\\\\right) - 15.8\\)'],\n",
    "    ['LIX', '\\\\footnotesize\\( \\\\dfrac{\\\\textrm{nrWords}}{\\\\textrm{nrSentences}} + \\\\left(100 * \\\\dfrac{\\\\textrm{nrLongWords}}{\\\\textrm{nrWords}}\\\\right)\\)'],\n",
    "    ['SMOG', '\\\\footnotesize\\(1.043 * \\\\sqrt{3.1291 + \\\\left(30 * \\\\dfrac{\\\\textrm{nrPolySyllables}}{\\\\textrm{nrSentences}}\\\\right)}\\)'],\n",
    "    ['FORCAST', '\\\\footnotesize\\(20 - \\\\left(\\\\dfrac{\\\\textrm{nrMonoSyllables}}{\\\\textrm{nrWords}} * 15\\\\right)\\)'],\n",
    "    ['Linsear-Write', '\\\\footnotesize\\(\\dfrac{\\\\textrm{nrMonoSyllables + nrBiSyllables + nrPolySyllables * 3}}{\\\\textrm{nrSentences * 2 - b}}\\)'],\n",
    "    #['SpacheSAT', '\\\\footnotesize\\(0.659 + (0.121 * \\\\dfrac{nrWords}{nrSentences}) + (0.082 * \\\\dfrac{nrDifficultWordsSAT}{nrWords})\\)'],\n",
    "    #['SpacheDaleChall', '\\\\footnotesize\\(0.659 + (0.121 * \\\\dfrac{nrWords}{nrSentences}) + (0.082 * \\\\dfrac{nrDifficultWordsDaleChall}{nrWords})\\)'],\n",
    "]\n",
    "result = table.render()\n",
    "result = \"\\\\bgroup\\n\\def\\\\arraystretch{2}%\\n\" + result + \"\\n\\egroup\"\n",
    "with open('./Appendix-Formulas.tex', mode='w') as f:\n",
    "    f.write(result)\n",
    "print(result)"
   ]
  },
  {
   "cell_type": "code",
   "execution_count": null,
   "metadata": {},
   "outputs": [],
   "source": []
  }
 ]
}