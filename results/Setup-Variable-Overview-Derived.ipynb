{
 "metadata": {
  "language_info": {
   "codemirror_mode": {
    "name": "ipython",
    "version": 3
   },
   "file_extension": ".py",
   "mimetype": "text/x-python",
   "name": "python",
   "nbconvert_exporter": "python",
   "pygments_lexer": "ipython3",
   "version": "3.8.5"
  },
  "orig_nbformat": 2,
  "kernelspec": {
   "name": "python385jvsc74a57bd0c44b72c526c8c2d5c61f5343e5a1f2700c1b4b253758e0d185049d36041666fd",
   "display_name": "Python 3.8.5 64-bit ('base': conda)"
  }
 },
 "nbformat": 4,
 "nbformat_minor": 2,
 "cells": [
  {
   "cell_type": "code",
   "execution_count": 1,
   "metadata": {},
   "outputs": [],
   "source": [
    "import os\n",
    "import sys\n",
    "import inspect\n",
    "currentdir = os.path.dirname(os.path.abspath(inspect.getfile(inspect.currentframe())))\n",
    "parentdir = os.path.dirname(currentdir)\n",
    "sys.path.insert(0, parentdir)\n",
    "\n",
    "import pandas as pd\n",
    "from functions import dirs, readSet\n",
    "import pickle\n",
    "import chevron\n",
    "from re import sub\n",
    "from latexTable import LatexTable"
   ]
  },
  {
   "cell_type": "code",
   "execution_count": 2,
   "metadata": {},
   "outputs": [],
   "source": [
    "dims = pickle.load(open('../data/Dimensions-All.pickle', mode='rb'))\n",
    "picked = readSet('../data/Dimensions-Picked-Final.txt')\n",
    "finalNames = pickle.load(open('./FinalNames.pickle', mode='rb'))"
   ]
  },
  {
   "cell_type": "code",
   "execution_count": 7,
   "metadata": {},
   "outputs": [],
   "source": [
    "base = ['nrWords', 'nrSenteces', 'nrLetters', 'nrSynsets', 'nrSyllables', 'nrMonoSyllables', 'nrBiSyllables', \n",
    "'nrPolySyllables', 'nrLongWords', 'nrAmbiguousSentimentWords', 'nrStrongSentimentWords', 'nrSlangWords', \n",
    "'nrDifficultWordsSAT', 'nrDifficultWordsDaleChall', 'opinionPolarity', 'uniquenessMean', 'uniquenessSTD']\n",
    "\n",
    "left = ['lexical', 'syntactic', 'semantic']\n",
    "right = ['postagwords', 'sentiment']\n",
    "def items(aspect):\n",
    "    i = [x for x in finalNames['dimensions'][aspect] if x not in base]\n",
    "    i = list(map(lambda item: [finalNames['dimensionNames'][item] + '*'] if item in picked else [finalNames['dimensionNames'][item]], i))\n",
    "    #i.append(\"!emptyRow\")\n",
    "    return i"
   ]
  },
  {
   "cell_type": "code",
   "execution_count": 26,
   "metadata": {},
   "outputs": [
    {
     "output_type": "stream",
     "name": "stdout",
     "text": [
      "\\begin{tabular}{|l|l|l|} \\cline{1-1}\\cline{3-3}\n\\textbf{Lexical} & \\textbf{} & \\textbf{POS groups} \\\\ \\cline{1-1}\\cline{3-3}\nnrLetters/nrWords* &  & nrConjunctions/nrWords* \\\\ \\cline{1-1}\\cline{3-3}\nnrSyllables/nrWords &  & nrAdjectives/nrWords* \\\\ \\cline{1-1}\\cline{3-3}\nnrMonoSyllables/nrWords &  & nrAdverbs/nrWords* \\\\ \\cline{1-1}\\cline{3-3}\nnrBiSyllables/nrWords &  & nrComplexVerbs/nrWords* \\\\ \\cline{1-1}\\cline{3-3}\nnrPolySyllables/nrWords &  & nrPossesives/nrWords* \\\\ \\cline{1-1}\\cline{3-3}\nnrLongWords/nrWords &  & nrDeterminers/nrWords* \\\\ \\cline{1-1}\\cline{3-3}\n\\multicolumn{3}{c}{} \\\\ \\cline{1-1}\\cline{3-3}\n\\textbf{Syntactic} &  & \\textbf{Sentiment} \\\\ \\cline{1-1}\\cline{3-3}\nnrLetters/nrSentences &  & nrMixedSentiWords/nrWords* \\\\ \\cline{1-1}\\cline{3-3}\nnrWords/nrSentences* &  & nrStrongSentiWords/nrWords* \\\\ \\cline{1-1}\\cline{3-3}\nnrSyllables/nrSentences & \\multicolumn{2}{c}{} \\\\ \\cline{1-1}\nnrMonoSyllables/nrSentences & \\multicolumn{2}{c}{} \\\\ \\cline{1-1}\nnrBiSyllables/nrSentences & \\multicolumn{2}{c}{} \\\\ \\cline{1-1}\nnrPolySyllables/nrSentences & \\multicolumn{2}{c}{} \\\\ \\cline{1-1}\nnrLongWords/nrSentences & \\multicolumn{2}{c}{} \\\\ \\cline{1-1}\n\\multicolumn{3}{c}{} \\\\ \\cline{1-1}\n\\textbf{Semantic} & \\multicolumn{2}{c}{} \\\\ \\cline{1-1}\nnrSynsets/nrWords* & \\multicolumn{2}{c}{} \\\\ \\cline{1-1}\nnrSlangWords/nrWords* & \\multicolumn{2}{c}{} \\\\ \\cline{1-1}\nnrHardWordsSAT/nrWords* & \\multicolumn{2}{c}{} \\\\ \\cline{1-1}\nnrHardWordsDC/nrWords* & \\multicolumn{2}{c}{} \\\\ \\cline{1-1}\n\\end{tabular}\n"
     ]
    }
   ],
   "source": [
    "table = LatexTable()\n",
    "table.boldIndexColumn = False\n",
    "\n",
    "rows = []\n",
    "lexical = items('lexical')\n",
    "posgroup = items('postagwords')\n",
    "table.headers = ['Lexical', '', 'POS groups']\n",
    "for i, item in enumerate(lexical):\n",
    "    rows.append([item[0], '', posgroup[i][0]])\n",
    "rows.append(\"!emptyRow\")\n",
    "\n",
    "syntactic = items('syntactic')\n",
    "sentiment = items('sentiment')\n",
    "rows.append(['\\\\textbf{Syntactic}', '', '\\\\textbf{Sentiment}'])\n",
    "for i, item in enumerate(syntactic):\n",
    "    if i < 2:\n",
    "        rows.append([item[0], '', sentiment[i][0]])\n",
    "    else:\n",
    "        rows.append([item[0], '\\multicolumn{2}{c}{}'])\n",
    "\n",
    "rows.append(\"!emptyRow\")\n",
    "semantic = items('semantic')\n",
    "rows.append(['\\\\textbf{Semantic}', '\\multicolumn{2}{c}{}'])\n",
    "for item in semantic:\n",
    "    rows.append([item[0], '\\multicolumn{2}{c}{}'])\n",
    "table.rows = rows\n",
    "result = table.render()\n",
    "res = result.split('\\\\hline')\n",
    "res1 = res[:12]\n",
    "res2 = res[12:]\n",
    "result = \"\\\\cline{1-1}\\\\cline{3-3}\".join(res1) + \"\\\\cline{1-1}\\\\cline{3-3}\" + \"\\\\cline{1-1}\".join(res2)\n",
    "print(result)\n",
    "outputFile = './Setup-Variable-Overview-Derived.tex'\n",
    "with open(outputFile, mode='w') as output:\n",
    "    output.write(result)"
   ]
  },
  {
   "cell_type": "code",
   "execution_count": null,
   "metadata": {},
   "outputs": [],
   "source": []
  }
 ]
}