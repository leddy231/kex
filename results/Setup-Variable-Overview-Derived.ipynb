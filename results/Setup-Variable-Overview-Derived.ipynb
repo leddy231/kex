{
 "metadata": {
  "language_info": {
   "codemirror_mode": {
    "name": "ipython",
    "version": 3
   },
   "file_extension": ".py",
   "mimetype": "text/x-python",
   "name": "python",
   "nbconvert_exporter": "python",
   "pygments_lexer": "ipython3",
   "version": "3.8.5"
  },
  "orig_nbformat": 2,
  "kernelspec": {
   "name": "python385jvsc74a57bd0c44b72c526c8c2d5c61f5343e5a1f2700c1b4b253758e0d185049d36041666fd",
   "display_name": "Python 3.8.5 64-bit ('base': conda)"
  }
 },
 "nbformat": 4,
 "nbformat_minor": 2,
 "cells": [
  {
   "cell_type": "code",
   "execution_count": 11,
   "metadata": {},
   "outputs": [],
   "source": [
    "import os\n",
    "import pickle\n",
    "from latexTable import LatexTable"
   ]
  },
  {
   "cell_type": "code",
   "execution_count": 12,
   "metadata": {},
   "outputs": [],
   "source": [
    "finalNames = pickle.load(open('./FinalNames.pickle', mode='rb'))\n",
    "dims = finalNames['dimensions']\n",
    "picked = finalNames['picked']"
   ]
  },
  {
   "cell_type": "code",
   "execution_count": 13,
   "metadata": {},
   "outputs": [],
   "source": [
    "left = ['lexical', 'semantic', 'syntactic']\n",
    "right = ['postagwords', 'sentiment']\n",
    "def items(aspect):\n",
    "    i = finalNames['dimensions'][aspect]\n",
    "    i = list(map(lambda item: finalNames['dimensionNames'][item] + '*' if item in picked else finalNames['dimensionNames'][item], i))\n",
    "    #i.append(\"!emptyRow\")\n",
    "    return i"
   ]
  },
  {
   "cell_type": "code",
   "execution_count": 14,
   "metadata": {},
   "outputs": [],
   "source": [
    "leftRows = []\n",
    "for aspect in left:\n",
    "    i = items(aspect)\n",
    "    leftRows.append(\"\\\\textbf{\"+finalNames['aspects'][aspect]+\"}\")\n",
    "    leftRows += i\n",
    "    leftRows.append(\"!emptyRow\")\n",
    "rightRows = []\n",
    "for aspect in right:\n",
    "    i = items(aspect)\n",
    "    rightRows.append(\"\\\\textbf{\"+finalNames['aspects'][aspect]+\"}\")\n",
    "    rightRows += i\n",
    "    rightRows.append(\"!emptyRow\")"
   ]
  },
  {
   "cell_type": "code",
   "execution_count": 15,
   "metadata": {},
   "outputs": [
    {
     "output_type": "stream",
     "name": "stdout",
     "text": [
      "\\begin{tabular}{|l|l|l|} \\cline{1-1}\\cline{3-3}\n\\textbf{Lexical} &  & \\textbf{POS groups} \\\\ \\cline{1-1}\\cline{3-3}\nnrLetters/nrWords* &  & nrConjunctions/nrWords* \\\\ \\cline{1-1}\\cline{3-3}\nnrSyllables/nrWords &  & nrAdjectives/nrWords* \\\\ \\cline{1-1}\\cline{3-3}\nnrMonoSyllables/nrWords &  & nrAdverbs/nrWords* \\\\ \\cline{1-1}\\cline{3-3}\nnrBiSyllables/nrWords &  & nrComplexVerbs/nrWords* \\\\ \\cline{1-1}\\cline{3-3}\nnrPolySyllables/nrWords &  & nrPossessives/nrWords* \\\\ \\cline{1-1}\\cline{3-3}\nnrLongWords/nrWords &  & nrDeterminers/nrWords* \\\\ \\cline{1-1}\\cline{3-3}\nuniquenessMean* & \\multicolumn{2}{c}{} \\\\ \\cline{1-1}\\cline{3-3}\nuniquenessSTD* &  & \\textbf{Sentiment} \\\\ \\cline{1-1}\\cline{3-3}\n\\multicolumn{2}{c|}{} & opinionPolarity* \\\\ \\cline{1-1}\\cline{3-3}\n\\textbf{Semantic} &  & nrStrongSentiWords/nrWords* \\\\ \\cline{1-1}\\cline{3-3}\nnrSynsets/nrWords* &  & nrMixedSentiWords/nrWords* \\\\ \\cline{1-1}\\cline{3-3}\nnrSlangWords/nrWords* & \\multicolumn{2}{c}{} \\\\ \\cline{1-1}\nnrHardWordsSAT/nrWords* & \\multicolumn{2}{c}{} \\\\ \\cline{1-1}\nnrHardWordsDC/nrWords* & \\multicolumn{2}{c}{} \\\\ \\cline{1-1}\n\\multicolumn{3}{c}{} \\\\ \\cline{1-1}\n\\textbf{Syntactic} & \\multicolumn{2}{c}{} \\\\ \\cline{1-1}\nnrLetters/nrSentences & \\multicolumn{2}{c}{} \\\\ \\cline{1-1}\nnrWords/nrSentences* & \\multicolumn{2}{c}{} \\\\ \\cline{1-1}\nnrSyllables/nrSentences & \\multicolumn{2}{c}{} \\\\ \\cline{1-1}\nnrMonoSyllables/nrSentences & \\multicolumn{2}{c}{} \\\\ \\cline{1-1}\nnrBiSyllables/nrSentences & \\multicolumn{2}{c}{} \\\\ \\cline{1-1}\nnrPolySyllables/nrSentences & \\multicolumn{2}{c}{} \\\\ \\cline{1-1}\nnrLongWords/nrSentences & \\multicolumn{2}{c}{} \\\\ \\cline{1-1}\n\\end{tabular}\n"
     ]
    }
   ],
   "source": [
    "leftRows.pop()\n",
    "table = LatexTable()\n",
    "table.boldIndexColumn = False\n",
    "table.boldHeaders = False\n",
    "rows = []\n",
    "\n",
    "for i, item in enumerate(leftRows):\n",
    "    if i < len(rightRows):\n",
    "        right = rightRows[i]\n",
    "    else:\n",
    "        right = '!emptyRow'\n",
    "    \n",
    "    row = [item, '', right]\n",
    "    if item == '!emptyRow':\n",
    "        if right == '!emptyRow':\n",
    "            row = '!emptyRow'\n",
    "        else:\n",
    "            row = ['\\multicolumn{2}{c|}{}', right]\n",
    "    elif right == '!emptyRow':\n",
    "        row = [item, '\\multicolumn{2}{c}{}']\n",
    "    rows.append(row)\n",
    "\n",
    "table.headers = rows.pop(0)\n",
    "table.rows = rows\n",
    "result = table.render()\n",
    "res = result.split('\\\\hline')\n",
    "res1 = res[:13]\n",
    "res2 = res[13:]\n",
    "result = \"\\\\cline{1-1}\\\\cline{3-3}\".join(res1) + \"\\\\cline{1-1}\\\\cline{3-3}\" + \"\\\\cline{1-1}\".join(res2)\n",
    "print(result)\n",
    "outputFile = './Setup-Variable-Overview-Derived.tex'\n",
    "with open(outputFile, mode='w') as output:\n",
    "    output.write(result)"
   ]
  },
  {
   "cell_type": "code",
   "execution_count": null,
   "metadata": {},
   "outputs": [],
   "source": []
  }
 ]
}