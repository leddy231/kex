{
 "metadata": {
  "language_info": {
   "codemirror_mode": {
    "name": "ipython",
    "version": 3
   },
   "file_extension": ".py",
   "mimetype": "text/x-python",
   "name": "python",
   "nbconvert_exporter": "python",
   "pygments_lexer": "ipython3",
   "version": "3.8.5"
  },
  "orig_nbformat": 2,
  "kernelspec": {
   "name": "python385jvsc74a57bd0c44b72c526c8c2d5c61f5343e5a1f2700c1b4b253758e0d185049d36041666fd",
   "display_name": "Python 3.8.5 64-bit ('base': conda)"
  }
 },
 "nbformat": 4,
 "nbformat_minor": 2,
 "cells": [
  {
   "cell_type": "code",
   "execution_count": 1,
   "metadata": {},
   "outputs": [],
   "source": [
    "import os\n",
    "import pickle\n",
    "from latexTable import LatexTable"
   ]
  },
  {
   "cell_type": "code",
   "execution_count": 2,
   "metadata": {},
   "outputs": [],
   "source": [
    "finalNames = pickle.load(open('./FinalNames.pickle', mode='rb'))\n",
    "dims = finalNames['dimensions']\n",
    "picked = finalNames['picked']"
   ]
  },
  {
   "cell_type": "code",
   "execution_count": 3,
   "metadata": {},
   "outputs": [],
   "source": [
    "base = ['nrWords', 'nrSenteces', 'nrLetters', 'nrSynsets', 'nrSyllables', 'nrMonoSyllables', 'nrBiSyllables', \n",
    "'nrPolySyllables', 'nrLongWords', 'nrAmbiguousSentimentWords', 'nrStrongSentimentWords', 'nrSlangWords', \n",
    "'nrDifficultWordsSAT', 'nrDifficultWordsDaleChall', 'opinionPolarity', 'uniquenessMean', 'uniquenessSTD']\n",
    "\n",
    "left = ['lexical', 'semantic', 'syntactic']\n",
    "right = ['postagwords', 'sentiment']\n",
    "def items(aspect):\n",
    "    i = [x for x in finalNames['dimensions'][aspect] if x not in base]\n",
    "    i = list(map(lambda item: [finalNames['dimensionNames'][item] + '*'] if item in picked else [finalNames['dimensionNames'][item]], i))\n",
    "    #i.append(\"!emptyRow\")\n",
    "    return i"
   ]
  },
  {
   "cell_type": "code",
   "execution_count": 6,
   "metadata": {},
   "outputs": [
    {
     "output_type": "stream",
     "name": "stdout",
     "text": [
      "\\begin{tabular}{|l|l|l|} \\cline{1-1}\\cline{3-3}\n\\textbf{Lexical} & \\textbf{} & \\textbf{POS groups} \\\\ \\cline{1-1}\\cline{3-3}\nnrLetters/nrWords* &  & nrConjunctions/nrWords* \\\\ \\cline{1-1}\\cline{3-3}\nnrSyllables/nrWords &  & nrAdjectives/nrWords* \\\\ \\cline{1-1}\\cline{3-3}\nnrMonoSyllables/nrWords &  & nrAdverbs/nrWords* \\\\ \\cline{1-1}\\cline{3-3}\nnrBiSyllables/nrWords &  & nrComplexVerbs/nrWords* \\\\ \\cline{1-1}\\cline{3-3}\nnrPolySyllables/nrWords &  & nrPossesives/nrWords* \\\\ \\cline{1-1}\\cline{3-3}\nnrLongWords/nrWords &  & nrDeterminers/nrWords* \\\\ \\cline{1-1}\\cline{3-3}\n\\multicolumn{3}{c}{} \\\\ \\cline{1-1}\\cline{3-3}\n\\textbf{Semantic} &  & \\textbf{Sentiment} \\\\ \\cline{1-1}\\cline{3-3}\nnrSynsets/nrWords* &  & nrStrongSentiWords/nrWords* \\\\ \\cline{1-1}\\cline{3-3}\nnrSlangWords/nrWords* &  & nrMixedSentiWords/nrWords* \\\\ \\cline{1-1}\\cline{3-3}\nnrHardWordsSAT/nrWords* & \\multicolumn{2}{c}{} \\\\ \\cline{1-1}\nnrHardWordsDC/nrWords* & \\multicolumn{2}{c}{} \\\\ \\cline{1-1}\n\\multicolumn{3}{c}{} \\\\ \\cline{1-1}\n\\textbf{Syntactic} & \\multicolumn{2}{c}{} \\\\ \\cline{1-1}\nnrLetters/nrSentences & \\multicolumn{2}{c}{} \\\\ \\cline{1-1}\nnrWords/nrSentences* & \\multicolumn{2}{c}{} \\\\ \\cline{1-1}\nnrSyllables/nrSentences & \\multicolumn{2}{c}{} \\\\ \\cline{1-1}\nnrMonoSyllables/nrSentences & \\multicolumn{2}{c}{} \\\\ \\cline{1-1}\nnrBiSyllables/nrSentences & \\multicolumn{2}{c}{} \\\\ \\cline{1-1}\nnrPolySyllables/nrSentences & \\multicolumn{2}{c}{} \\\\ \\cline{1-1}\nnrLongWords/nrSentences & \\multicolumn{2}{c}{} \\\\ \\cline{1-1}\n\\end{tabular}\n"
     ]
    }
   ],
   "source": [
    "table = LatexTable()\n",
    "table.boldIndexColumn = False\n",
    "\n",
    "rows = []\n",
    "lexical = items('lexical')\n",
    "posgroup = items('postagwords')\n",
    "table.headers = ['Lexical', '', 'POS groups']\n",
    "for i, item in enumerate(lexical):\n",
    "    rows.append([item[0], '', posgroup[i][0]])\n",
    "rows.append(\"!emptyRow\")\n",
    "\n",
    "syntactic = items('semantic')\n",
    "sentiment = items('sentiment')\n",
    "rows.append(['\\\\textbf{Semantic}', '', '\\\\textbf{Sentiment}'])\n",
    "for i, item in enumerate(syntactic):\n",
    "    if i < 2:\n",
    "        rows.append([item[0], '', sentiment[i][0]])\n",
    "    else:\n",
    "        rows.append([item[0], '\\multicolumn{2}{c}{}'])\n",
    "\n",
    "rows.append(\"!emptyRow\")\n",
    "semantic = items('syntactic')\n",
    "rows.append(['\\\\textbf{Syntactic}', '\\multicolumn{2}{c}{}'])\n",
    "for item in semantic:\n",
    "    rows.append([item[0], '\\multicolumn{2}{c}{}'])\n",
    "table.rows = rows\n",
    "result = table.render()\n",
    "res = result.split('\\\\hline')\n",
    "res1 = res[:12]\n",
    "res2 = res[12:]\n",
    "result = \"\\\\cline{1-1}\\\\cline{3-3}\".join(res1) + \"\\\\cline{1-1}\\\\cline{3-3}\" + \"\\\\cline{1-1}\".join(res2)\n",
    "print(result)\n",
    "outputFile = './Setup-Variable-Overview-Derived.tex'\n",
    "with open(outputFile, mode='w') as output:\n",
    "    output.write(result)"
   ]
  },
  {
   "cell_type": "code",
   "execution_count": null,
   "metadata": {},
   "outputs": [],
   "source": []
  }
 ]
}