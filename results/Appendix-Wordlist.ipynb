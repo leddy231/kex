{
 "metadata": {
  "language_info": {
   "codemirror_mode": {
    "name": "ipython",
    "version": 3
   },
   "file_extension": ".py",
   "mimetype": "text/x-python",
   "name": "python",
   "nbconvert_exporter": "python",
   "pygments_lexer": "ipython3",
   "version": "3.8.5"
  },
  "orig_nbformat": 2,
  "kernelspec": {
   "name": "python385jvsc74a57bd0c44b72c526c8c2d5c61f5343e5a1f2700c1b4b253758e0d185049d36041666fd",
   "display_name": "Python 3.8.5 64-bit ('base': conda)"
  }
 },
 "nbformat": 4,
 "nbformat_minor": 2,
 "cells": [
  {
   "cell_type": "code",
   "execution_count": 1,
   "metadata": {},
   "outputs": [],
   "source": [
    "import os\n",
    "from latexTable import LatexTable"
   ]
  },
  {
   "cell_type": "code",
   "execution_count": 3,
   "metadata": {},
   "outputs": [
    {
     "output_type": "stream",
     "name": "stdout",
     "text": [
      "\\begin{tabular}{|l|l|} \\hline\n\\textbf{Positive} & good, nice, cool, lovely, wonderful, great, awesome, fantastic, amazing, fun, excellent \\\\ \\hline\n\\textbf{Negative} & bad, horrible, terrible, awful, worst, shitty, crappy, sucks, hate, despise \\\\ \\hline\n\\textbf{Slang words} & af, afaik, ama, bout, cmv, dae, dnt, dm, eli, eli5, fml, finna, goin, hmu, hella, iirc, imo, imho, ikr, irl, lmao, lmfao, lol, mrw, mfw, nsfw, omg, psa, r, rn, stfu, sus, til, tldr, wtf, wit, ysk, yw, u, ur, y, yea \\\\ \\hline\n\\end{tabular}\n"
     ]
    }
   ],
   "source": [
    "good = [\"\\\\textbf{Positive}\", \"good, nice, cool, lovely, wonderful, great, awesome, fantastic, amazing, fun, excellent\"]\n",
    "bad = [\"\\\\textbf{Negative}\", \"bad, horrible, terrible, awful, worst, shitty, crappy, sucks, hate, despise\"]\n",
    "slang = [\"\\\\textbf{Slang words}\", \"af, afaik, ama, bout, cmv, dae, dnt, dm, eli, eli5, fml, finna, goin, hmu, hella, iirc, imo, imho, ikr, irl, lmao, lmfao, lol, mrw, mfw, nsfw, omg, psa, r, rn, stfu, sus, til, tldr, wtf, wit, ysk, yw, u, ur, y, yea\"]\n",
    "\n",
    "table = LatexTable()\n",
    "table.boldIndexColumn = False\n",
    "table.boldHeaders = False\n",
    "table.headers = good\n",
    "table.rows = [bad, slang]\n",
    "result = table.render()\n",
    "print(result)\n",
    "outputFile = './Appendix-Words.tex'\n",
    "with open(outputFile, mode='w') as output:\n",
    "    output.write(result)"
   ]
  },
  {
   "cell_type": "code",
   "execution_count": null,
   "metadata": {},
   "outputs": [],
   "source": []
  }
 ]
}