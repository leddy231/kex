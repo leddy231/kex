{
 "metadata": {
  "language_info": {
   "codemirror_mode": {
    "name": "ipython",
    "version": 3
   },
   "file_extension": ".py",
   "mimetype": "text/x-python",
   "name": "python",
   "nbconvert_exporter": "python",
   "pygments_lexer": "ipython3",
   "version": "3.8.5"
  },
  "orig_nbformat": 2,
  "kernelspec": {
   "name": "python385jvsc74a57bd0c44b72c526c8c2d5c61f5343e5a1f2700c1b4b253758e0d185049d36041666fd",
   "display_name": "Python 3.8.5 64-bit ('base': conda)"
  }
 },
 "nbformat": 4,
 "nbformat_minor": 2,
 "cells": [
  {
   "cell_type": "code",
   "execution_count": 3,
   "metadata": {},
   "outputs": [],
   "source": [
    "import os\n",
    "from latexTable import LatexTable"
   ]
  },
  {
   "cell_type": "code",
   "execution_count": 4,
   "metadata": {},
   "outputs": [
    {
     "output_type": "stream",
     "name": "stdout",
     "text": [
      "\\begin{tabular}{|l|l|p{70mm}|c|} \\hline\n\\textbf{Year} & \\textbf{Formula} & \\textbf{Dimensions} & \\textbf{Ref.} \\\\ \\hline\n1948 & Flesh-Kincaid & Words, Sentences, Syllables &  \\\\ \\hline\n1948 & Dale-Chall & Words, Sentences, Difficult words &  \\\\ \\hline\n1952 & Gunning-Fog & Words, Sentences, Polysyllables &  \\\\ \\hline\n1957 & Coleman-Liau & Letters, Words, Sentences &  \\\\ \\hline\n1968 & LIX & Words, Sentences, Long words &  \\\\ \\hline\n1969 & SMOG & Sentences, Polysyllables &  \\\\ \\hline\n1973 & FORCAST & Words, Monosyllables &  \\\\ \\hline\n1974 & Linsear-Write & Sentences, Monosyllables,\\newline  Bisyllables, Polysyllables &  \\\\ \\hline\n\\end{tabular}\n"
     ]
    }
   ],
   "source": [
    "table = LatexTable()\n",
    "table.headers = ['Year', 'Formula', 'Dimensions', 'Ref.']\n",
    "table.columnAlignments = ['l', 'l', \"p{70mm}\", \"c\"]\n",
    "table.boldIndexColumn = False\n",
    "table.rows = [\n",
    "    #https://apps.dtic.mil/sti/citations/ADA006655\n",
    "    ['1948', 'Flesh-Kincaid', 'Words, Sentences, Syllables', ''], \n",
    "    # Dale E; Chall J (1948). \"A Formula for Predicting Readability\". Educational Research Bulletin. 27: 11–20+28.\n",
    "    ['1948', 'Dale-Chall', 'Words, Sentences, Difficult words', ''],\n",
    "    #Gunning, Robert (1952). The Technique of Clear Writing. McGraw-Hill. pp. 36–37\n",
    "    ['1952', 'Gunning-Fog', 'Words, Sentences, Polysyllables', ''],\n",
    "    #Spache, G. (1953). \"A New Readability Formula for Primary-Grade Reading Materials\". The Elementary School Journal.\n",
    "    #['1953', 'Spache', 'Words, Sentences, Difficult words', ''],\n",
    "    #Coleman, Meri; and Liau, T. L. (1975); A computer readability formula designed for machine scoring, Journal of Applied Psychology, Vol. 60, pp. 283–284\n",
    "    ['1957', 'Coleman-Liau', 'Letters, Words, Sentences', ''],\n",
    "    #Björnsson, C. H. (1968). Läsbarhet. Stockholm: Liber.\n",
    "    ['1968', 'LIX', 'Words, Sentences, Long words', ''],\n",
    "    #https://ogg.osu.edu/media/documents/health_lit/WRRSMOG_Readability_Formula_G._Harry_McLaughlin__1969_.pdf\n",
    "    ['1969', 'SMOG', 'Sentences, Polysyllables', ''],\n",
    "    #Caylor, J. S., T. G. Stitch, L. C. Fox, and J. P. Ford. 1973. Methodologies for determining reading requirements of military occupational specialties: Technical report No. 73-5. Alexander, VA: Human Resources Research Organization.\n",
    "    ['1973', 'FORCAST', 'Words, Monosyllables', ''],\n",
    "    #Klare, George R. (1974). \"Assessing Readability\". Reading Research Quarterly. 10 (1): 74. doi:10.2307/747086.\n",
    "    ['1974', 'Linsear-Write', 'Sentences, Monosyllables,\\\\newline  Bisyllables, Polysyllables', ''],\n",
    "    \n",
    "]\n",
    "result = table.render()\n",
    "outputFile = 'Topics-Readability.tex'\n",
    "with open(outputFile, mode='w') as output:\n",
    "    output.write(result)\n",
    "print(result)"
   ]
  },
  {
   "cell_type": "code",
   "execution_count": null,
   "metadata": {},
   "outputs": [],
   "source": []
  }
 ]
}