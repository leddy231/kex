{
 "metadata": {
  "language_info": {
   "codemirror_mode": {
    "name": "ipython",
    "version": 3
   },
   "file_extension": ".py",
   "mimetype": "text/x-python",
   "name": "python",
   "nbconvert_exporter": "python",
   "pygments_lexer": "ipython3",
   "version": "3.8.5"
  },
  "orig_nbformat": 2,
  "kernelspec": {
   "name": "python385jvsc74a57bd0c44b72c526c8c2d5c61f5343e5a1f2700c1b4b253758e0d185049d36041666fd",
   "display_name": "Python 3.8.5 64-bit ('base': conda)"
  }
 },
 "nbformat": 4,
 "nbformat_minor": 2,
 "cells": [
  {
   "cell_type": "code",
   "execution_count": 1,
   "metadata": {},
   "outputs": [],
   "source": [
    "import os\n",
    "import sys\n",
    "import inspect\n",
    "currentdir = os.path.dirname(os.path.abspath(inspect.getfile(inspect.currentframe())))\n",
    "parentdir = os.path.dirname(currentdir)\n",
    "sys.path.insert(0, parentdir)\n",
    "\n",
    "import pandas as pd\n",
    "from functions import dirs\n",
    "import pickle\n",
    "import chevron\n",
    "from re import sub\n",
    "from latexTable import LatexTable"
   ]
  },
  {
   "cell_type": "code",
   "execution_count": null,
   "metadata": {},
   "outputs": [],
   "source": [
    " 'formulaFleshKincaid': 'formulaFleshKincaid',\n",
    " 'formulaGunningFog': 'formulaGunningFog',\n",
    " 'formulaSMOG': 'formulaSMOG',\n",
    " 'formulaDaleChall': 'formulaDaleChall',\n",
    " 'formulaColemanLiau': 'formulaColemanLiau',\n",
    " 'formulaLinsearWrite': 'formulaLinsearWrite',\n",
    " 'formulaSpacheSAT': 'formulaSpacheSAT',\n",
    " 'formulaSpacheDaleChall': 'formulaSpacheDaleChall',\n",
    " 'formulaLIX': 'formulaLIX',\n",
    " 'formulaFORCAST': 'formulaFORCAST'"
   ]
  },
  {
   "cell_type": "code",
   "execution_count": 6,
   "metadata": {},
   "outputs": [
    {
     "output_type": "stream",
     "name": "stdout",
     "text": [
      "\\begin{tabular}{|l|l|p{65mm}|l|} \\hline\n\\textbf{Year} & \\textbf{Formula} & \\textbf{Dimensions} & \\textbf{Reference} \\\\ \\hline\n1948 & DaleChall & nrWords, nrSentences, nrHardWordsDC &  \\\\ \\hline\n1952 & GunningFog & nrWords, nrSentences, nrPolySyllables &  \\\\ \\hline\n1953 & Spache & nrWords, nrSentences, nrHardWords &  \\\\ \\hline\n1957 & ColemanLiau & nrLetters, nrWords, nrSentences &  \\\\ \\hline\n1968 & LIX & nrWords, nrSentences, nrLongWords &  \\\\ \\hline\n1969 & SMOG & nrSentences, nrPolySyllables &  \\\\ \\hline\n1973 & FORCAST & nrWords, nrMonoSyllables &  \\\\ \\hline\n1974 & LinsearWrite & nrSentences, nrMonoSyllables, nrBiSyllables, nrPolySyllables &  \\\\ \\hline\n1975 & FleshKincaid & nrWords, nrSentences, nrSyllables &  \\\\ \\hline\n\\end{tabular}\n"
     ]
    }
   ],
   "source": [
    "table = LatexTable()\n",
    "table.headers = ['Year', 'Formula', 'Dimensions', 'Reference']\n",
    "table.columnAlignments = ['l', 'l', \"p{60mm}\", \"l\"]\n",
    "table.boldIndexColumn = False\n",
    "table.rows = [\n",
    "    # Dale E; Chall J (1948). \"A Formula for Predicting Readability\". Educational Research Bulletin. 27: 11–20+28.\n",
    "    ['1948', 'DaleChall', 'Words, Sentences, Difficult words', ''],\n",
    "    #Gunning, Robert (1952). The Technique of Clear Writing. McGraw-Hill. pp. 36–37\n",
    "    ['1952', 'GunningFog', 'Words, Sentences, Polysyllables', ''],\n",
    "    #Spache, G. (1953). \"A New Readability Formula for Primary-Grade Reading Materials\". The Elementary School Journal.\n",
    "    ['1953', 'Spache', 'Words, Sentences, Difficult words', ''],\n",
    "    #Coleman, Meri; and Liau, T. L. (1975); A computer readability formula designed for machine scoring, Journal of Applied Psychology, Vol. 60, pp. 283–284\n",
    "    ['1957', 'ColemanLiau', 'Letters, Words, Sentences', ''],\n",
    "    #Björnsson, C. H. (1968). Läsbarhet. Stockholm: Liber.\n",
    "    ['1968', 'LIX', 'Words, Sentences, Long words', ''],\n",
    "    #https://ogg.osu.edu/media/documents/health_lit/WRRSMOG_Readability_Formula_G._Harry_McLaughlin__1969_.pdf\n",
    "    ['1969', 'SMOG', 'Sentences, Polysyllables', ''],\n",
    "    #Caylor, J. S., T. G. Stitch, L. C. Fox, and J. P. Ford. 1973. Methodologies for determining reading requirements of military occupational specialties: Technical report No. 73-5. Alexander, VA: Human Resources Research Organization.\n",
    "    ['1973', 'FORCAST', 'Words, Monosyllables', ''],\n",
    "    #Klare, George R. (1974). \"Assessing Readability\". Reading Research Quarterly. 10 (1): 74. doi:10.2307/747086.\n",
    "    ['1974', 'LinsearWrite', 'Sentences, Monosyllables,\\\\newline  Bisyllables, Polysyllables', ''],\n",
    "    #https://apps.dtic.mil/sti/citations/ADA006655\n",
    "    ['1975', 'FleshKincaid', 'Words, Sentences, Syllables', ''], \n",
    "]\n",
    "result = table.render()\n",
    "outputFile = 'Topics-Readability.tex'\n",
    "with open(outputFile, mode='w') as output:\n",
    "    output.write(result)\n",
    "print(result)"
   ]
  },
  {
   "cell_type": "code",
   "execution_count": null,
   "metadata": {},
   "outputs": [],
   "source": []
  }
 ]
}