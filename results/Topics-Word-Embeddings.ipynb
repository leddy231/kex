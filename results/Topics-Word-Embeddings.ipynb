{
 "metadata": {
  "language_info": {
   "codemirror_mode": {
    "name": "ipython",
    "version": 3
   },
   "file_extension": ".py",
   "mimetype": "text/x-python",
   "name": "python",
   "nbconvert_exporter": "python",
   "pygments_lexer": "ipython3",
   "version": "3.8.5"
  },
  "orig_nbformat": 2,
  "kernelspec": {
   "name": "python385jvsc74a57bd0c44b72c526c8c2d5c61f5343e5a1f2700c1b4b253758e0d185049d36041666fd",
   "display_name": "Python 3.8.5 64-bit ('base': conda)"
  }
 },
 "nbformat": 4,
 "nbformat_minor": 2,
 "cells": [
  {
   "cell_type": "code",
   "execution_count": 1,
   "metadata": {},
   "outputs": [],
   "source": [
    "import os\n",
    "from latexTable import LatexTable"
   ]
  },
  {
   "cell_type": "code",
   "execution_count": 2,
   "metadata": {},
   "outputs": [
    {
     "output_type": "stream",
     "name": "stdout",
     "text": [
      "\\begin{tabular}{|l|l|l|l|c|} \\hline\n\\textbf{Technique} & \\textbf{Representation} & \\textbf{Context vectors} & \\textbf{Method} & \\textbf{Ref.} \\\\ \\hline\n\\textbf{GloVe} & Words & No & Frequency &  \\\\ \\hline\n\\textbf{Word2Vec} & Words & No & NN &  \\\\ \\hline\n\\textbf{FastText} & Sub-words & No & NN &  \\\\ \\hline\n\\textbf{ULMFiT} & Words & Yes & LSTM &  \\\\ \\hline\n\\textbf{ELMo} & Characters & Yes & Bi-LSTM &  \\\\ \\hline\n\\textbf{BERT} & Sub-words & Yes & Transformers &  \\\\ \\hline\n\\end{tabular}\n"
     ]
    }
   ],
   "source": [
    "table = LatexTable()\n",
    "table.headers = ['Technique', 'Representation', 'Context vectors', 'Method', 'Ref.']\n",
    "table.columnAlignments = ['l', 'l', 'l', 'l', 'c']\n",
    "table.rows = [\n",
    "    ['GloVe', 'Words', 'No', 'Frequency', ''],\n",
    "    ['Word2Vec', 'Words', 'No', 'NN', ''],\n",
    "    ['FastText', 'Sub-words', 'No', 'NN', ''],\n",
    "    ['ULMFiT', 'Words', 'Yes', 'LSTM', ''],\n",
    "    ['ELMo', 'Characters', 'Yes', 'Bi-LSTM', ''],\n",
    "    ['BERT', 'Sub-words', 'Yes', 'Transformers', '']\n",
    "]\n",
    "result = table.render()\n",
    "print(result)\n",
    "with open('./Topics-Word-Embeddings.tex', mode='w') as f:\n",
    "    f.write(result)"
   ]
  },
  {
   "cell_type": "code",
   "execution_count": null,
   "metadata": {},
   "outputs": [],
   "source": []
  }
 ]
}