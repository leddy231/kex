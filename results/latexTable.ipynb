{
 "metadata": {
  "language_info": {
   "codemirror_mode": {
    "name": "ipython",
    "version": 3
   },
   "file_extension": ".py",
   "mimetype": "text/x-python",
   "name": "python",
   "nbconvert_exporter": "python",
   "pygments_lexer": "ipython3",
   "version": "3.8.5"
  },
  "orig_nbformat": 2,
  "kernelspec": {
   "name": "python385jvsc74a57bd0c44b72c526c8c2d5c61f5343e5a1f2700c1b4b253758e0d185049d36041666fd",
   "display_name": "Python 3.8.5 64-bit ('base': conda)"
  }
 },
 "nbformat": 4,
 "nbformat_minor": 2,
 "cells": [
  {
   "cell_type": "code",
   "execution_count": 1,
   "metadata": {},
   "outputs": [],
   "source": [
    "import os\n",
    "from re import sub"
   ]
  },
  {
   "cell_type": "code",
   "execution_count": 60,
   "metadata": {},
   "outputs": [],
   "source": [
    "class LatexTable:\n",
    "    \n",
    "    def __init__(self):\n",
    "        self.headers = []\n",
    "        self.emptyFirstHeader = False\n",
    "        self.rows = []\n",
    "        self.nrColumns = None\n",
    "        self.boldHeaders = True\n",
    "        self.boldIndexColumn = True\n",
    "        self.columnAlignments = None\n",
    "\n",
    "    def render(self):\n",
    "        res = \"\"\n",
    "\n",
    "        headers = self.headers.copy()\n",
    "        if self.boldHeaders:\n",
    "            headers = list(map(lambda h: \"\\\\textbf{\"+h+\"}\", headers))\n",
    "        if self.emptyFirstHeader:\n",
    "            headers = [\"\\multicolumn{1}{c|}{}\"] + headers\n",
    "\n",
    "        if self.nrColumns is None:\n",
    "            self.nrColumns = len(headers)\n",
    "\n",
    "        if self.columnAlignments is None:\n",
    "            self.columnAlignments = ['l'] * self.nrColumns\n",
    "        \n",
    "        if type(self.columnAlignments) == str:\n",
    "            self.columnAlignments = ['l'] + [self.columnAlignments] * (self.nrColumns - 1)\n",
    "        \n",
    "\n",
    "        alignments = '|'.join(self.columnAlignments)\n",
    "        res += \"\\\\begin{tabular}{|\"+alignments+\"|} \"\n",
    "\n",
    "        if self.emptyFirstHeader:\n",
    "            res += \"\\cline{2-\"+str(self.nrColumns)+\"}\\n\"\n",
    "        else:\n",
    "            res += \"\\hline\\n\"\n",
    "\n",
    "        res += \" & \".join(headers) + \" \\\\\\\\ \\\\hline\\n\"\n",
    "\n",
    "        for i, row in enumerate(self.rows):\n",
    "            if row == '!boldLine':\n",
    "                continue\n",
    "\n",
    "            \n",
    "            if i+1 < len(self.rows):\n",
    "                nxt = self.rows[i+1]\n",
    "\n",
    "            if row == '!emptyRow':\n",
    "                row = '\\multicolumn{'+str(self.nrColumns)+'}{c}{}'\n",
    "            else:\n",
    "                row = row.copy()\n",
    "                if self.boldIndexColumn:\n",
    "                    row[0] = \"\\\\textbf{\"+row[0]+\"}\"\n",
    "                row = ' & '.join(row)\n",
    "            if nxt == '!boldLine':\n",
    "                row += ' \\\\\\\\ \\Xhline{3\\\\arrayrulewidth}\\n'\n",
    "            else:\n",
    "                row += \" \\\\\\\\ \\hline\\n\"\n",
    "\n",
    "            res += row\n",
    "        res += \"\\end{tabular}\"\n",
    "        return res"
   ]
  },
  {
   "cell_type": "code",
   "execution_count": 3,
   "metadata": {},
   "outputs": [],
   "source": [
    "data = {'datasets': ['Airline tweets', 'IMDB reviews'],\n",
    " 'positives': ['17.0\\\\%', '50.0\\\\%'],\n",
    " 'negatives': ['83.0\\\\%', '50.0\\\\%'],\n",
    " 'total': ['8897', '50000'],\n",
    " 'formulas': [{'name': 'FleshKincaid', 'data': ['11-12', '13-15']},\n",
    "  {'name': 'GunningFog', 'data': ['7-11', '14-17']},\n",
    "  {'name': 'SMOG', 'data': ['7-11', '14-17']},\n",
    "  {'name': 'DaleChall', 'data': ['14-16', '14-16']},\n",
    "  {'name': 'ColemanLiau', 'data': ['11-14', '11-14']},\n",
    "  {'name': 'LinsearWrite', 'data': ['7-11', '17+']},\n",
    "  {'name': 'SpacheSAT', 'data': ['7-11', '7-11']},\n",
    "  {'name': 'SpacheDaleChall', 'data': ['7-11', '7-11']},\n",
    "  {'name': 'FORCAST', 'data': ['14-17', '14-17']},\n",
    "  {'name': 'LIX', 'data': ['Fiction', 'Technical \\\\newline texts']}]}"
   ]
  },
  {
   "cell_type": "code",
   "execution_count": 7,
   "metadata": {},
   "outputs": [],
   "source": [
    "formulas = list(map(lambda f: [f['name']] + f['data'], data['formulas']))"
   ]
  },
  {
   "cell_type": "code",
   "execution_count": 62,
   "metadata": {},
   "outputs": [
    {
     "output_type": "stream",
     "name": "stdout",
     "text": [
      "\\begin{tabular}{|l|l|l|} \\cline{2-3}\n\\multicolumn{1}{c|}{} & \\textbf{Airline tweets} & \\textbf{IMDB teviews} \\\\ \\hline\n\\textbf{Positives} & 17.0\\% & 50.0\\% \\\\ \\hline\n\\textbf{Negatives} & 83.0\\% & 50.0\\% \\\\ \\hline\n\\textbf{Total obs.} & 8897 & 50000 \\\\ \\Xhline{3\u0007rrayrulewidth}\n\\textbf{FleshKincaid} & 11-12 & 13-15 \\\\ \\hline\n\\textbf{GunningFog} & 7-11 & 14-17 \\\\ \\hline\n\\textbf{SMOG} & 7-11 & 14-17 \\\\ \\hline\n\\textbf{DaleChall} & 14-16 & 14-16 \\\\ \\hline\n\\textbf{ColemanLiau} & 11-14 & 11-14 \\\\ \\hline\n\\textbf{LinsearWrite} & 7-11 & 17+ \\\\ \\hline\n\\textbf{SpacheSAT} & 7-11 & 7-11 \\\\ \\hline\n\\textbf{SpacheDaleChall} & 7-11 & 7-11 \\\\ \\hline\n\\textbf{FORCAST} & 14-17 & 14-17 \\\\ \\hline\n\\textbf{LIX} & Fiction & Technical \\newline texts \\\\ \\hline\n\\end{tabular}\n"
     ]
    }
   ],
   "source": [
    "table = LatexTable()\n",
    "table.headers = ['Airline tweets', 'IMDB teviews']\n",
    "table.emptyFirstHeader = True\n",
    "table.rows = [\n",
    "    ['Positives', '17.0\\%', '50.0\\%'],\n",
    "    ['Negatives', '83.0\\%', '50.0\\%'],\n",
    "    ['Total obs.', '8897', '50000'],\n",
    "    \"!boldLine\"\n",
    "] + formulas\n",
    "print(table.render())"
   ]
  },
  {
   "cell_type": "code",
   "execution_count": null,
   "metadata": {},
   "outputs": [],
   "source": []
  }
 ]
}