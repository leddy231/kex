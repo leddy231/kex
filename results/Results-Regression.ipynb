{
 "metadata": {
  "language_info": {
   "codemirror_mode": {
    "name": "ipython",
    "version": 3
   },
   "file_extension": ".py",
   "mimetype": "text/x-python",
   "name": "python",
   "nbconvert_exporter": "python",
   "pygments_lexer": "ipython3",
   "version": "3.8.5"
  },
  "orig_nbformat": 2,
  "kernelspec": {
   "name": "python385jvsc74a57bd0c44b72c526c8c2d5c61f5343e5a1f2700c1b4b253758e0d185049d36041666fd",
   "display_name": "Python 3.8.5 64-bit ('base': conda)"
  }
 },
 "nbformat": 4,
 "nbformat_minor": 2,
 "cells": [
  {
   "cell_type": "code",
   "execution_count": 15,
   "metadata": {},
   "outputs": [],
   "source": [
    "import os\n",
    "import sys\n",
    "import inspect\n",
    "currentdir = os.path.dirname(os.path.abspath(inspect.getfile(inspect.currentframe())))\n",
    "parentdir = os.path.dirname(currentdir)\n",
    "sys.path.insert(0, parentdir)\n",
    "\n",
    "import pandas as pd\n",
    "from functions import dirs, readFile, canonicalNames\n",
    "from wordEmbedders import WESCScore\n",
    "import pickle\n",
    "import chevron\n",
    "from re import sub\n",
    "from latexTable import LatexTable"
   ]
  },
  {
   "cell_type": "code",
   "execution_count": 16,
   "metadata": {},
   "outputs": [],
   "source": [
    "result = pickle.load(open(\"../data/AirlineTweets2/Regression-Positive.pickle\", mode='rb'))"
   ]
  },
  {
   "cell_type": "code",
   "execution_count": 17,
   "metadata": {},
   "outputs": [
    {
     "output_type": "execute_result",
     "data": {
      "text/plain": [
       "const                                1.659492\n",
       "nrPossesives/nrWords                 6.238790\n",
       "nrStrongSentimentWords/nrWords      -0.703717\n",
       "nrConjunctions/nrWords              -6.137505\n",
       "nrSynsets/nrWords                   -0.058234\n",
       "nrAdjectives/nrWords                -1.288943\n",
       "opinionPolarity                     -0.094735\n",
       "nrDeterminers/nrWords               -3.478717\n",
       "nrAmbiguousSentimentWords/nrWords   -1.704586\n",
       "nrDifficultWordsDaleChall/nrWords   -2.341873\n",
       "nrDifficultWordsSAT/nrWords         -1.743940\n",
       "nrSlangWords/nrWords                 2.663263\n",
       "uniquenessMean                       4.854494\n",
       "nrWords/nrSentences                  0.033311\n",
       "uniquenessSTD                        6.711025\n",
       "nrAdverbs/nrWords                    0.092676\n",
       "nrLetters/nrWords                   -0.439648\n",
       "nrComplexVerbs/nrWords               3.046090\n",
       "nrSentences                          0.615171\n",
       "dtype: float64"
      ]
     },
     "metadata": {},
     "execution_count": 17
    }
   ],
   "source": [
    "result.params"
   ]
  },
  {
   "cell_type": "code",
   "execution_count": 18,
   "metadata": {},
   "outputs": [],
   "source": [
    "def stars(z):\n",
    "    (coef, p) = z\n",
    "    res = f\"{coef:.3f}\"\n",
    "    if p < 0.01:\n",
    "        res += '*'\n",
    "    if p < 0.05:\n",
    "        res += '*'\n",
    "    if p < 0.1:\n",
    "        res += '*'\n",
    "    return res"
   ]
  },
  {
   "cell_type": "code",
   "execution_count": 19,
   "metadata": {},
   "outputs": [],
   "source": [
    "datasets = dirs('../data')\n",
    "names = canonicalNames('../data')\n",
    "sentiments = ['Positive', 'Negative']\n",
    "\n",
    "results = {}\n",
    "df = pd.DataFrame()\n",
    "for dataset in datasets:\n",
    "    for sentiment in sentiments:\n",
    "        regressionFile = f\"../data/{dataset}/Regression-{sentiment}.pickle\"\n",
    "        result = pickle.load(open(regressionFile, mode='rb'))\n",
    "        coefs = list(map(stars, zip(result.params, result.pvalues)))\n",
    "        col = [result.prsquared] + coefs\n",
    "        df[f\"{dataset}-{sentiment}\"] = col"
   ]
  },
  {
   "cell_type": "code",
   "execution_count": 20,
   "metadata": {},
   "outputs": [
    {
     "output_type": "execute_result",
     "data": {
      "text/plain": [
       "                                  AirlineTweets2-Positive  \\\n",
       "r2                                                0.18786   \n",
       "nrPossesives/nrWords                             6.239***   \n",
       "nrStrongSentimentWords/nrWords                     -0.704   \n",
       "nrConjunctions/nrWords                          -6.138***   \n",
       "nrSynsets/nrWords                                -0.058**   \n",
       "nrAdjectives/nrWords                               -1.289   \n",
       "opinionPolarity                                    -0.095   \n",
       "nrDeterminers/nrWords                           -3.479***   \n",
       "nrAmbiguousSentimentWords/nrWords                  -1.705   \n",
       "nrDifficultWordsDaleChall/nrWords               -2.342***   \n",
       "nrDifficultWordsSAT/nrWords                        -1.744   \n",
       "nrSlangWords/nrWords                                2.663   \n",
       "nrWords/nrSentences                                 0.033   \n",
       "uniquenessMean                                   4.854***   \n",
       "uniquenessSTD                                     6.711**   \n",
       "nrAdverbs/nrWords                                   0.093   \n",
       "nrLetters/nrWords                               -0.440***   \n",
       "nrComplexVerbs/nrWords                            3.046**   \n",
       "const                                               1.659   \n",
       "\n",
       "                                  AirlineTweets2-Negative IMDB-Positive  \\\n",
       "r2                                               0.169807       0.20689   \n",
       "nrPossesives/nrWords                            -6.876***       2.361**   \n",
       "nrStrongSentimentWords/nrWords                   8.795***     46.573***   \n",
       "nrConjunctions/nrWords                           8.689***      7.274***   \n",
       "nrSynsets/nrWords                                   0.013      0.232***   \n",
       "nrAdjectives/nrWords                              1.140**      6.862***   \n",
       "opinionPolarity                                    0.055*      0.166***   \n",
       "nrDeterminers/nrWords                            5.155***     -2.142***   \n",
       "nrAmbiguousSentimentWords/nrWords                6.300***      6.769***   \n",
       "nrDifficultWordsDaleChall/nrWords                1.760***     11.902***   \n",
       "nrDifficultWordsSAT/nrWords                     -3.556***    -10.179***   \n",
       "nrSlangWords/nrWords                            -7.528***        -0.409   \n",
       "nrWords/nrSentences                             -0.028***     -0.002***   \n",
       "uniquenessMean                                   3.393***    -12.670***   \n",
       "uniquenessSTD                                      -1.108     16.409***   \n",
       "nrAdverbs/nrWords                                   0.120     -7.838***   \n",
       "nrLetters/nrWords                                0.577***      1.835***   \n",
       "nrComplexVerbs/nrWords                             -0.220    -16.147***   \n",
       "const                                           -5.072***    -16.795***   \n",
       "\n",
       "                                  IMDB-Negative  \n",
       "r2                                     0.201375  \n",
       "nrPossesives/nrWords                     -2.790  \n",
       "nrStrongSentimentWords/nrWords        14.943***  \n",
       "nrConjunctions/nrWords                -8.608***  \n",
       "nrSynsets/nrWords                     -0.261***  \n",
       "nrAdjectives/nrWords                    -3.075*  \n",
       "opinionPolarity                       -0.115***  \n",
       "nrDeterminers/nrWords                  8.419***  \n",
       "nrAmbiguousSentimentWords/nrWords        -1.832  \n",
       "nrDifficultWordsDaleChall/nrWords    -14.563***  \n",
       "nrDifficultWordsSAT/nrWords           14.457***  \n",
       "nrSlangWords/nrWords                      0.962  \n",
       "nrWords/nrSentences                      0.007*  \n",
       "uniquenessMean                        21.250***  \n",
       "uniquenessSTD                        -21.499***  \n",
       "nrAdverbs/nrWords                      9.933***  \n",
       "nrLetters/nrWords                     -1.695***  \n",
       "nrComplexVerbs/nrWords                22.591***  \n",
       "const                                 17.020***  "
      ],
      "text/html": "<div>\n<style scoped>\n    .dataframe tbody tr th:only-of-type {\n        vertical-align: middle;\n    }\n\n    .dataframe tbody tr th {\n        vertical-align: top;\n    }\n\n    .dataframe thead th {\n        text-align: right;\n    }\n</style>\n<table border=\"1\" class=\"dataframe\">\n  <thead>\n    <tr style=\"text-align: right;\">\n      <th></th>\n      <th>AirlineTweets2-Positive</th>\n      <th>AirlineTweets2-Negative</th>\n      <th>IMDB-Positive</th>\n      <th>IMDB-Negative</th>\n    </tr>\n  </thead>\n  <tbody>\n    <tr>\n      <th>r2</th>\n      <td>0.18786</td>\n      <td>0.169807</td>\n      <td>0.20689</td>\n      <td>0.201375</td>\n    </tr>\n    <tr>\n      <th>nrPossesives/nrWords</th>\n      <td>6.239***</td>\n      <td>-6.876***</td>\n      <td>2.361**</td>\n      <td>-2.790</td>\n    </tr>\n    <tr>\n      <th>nrStrongSentimentWords/nrWords</th>\n      <td>-0.704</td>\n      <td>8.795***</td>\n      <td>46.573***</td>\n      <td>14.943***</td>\n    </tr>\n    <tr>\n      <th>nrConjunctions/nrWords</th>\n      <td>-6.138***</td>\n      <td>8.689***</td>\n      <td>7.274***</td>\n      <td>-8.608***</td>\n    </tr>\n    <tr>\n      <th>nrSynsets/nrWords</th>\n      <td>-0.058**</td>\n      <td>0.013</td>\n      <td>0.232***</td>\n      <td>-0.261***</td>\n    </tr>\n    <tr>\n      <th>nrAdjectives/nrWords</th>\n      <td>-1.289</td>\n      <td>1.140**</td>\n      <td>6.862***</td>\n      <td>-3.075*</td>\n    </tr>\n    <tr>\n      <th>opinionPolarity</th>\n      <td>-0.095</td>\n      <td>0.055*</td>\n      <td>0.166***</td>\n      <td>-0.115***</td>\n    </tr>\n    <tr>\n      <th>nrDeterminers/nrWords</th>\n      <td>-3.479***</td>\n      <td>5.155***</td>\n      <td>-2.142***</td>\n      <td>8.419***</td>\n    </tr>\n    <tr>\n      <th>nrAmbiguousSentimentWords/nrWords</th>\n      <td>-1.705</td>\n      <td>6.300***</td>\n      <td>6.769***</td>\n      <td>-1.832</td>\n    </tr>\n    <tr>\n      <th>nrDifficultWordsDaleChall/nrWords</th>\n      <td>-2.342***</td>\n      <td>1.760***</td>\n      <td>11.902***</td>\n      <td>-14.563***</td>\n    </tr>\n    <tr>\n      <th>nrDifficultWordsSAT/nrWords</th>\n      <td>-1.744</td>\n      <td>-3.556***</td>\n      <td>-10.179***</td>\n      <td>14.457***</td>\n    </tr>\n    <tr>\n      <th>nrSlangWords/nrWords</th>\n      <td>2.663</td>\n      <td>-7.528***</td>\n      <td>-0.409</td>\n      <td>0.962</td>\n    </tr>\n    <tr>\n      <th>nrWords/nrSentences</th>\n      <td>0.033</td>\n      <td>-0.028***</td>\n      <td>-0.002***</td>\n      <td>0.007*</td>\n    </tr>\n    <tr>\n      <th>uniquenessMean</th>\n      <td>4.854***</td>\n      <td>3.393***</td>\n      <td>-12.670***</td>\n      <td>21.250***</td>\n    </tr>\n    <tr>\n      <th>uniquenessSTD</th>\n      <td>6.711**</td>\n      <td>-1.108</td>\n      <td>16.409***</td>\n      <td>-21.499***</td>\n    </tr>\n    <tr>\n      <th>nrAdverbs/nrWords</th>\n      <td>0.093</td>\n      <td>0.120</td>\n      <td>-7.838***</td>\n      <td>9.933***</td>\n    </tr>\n    <tr>\n      <th>nrLetters/nrWords</th>\n      <td>-0.440***</td>\n      <td>0.577***</td>\n      <td>1.835***</td>\n      <td>-1.695***</td>\n    </tr>\n    <tr>\n      <th>nrComplexVerbs/nrWords</th>\n      <td>3.046**</td>\n      <td>-0.220</td>\n      <td>-16.147***</td>\n      <td>22.591***</td>\n    </tr>\n    <tr>\n      <th>const</th>\n      <td>1.659</td>\n      <td>-5.072***</td>\n      <td>-16.795***</td>\n      <td>17.020***</td>\n    </tr>\n  </tbody>\n</table>\n</div>"
     },
     "metadata": {},
     "execution_count": 20
    }
   ],
   "source": [
    "df.index = ['r2'] + list(result.params.index)\n",
    "df.reindex([\n",
    "    'r2','nrPossesives/nrWords', 'nrStrongSentimentWords/nrWords',\n",
    "       'nrConjunctions/nrWords', 'nrSynsets/nrWords', 'nrAdjectives/nrWords',\n",
    "       'opinionPolarity', 'nrDeterminers/nrWords',\n",
    "       'nrAmbiguousSentimentWords/nrWords',\n",
    "       'nrDifficultWordsDaleChall/nrWords', 'nrDifficultWordsSAT/nrWords',\n",
    "       'nrSlangWords/nrWords', 'nrWords/nrSentences', 'uniquenessMean', \n",
    "       'uniquenessSTD', 'nrAdverbs/nrWords', 'nrLetters/nrWords',\n",
    "       'nrComplexVerbs/nrWords',\n",
    "       'const'\n",
    "])"
   ]
  },
  {
   "cell_type": "code",
   "execution_count": 23,
   "metadata": {},
   "outputs": [
    {
     "output_type": "stream",
     "name": "stdout",
     "text": [
      "\\begin{tabular}{|l|l|l|l|l|} \\cline{2-5}\n\\multicolumn{1}{c|}{} & \\multicolumn{2}{c|}{\\textbf{AirlineTweets}} & \\multicolumn{2}{c|}{\\textbf{IMDB}}\\\\ \\cline{2-5}\n\\multicolumn{1}{c|}{} & \\textbf{Positive} & \\textbf{Negative} & \\textbf{Positive} & \\textbf{Negative} \\\\ \\hline\n\\textbf{R2} & 0.188 & 0.170 & 0.207 & 0.201 \\\\ \\Xhline{3\\arrayrulewidth}\n\\textbf{{\\scriptsize nrPossesives/nrWords}} & 6.239*** & -6.876*** & 2.361** & -2.790 \\\\ \\hline\n\\textbf{{\\scriptsize nrStrongSentimentWords/nrWords}} & -0.704 & 8.795*** & 46.573*** & 14.943*** \\\\ \\hline\n\\textbf{{\\scriptsize nrConjunctions/nrWords}} & -6.138*** & 8.689*** & 7.274*** & -8.608*** \\\\ \\hline\n\\textbf{{\\scriptsize nrSynsets/nrWords}} & -0.058** & 0.013 & 0.232*** & -0.261*** \\\\ \\hline\n\\textbf{{\\scriptsize nrAdjectives/nrWords}} & -1.289 & 1.140** & 6.862*** & -3.075* \\\\ \\hline\n\\textbf{{\\scriptsize opinionPolarity}} & -0.095 & 0.055* & 0.166*** & -0.115*** \\\\ \\hline\n\\textbf{{\\scriptsize nrDeterminers/nrWords}} & -3.479*** & 5.155*** & -2.142*** & 8.419*** \\\\ \\hline\n\\textbf{{\\scriptsize nrAmbiguousSentimentWords/nrWords}} & -1.705 & 6.300*** & 6.769*** & -1.832 \\\\ \\hline\n\\textbf{{\\scriptsize nrDifficultWordsDaleChall/nrWords}} & -2.342*** & 1.760*** & 11.902*** & -14.563*** \\\\ \\hline\n\\textbf{{\\scriptsize nrDifficultWordsSAT/nrWords}} & -1.744 & -3.556*** & -10.179*** & 14.457*** \\\\ \\hline\n\\textbf{{\\scriptsize nrSlangWords/nrWords}} & 2.663 & -7.528*** & -0.409 & 0.962 \\\\ \\hline\n\\textbf{{\\scriptsize nrWords/nrSentences}} & 0.033 & -0.028*** & -0.002*** & 0.007* \\\\ \\hline\n\\textbf{{\\scriptsize uniquenessMean}} & 4.854*** & 3.393*** & -12.670*** & 21.250*** \\\\ \\hline\n\\textbf{{\\scriptsize uniquenessSTD}} & 6.711** & -1.108 & 16.409*** & -21.499*** \\\\ \\hline\n\\textbf{{\\scriptsize nrAdverbs/nrWords}} & 0.093 & 0.120 & -7.838*** & 9.933*** \\\\ \\hline\n\\textbf{{\\scriptsize nrLetters/nrWords}} & -0.440*** & 0.577*** & 1.835*** & -1.695*** \\\\ \\hline\n\\textbf{{\\scriptsize nrComplexVerbs/nrWords}} & 3.046** & -0.220 & -16.147*** & 22.591*** \\\\ \\hline\n\\textbf{{\\scriptsize nrSentences}} & 0.615*** & 0.038 & -0.016*** & 0.062*** \\\\ \\hline\n\\textbf{{\\scriptsize const}} & 1.659 & -5.072*** & -16.795*** & 17.020*** \\\\ \\hline\n\\end{tabular}\n"
     ]
    }
   ],
   "source": [
    "order = [\n",
    "    'nrPossesives/nrWords', 'nrStrongSentimentWords/nrWords',\n",
    "       'nrConjunctions/nrWords', 'nrSynsets/nrWords', 'nrAdjectives/nrWords',\n",
    "       'opinionPolarity', 'nrDeterminers/nrWords',\n",
    "       'nrAmbiguousSentimentWords/nrWords',\n",
    "       'nrDifficultWordsDaleChall/nrWords', 'nrDifficultWordsSAT/nrWords',\n",
    "       'nrSlangWords/nrWords', 'nrWords/nrSentences', 'uniquenessMean', \n",
    "       'uniquenessSTD', 'nrAdverbs/nrWords', 'nrLetters/nrWords',\n",
    "       'nrComplexVerbs/nrWords',\n",
    "       'nrSentences',\n",
    "       'const'\n",
    "]\n",
    "\n",
    "coefs = list(map(lambda row: [\"{\\scriptsize \"+row+\"}\"] + list(df.loc[row]), order))\n",
    "\n",
    "\n",
    "table = LatexTable()\n",
    "table.emptyFirstHeader = True\n",
    "table.boldHeaders = False\n",
    "table.nrColumns = 5\n",
    "table.customHeader = \"\\multicolumn{1}{c|}{} & \\multicolumn{2}{c|}{\\\\textbf{AirlineTweets}} & \\multicolumn{2}{c|}{\\\\textbf{IMDB}}\\\\\\\\ \\cline{2-5}\\n\\multicolumn{1}{c|}{} & \\\\textbf{Positive} & \\\\textbf{Negative} & \\\\textbf{Positive} & \\\\textbf{Negative} \\\\\\\\ \\\\hline\\n\"\n",
    "table.headers = ['\\multicolumn{2}{|c|}{\\\\textbf{AirlineTweets}}', '\\multicolumn{2}{|c|}{\\\\textbf{IMDB}}']\n",
    "table.rows = [\n",
    "    ['R2'] + list(map(lambda x: f\"{x:.3f}\", df.loc['r2'])),\n",
    "    '!boldLine'\n",
    "] + coefs\n",
    "results = table.render()\n",
    "outputFile = 'Results-Regression.tex'\n",
    "with open(outputFile, mode='w') as output:\n",
    "    output.write(results)\n",
    "print(results)"
   ]
  },
  {
   "cell_type": "code",
   "execution_count": null,
   "metadata": {},
   "outputs": [],
   "source": []
  }
 ]
}