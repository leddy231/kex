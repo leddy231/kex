{
 "metadata": {
  "language_info": {
   "codemirror_mode": {
    "name": "ipython",
    "version": 3
   },
   "file_extension": ".py",
   "mimetype": "text/x-python",
   "name": "python",
   "nbconvert_exporter": "python",
   "pygments_lexer": "ipython3",
   "version": "3.8.5"
  },
  "orig_nbformat": 2,
  "kernelspec": {
   "name": "python385jvsc74a57bd0c44b72c526c8c2d5c61f5343e5a1f2700c1b4b253758e0d185049d36041666fd",
   "display_name": "Python 3.8.5 64-bit ('base': conda)"
  }
 },
 "nbformat": 4,
 "nbformat_minor": 2,
 "cells": [
  {
   "cell_type": "code",
   "execution_count": 33,
   "metadata": {},
   "outputs": [],
   "source": [
    "import os\n",
    "import sys\n",
    "import inspect\n",
    "currentdir = os.path.dirname(os.path.abspath(inspect.getfile(inspect.currentframe())))\n",
    "parentdir = os.path.dirname(currentdir)\n",
    "sys.path.insert(0, parentdir)\n",
    "\n",
    "import pandas as pd\n",
    "from functions import dirs, readFile, canonicalNames, readSet\n",
    "from wordEmbedders import WESCScore\n",
    "import pickle\n",
    "import chevron\n",
    "from re import sub\n",
    "from latexTable import LatexTable"
   ]
  },
  {
   "cell_type": "code",
   "execution_count": 34,
   "metadata": {},
   "outputs": [],
   "source": [
    "def stars(z):\n",
    "    (coef, p) = z\n",
    "    res = f\"{coef:.2f}\"\n",
    "    if p < 0.01:\n",
    "        res += '*'\n",
    "    if p < 0.05:\n",
    "        res += '*'\n",
    "    if p < 0.1:\n",
    "        res += '*'\n",
    "    if coef > 0:\n",
    "        res = \"\\phantom{-}\" + res\n",
    "    return res"
   ]
  },
  {
   "cell_type": "code",
   "execution_count": 35,
   "metadata": {},
   "outputs": [],
   "source": [
    "finalNames = pickle.load(open('./FinalNames.pickle', mode='rb'))\n",
    "datasets = finalNames['datasets'].keys()\n",
    "sentiments = ['Positive', 'Negative']\n",
    "\n",
    "results = {}\n",
    "df = pd.DataFrame()\n",
    "for dataset in datasets:\n",
    "    for sentiment in sentiments:\n",
    "        regressionFile = f\"../data/{dataset}/Regression-{sentiment}.pickle\"\n",
    "        result = pickle.load(open(regressionFile, mode='rb'))\n",
    "        coefs = list(map(stars, zip(result.params, result.pvalues)))\n",
    "        col = [result.prsquared] + coefs\n",
    "        df[f\"{dataset}-{sentiment}\"] = col"
   ]
  },
  {
   "cell_type": "code",
   "execution_count": 36,
   "metadata": {},
   "outputs": [],
   "source": [
    "df.index = ['r2'] + list(result.params.index)\n",
    "order = finalNames['picked'] + ['const']\n",
    "rows = []\n",
    "finalNames['dimensions']['syntactic'] += finalNames['dimensions']['postagwords']\n",
    "for aspect in [x for x in finalNames['dimensions'] if not x == 'postagwords']:\n",
    "    first = True\n",
    "    picked = [x for x in finalNames['dimensions'][aspect] if x in order]\n",
    "    n = len(picked)\n",
    "    for dimension in picked:\n",
    "        firstCell = ''\n",
    "        if first:\n",
    "            firstCell = \"\\parbox[t]{2mm}{\\multirow{\"+str(n)+\"}{*}{\\\\rotatebox[origin=c]{90}{\"+finalNames['aspects'][aspect]+\"}}}\"\n",
    "            first = False\n",
    "        row = [firstCell, finalNames['dimensionNames'][dimension]] + list(df.loc[dimension])\n",
    "        rows.append(row)\n",
    "\n",
    "\n",
    "\n",
    "rows.append(['\\multicolumn{1}{c|}{}', 'Constant'] + list(df.loc['const']))\n",
    "\n",
    "#finalNames['dimensionNames']['const'] = 'constant'\n",
    "#coefs = list(map(lambda row: [finalNames['dimensionNames'][row]] + list(df.loc[row]), order))\n"
   ]
  },
  {
   "cell_type": "code",
   "execution_count": 37,
   "metadata": {},
   "outputs": [
    {
     "output_type": "stream",
     "name": "stdout",
     "text": [
      "\\begin{tabular}{|l|l|l|l|l|l|} \\cline{3-6}\n\\multicolumn{2}{c|}{} & \\multicolumn{2}{c|}{\\textbf{Airline tweets}} & \\multicolumn{2}{c|}{\\textbf{IMDBbreviews}}\\\\ \\cline{3-6}\n\\multicolumn{2}{c|}{} & \\textbf{Positive} & \\textbf{Negative} & \\textbf{Positive} & \\textbf{Negative} \\\\ \\cline{2-6}\n \\multicolumn{1}{c|}{} & Psuedo-R\\textsuperscript{2} & 0.19 & 0.17 & 0.21 & 0.20\\\\ \\cline{2-6}\n \\multicolumn{3}{c}{} \\\\ [-1.5ex] \\hline\n\\parbox[t]{2mm}{\\multirow{3}{*}{\\rotatebox[origin=c]{90}{Lexical}}} & nrLetters/nrWords & -0.44*** & \\phantom{-}0.58*** & \\phantom{-}1.83*** & -1.69*** \\\\ \\cline{2-6}\n & uniquenessMean & \\phantom{-}4.85*** & \\phantom{-}3.39*** & -12.67*** & \\phantom{-}21.25*** \\\\ \\cline{2-6}\n & uniquenessSTD & \\phantom{-}6.71** & -1.11 & \\phantom{-}16.41*** & -21.50*** \\\\ \\hline\n\\parbox[t]{2mm}{\\multirow{4}{*}{\\rotatebox[origin=c]{90}{Semantic}}} & nrSynsets/nrWords & -0.06** & \\phantom{-}0.01 & \\phantom{-}0.23*** & -0.26*** \\\\ \\cline{2-6}\n & nrSlangWords/nrWords & \\phantom{-}2.66 & -7.53*** & -0.41 & \\phantom{-}0.96 \\\\ \\cline{2-6}\n & nrHardWordsSAT/nrWords & -1.74 & -3.56*** & -10.18*** & \\phantom{-}14.46*** \\\\ \\cline{2-6}\n & nrHardWordsDC/nrWords & -2.34*** & \\phantom{-}1.76*** & \\phantom{-}11.90*** & -14.56*** \\\\ \\hline\n\\parbox[t]{2mm}{\\multirow{7}{*}{\\rotatebox[origin=c]{90}{Syntactic}}} & nrWords/nrSentences & \\phantom{-}0.03 & -0.03*** & -0.00*** & \\phantom{-}0.01* \\\\ \\cline{2-6}\n & nrConjunctions/nrWords & -6.14*** & \\phantom{-}8.69*** & \\phantom{-}7.27*** & -8.61*** \\\\ \\cline{2-6}\n & nrAdjectives/nrWords & -1.29 & \\phantom{-}1.14** & \\phantom{-}6.86*** & -3.08* \\\\ \\cline{2-6}\n & nrAdverbs/nrWords & \\phantom{-}0.09 & \\phantom{-}0.12 & -7.84*** & \\phantom{-}9.93*** \\\\ \\cline{2-6}\n & nrComplexVerbs/nrWords & \\phantom{-}3.05** & -0.22 & -16.15*** & \\phantom{-}22.59*** \\\\ \\cline{2-6}\n & nrPossessives/nrWords & \\phantom{-}6.24*** & -6.88*** & \\phantom{-}2.36** & -2.79 \\\\ \\cline{2-6}\n & nrDeterminers/nrWords & -3.48*** & \\phantom{-}5.15*** & -2.14*** & \\phantom{-}8.42*** \\\\ \\hline\n\\parbox[t]{2mm}{\\multirow{3}{*}{\\rotatebox[origin=c]{90}{Sentiment}}} & opinionPolarity & -0.09 & \\phantom{-}0.05* & \\phantom{-}0.17*** & -0.12*** \\\\ \\cline{2-6}\n & nrStrongSentiWords/nrWords & -0.70 & \\phantom{-}8.80*** & \\phantom{-}46.57*** & \\phantom{-}14.94*** \\\\ \\cline{2-6}\n & nrMixedSentiWords/nrWords & -1.70 & \\phantom{-}6.30*** & \\phantom{-}6.77*** & -1.83 \\\\ \\hline\n\\multicolumn{1}{c|}{} & Constant & \\phantom{-}1.66 & -5.07*** & -16.80*** & \\phantom{-}17.02*** \\\\ \\cline{2-6}\n\\end{tabular}\n"
     ]
    }
   ],
   "source": [
    "table = LatexTable()\n",
    "table.emptyFirstHeader = True\n",
    "table.boldHeaders = False\n",
    "table.boldIndexColumn = False\n",
    "table.nrColumns = 6\n",
    "table.customHeader = \"\\multicolumn{2}{c|}{} & \\multicolumn{2}{c|}{\\\\textbf{Airline tweets}} & \\multicolumn{2}{c|}{\\\\textbf{IMDBb reviews}}\\\\\\\\ \\cline{3-6}\\n\\multicolumn{2}{c|}{} & \\\\textbf{Positive} & \\\\textbf{Negative} & \\\\textbf{Positive} & \\\\textbf{Negative} \\\\\\\\ \\\\hline\\n\"\n",
    "table.headers = ['\\multicolumn{2}{|c|}{\\\\textbf{AirlineTweets}}', '\\multicolumn{2}{|c|}{\\\\textbf{IMDB}}']\n",
    "table.rows = [\n",
    "    [' \\multicolumn{1}{c|}{}', 'Psuedo-R\\\\textsuperscript{2}'] + list(map(lambda x: f\"{x:.2f}\", df.loc['r2'])),\n",
    "    '!boldLine'\n",
    "] + rows\n",
    "results = table.render()\n",
    "results = sub('2\\-6', '3-6', results)\n",
    "rows = results.split(\"\\n\")\n",
    "out = []\n",
    "for i, r in enumerate(rows):\n",
    "    if i + 1 < len(rows):\n",
    "        nxt = rows[i+1]\n",
    "    else:\n",
    "        nxt = None\n",
    "    if nxt is None or nxt[0] == ' ' or nxt == '\\end{tabular}':\n",
    "        r = sub(r\"\\\\hline\", r\"\\\\cline{2-6}\", r)\n",
    "    out.append(r)\n",
    "results = '\\n'.join(out)\n",
    "\n",
    "outputFile = 'Results-Regression.tex'\n",
    "with open(outputFile, mode='w') as output:\n",
    "    output.write(results)\n",
    "print(results)"
   ]
  },
  {
   "cell_type": "code",
   "execution_count": null,
   "metadata": {},
   "outputs": [],
   "source": []
  }
 ]
}