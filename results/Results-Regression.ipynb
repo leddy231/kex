{
 "metadata": {
  "language_info": {
   "codemirror_mode": {
    "name": "ipython",
    "version": 3
   },
   "file_extension": ".py",
   "mimetype": "text/x-python",
   "name": "python",
   "nbconvert_exporter": "python",
   "pygments_lexer": "ipython3",
   "version": "3.8.5"
  },
  "orig_nbformat": 2,
  "kernelspec": {
   "name": "python385jvsc74a57bd0c44b72c526c8c2d5c61f5343e5a1f2700c1b4b253758e0d185049d36041666fd",
   "display_name": "Python 3.8.5 64-bit ('base': conda)"
  }
 },
 "nbformat": 4,
 "nbformat_minor": 2,
 "cells": [
  {
   "cell_type": "code",
   "execution_count": 1,
   "metadata": {},
   "outputs": [],
   "source": [
    "import os\n",
    "import sys\n",
    "import inspect\n",
    "currentdir = os.path.dirname(os.path.abspath(inspect.getfile(inspect.currentframe())))\n",
    "parentdir = os.path.dirname(currentdir)\n",
    "sys.path.insert(0, parentdir)\n",
    "\n",
    "import pandas as pd\n",
    "from functions import dirs, readFile, canonicalNames, readSet\n",
    "from wordEmbedders import WESCScore\n",
    "import pickle\n",
    "import chevron\n",
    "from re import sub\n",
    "from latexTable import LatexTable"
   ]
  },
  {
   "cell_type": "code",
   "execution_count": 2,
   "metadata": {},
   "outputs": [],
   "source": [
    "picked = readSet('../data/Dimensions-Picked-Final.txt')"
   ]
  },
  {
   "cell_type": "code",
   "execution_count": 3,
   "metadata": {},
   "outputs": [],
   "source": [
    "result = pickle.load(open(\"../data/AirlineTweets2/Regression-Positive.pickle\", mode='rb'))"
   ]
  },
  {
   "cell_type": "code",
   "execution_count": 4,
   "metadata": {},
   "outputs": [
    {
     "output_type": "execute_result",
     "data": {
      "text/plain": [
       "const                                1.659492\n",
       "nrPossesives/nrWords                 6.238790\n",
       "nrStrongSentimentWords/nrWords      -0.703717\n",
       "nrConjunctions/nrWords              -6.137505\n",
       "nrSynsets/nrWords                   -0.058234\n",
       "nrAdjectives/nrWords                -1.288943\n",
       "opinionPolarity                     -0.094735\n",
       "nrDeterminers/nrWords               -3.478717\n",
       "nrAmbiguousSentimentWords/nrWords   -1.704586\n",
       "nrDifficultWordsDaleChall/nrWords   -2.341873\n",
       "nrDifficultWordsSAT/nrWords         -1.743940\n",
       "nrSlangWords/nrWords                 2.663263\n",
       "uniquenessMean                       4.854494\n",
       "nrWords/nrSentences                  0.033311\n",
       "uniquenessSTD                        6.711025\n",
       "nrAdverbs/nrWords                    0.092676\n",
       "nrLetters/nrWords                   -0.439648\n",
       "nrComplexVerbs/nrWords               3.046090\n",
       "nrSentences                          0.615171\n",
       "dtype: float64"
      ]
     },
     "metadata": {},
     "execution_count": 4
    }
   ],
   "source": [
    "result.params"
   ]
  },
  {
   "cell_type": "code",
   "execution_count": 5,
   "metadata": {},
   "outputs": [],
   "source": [
    "def stars(z):\n",
    "    (coef, p) = z\n",
    "    res = f\"{coef:.2f}\"\n",
    "    if p < 0.01:\n",
    "        res += '*'\n",
    "    if p < 0.05:\n",
    "        res += '*'\n",
    "    if p < 0.1:\n",
    "        res += '*'\n",
    "    if coef > 0:\n",
    "        res = \"\\phantom{-}\" + res\n",
    "    return res"
   ]
  },
  {
   "cell_type": "code",
   "execution_count": 6,
   "metadata": {},
   "outputs": [],
   "source": [
    "datasets = dirs('../data')\n",
    "names = canonicalNames('../data')\n",
    "sentiments = ['Positive', 'Negative']\n",
    "\n",
    "results = {}\n",
    "df = pd.DataFrame()\n",
    "for dataset in datasets:\n",
    "    for sentiment in sentiments:\n",
    "        regressionFile = f\"../data/{dataset}/Regression-{sentiment}.pickle\"\n",
    "        result = pickle.load(open(regressionFile, mode='rb'))\n",
    "        coefs = list(map(stars, zip(result.params, result.pvalues)))\n",
    "        col = [result.prsquared] + coefs\n",
    "        df[f\"{dataset}-{sentiment}\"] = col"
   ]
  },
  {
   "cell_type": "code",
   "execution_count": 7,
   "metadata": {},
   "outputs": [
    {
     "output_type": "execute_result",
     "data": {
      "text/plain": [
       "                                  AirlineTweets2-Positive  \\\n",
       "r2                                                0.18786   \n",
       "nrPossesives/nrWords                   \\phantom{-}6.24***   \n",
       "nrStrongSentimentWords/nrWords                      -0.70   \n",
       "nrConjunctions/nrWords                           -6.14***   \n",
       "nrSynsets/nrWords                                 -0.06**   \n",
       "nrAdjectives/nrWords                                -1.29   \n",
       "opinionPolarity                                     -0.09   \n",
       "nrDeterminers/nrWords                            -3.48***   \n",
       "nrAmbiguousSentimentWords/nrWords                   -1.70   \n",
       "nrDifficultWordsDaleChall/nrWords                -2.34***   \n",
       "nrDifficultWordsSAT/nrWords                         -1.74   \n",
       "nrSlangWords/nrWords                      \\phantom{-}2.66   \n",
       "nrWords/nrSentences                       \\phantom{-}0.03   \n",
       "uniquenessMean                         \\phantom{-}4.85***   \n",
       "uniquenessSTD                           \\phantom{-}6.71**   \n",
       "nrAdverbs/nrWords                         \\phantom{-}0.09   \n",
       "nrLetters/nrWords                                -0.44***   \n",
       "nrComplexVerbs/nrWords                  \\phantom{-}3.05**   \n",
       "const                                     \\phantom{-}1.66   \n",
       "\n",
       "                                  AirlineTweets2-Negative  \\\n",
       "r2                                               0.169807   \n",
       "nrPossesives/nrWords                             -6.88***   \n",
       "nrStrongSentimentWords/nrWords         \\phantom{-}8.80***   \n",
       "nrConjunctions/nrWords                 \\phantom{-}8.69***   \n",
       "nrSynsets/nrWords                         \\phantom{-}0.01   \n",
       "nrAdjectives/nrWords                    \\phantom{-}1.14**   \n",
       "opinionPolarity                          \\phantom{-}0.05*   \n",
       "nrDeterminers/nrWords                  \\phantom{-}5.15***   \n",
       "nrAmbiguousSentimentWords/nrWords      \\phantom{-}6.30***   \n",
       "nrDifficultWordsDaleChall/nrWords      \\phantom{-}1.76***   \n",
       "nrDifficultWordsSAT/nrWords                      -3.56***   \n",
       "nrSlangWords/nrWords                             -7.53***   \n",
       "nrWords/nrSentences                              -0.03***   \n",
       "uniquenessMean                         \\phantom{-}3.39***   \n",
       "uniquenessSTD                                       -1.11   \n",
       "nrAdverbs/nrWords                         \\phantom{-}0.12   \n",
       "nrLetters/nrWords                      \\phantom{-}0.58***   \n",
       "nrComplexVerbs/nrWords                              -0.22   \n",
       "const                                            -5.07***   \n",
       "\n",
       "                                         IMDB-Positive        IMDB-Negative  \n",
       "r2                                             0.20689             0.201375  \n",
       "nrPossesives/nrWords                 \\phantom{-}2.36**                -2.79  \n",
       "nrStrongSentimentWords/nrWords     \\phantom{-}46.57***  \\phantom{-}14.94***  \n",
       "nrConjunctions/nrWords              \\phantom{-}7.27***             -8.61***  \n",
       "nrSynsets/nrWords                   \\phantom{-}0.23***             -0.26***  \n",
       "nrAdjectives/nrWords                \\phantom{-}6.86***               -3.08*  \n",
       "opinionPolarity                     \\phantom{-}0.17***             -0.12***  \n",
       "nrDeterminers/nrWords                         -2.14***   \\phantom{-}8.42***  \n",
       "nrAmbiguousSentimentWords/nrWords   \\phantom{-}6.77***                -1.83  \n",
       "nrDifficultWordsDaleChall/nrWords  \\phantom{-}11.90***            -14.56***  \n",
       "nrDifficultWordsSAT/nrWords                  -10.18***  \\phantom{-}14.46***  \n",
       "nrSlangWords/nrWords                             -0.41      \\phantom{-}0.96  \n",
       "nrWords/nrSentences                           -0.00***     \\phantom{-}0.01*  \n",
       "uniquenessMean                               -12.67***  \\phantom{-}21.25***  \n",
       "uniquenessSTD                      \\phantom{-}16.41***            -21.50***  \n",
       "nrAdverbs/nrWords                             -7.84***   \\phantom{-}9.93***  \n",
       "nrLetters/nrWords                   \\phantom{-}1.83***             -1.69***  \n",
       "nrComplexVerbs/nrWords                       -16.15***  \\phantom{-}22.59***  \n",
       "const                                        -16.80***  \\phantom{-}17.02***  "
      ],
      "text/html": "<div>\n<style scoped>\n    .dataframe tbody tr th:only-of-type {\n        vertical-align: middle;\n    }\n\n    .dataframe tbody tr th {\n        vertical-align: top;\n    }\n\n    .dataframe thead th {\n        text-align: right;\n    }\n</style>\n<table border=\"1\" class=\"dataframe\">\n  <thead>\n    <tr style=\"text-align: right;\">\n      <th></th>\n      <th>AirlineTweets2-Positive</th>\n      <th>AirlineTweets2-Negative</th>\n      <th>IMDB-Positive</th>\n      <th>IMDB-Negative</th>\n    </tr>\n  </thead>\n  <tbody>\n    <tr>\n      <th>r2</th>\n      <td>0.18786</td>\n      <td>0.169807</td>\n      <td>0.20689</td>\n      <td>0.201375</td>\n    </tr>\n    <tr>\n      <th>nrPossesives/nrWords</th>\n      <td>\\phantom{-}6.24***</td>\n      <td>-6.88***</td>\n      <td>\\phantom{-}2.36**</td>\n      <td>-2.79</td>\n    </tr>\n    <tr>\n      <th>nrStrongSentimentWords/nrWords</th>\n      <td>-0.70</td>\n      <td>\\phantom{-}8.80***</td>\n      <td>\\phantom{-}46.57***</td>\n      <td>\\phantom{-}14.94***</td>\n    </tr>\n    <tr>\n      <th>nrConjunctions/nrWords</th>\n      <td>-6.14***</td>\n      <td>\\phantom{-}8.69***</td>\n      <td>\\phantom{-}7.27***</td>\n      <td>-8.61***</td>\n    </tr>\n    <tr>\n      <th>nrSynsets/nrWords</th>\n      <td>-0.06**</td>\n      <td>\\phantom{-}0.01</td>\n      <td>\\phantom{-}0.23***</td>\n      <td>-0.26***</td>\n    </tr>\n    <tr>\n      <th>nrAdjectives/nrWords</th>\n      <td>-1.29</td>\n      <td>\\phantom{-}1.14**</td>\n      <td>\\phantom{-}6.86***</td>\n      <td>-3.08*</td>\n    </tr>\n    <tr>\n      <th>opinionPolarity</th>\n      <td>-0.09</td>\n      <td>\\phantom{-}0.05*</td>\n      <td>\\phantom{-}0.17***</td>\n      <td>-0.12***</td>\n    </tr>\n    <tr>\n      <th>nrDeterminers/nrWords</th>\n      <td>-3.48***</td>\n      <td>\\phantom{-}5.15***</td>\n      <td>-2.14***</td>\n      <td>\\phantom{-}8.42***</td>\n    </tr>\n    <tr>\n      <th>nrAmbiguousSentimentWords/nrWords</th>\n      <td>-1.70</td>\n      <td>\\phantom{-}6.30***</td>\n      <td>\\phantom{-}6.77***</td>\n      <td>-1.83</td>\n    </tr>\n    <tr>\n      <th>nrDifficultWordsDaleChall/nrWords</th>\n      <td>-2.34***</td>\n      <td>\\phantom{-}1.76***</td>\n      <td>\\phantom{-}11.90***</td>\n      <td>-14.56***</td>\n    </tr>\n    <tr>\n      <th>nrDifficultWordsSAT/nrWords</th>\n      <td>-1.74</td>\n      <td>-3.56***</td>\n      <td>-10.18***</td>\n      <td>\\phantom{-}14.46***</td>\n    </tr>\n    <tr>\n      <th>nrSlangWords/nrWords</th>\n      <td>\\phantom{-}2.66</td>\n      <td>-7.53***</td>\n      <td>-0.41</td>\n      <td>\\phantom{-}0.96</td>\n    </tr>\n    <tr>\n      <th>nrWords/nrSentences</th>\n      <td>\\phantom{-}0.03</td>\n      <td>-0.03***</td>\n      <td>-0.00***</td>\n      <td>\\phantom{-}0.01*</td>\n    </tr>\n    <tr>\n      <th>uniquenessMean</th>\n      <td>\\phantom{-}4.85***</td>\n      <td>\\phantom{-}3.39***</td>\n      <td>-12.67***</td>\n      <td>\\phantom{-}21.25***</td>\n    </tr>\n    <tr>\n      <th>uniquenessSTD</th>\n      <td>\\phantom{-}6.71**</td>\n      <td>-1.11</td>\n      <td>\\phantom{-}16.41***</td>\n      <td>-21.50***</td>\n    </tr>\n    <tr>\n      <th>nrAdverbs/nrWords</th>\n      <td>\\phantom{-}0.09</td>\n      <td>\\phantom{-}0.12</td>\n      <td>-7.84***</td>\n      <td>\\phantom{-}9.93***</td>\n    </tr>\n    <tr>\n      <th>nrLetters/nrWords</th>\n      <td>-0.44***</td>\n      <td>\\phantom{-}0.58***</td>\n      <td>\\phantom{-}1.83***</td>\n      <td>-1.69***</td>\n    </tr>\n    <tr>\n      <th>nrComplexVerbs/nrWords</th>\n      <td>\\phantom{-}3.05**</td>\n      <td>-0.22</td>\n      <td>-16.15***</td>\n      <td>\\phantom{-}22.59***</td>\n    </tr>\n    <tr>\n      <th>const</th>\n      <td>\\phantom{-}1.66</td>\n      <td>-5.07***</td>\n      <td>-16.80***</td>\n      <td>\\phantom{-}17.02***</td>\n    </tr>\n  </tbody>\n</table>\n</div>"
     },
     "metadata": {},
     "execution_count": 7
    }
   ],
   "source": [
    "df.index = ['r2'] + list(result.params.index)\n",
    "df.reindex([\n",
    "    'r2', 'nrPossesives/nrWords', 'nrStrongSentimentWords/nrWords',\n",
    "       'nrConjunctions/nrWords', 'nrSynsets/nrWords', 'nrAdjectives/nrWords',\n",
    "       'opinionPolarity', 'nrDeterminers/nrWords',\n",
    "       'nrAmbiguousSentimentWords/nrWords',\n",
    "       'nrDifficultWordsDaleChall/nrWords', 'nrDifficultWordsSAT/nrWords',\n",
    "       'nrSlangWords/nrWords', 'nrWords/nrSentences', 'uniquenessMean', \n",
    "       'uniquenessSTD', 'nrAdverbs/nrWords', 'nrLetters/nrWords',\n",
    "       'nrComplexVerbs/nrWords',\n",
    "       'const'\n",
    "])"
   ]
  },
  {
   "cell_type": "code",
   "execution_count": 8,
   "metadata": {},
   "outputs": [],
   "source": [
    "finalNames = pickle.load(open('./FinalNames.pickle', mode='rb'))"
   ]
  },
  {
   "cell_type": "code",
   "execution_count": 9,
   "metadata": {},
   "outputs": [],
   "source": [
    "picked = list(picked)\n",
    "picked.sort(key=lambda f: list(finalNames['dimensionNames'].keys()).index(f) )"
   ]
  },
  {
   "cell_type": "code",
   "execution_count": 10,
   "metadata": {},
   "outputs": [
    {
     "output_type": "execute_result",
     "data": {
      "text/plain": [
       "['nrConjunctions/nrWords',\n",
       " 'nrAdjectives/nrWords',\n",
       " 'nrAdverbs/nrWords',\n",
       " 'nrComplexVerbs/nrWords',\n",
       " 'nrPossesives/nrWords',\n",
       " 'nrDeterminers/nrWords',\n",
       " 'uniquenessMean',\n",
       " 'uniquenessSTD',\n",
       " 'nrLetters/nrWords',\n",
       " 'nrSynsets/nrWords',\n",
       " 'nrSlangWords/nrWords',\n",
       " 'nrWords/nrSentences',\n",
       " 'nrDifficultWordsSAT/nrWords',\n",
       " 'nrDifficultWordsDaleChall/nrWords',\n",
       " 'opinionPolarity',\n",
       " 'nrAmbiguousSentimentWords/nrWords',\n",
       " 'nrStrongSentimentWords/nrWords']"
      ]
     },
     "metadata": {},
     "execution_count": 10
    }
   ],
   "source": [
    "picked"
   ]
  },
  {
   "cell_type": "code",
   "execution_count": null,
   "metadata": {},
   "outputs": [],
   "source": []
  },
  {
   "cell_type": "code",
   "execution_count": 12,
   "metadata": {},
   "outputs": [
    {
     "output_type": "stream",
     "name": "stdout",
     "text": [
      "\\begin{tabular}{|l|l|l|l|l|} \\cline{2-5}\n\\multicolumn{1}{c|}{} & \\multicolumn{2}{c|}{\\textbf{AirlineTweets}} & \\multicolumn{2}{c|}{\\textbf{IMDB}}\\\\ \\cline{2-5}\n\\multicolumn{1}{c|}{} & \\textbf{Positive} & \\textbf{Negative} & \\textbf{Positive} & \\textbf{Negative} \\\\ \\hline\n\\textbf{Psuedo-R\\textsuperscript{2}} & 0.19 & 0.17 & 0.21 & 0.20\\\\ \\hline\n \\multicolumn{3}{c}{} \\\\ [-1.5ex] \\hline\n\\textbf{nrConjunctions/nrWords} & -6.14*** & \\phantom{-}8.69*** & \\phantom{-}7.27*** & -8.61*** \\\\ \\hline\n\\textbf{nrAdjectives/nrWords} & -1.29 & \\phantom{-}1.14** & \\phantom{-}6.86*** & -3.08* \\\\ \\hline\n\\textbf{nrAdverbs/nrWords} & \\phantom{-}0.09 & \\phantom{-}0.12 & -7.84*** & \\phantom{-}9.93*** \\\\ \\hline\n\\textbf{nrComplexVerbs/nrWords} & \\phantom{-}3.05** & -0.22 & -16.15*** & \\phantom{-}22.59*** \\\\ \\hline\n\\textbf{nrPossesives/nrWords} & \\phantom{-}6.24*** & -6.88*** & \\phantom{-}2.36** & -2.79 \\\\ \\hline\n\\textbf{nrDeterminers/nrWords} & -3.48*** & \\phantom{-}5.15*** & -2.14*** & \\phantom{-}8.42*** \\\\ \\hline\n\\textbf{uniquenessMean} & \\phantom{-}4.85*** & \\phantom{-}3.39*** & -12.67*** & \\phantom{-}21.25*** \\\\ \\hline\n\\textbf{uniquenessSTD} & \\phantom{-}6.71** & -1.11 & \\phantom{-}16.41*** & -21.50*** \\\\ \\hline\n\\textbf{nrLetters/nrWords} & -0.44*** & \\phantom{-}0.58*** & \\phantom{-}1.83*** & -1.69*** \\\\ \\hline\n\\textbf{nrSynsets/nrWords} & -0.06** & \\phantom{-}0.01 & \\phantom{-}0.23*** & -0.26*** \\\\ \\hline\n\\textbf{nrSlangWords/nrWords} & \\phantom{-}2.66 & -7.53*** & -0.41 & \\phantom{-}0.96 \\\\ \\hline\n\\textbf{nrWords/nrSentences} & \\phantom{-}0.03 & -0.03*** & -0.00*** & \\phantom{-}0.01* \\\\ \\hline\n\\textbf{nrHardWordsSAT/nrWords} & -1.74 & -3.56*** & -10.18*** & \\phantom{-}14.46*** \\\\ \\hline\n\\textbf{nrHardWordsDC/nrWords} & -2.34*** & \\phantom{-}1.76*** & \\phantom{-}11.90*** & -14.56*** \\\\ \\hline\n\\textbf{opinionPolarity} & -0.09 & \\phantom{-}0.05* & \\phantom{-}0.17*** & -0.12*** \\\\ \\hline\n\\textbf{nrMixedSentiWords/nrWords} & -1.70 & \\phantom{-}6.30*** & \\phantom{-}6.77*** & -1.83 \\\\ \\hline\n\\textbf{nrStrongSentiWords/nrWords} & -0.70 & \\phantom{-}8.80*** & \\phantom{-}46.57*** & \\phantom{-}14.94*** \\\\ \\hline\n\\textbf{constant} & \\phantom{-}1.66 & -5.07*** & -16.80*** & \\phantom{-}17.02*** \\\\ \\hline\n\\end{tabular}\n"
     ]
    }
   ],
   "source": [
    "order = picked + ['const']\n",
    "finalNames['dimensionNames']['const'] = 'constant'\n",
    "\n",
    "\n",
    "coefs = list(map(lambda row: [finalNames['dimensionNames'][row]] + list(df.loc[row]), order))\n",
    "\n",
    "\n",
    "\n",
    "table = LatexTable()\n",
    "table.emptyFirstHeader = True\n",
    "table.boldHeaders = False\n",
    "table.nrColumns = 5\n",
    "table.customHeader = \"\\multicolumn{1}{c|}{} & \\multicolumn{2}{c|}{\\\\textbf{AirlineTweets}} & \\multicolumn{2}{c|}{\\\\textbf{IMDB}}\\\\\\\\ \\cline{2-5}\\n\\multicolumn{1}{c|}{} & \\\\textbf{Positive} & \\\\textbf{Negative} & \\\\textbf{Positive} & \\\\textbf{Negative} \\\\\\\\ \\\\hline\\n\"\n",
    "table.headers = ['\\multicolumn{2}{|c|}{\\\\textbf{AirlineTweets}}', '\\multicolumn{2}{|c|}{\\\\textbf{IMDB}}']\n",
    "table.rows = [\n",
    "    ['Psuedo-R\\\\textsuperscript{2}'] + list(map(lambda x: f\"{x:.2f}\", df.loc['r2'])),\n",
    "    '!boldLine'\n",
    "] + coefs\n",
    "results = table.render()\n",
    "outputFile = 'Results-Regression.tex'\n",
    "with open(outputFile, mode='w') as output:\n",
    "    output.write(results)\n",
    "print(results)"
   ]
  },
  {
   "cell_type": "code",
   "execution_count": null,
   "metadata": {},
   "outputs": [],
   "source": []
  }
 ]
}