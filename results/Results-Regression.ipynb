{
 "metadata": {
  "language_info": {
   "codemirror_mode": {
    "name": "ipython",
    "version": 3
   },
   "file_extension": ".py",
   "mimetype": "text/x-python",
   "name": "python",
   "nbconvert_exporter": "python",
   "pygments_lexer": "ipython3",
   "version": "3.8.5"
  },
  "orig_nbformat": 2,
  "kernelspec": {
   "name": "python385jvsc74a57bd0c44b72c526c8c2d5c61f5343e5a1f2700c1b4b253758e0d185049d36041666fd",
   "display_name": "Python 3.8.5 64-bit ('base': conda)"
  }
 },
 "nbformat": 4,
 "nbformat_minor": 2,
 "cells": [
  {
   "cell_type": "code",
   "execution_count": 1,
   "metadata": {},
   "outputs": [],
   "source": [
    "import os\n",
    "import sys\n",
    "import inspect\n",
    "currentdir = os.path.dirname(os.path.abspath(inspect.getfile(inspect.currentframe())))\n",
    "parentdir = os.path.dirname(currentdir)\n",
    "sys.path.insert(0, parentdir)\n",
    "\n",
    "import pandas as pd\n",
    "from functions import dirs, readFile, canonicalNames, readSet\n",
    "from wordEmbedders import WESCScore\n",
    "import pickle\n",
    "import chevron\n",
    "from re import sub\n",
    "from latexTable import LatexTable"
   ]
  },
  {
   "cell_type": "code",
   "execution_count": 2,
   "metadata": {},
   "outputs": [],
   "source": [
    "def stars(z):\n",
    "    (coef, p) = z\n",
    "    res = f\"{coef:.2f}\"\n",
    "    if p < 0.01:\n",
    "        res += '*'\n",
    "    if p < 0.05:\n",
    "        res += '*'\n",
    "    if p < 0.1:\n",
    "        res += '*'\n",
    "    if coef > 0:\n",
    "        res = \"\\phantom{-}\" + res\n",
    "    return res"
   ]
  },
  {
   "cell_type": "code",
   "execution_count": 3,
   "metadata": {},
   "outputs": [],
   "source": [
    "finalNames = pickle.load(open('./FinalNames.pickle', mode='rb'))\n",
    "datasets = finalNames['datasets'].keys()\n",
    "sentiments = ['Positive', 'Negative']\n",
    "\n",
    "results = {}\n",
    "df = pd.DataFrame()\n",
    "for dataset in datasets:\n",
    "    for sentiment in sentiments:\n",
    "        regressionFile = f\"../data/{dataset}/Regression-{sentiment}.pickle\"\n",
    "        result = pickle.load(open(regressionFile, mode='rb'))\n",
    "        coefs = list(map(stars, zip(result.params, result.pvalues)))\n",
    "        col = [result.prsquared] + coefs\n",
    "        df[f\"{dataset}-{sentiment}\"] = col"
   ]
  },
  {
   "cell_type": "code",
   "execution_count": 4,
   "metadata": {},
   "outputs": [],
   "source": [
    "df.index = ['r2'] + list(result.params.index)\n",
    "order = finalNames['picked'] + ['const']\n",
    "finalNames['dimensionNames']['const'] = 'constant'\n",
    "coefs = list(map(lambda row: [finalNames['dimensionNames'][row]] + list(df.loc[row]), order))"
   ]
  },
  {
   "cell_type": "code",
   "execution_count": 5,
   "metadata": {},
   "outputs": [
    {
     "output_type": "stream",
     "name": "stdout",
     "text": [
      "\\begin{tabular}{|l|l|l|l|l|} \\cline{2-5}\n\\multicolumn{1}{c|}{} & \\multicolumn{2}{c|}{\\textbf{AirlineTweets}} & \\multicolumn{2}{c|}{\\textbf{IMDB}}\\\\ \\cline{2-5}\n\\multicolumn{1}{c|}{} & \\textbf{Positive} & \\textbf{Negative} & \\textbf{Positive} & \\textbf{Negative} \\\\ \\hline\n\\textbf{Psuedo-R\\textsuperscript{2}} & 0.19 & 0.17 & 0.21 & 0.20\\\\ \\hline\n \\multicolumn{3}{c}{} \\\\ [-1.5ex] \\hline\n\\textbf{nrLetters/nrWords} & -0.44*** & \\phantom{-}0.58*** & \\phantom{-}1.83*** & -1.69*** \\\\ \\hline\n\\textbf{uniquenessMean} & \\phantom{-}4.85*** & \\phantom{-}3.39*** & -12.67*** & \\phantom{-}21.25*** \\\\ \\hline\n\\textbf{uniquenessSTD} & \\phantom{-}6.71** & -1.11 & \\phantom{-}16.41*** & -21.50*** \\\\ \\hline\n\\textbf{nrSynsets/nrWords} & -0.06** & \\phantom{-}0.01 & \\phantom{-}0.23*** & -0.26*** \\\\ \\hline\n\\textbf{nrSlangWords/nrWords} & \\phantom{-}2.66 & -7.53*** & -0.41 & \\phantom{-}0.96 \\\\ \\hline\n\\textbf{nrHardWordsSAT/nrWords} & -1.74 & -3.56*** & -10.18*** & \\phantom{-}14.46*** \\\\ \\hline\n\\textbf{nrHardWordsDC/nrWords} & -2.34*** & \\phantom{-}1.76*** & \\phantom{-}11.90*** & -14.56*** \\\\ \\hline\n\\textbf{nrWords/nrSentences} & \\phantom{-}0.03 & -0.03*** & -0.00*** & \\phantom{-}0.01* \\\\ \\hline\n\\textbf{nrConjunctions/nrWords} & -6.14*** & \\phantom{-}8.69*** & \\phantom{-}7.27*** & -8.61*** \\\\ \\hline\n\\textbf{nrAdjectives/nrWords} & -1.29 & \\phantom{-}1.14** & \\phantom{-}6.86*** & -3.08* \\\\ \\hline\n\\textbf{nrAdverbs/nrWords} & \\phantom{-}0.09 & \\phantom{-}0.12 & -7.84*** & \\phantom{-}9.93*** \\\\ \\hline\n\\textbf{nrComplexVerbs/nrWords} & \\phantom{-}3.05** & -0.22 & -16.15*** & \\phantom{-}22.59*** \\\\ \\hline\n\\textbf{nrPossesives/nrWords} & \\phantom{-}6.24*** & -6.88*** & \\phantom{-}2.36** & -2.79 \\\\ \\hline\n\\textbf{nrDeterminers/nrWords} & -3.48*** & \\phantom{-}5.15*** & -2.14*** & \\phantom{-}8.42*** \\\\ \\hline\n\\textbf{opinionPolarity} & -0.09 & \\phantom{-}0.05* & \\phantom{-}0.17*** & -0.12*** \\\\ \\hline\n\\textbf{nrStrongSentiWords/nrWords} & -0.70 & \\phantom{-}8.80*** & \\phantom{-}46.57*** & \\phantom{-}14.94*** \\\\ \\hline\n\\textbf{nrMixedSentiWords/nrWords} & -1.70 & \\phantom{-}6.30*** & \\phantom{-}6.77*** & -1.83 \\\\ \\hline\n\\textbf{constant} & \\phantom{-}1.66 & -5.07*** & -16.80*** & \\phantom{-}17.02*** \\\\ \\hline\n\\end{tabular}\n"
     ]
    }
   ],
   "source": [
    "table = LatexTable()\n",
    "table.emptyFirstHeader = True\n",
    "table.boldHeaders = False\n",
    "table.nrColumns = 5\n",
    "table.customHeader = \"\\multicolumn{1}{c|}{} & \\multicolumn{2}{c|}{\\\\textbf{AirlineTweets}} & \\multicolumn{2}{c|}{\\\\textbf{IMDB}}\\\\\\\\ \\cline{2-5}\\n\\multicolumn{1}{c|}{} & \\\\textbf{Positive} & \\\\textbf{Negative} & \\\\textbf{Positive} & \\\\textbf{Negative} \\\\\\\\ \\\\hline\\n\"\n",
    "table.headers = ['\\multicolumn{2}{|c|}{\\\\textbf{AirlineTweets}}', '\\multicolumn{2}{|c|}{\\\\textbf{IMDB}}']\n",
    "table.rows = [\n",
    "    ['Psuedo-R\\\\textsuperscript{2}'] + list(map(lambda x: f\"{x:.2f}\", df.loc['r2'])),\n",
    "    '!boldLine'\n",
    "] + coefs\n",
    "results = table.render()\n",
    "outputFile = 'Results-Regression.tex'\n",
    "with open(outputFile, mode='w') as output:\n",
    "    output.write(results)\n",
    "print(results)"
   ]
  },
  {
   "cell_type": "code",
   "execution_count": null,
   "metadata": {},
   "outputs": [],
   "source": []
  }
 ]
}