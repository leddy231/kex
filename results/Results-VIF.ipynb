{
 "metadata": {
  "language_info": {
   "codemirror_mode": {
    "name": "ipython",
    "version": 3
   },
   "file_extension": ".py",
   "mimetype": "text/x-python",
   "name": "python",
   "nbconvert_exporter": "python",
   "pygments_lexer": "ipython3",
   "version": "3.8.5"
  },
  "orig_nbformat": 2,
  "kernelspec": {
   "name": "python385jvsc74a57bd0c44b72c526c8c2d5c61f5343e5a1f2700c1b4b253758e0d185049d36041666fd",
   "display_name": "Python 3.8.5 64-bit ('base': conda)"
  }
 },
 "nbformat": 4,
 "nbformat_minor": 2,
 "cells": [
  {
   "cell_type": "code",
   "execution_count": 1,
   "metadata": {},
   "outputs": [],
   "source": [
    "import os\n",
    "import sys\n",
    "import inspect\n",
    "currentdir = os.path.dirname(os.path.abspath(inspect.getfile(inspect.currentframe())))\n",
    "parentdir = os.path.dirname(currentdir)\n",
    "sys.path.insert(0, parentdir)\n",
    "\n",
    "import pandas as pd\n",
    "from functions import dirs, readFile, VIF, canonicalNames, readSet\n",
    "from wordEmbedders import WESCScore\n",
    "import pickle\n",
    "import chevron\n",
    "from re import sub\n",
    "from latexTable import LatexTable"
   ]
  },
  {
   "cell_type": "code",
   "execution_count": 2,
   "metadata": {},
   "outputs": [],
   "source": [
    "datasets = dirs('../data')\n",
    "names = canonicalNames('../data')\n",
    "picked = readSet('../data/Dimensions-Picked-Final.txt')\n",
    "sentiments = ['positive', 'negative']\n",
    "results = pd.DataFrame()\n",
    "for dataset in datasets:\n",
    "    dimsFile = f\"../data/{dataset}/Dimensions.csv\"\n",
    "    predictionFile = f\"../data/{dataset}/Word2Vec-Prediction.csv\"\n",
    "    dims = pd.read_csv(dimsFile)\n",
    "    pred = pd.read_csv(predictionFile)\n",
    "    df = dims.join(pred)\n",
    "    for sentiment in sentiments:\n",
    "        data = df[df['truth'] == sentiment]\n",
    "        vif = VIF(data[picked])\n",
    "        results[f'{dataset}-{sentiment}'] = vif['VIF']"
   ]
  },
  {
   "cell_type": "code",
   "execution_count": 3,
   "metadata": {},
   "outputs": [],
   "source": [
    "results = results.drop(index='const')"
   ]
  },
  {
   "cell_type": "code",
   "execution_count": 4,
   "metadata": {},
   "outputs": [],
   "source": [
    "finalNames = pickle.load(open('./FinalNames.pickle', mode='rb'))"
   ]
  },
  {
   "cell_type": "code",
   "execution_count": 5,
   "metadata": {},
   "outputs": [],
   "source": [
    "picked = list(picked)\n",
    "picked.sort(key=lambda f: list(finalNames['dimensionNames'].keys()).index(f) )"
   ]
  },
  {
   "cell_type": "code",
   "execution_count": 6,
   "metadata": {},
   "outputs": [
    {
     "output_type": "stream",
     "name": "stdout",
     "text": [
      "\\begin{tabular}{|l|l|l|l|l|} \\cline{2-5}\n\\multicolumn{1}{c|}{} & \\multicolumn{2}{c|}{\\textbf{AirlineTweets}} & \\multicolumn{2}{c|}{\\textbf{IMDB}}\\\\ \\cline{2-5}\n\\multicolumn{1}{c|}{} & \\textbf{Positive} & \\textbf{Negative} & \\textbf{Positive} & \\textbf{Negative} \\\\ \\hline\n\\textbf{nrConjunctions/nrWords} & 1.53 & 1.27 & 1.29 & 1.28 \\\\ \\hline\n\\textbf{nrAdjectives/nrWords} & 1.54 & 1.27 & 1.50 & 1.48 \\\\ \\hline\n\\textbf{nrAdverbs/nrWords} & 1.24 & 1.19 & 1.18 & 1.19 \\\\ \\hline\n\\textbf{nrComplexVerbs/nrWords} & 1.12 & 1.06 & 1.10 & 1.10 \\\\ \\hline\n\\textbf{nrPossesives/nrWords} & 2.79 & 1.55 & 1.93 & 1.71 \\\\ \\hline\n\\textbf{nrDeterminers/nrWords} & 1.40 & 1.26 & 1.48 & 1.45 \\\\ \\hline\n\\textbf{uniquenessMean} & 2.03 & 1.72 & 3.23 & 3.17 \\\\ \\hline\n\\textbf{uniquenessSTD} & 1.39 & 1.47 & 3.29 & 3.16 \\\\ \\hline\n\\textbf{nrLetters/nrWords} & 1.69 & 1.55 & 1.99 & 1.83 \\\\ \\hline\n\\textbf{nrSynsets/nrWords} & 1.38 & 1.20 & 1.33 & 1.36 \\\\ \\hline\n\\textbf{nrSlangWords/nrWords} & 1.05 & 1.07 & 1.01 & 1.01 \\\\ \\hline\n\\textbf{nrWords/nrSentences} & 1.62 & 1.22 & 1.05 & 1.05 \\\\ \\hline\n\\textbf{nrHardWordsSAT/nrWords} & 1.04 & 1.04 & 1.26 & 1.22 \\\\ \\hline\n\\textbf{nrHardWordsDC/nrWords} & 2.42 & 1.79 & 2.22 & 1.98 \\\\ \\hline\n\\textbf{opinionPolarity} & 1.02 & 1.01 & 1.04 & 1.02 \\\\ \\hline\n\\textbf{nrMixedSentiWords/nrWords} & 1.04 & 1.04 & 1.04 & 1.04 \\\\ \\hline\n\\textbf{nrStrongSentiWords/nrWords} & 1.41 & 1.13 & 1.33 & 1.33\\\\ \\hline\n \\multicolumn{3}{c}{} \\\\ [-1.5ex] \\hline\n\\textbf{Mean} & 1.51 & 1.29 & 1.60 & 1.55 \\\\ \\hline\n\\end{tabular}\n"
     ]
    }
   ],
   "source": [
    "\n",
    "\n",
    "rows = list(map(lambda row: [finalNames['dimensionNames'][row]] + list(map(lambda f: f\"{f:.2f}\", results.loc[row])), picked))\n",
    "\n",
    "table = LatexTable()\n",
    "table.emptyFirstHeader = True\n",
    "table.boldHeaders = False\n",
    "table.nrColumns = 5\n",
    "table.customHeader = \"\\multicolumn{1}{c|}{} & \\multicolumn{2}{c|}{\\\\textbf{AirlineTweets}} & \\multicolumn{2}{c|}{\\\\textbf{IMDB}}\\\\\\\\ \\cline{2-5}\\n\\multicolumn{1}{c|}{} & \\\\textbf{Positive} & \\\\textbf{Negative} & \\\\textbf{Positive} & \\\\textbf{Negative} \\\\\\\\ \\\\hline\\n\"\n",
    "table.rows = rows + [\n",
    "    \"!boldLine\",\n",
    "    [\"Mean\"] + list(map(lambda f: f\"{f:.2f}\", results.mean(axis=0)))\n",
    "]\n",
    "results = table.render()\n",
    "outputFile = 'Results-VIF.tex'\n",
    "with open(outputFile, mode='w') as output:\n",
    "    output.write(results)\n",
    "print(results)"
   ]
  },
  {
   "cell_type": "code",
   "execution_count": 14,
   "metadata": {},
   "outputs": [
    {
     "output_type": "execute_result",
     "data": {
      "text/plain": [
       "AirlineTweets2-positive     7.637811\n",
       "AirlineTweets2-negative     9.742087\n",
       "IMDB-positive              48.328242\n",
       "IMDB-negative              53.925573\n",
       "dtype: float64"
      ]
     },
     "metadata": {},
     "execution_count": 14
    }
   ],
   "source": []
  },
  {
   "cell_type": "code",
   "execution_count": null,
   "metadata": {},
   "outputs": [],
   "source": []
  }
 ]
}