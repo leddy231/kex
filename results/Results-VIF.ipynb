{
 "metadata": {
  "language_info": {
   "codemirror_mode": {
    "name": "ipython",
    "version": 3
   },
   "file_extension": ".py",
   "mimetype": "text/x-python",
   "name": "python",
   "nbconvert_exporter": "python",
   "pygments_lexer": "ipython3",
   "version": "3.8.5"
  },
  "orig_nbformat": 2,
  "kernelspec": {
   "name": "python385jvsc74a57bd0c44b72c526c8c2d5c61f5343e5a1f2700c1b4b253758e0d185049d36041666fd",
   "display_name": "Python 3.8.5 64-bit ('base': conda)"
  }
 },
 "nbformat": 4,
 "nbformat_minor": 2,
 "cells": [
  {
   "cell_type": "code",
   "execution_count": 5,
   "metadata": {},
   "outputs": [],
   "source": [
    "import os\n",
    "import sys\n",
    "import inspect\n",
    "currentdir = os.path.dirname(os.path.abspath(inspect.getfile(inspect.currentframe())))\n",
    "parentdir = os.path.dirname(currentdir)\n",
    "sys.path.insert(0, parentdir)\n",
    "\n",
    "import pandas as pd\n",
    "from functions import dirs, readFile, VIF, canonicalNames, readSet\n",
    "from wordEmbedders import WESCScore\n",
    "import pickle\n",
    "import chevron\n",
    "from re import sub\n",
    "from latexTable import LatexTable"
   ]
  },
  {
   "cell_type": "code",
   "execution_count": 6,
   "metadata": {},
   "outputs": [],
   "source": [
    "datasets = dirs('../data')\n",
    "names = canonicalNames('../data')\n",
    "picked = readSet('../data/Dimensions-Picked-Final.txt')\n",
    "sentiments = ['positive', 'negative']\n",
    "results = pd.DataFrame()\n",
    "for dataset in datasets:\n",
    "    dimsFile = f\"../data/{dataset}/Dimensions.csv\"\n",
    "    predictionFile = f\"../data/{dataset}/Word2Vec-Prediction.csv\"\n",
    "    dims = pd.read_csv(dimsFile)\n",
    "    pred = pd.read_csv(predictionFile)\n",
    "    df = dims.join(pred)\n",
    "    for sentiment in sentiments:\n",
    "        data = df[df['truth'] == sentiment]\n",
    "        vif = VIF(data[picked])\n",
    "        results[f'{dataset}-{sentiment}'] = vif['VIF']"
   ]
  },
  {
   "cell_type": "code",
   "execution_count": 8,
   "metadata": {},
   "outputs": [
    {
     "output_type": "execute_result",
     "data": {
      "text/plain": [
       "                                   AirlineTweets2-positive  \\\n",
       "opinionPolarity                                   1.017480   \n",
       "nrDifficultWordsSAT/nrWords                       1.036761   \n",
       "nrAmbiguousSentimentWords/nrWords                 1.037591   \n",
       "nrSlangWords/nrWords                              1.049202   \n",
       "nrComplexVerbs/nrWords                            1.120409   \n",
       "nrAdverbs/nrWords                                 1.239097   \n",
       "nrSynsets/nrWords                                 1.375087   \n",
       "uniquenessSTD                                     1.393254   \n",
       "nrDeterminers/nrWords                             1.404318   \n",
       "nrStrongSentimentWords/nrWords                    1.405019   \n",
       "nrConjunctions/nrWords                            1.525903   \n",
       "nrAdjectives/nrWords                              1.542000   \n",
       "nrWords/nrSentences                               1.617527   \n",
       "nrLetters/nrWords                                 1.689053   \n",
       "uniquenessMean                                    2.032917   \n",
       "nrDifficultWordsDaleChall/nrWords                 2.419821   \n",
       "nrPossesives/nrWords                              2.787039   \n",
       "\n",
       "                                   AirlineTweets2-negative  IMDB-positive  \\\n",
       "opinionPolarity                                   1.010084       1.039026   \n",
       "nrDifficultWordsSAT/nrWords                       1.044613       1.261200   \n",
       "nrAmbiguousSentimentWords/nrWords                 1.040261       1.043062   \n",
       "nrSlangWords/nrWords                              1.068859       1.009201   \n",
       "nrComplexVerbs/nrWords                            1.060648       1.095479   \n",
       "nrAdverbs/nrWords                                 1.189919       1.177629   \n",
       "nrSynsets/nrWords                                 1.203702       1.333606   \n",
       "uniquenessSTD                                     1.472337       3.287188   \n",
       "nrDeterminers/nrWords                             1.264766       1.481571   \n",
       "nrStrongSentimentWords/nrWords                    1.125765       1.331973   \n",
       "nrConjunctions/nrWords                            1.274557       1.287751   \n",
       "nrAdjectives/nrWords                              1.267417       1.503683   \n",
       "nrWords/nrSentences                               1.220452       1.050772   \n",
       "nrLetters/nrWords                                 1.547692       1.992221   \n",
       "uniquenessMean                                    1.717018       3.231449   \n",
       "nrDifficultWordsDaleChall/nrWords                 1.792656       2.220651   \n",
       "nrPossesives/nrWords                              1.553020       1.930149   \n",
       "\n",
       "                                   IMDB-negative  \n",
       "opinionPolarity                         1.022426  \n",
       "nrDifficultWordsSAT/nrWords             1.224441  \n",
       "nrAmbiguousSentimentWords/nrWords       1.037706  \n",
       "nrSlangWords/nrWords                    1.009617  \n",
       "nrComplexVerbs/nrWords                  1.103613  \n",
       "nrAdverbs/nrWords                       1.188436  \n",
       "nrSynsets/nrWords                       1.357769  \n",
       "uniquenessSTD                           3.160417  \n",
       "nrDeterminers/nrWords                   1.453753  \n",
       "nrStrongSentimentWords/nrWords          1.328463  \n",
       "nrConjunctions/nrWords                  1.284745  \n",
       "nrAdjectives/nrWords                    1.475734  \n",
       "nrWords/nrSentences                     1.045161  \n",
       "nrLetters/nrWords                       1.830478  \n",
       "uniquenessMean                          3.165389  \n",
       "nrDifficultWordsDaleChall/nrWords       1.977611  \n",
       "nrPossesives/nrWords                    1.706916  "
      ],
      "text/html": "<div>\n<style scoped>\n    .dataframe tbody tr th:only-of-type {\n        vertical-align: middle;\n    }\n\n    .dataframe tbody tr th {\n        vertical-align: top;\n    }\n\n    .dataframe thead th {\n        text-align: right;\n    }\n</style>\n<table border=\"1\" class=\"dataframe\">\n  <thead>\n    <tr style=\"text-align: right;\">\n      <th></th>\n      <th>AirlineTweets2-positive</th>\n      <th>AirlineTweets2-negative</th>\n      <th>IMDB-positive</th>\n      <th>IMDB-negative</th>\n    </tr>\n  </thead>\n  <tbody>\n    <tr>\n      <th>opinionPolarity</th>\n      <td>1.017480</td>\n      <td>1.010084</td>\n      <td>1.039026</td>\n      <td>1.022426</td>\n    </tr>\n    <tr>\n      <th>nrDifficultWordsSAT/nrWords</th>\n      <td>1.036761</td>\n      <td>1.044613</td>\n      <td>1.261200</td>\n      <td>1.224441</td>\n    </tr>\n    <tr>\n      <th>nrAmbiguousSentimentWords/nrWords</th>\n      <td>1.037591</td>\n      <td>1.040261</td>\n      <td>1.043062</td>\n      <td>1.037706</td>\n    </tr>\n    <tr>\n      <th>nrSlangWords/nrWords</th>\n      <td>1.049202</td>\n      <td>1.068859</td>\n      <td>1.009201</td>\n      <td>1.009617</td>\n    </tr>\n    <tr>\n      <th>nrComplexVerbs/nrWords</th>\n      <td>1.120409</td>\n      <td>1.060648</td>\n      <td>1.095479</td>\n      <td>1.103613</td>\n    </tr>\n    <tr>\n      <th>nrAdverbs/nrWords</th>\n      <td>1.239097</td>\n      <td>1.189919</td>\n      <td>1.177629</td>\n      <td>1.188436</td>\n    </tr>\n    <tr>\n      <th>nrSynsets/nrWords</th>\n      <td>1.375087</td>\n      <td>1.203702</td>\n      <td>1.333606</td>\n      <td>1.357769</td>\n    </tr>\n    <tr>\n      <th>uniquenessSTD</th>\n      <td>1.393254</td>\n      <td>1.472337</td>\n      <td>3.287188</td>\n      <td>3.160417</td>\n    </tr>\n    <tr>\n      <th>nrDeterminers/nrWords</th>\n      <td>1.404318</td>\n      <td>1.264766</td>\n      <td>1.481571</td>\n      <td>1.453753</td>\n    </tr>\n    <tr>\n      <th>nrStrongSentimentWords/nrWords</th>\n      <td>1.405019</td>\n      <td>1.125765</td>\n      <td>1.331973</td>\n      <td>1.328463</td>\n    </tr>\n    <tr>\n      <th>nrConjunctions/nrWords</th>\n      <td>1.525903</td>\n      <td>1.274557</td>\n      <td>1.287751</td>\n      <td>1.284745</td>\n    </tr>\n    <tr>\n      <th>nrAdjectives/nrWords</th>\n      <td>1.542000</td>\n      <td>1.267417</td>\n      <td>1.503683</td>\n      <td>1.475734</td>\n    </tr>\n    <tr>\n      <th>nrWords/nrSentences</th>\n      <td>1.617527</td>\n      <td>1.220452</td>\n      <td>1.050772</td>\n      <td>1.045161</td>\n    </tr>\n    <tr>\n      <th>nrLetters/nrWords</th>\n      <td>1.689053</td>\n      <td>1.547692</td>\n      <td>1.992221</td>\n      <td>1.830478</td>\n    </tr>\n    <tr>\n      <th>uniquenessMean</th>\n      <td>2.032917</td>\n      <td>1.717018</td>\n      <td>3.231449</td>\n      <td>3.165389</td>\n    </tr>\n    <tr>\n      <th>nrDifficultWordsDaleChall/nrWords</th>\n      <td>2.419821</td>\n      <td>1.792656</td>\n      <td>2.220651</td>\n      <td>1.977611</td>\n    </tr>\n    <tr>\n      <th>nrPossesives/nrWords</th>\n      <td>2.787039</td>\n      <td>1.553020</td>\n      <td>1.930149</td>\n      <td>1.706916</td>\n    </tr>\n  </tbody>\n</table>\n</div>"
     },
     "metadata": {},
     "execution_count": 8
    }
   ],
   "source": [
    "results.drop(index='const')"
   ]
  },
  {
   "cell_type": "code",
   "execution_count": 17,
   "metadata": {},
   "outputs": [
    {
     "output_type": "stream",
     "name": "stdout",
     "text": [
      "\\begin{tabular}{|l|l|l|l|l|} \\cline{2-5}\n\\multicolumn{1}{c|}{} & \\multicolumn{2}{c|}{\\textbf{AirlineTweets}} & \\multicolumn{2}{c|}{\\textbf{IMDB}}\\\\ \\cline{2-5}\n\\multicolumn{1}{c|}{} & \\textbf{Positive} & \\textbf{Negative} & \\textbf{Positive} & \\textbf{Negative} \\\\ \\hline\n\\textbf{{\\scriptsize nrPossesives/nrWords}} & 2.79 & 1.55 & 1.93 & 1.71 \\\\ \\hline\n\\textbf{{\\scriptsize nrStrongSentimentWords/nrWords}} & 1.41 & 1.13 & 1.33 & 1.33 \\\\ \\hline\n\\textbf{{\\scriptsize nrConjunctions/nrWords}} & 1.53 & 1.27 & 1.29 & 1.28 \\\\ \\hline\n\\textbf{{\\scriptsize nrSynsets/nrWords}} & 1.38 & 1.20 & 1.33 & 1.36 \\\\ \\hline\n\\textbf{{\\scriptsize nrAdjectives/nrWords}} & 1.54 & 1.27 & 1.50 & 1.48 \\\\ \\hline\n\\textbf{{\\scriptsize opinionPolarity}} & 1.02 & 1.01 & 1.04 & 1.02 \\\\ \\hline\n\\textbf{{\\scriptsize nrDeterminers/nrWords}} & 1.40 & 1.26 & 1.48 & 1.45 \\\\ \\hline\n\\textbf{{\\scriptsize nrAmbiguousSentimentWords/nrWords}} & 1.04 & 1.04 & 1.04 & 1.04 \\\\ \\hline\n\\textbf{{\\scriptsize nrDifficultWordsDaleChall/nrWords}} & 2.42 & 1.79 & 2.22 & 1.98 \\\\ \\hline\n\\textbf{{\\scriptsize nrDifficultWordsSAT/nrWords}} & 1.04 & 1.04 & 1.26 & 1.22 \\\\ \\hline\n\\textbf{{\\scriptsize nrSlangWords/nrWords}} & 1.05 & 1.07 & 1.01 & 1.01 \\\\ \\hline\n\\textbf{{\\scriptsize nrWords/nrSentences}} & 1.62 & 1.22 & 1.05 & 1.05 \\\\ \\hline\n\\textbf{{\\scriptsize uniquenessMean}} & 2.03 & 1.72 & 3.23 & 3.17 \\\\ \\hline\n\\textbf{{\\scriptsize uniquenessSTD}} & 1.39 & 1.47 & 3.29 & 3.16 \\\\ \\hline\n\\textbf{{\\scriptsize nrAdverbs/nrWords}} & 1.24 & 1.19 & 1.18 & 1.19 \\\\ \\hline\n\\textbf{{\\scriptsize nrLetters/nrWords}} & 1.69 & 1.55 & 1.99 & 1.83 \\\\ \\hline\n\\textbf{{\\scriptsize nrComplexVerbs/nrWords}} & 1.12 & 1.06 & 1.10 & 1.10 \\\\ \\Xhline{3\\arrayrulewidth}\n\\textbf{{\\scriptsize Mean}} & 7.64 & 9.74 & 48.33 & 53.93 \\\\ \\hline\n\\end{tabular}\n"
     ]
    }
   ],
   "source": [
    "order = [\n",
    "    'nrPossesives/nrWords', 'nrStrongSentimentWords/nrWords',\n",
    "       'nrConjunctions/nrWords', 'nrSynsets/nrWords', 'nrAdjectives/nrWords',\n",
    "       'opinionPolarity', 'nrDeterminers/nrWords',\n",
    "       'nrAmbiguousSentimentWords/nrWords',\n",
    "       'nrDifficultWordsDaleChall/nrWords', 'nrDifficultWordsSAT/nrWords',\n",
    "       'nrSlangWords/nrWords', 'nrWords/nrSentences', 'uniquenessMean', \n",
    "       'uniquenessSTD', 'nrAdverbs/nrWords', 'nrLetters/nrWords',\n",
    "       'nrComplexVerbs/nrWords'\n",
    "]\n",
    "\n",
    "rows = list(map(lambda row: [\"{\\scriptsize \"+row+\"}\"] + list(map(lambda f: f\"{f:.2f}\", results.loc[row])), order))\n",
    "\n",
    "table = LatexTable()\n",
    "table.emptyFirstHeader = True\n",
    "table.boldHeaders = False\n",
    "table.nrColumns = 5\n",
    "table.customHeader = \"\\multicolumn{1}{c|}{} & \\multicolumn{2}{c|}{\\\\textbf{AirlineTweets}} & \\multicolumn{2}{c|}{\\\\textbf{IMDB}}\\\\\\\\ \\cline{2-5}\\n\\multicolumn{1}{c|}{} & \\\\textbf{Positive} & \\\\textbf{Negative} & \\\\textbf{Positive} & \\\\textbf{Negative} \\\\\\\\ \\\\hline\\n\"\n",
    "table.rows = rows + [\n",
    "    \"!boldLine\",\n",
    "    [\"{\\scriptsize Mean}\"] + list(map(lambda f: f\"{f:.2f}\", results.mean(axis=0)))\n",
    "]\n",
    "results = table.render()\n",
    "outputFile = 'Results-VIF.tex'\n",
    "with open(outputFile, mode='w') as output:\n",
    "    output.write(results)\n",
    "print(results)"
   ]
  },
  {
   "cell_type": "code",
   "execution_count": 14,
   "metadata": {},
   "outputs": [
    {
     "output_type": "execute_result",
     "data": {
      "text/plain": [
       "AirlineTweets2-positive     7.637811\n",
       "AirlineTweets2-negative     9.742087\n",
       "IMDB-positive              48.328242\n",
       "IMDB-negative              53.925573\n",
       "dtype: float64"
      ]
     },
     "metadata": {},
     "execution_count": 14
    }
   ],
   "source": []
  },
  {
   "cell_type": "code",
   "execution_count": null,
   "metadata": {},
   "outputs": [],
   "source": []
  }
 ]
}