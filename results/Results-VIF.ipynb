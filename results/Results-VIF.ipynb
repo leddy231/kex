{
 "metadata": {
  "language_info": {
   "codemirror_mode": {
    "name": "ipython",
    "version": 3
   },
   "file_extension": ".py",
   "mimetype": "text/x-python",
   "name": "python",
   "nbconvert_exporter": "python",
   "pygments_lexer": "ipython3",
   "version": "3.8.5"
  },
  "orig_nbformat": 2,
  "kernelspec": {
   "name": "python385jvsc74a57bd0c44b72c526c8c2d5c61f5343e5a1f2700c1b4b253758e0d185049d36041666fd",
   "display_name": "Python 3.8.5 64-bit ('base': conda)"
  }
 },
 "nbformat": 4,
 "nbformat_minor": 2,
 "cells": [
  {
   "cell_type": "code",
   "execution_count": 1,
   "metadata": {},
   "outputs": [],
   "source": [
    "import os\n",
    "import sys\n",
    "import inspect\n",
    "currentdir = os.path.dirname(os.path.abspath(inspect.getfile(inspect.currentframe())))\n",
    "parentdir = os.path.dirname(currentdir)\n",
    "sys.path.insert(0, parentdir)\n",
    "\n",
    "import pandas as pd\n",
    "from functions import dirs, readFile, VIF, canonicalNames, readSet\n",
    "from wordEmbedders import WESCScore\n",
    "import pickle\n",
    "import chevron\n",
    "from re import sub\n",
    "from latexTable import LatexTable"
   ]
  },
  {
   "cell_type": "code",
   "execution_count": 2,
   "metadata": {},
   "outputs": [],
   "source": [
    "finalNames = pickle.load(open('./FinalNames.pickle', mode='rb'))\n",
    "datasets = finalNames['datasets'].keys()\n",
    "names = canonicalNames('../data')\n",
    "picked = finalNames['picked']\n",
    "sentiments = ['positive', 'negative']\n",
    "results = pd.DataFrame()\n",
    "for dataset in datasets:\n",
    "    dimsFile = f\"../data/{dataset}/Dimensions.csv\"\n",
    "    predictionFile = f\"../data/{dataset}/Word2Vec-Prediction.csv\"\n",
    "    dims = pd.read_csv(dimsFile)\n",
    "    pred = pd.read_csv(predictionFile)\n",
    "    df = dims.join(pred)\n",
    "    for sentiment in sentiments:\n",
    "        data = df[df['truth'] == sentiment]\n",
    "        vif = VIF(data[picked])\n",
    "        results[f'{dataset}-{sentiment}'] = vif['VIF']"
   ]
  },
  {
   "cell_type": "code",
   "execution_count": 3,
   "metadata": {},
   "outputs": [],
   "source": [
    "result = results.drop(index='const')"
   ]
  },
  {
   "cell_type": "code",
   "execution_count": 4,
   "metadata": {},
   "outputs": [],
   "source": [
    "rows = []\n",
    "finalNames['dimensions']['syntactic'] += finalNames['dimensions']['postagwords']\n",
    "for aspect in [x for x in finalNames['dimensions'] if not x == 'postagwords']:\n",
    "    first = True\n",
    "    picked = [x for x in finalNames['dimensions'][aspect] if x in finalNames['picked']]\n",
    "    n = len(picked)\n",
    "    for dimension in picked:\n",
    "        firstCell = ''\n",
    "        if first:\n",
    "            firstCell = \"\\parbox[t]{2mm}{\\multirow{\"+str(n)+\"}{*}{\\\\rotatebox[origin=c]{90}{\"+finalNames['aspects'][aspect]+\"}}}\"\n",
    "            first = False\n",
    "        row = [firstCell, finalNames['dimensionNames'][dimension]] + list(map(lambda f: f\"{f:.2f}\", result.loc[dimension]))\n",
    "        rows.append(row)\n"
   ]
  },
  {
   "cell_type": "code",
   "execution_count": 5,
   "metadata": {},
   "outputs": [
    {
     "output_type": "stream",
     "name": "stdout",
     "text": [
      "\\begin{tabular}{|l|l|l|l|l|l|} \\cline{3-6}\n\\multicolumn{2}{c|}{} & \\multicolumn{2}{c|}{\\textbf{Airline tweets}} & \\multicolumn{2}{c|}{\\textbf{IMDb reviews}}\\\\ \\cline{3-6}\n\\multicolumn{2}{c|}{} & \\textbf{Positive} & \\textbf{Negative} & \\textbf{Positive} & \\textbf{Negative} \\\\ \\hline\n\\parbox[t]{2mm}{\\multirow{3}{*}{\\rotatebox[origin=c]{90}{Lexical}}} & nrLetters/nrWords & 1.69 & 1.55 & 1.99 & 1.83 \\\\ \\cline{2-6}\n & uniquenessMean & 2.03 & 1.72 & 3.23 & 3.17 \\\\ \\cline{2-6}\n & uniquenessSTD & 1.39 & 1.47 & 3.29 & 3.16 \\\\ \\hline\n\\parbox[t]{2mm}{\\multirow{4}{*}{\\rotatebox[origin=c]{90}{Semantic}}} & nrSynsets/nrWords & 1.38 & 1.20 & 1.33 & 1.36 \\\\ \\cline{2-6}\n & nrSlangWords/nrWords & 1.05 & 1.07 & 1.01 & 1.01 \\\\ \\cline{2-6}\n & nrHardWordsSAT/nrWords & 1.04 & 1.04 & 1.26 & 1.22 \\\\ \\cline{2-6}\n & nrHardWordsDC/nrWords & 2.42 & 1.79 & 2.22 & 1.98 \\\\ \\hline\n\\parbox[t]{2mm}{\\multirow{7}{*}{\\rotatebox[origin=c]{90}{Syntactic}}} & nrWords/nrSentences & 1.62 & 1.22 & 1.05 & 1.05 \\\\ \\cline{2-6}\n & nrConjunctions/nrWords & 1.53 & 1.27 & 1.29 & 1.28 \\\\ \\cline{2-6}\n & nrAdjectives/nrWords & 1.54 & 1.27 & 1.50 & 1.48 \\\\ \\cline{2-6}\n & nrAdverbs/nrWords & 1.24 & 1.19 & 1.18 & 1.19 \\\\ \\cline{2-6}\n & nrComplexVerbs/nrWords & 1.12 & 1.06 & 1.10 & 1.10 \\\\ \\cline{2-6}\n & nrPossessives/nrWords & 2.79 & 1.55 & 1.93 & 1.71 \\\\ \\cline{2-6}\n & nrDeterminers/nrWords & 1.40 & 1.26 & 1.48 & 1.45 \\\\ \\hline\n\\parbox[t]{2mm}{\\multirow{3}{*}{\\rotatebox[origin=c]{90}{Sentiment}}} & opinionPolarity & 1.02 & 1.01 & 1.04 & 1.02 \\\\ \\cline{2-6}\n & nrStrongSentiWords/nrWords & 1.41 & 1.13 & 1.33 & 1.33 \\\\ \\cline{2-6}\n & nrMixedSentiWords/nrWords & 1.04 & 1.04 & 1.04 & 1.04\\\\ \\cline{2-6}\n \\multicolumn{3}{c}{} \\\\ [-1.5ex] \\hline\n\\multicolumn{1}{c|}{} & Average VIF & 1.51 & 1.29 & 1.60 & 1.55 \\\\ \\cline{2-6}\n\\end{tabular}\n"
     ]
    }
   ],
   "source": [
    "#rows = list(map(lambda row: [finalNames['dimensionNames'][row]] + list(map(lambda f: f\"{f:.2f}\", results.loc[row])), picked))\n",
    "\n",
    "table = LatexTable()\n",
    "table.emptyFirstHeader = True\n",
    "table.boldHeaders = False\n",
    "table.boldIndexColumn = False\n",
    "table.nrColumns = 6\n",
    "table.customHeader = \"\\multicolumn{2}{c|}{} & \\multicolumn{2}{c|}{\\\\textbf{Airline tweets}} & \\multicolumn{2}{c|}{\\\\textbf{IMDb reviews}}\\\\\\\\ \\cline{3-6}\\n\\multicolumn{2}{c|}{} & \\\\textbf{Positive} & \\\\textbf{Negative} & \\\\textbf{Positive} & \\\\textbf{Negative} \\\\\\\\ \\\\hline\\n\"\n",
    "table.rows = rows + [\n",
    "    \"!boldLine\",\n",
    "    ['\\multicolumn{1}{c|}{}', \"Average VIF\"] + list(map(lambda f: f\"{f:.2f}\", results.drop('const').mean(axis=0)))\n",
    "]\n",
    "results = table.render()\n",
    "results = sub('2\\-6', '3-6', results)\n",
    "rows = results.split(\"\\n\")\n",
    "out = []\n",
    "for i, r in enumerate(rows):\n",
    "    if i + 1 < len(rows):\n",
    "        nxt = rows[i+1]\n",
    "    else:\n",
    "        nxt = None\n",
    "    if nxt is None or nxt[0] == ' ' or nxt == '\\end{tabular}':\n",
    "        r = sub(r\"\\\\hline\", r\"\\\\cline{2-6}\", r)\n",
    "    out.append(r)\n",
    "results = '\\n'.join(out)\n",
    "outputFile = 'Results-VIF.tex'\n",
    "with open(outputFile, mode='w') as output:\n",
    "    output.write(results)\n",
    "print(results)"
   ]
  },
  {
   "cell_type": "code",
   "execution_count": null,
   "metadata": {},
   "outputs": [],
   "source": []
  }
 ]
}