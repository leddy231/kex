{
 "metadata": {
  "language_info": {
   "codemirror_mode": {
    "name": "ipython",
    "version": 3
   },
   "file_extension": ".py",
   "mimetype": "text/x-python",
   "name": "python",
   "nbconvert_exporter": "python",
   "pygments_lexer": "ipython3",
   "version": "3.8.5"
  },
  "orig_nbformat": 2,
  "kernelspec": {
   "name": "python385jvsc74a57bd0c44b72c526c8c2d5c61f5343e5a1f2700c1b4b253758e0d185049d36041666fd",
   "display_name": "Python 3.8.5 64-bit ('base': conda)"
  }
 },
 "nbformat": 4,
 "nbformat_minor": 2,
 "cells": [
  {
   "cell_type": "code",
   "execution_count": 1,
   "metadata": {},
   "outputs": [],
   "source": [
    "import os\n",
    "import sys\n",
    "import inspect\n",
    "currentdir = os.path.dirname(os.path.abspath(inspect.getfile(inspect.currentframe())))\n",
    "parentdir = os.path.dirname(currentdir)\n",
    "sys.path.insert(0, parentdir)\n",
    "\n",
    "from functions import saveFile, readSet\n",
    "import pickle"
   ]
  },
  {
   "cell_type": "code",
   "execution_count": 2,
   "metadata": {},
   "outputs": [
    {
     "output_type": "execute_result",
     "data": {
      "text/plain": [
       "{'base': ['nrLetters',\n",
       "  'nrSyllables',\n",
       "  'nrMonoSyllables',\n",
       "  'nrBiSyllables',\n",
       "  'nrPolySyllables',\n",
       "  'nrWords',\n",
       "  'nrSentences',\n",
       "  'nrDifficultWordsSAT',\n",
       "  'nrDifficultWordsDaleChall',\n",
       "  'nrLongWords',\n",
       "  'nrSynsets',\n",
       "  'nrSlangWords',\n",
       "  'nrStrongSentimentWords',\n",
       "  'nrAmbiguousSentimentWords'],\n",
       " 'postag': ['nrConjunctions',\n",
       "  'nrAdjectives',\n",
       "  'nrAdverbs',\n",
       "  'nrComplexVerbs',\n",
       "  'nrPossesives',\n",
       "  'nrDeterminers'],\n",
       " 'lexical': ['uniquenessMean',\n",
       "  'uniquenessSTD',\n",
       "  'nrLetters/nrWords',\n",
       "  'nrSyllables/nrWords',\n",
       "  'nrMonoSyllables/nrWords',\n",
       "  'nrBiSyllables/nrWords',\n",
       "  'nrPolySyllables/nrWords',\n",
       "  'nrLongWords/nrWords'],\n",
       " 'semantic': ['nrDifficultWordsSAT/nrWords',\n",
       "  'nrDifficultWordsDaleChall/nrWords',\n",
       "  'nrSynsets/nrWords',\n",
       "  'nrSlangWords/nrWords'],\n",
       " 'syntactic': ['nrLetters/nrSentences',\n",
       "  'nrWords/nrSentences',\n",
       "  'nrSyllables/nrSentences',\n",
       "  'nrMonoSyllables/nrSentences',\n",
       "  'nrBiSyllables/nrSentences',\n",
       "  'nrPolySyllables/nrSentences',\n",
       "  'nrLongWords/nrSentences'],\n",
       " 'postagwords': ['nrConjunctions/nrWords',\n",
       "  'nrAdjectives/nrWords',\n",
       "  'nrAdverbs/nrWords',\n",
       "  'nrComplexVerbs/nrWords',\n",
       "  'nrPossesives/nrWords',\n",
       "  'nrDeterminers/nrWords'],\n",
       " 'sentiment': ['opinionPolarity',\n",
       "  'nrAmbiguousSentimentWords/nrWords',\n",
       "  'nrStrongSentimentWords/nrWords'],\n",
       " 'formulas': ['formulaFleshKincaid',\n",
       "  'formulaGunningFog',\n",
       "  'formulaSMOG',\n",
       "  'formulaDaleChall',\n",
       "  'formulaColemanLiau',\n",
       "  'formulaLinsearWrite',\n",
       "  'formulaLIX',\n",
       "  'formulaFORCAST']}"
      ]
     },
     "metadata": {},
     "execution_count": 2
    }
   ],
   "source": [
    "dimensions = pickle.load(open('../data/Dimensions-All.pickle', mode='rb'))\n",
    "picked = readSet('../data/Dimensions-Picked-Final.txt')\n",
    "dimensions"
   ]
  },
  {
   "cell_type": "code",
   "execution_count": 3,
   "metadata": {},
   "outputs": [],
   "source": [
    "datasets = {\n",
    "    'AirlineTweets2': 'Airline tweets',\n",
    "    'IMDB': 'IMDb reviews'\n",
    "}"
   ]
  },
  {
   "cell_type": "code",
   "execution_count": 4,
   "metadata": {},
   "outputs": [],
   "source": [
    "aspects = {\n",
    "    'base': 'Base variables',\n",
    "    'postag': 'Base POS groups',\n",
    "    'lexical': 'Lexical',\n",
    "    'semantic': 'Semantic',\n",
    "    'syntactic': 'Syntactic',\n",
    "    'postagwords': 'POS groups',\n",
    "    'sentiment': 'Sentiment',\n",
    "    'formulas': 'Formulas'\n",
    "}"
   ]
  },
  {
   "cell_type": "code",
   "execution_count": 5,
   "metadata": {},
   "outputs": [
    {
     "output_type": "execute_result",
     "data": {
      "text/plain": [
       "['nrLetters',\n",
       " 'nrSyllables',\n",
       " 'nrMonoSyllables',\n",
       " 'nrBiSyllables',\n",
       " 'nrPolySyllables',\n",
       " 'nrWords',\n",
       " 'nrSentences',\n",
       " 'nrDifficultWordsSAT',\n",
       " 'nrDifficultWordsDaleChall',\n",
       " 'nrLongWords',\n",
       " 'nrSynsets',\n",
       " 'nrSlangWords',\n",
       " 'nrStrongSentimentWords',\n",
       " 'nrAmbiguousSentimentWords',\n",
       " 'nrConjunctions',\n",
       " 'nrAdjectives',\n",
       " 'nrAdverbs',\n",
       " 'nrComplexVerbs',\n",
       " 'nrPossesives',\n",
       " 'nrDeterminers',\n",
       " 'uniquenessMean',\n",
       " 'uniquenessSTD',\n",
       " 'nrLetters/nrWords',\n",
       " 'nrSyllables/nrWords',\n",
       " 'nrMonoSyllables/nrWords',\n",
       " 'nrBiSyllables/nrWords',\n",
       " 'nrPolySyllables/nrWords',\n",
       " 'nrLongWords/nrWords',\n",
       " 'nrDifficultWordsSAT/nrWords',\n",
       " 'nrDifficultWordsDaleChall/nrWords',\n",
       " 'nrSynsets/nrWords',\n",
       " 'nrSlangWords/nrWords',\n",
       " 'nrLetters/nrSentences',\n",
       " 'nrWords/nrSentences',\n",
       " 'nrSyllables/nrSentences',\n",
       " 'nrMonoSyllables/nrSentences',\n",
       " 'nrBiSyllables/nrSentences',\n",
       " 'nrPolySyllables/nrSentences',\n",
       " 'nrLongWords/nrSentences',\n",
       " 'nrConjunctions/nrWords',\n",
       " 'nrAdjectives/nrWords',\n",
       " 'nrAdverbs/nrWords',\n",
       " 'nrComplexVerbs/nrWords',\n",
       " 'nrPossesives/nrWords',\n",
       " 'nrDeterminers/nrWords',\n",
       " 'opinionPolarity',\n",
       " 'nrAmbiguousSentimentWords/nrWords',\n",
       " 'nrStrongSentimentWords/nrWords',\n",
       " 'formulaFleshKincaid',\n",
       " 'formulaGunningFog',\n",
       " 'formulaSMOG',\n",
       " 'formulaDaleChall',\n",
       " 'formulaColemanLiau',\n",
       " 'formulaLinsearWrite',\n",
       " 'formulaLIX',\n",
       " 'formulaFORCAST']"
      ]
     },
     "metadata": {},
     "execution_count": 5
    }
   ],
   "source": [
    "[item for sublist in dimensions.values() for item in sublist]"
   ]
  },
  {
   "cell_type": "code",
   "execution_count": 6,
   "metadata": {},
   "outputs": [],
   "source": [
    "dimensionNames = {\n",
    " 'nrLetters': 'nrLetters',\n",
    " 'nrWords': 'nrWords',\n",
    " 'nrSentences': 'nrSentences',\n",
    " 'nrSynsets': 'nrSynsets',\n",
    " 'nrSyllables': 'nrSyllables',\n",
    " 'nrMonoSyllables': 'nrMonoSyllables',\n",
    " 'nrBiSyllables': 'nrBiSyllables',\n",
    " 'nrPolySyllables': 'nrPolySyllables',\n",
    " 'nrLongWords': 'nrLongWords',\n",
    " 'nrSlangWords': 'nrSlangWords',\n",
    " 'nrDifficultWordsSAT': 'nrHardWordsSAT',\n",
    " 'nrDifficultWordsDaleChall': 'nrHardWordsDC',\n",
    " 'nrStrongSentimentWords': 'nrStrongSentiWords',\n",
    " 'nrAmbiguousSentimentWords': 'nrMixedSentiWords',\n",
    " \n",
    " 'nrConjunctions': 'nrConjunctions',\n",
    " 'nrAdjectives': 'nrAdjectives',\n",
    " 'nrAdverbs': 'nrAdverbs',\n",
    " 'nrComplexVerbs': 'nrComplexVerbs',\n",
    " 'nrPossesives': 'nrPossessives',\n",
    " 'nrDeterminers': 'nrDeterminers',\n",
    "\n",
    " 'nrConjunctions/nrWords': 'nrConjunctions/nrWords',\n",
    " 'nrAdjectives/nrWords': 'nrAdjectives/nrWords',\n",
    " 'nrAdverbs/nrWords': 'nrAdverbs/nrWords',\n",
    " 'nrComplexVerbs/nrWords': 'nrComplexVerbs/nrWords',\n",
    " 'nrPossesives/nrWords': 'nrPossessives/nrWords',\n",
    " 'nrDeterminers/nrWords': 'nrDeterminers/nrWords',\n",
    "\n",
    "\n",
    "\n",
    " 'nrLetters/nrWords': 'nrLetters/nrWords',\n",
    " 'nrSynsets/nrWords': 'nrSynsets/nrWords',\n",
    " 'nrSyllables/nrWords': 'nrSyllables/nrWords',\n",
    " 'nrMonoSyllables/nrWords': 'nrMonoSyllables/nrWords',\n",
    " 'nrBiSyllables/nrWords': 'nrBiSyllables/nrWords',\n",
    " 'nrPolySyllables/nrWords': 'nrPolySyllables/nrWords',\n",
    " 'nrLongWords/nrWords': 'nrLongWords/nrWords',\n",
    " 'nrSlangWords/nrWords': 'nrSlangWords/nrWords',\n",
    "\n",
    " 'uniquenessMean': 'uniquenessMean',\n",
    " 'uniquenessSTD': 'uniquenessSTD',\n",
    "\n",
    " 'nrLetters/nrSentences': 'nrLetters/nrSentences',\n",
    " 'nrWords/nrSentences': 'nrWords/nrSentences',\n",
    " 'nrSyllables/nrSentences': 'nrSyllables/nrSentences',\n",
    " 'nrMonoSyllables/nrSentences': 'nrMonoSyllables/nrSentences',\n",
    " 'nrBiSyllables/nrSentences': 'nrBiSyllables/nrSentences',\n",
    " 'nrPolySyllables/nrSentences': 'nrPolySyllables/nrSentences',\n",
    " 'nrLongWords/nrSentences': 'nrLongWords/nrSentences',\n",
    "\n",
    " 'nrDifficultWordsSAT/nrWords': 'nrHardWordsSAT/nrWords',\n",
    " 'nrDifficultWordsDaleChall/nrWords': 'nrHardWordsDC/nrWords',\n",
    " \n",
    " \n",
    " 'opinionPolarity': 'opinionPolarity',\n",
    " 'nrStrongSentimentWords/nrWords': 'nrStrongSentiWords/nrWords',\n",
    " 'nrAmbiguousSentimentWords/nrWords': 'nrMixedSentiWords/nrWords',\n",
    "\n",
    " 'formulaFleshKincaid': 'formulaFleshKincaid',\n",
    " 'formulaDaleChall': 'formulaDaleChall',\n",
    " 'formulaGunningFog': 'formulaGunningFog',\n",
    " 'formulaLIX': 'formulaLIX',\n",
    " 'formulaSMOG': 'formulaSMOG',\n",
    " 'formulaFORCAST': 'formulaFORCAST',\n",
    " 'formulaLinsearWrite': 'formulaLinsearWrite',\n",
    " 'formulaColemanLiau': 'formulaColemanLiau',\n",
    " \n",
    "}"
   ]
  },
  {
   "cell_type": "code",
   "execution_count": 7,
   "metadata": {},
   "outputs": [],
   "source": [
    "formulaNames = {\n",
    " 'formulaFleshKincaid': 'Flesh-Kincaid',\n",
    " 'formulaDaleChall': 'Dale-Chall',\n",
    " 'formulaGunningFog': 'Gunning-Fog',\n",
    " 'formulaColemanLiau': 'Coleman-Liau',\n",
    " 'formulaLIX': 'LIX',\n",
    " 'formulaSMOG': 'SMOG',\n",
    " 'formulaFORCAST': 'FORCAST',\n",
    " 'formulaLinsearWrite': 'Linsear-Write',\n",
    "}"
   ]
  },
  {
   "cell_type": "code",
   "execution_count": 8,
   "metadata": {},
   "outputs": [],
   "source": [
    "for aspect in aspects:\n",
    "    dimensions[aspect].sort(key=lambda f: list(dimensionNames.keys()).index(f) )"
   ]
  },
  {
   "cell_type": "code",
   "execution_count": 9,
   "metadata": {},
   "outputs": [
    {
     "output_type": "execute_result",
     "data": {
      "text/plain": [
       "dict_keys(['base', 'postag', 'lexical', 'semantic', 'syntactic', 'postagwords', 'sentiment', 'formulas'])"
      ]
     },
     "metadata": {},
     "execution_count": 9
    }
   ],
   "source": [
    "aspects.keys()"
   ]
  },
  {
   "cell_type": "code",
   "execution_count": 10,
   "metadata": {},
   "outputs": [],
   "source": [
    "newPicked = []\n",
    "for aspect in aspects.keys():\n",
    "    dims = dimensions[aspect]\n",
    "    for dim in dims:\n",
    "        if dim in picked:\n",
    "            newPicked.append(dim)"
   ]
  },
  {
   "cell_type": "code",
   "execution_count": 11,
   "metadata": {},
   "outputs": [],
   "source": [
    "finalnames = {\n",
    "    'datasets': datasets,\n",
    "    'aspects': aspects,\n",
    "    'dimensionNames': dimensionNames,\n",
    "    'dimensions': dimensions,\n",
    "    'picked': newPicked,\n",
    "    'formulaNames': formulaNames\n",
    "}"
   ]
  },
  {
   "cell_type": "code",
   "execution_count": 12,
   "metadata": {},
   "outputs": [],
   "source": [
    "pickle.dump(finalnames, open('./FinalNames.pickle', mode=\"wb\"))"
   ]
  },
  {
   "cell_type": "code",
   "execution_count": null,
   "metadata": {},
   "outputs": [],
   "source": []
  }
 ]
}