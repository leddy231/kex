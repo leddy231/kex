{
 "metadata": {
  "language_info": {
   "codemirror_mode": {
    "name": "ipython",
    "version": 3
   },
   "file_extension": ".py",
   "mimetype": "text/x-python",
   "name": "python",
   "nbconvert_exporter": "python",
   "pygments_lexer": "ipython3",
   "version": "3.8.5"
  },
  "orig_nbformat": 2,
  "kernelspec": {
   "name": "python385jvsc74a57bd0c44b72c526c8c2d5c61f5343e5a1f2700c1b4b253758e0d185049d36041666fd",
   "display_name": "Python 3.8.5 64-bit ('base': conda)"
  }
 },
 "nbformat": 4,
 "nbformat_minor": 2,
 "cells": [
  {
   "cell_type": "code",
   "execution_count": 1,
   "metadata": {},
   "outputs": [],
   "source": [
    "import os\n",
    "import sys\n",
    "import inspect\n",
    "currentdir = os.path.dirname(os.path.abspath(inspect.getfile(inspect.currentframe())))\n",
    "parentdir = os.path.dirname(currentdir)\n",
    "sys.path.insert(0, parentdir)\n",
    "\n",
    "import pandas as pd\n",
    "from functions import dirs, readFile\n",
    "from wordEmbedders import WESCScore\n",
    "import pickle\n",
    "import chevron\n",
    "from re import sub\n",
    "from latexTable import LatexTable"
   ]
  },
  {
   "cell_type": "code",
   "execution_count": 2,
   "metadata": {},
   "outputs": [],
   "source": [
    "datasets = dirs('../data')\n",
    "canonicalNames = []\n",
    "results = []\n",
    "for dataset in datasets:\n",
    "    name = readFile(f'../data/{dataset}/CanonicalName.txt')\n",
    "    canonicalNames.append(name)\n",
    "    result = WESCScore.load(f'../data/{dataset}/Word2Vec-Prediction.csv')\n",
    "    results.append(result)"
   ]
  },
  {
   "cell_type": "code",
   "execution_count": 3,
   "metadata": {},
   "outputs": [],
   "source": [
    "def latexMatrix(res):\n",
    "    tp = str(res.truePos)\n",
    "    fp = str(res.falsePos)\n",
    "    fn = str(res.falseNeg)\n",
    "    tn = str(res.trueNeg)\n",
    "    return \"\\\\begin{tabular}{c|c} \"+tp+\" & \"+fp+\" \\\\\\\\ \\hline \"+fn+\" & \"+tn+\" \\end{tabular}\""
   ]
  },
  {
   "cell_type": "code",
   "execution_count": 4,
   "metadata": {},
   "outputs": [],
   "source": [
    "accuracy = list(map(lambda res: f\"{res.accuracy:.3f}\", results))\n",
    "balanced = list(map(lambda res: f\"{res.balancedAccuracy:.3f}\", results))\n",
    "matrixes = list(map(lambda res: latexMatrix(res), results))"
   ]
  },
  {
   "cell_type": "code",
   "execution_count": 12,
   "metadata": {},
   "outputs": [
    {
     "output_type": "stream",
     "name": "stdout",
     "text": [
      "\\begin{tabular}{|l|c|c|} \\cline{2-3}\n\\multicolumn{1}{c|}{} & \\textbf{Airline tweets} & \\textbf{IMDB reviews} \\\\ \\hline\n\\textbf{Balanced accuracy} & 0.531 & 0.628 \\\\ \\hline\n\\textbf{Confusion matrix} & \\begin{tabular}{c|c} 1165 & 3819 \\\\ \\hline 350 & 3563 \\end{tabular} & \\begin{tabular}{c|c} 7206 & 825 \\\\ \\hline 17794 & 24175 \\end{tabular} \\\\ \\hline\n\\end{tabular}\n"
     ]
    }
   ],
   "source": [
    "table = LatexTable()\n",
    "table.headers = canonicalNames\n",
    "table.columnAlignments = 'c'\n",
    "table.emptyFirstHeader = True\n",
    "table.rows = [\n",
    "    ['Balanced accuracy'] + accuracy,\n",
    "    ['Confusion matrix'] + matrixes\n",
    "]\n",
    "result = table.render()\n",
    "outputFile = 'Results-Accuracy.tex'\n",
    "with open(outputFile, mode='w') as output:\n",
    "    output.write(result)\n",
    "print(result)"
   ]
  },
  {
   "cell_type": "code",
   "execution_count": 5,
   "metadata": {},
   "outputs": [],
   "source": [
    "data = {\n",
    "    'datasets': canonicalNames,\n",
    "    'accuracy': accuracy,\n",
    "    'baccuracy': balanced,\n",
    "    'cmatrix': matrixes\n",
    "}"
   ]
  },
  {
   "cell_type": "code",
   "execution_count": 6,
   "metadata": {},
   "outputs": [
    {
     "output_type": "execute_result",
     "data": {
      "text/plain": [
       "{'datasets': ['Airline tweets', 'IMDB reviews'],\n",
       " 'accuracy': ['0.531', '0.628'],\n",
       " 'baccuracy': ['0.626', '0.628'],\n",
       " 'cmatrix': ['\\\\begin{tabular}{c|c} 1165 & 3819 \\\\\\\\ \\\\hline 350 & 3563 \\\\end{tabular}',\n",
       "  '\\\\begin{tabular}{c|c} 7206 & 825 \\\\\\\\ \\\\hline 17794 & 24175 \\\\end{tabular}']}"
      ]
     },
     "metadata": {},
     "execution_count": 6
    }
   ],
   "source": [
    "data"
   ]
  },
  {
   "cell_type": "code",
   "execution_count": 45,
   "metadata": {},
   "outputs": [],
   "source": [
    "outputFile = 'Results-Accuracy.tex'\n",
    "with open(outputFile, mode='w') as output:\n",
    "    with open(f'{outputFile}.mustache') as template:\n",
    "        output.write(chevron.render(template, data))"
   ]
  },
  {
   "cell_type": "code",
   "execution_count": 51,
   "metadata": {},
   "outputs": [],
   "source": [
    "rows = []\n",
    "for i in range(len(datasets)):\n",
    "    rows.append({\n",
    "        'name': canonicalNames[i],\n",
    "        'data': [balanced[i], matrixes[i]]\n",
    "    })\n",
    "data2 = {\n",
    "    'headers': ['Balanced Accuracy', 'Confusion Matrix'],\n",
    "    'rows': rows\n",
    "}"
   ]
  },
  {
   "cell_type": "code",
   "execution_count": 52,
   "metadata": {},
   "outputs": [],
   "source": [
    "outputFile = 'Results-Accuracy-Variant.tex'\n",
    "with open(outputFile, mode='w') as output:\n",
    "    with open(f'{outputFile}.mustache') as template:\n",
    "        output.write(chevron.render(template, data2))"
   ]
  },
  {
   "cell_type": "code",
   "execution_count": null,
   "metadata": {},
   "outputs": [],
   "source": []
  }
 ]
}