{
 "metadata": {
  "language_info": {
   "codemirror_mode": {
    "name": "ipython",
    "version": 3
   },
   "file_extension": ".py",
   "mimetype": "text/x-python",
   "name": "python",
   "nbconvert_exporter": "python",
   "pygments_lexer": "ipython3",
   "version": "3.8.5"
  },
  "orig_nbformat": 2,
  "kernelspec": {
   "name": "python385jvsc74a57bd0c44b72c526c8c2d5c61f5343e5a1f2700c1b4b253758e0d185049d36041666fd",
   "display_name": "Python 3.8.5 64-bit ('base': conda)"
  }
 },
 "nbformat": 4,
 "nbformat_minor": 2,
 "cells": [
  {
   "cell_type": "code",
   "execution_count": 1,
   "metadata": {},
   "outputs": [],
   "source": [
    "from sklearn import metrics\n",
    "import matplotlib.pyplot as plt\n",
    "import pandas as pd\n",
    "import numpy as np\n",
    "import os\n",
    "from wordEmbedders import Word2Vec, WESCScore, WESClassifier\n",
    "from tqdm.notebook import tqdm\n",
    "from prettytable import PrettyTable\n",
    "tqdm.pandas()"
   ]
  },
  {
   "cell_type": "code",
   "execution_count": 2,
   "metadata": {},
   "outputs": [],
   "source": [
    "dataset = 'AirlineTweets'\n",
    "embedder = Word2Vec\n",
    "positiveWords = [\"good\", \"nice\", \"cool\", \"lovely\", \"wonderful\", \"great\", \"awesome\", \"fantastic\", \"amazing\", \"fun\", \"excellent\"]\n",
    "negativeWords = [\"bad\", \"horrible\", \"terrible\", \"awful\", \"worst\", \"shitty\", \"crappy\", \"sucks\", \"hate\"]\n",
    "\n",
    "dataFile = f'./data/{dataset}/Data-Cleaned.csv'\n",
    "modelFile = f'./models/{dataset}/{embedder.name}.model'\n",
    "\n",
    "df = pd.read_csv(dataFile)\n",
    "model = embedder.load(modelFile)\n",
    "classifier = WESClassifier(model, positiveWords, negativeWords)"
   ]
  },
  {
   "cell_type": "code",
   "execution_count": 3,
   "metadata": {},
   "outputs": [
    {
     "output_type": "display_data",
     "data": {
      "text/plain": "  0%|          | 0/11541 [00:00<?, ?it/s]",
      "application/vnd.jupyter.widget-view+json": {
       "version_major": 2,
       "version_minor": 0,
       "model_id": "e004a871d6d64ec1932b25750111665f"
      }
     },
     "metadata": {}
    }
   ],
   "source": [
    "result = classifier.predict(df)"
   ]
  },
  {
   "cell_type": "code",
   "execution_count": 4,
   "metadata": {},
   "outputs": [
    {
     "output_type": "stream",
     "name": "stdout",
     "text": [
      "0.16235893702220605\n0.16235893702220605\n"
     ]
    }
   ],
   "source": [
    "print(result.f1Score)\n",
    "f1 = metrics.f1_score(result.data['truth'], result.data['predicted'], pos_label='positive')\n",
    "print(f1)"
   ]
  },
  {
   "cell_type": "code",
   "execution_count": 5,
   "metadata": {},
   "outputs": [
    {
     "output_type": "stream",
     "name": "stdout",
     "text": [
      "0.5384148067187106\n0.5384148067187106\n"
     ]
    }
   ],
   "source": [
    "print(result.balancedAccuracy)\n",
    "f1 = metrics.balanced_accuracy_score(result.data['truth'], result.data['predicted'])\n",
    "print(f1)"
   ]
  },
  {
   "cell_type": "code",
   "execution_count": 6,
   "metadata": {},
   "outputs": [
    {
     "output_type": "stream",
     "name": "stdout",
     "text": [
      " 223 | 161 \n-----+-----\n2140 | 9017\n\n\n[[9017  161]\n [2140  223]]\n"
     ]
    }
   ],
   "source": [
    "print(result.confusionMatrix)\n",
    "matrix = metrics.confusion_matrix(result.data['truth'], result.data['predicted'])\n",
    "print('\\n')\n",
    "print(matrix) #sklearn looks flipped from the printed one"
   ]
  },
  {
   "cell_type": "code",
   "execution_count": null,
   "metadata": {},
   "outputs": [],
   "source": []
  }
 ]
}