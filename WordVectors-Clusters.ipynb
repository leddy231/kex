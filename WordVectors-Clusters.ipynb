{
 "metadata": {
  "language_info": {
   "codemirror_mode": {
    "name": "ipython",
    "version": 3
   },
   "file_extension": ".py",
   "mimetype": "text/x-python",
   "name": "python",
   "nbconvert_exporter": "python",
   "pygments_lexer": "ipython3",
   "version": "3.8.5"
  },
  "orig_nbformat": 2,
  "kernelspec": {
   "name": "python385jvsc74a57bd0c44b72c526c8c2d5c61f5343e5a1f2700c1b4b253758e0d185049d36041666fd",
   "display_name": "Python 3.8.5 64-bit ('base': conda)"
  }
 },
 "nbformat": 4,
 "nbformat_minor": 2,
 "cells": [
  {
   "cell_type": "code",
   "execution_count": 1,
   "metadata": {},
   "outputs": [],
   "source": [
    "import os\n",
    "import numpy as np\n",
    "import pandas as pd\n",
    "from wordEmbedders import Word2Vec"
   ]
  },
  {
   "cell_type": "code",
   "execution_count": 2,
   "metadata": {},
   "outputs": [],
   "source": [
    "def suggestWordsForCluster(wordvectors, cluster):\n",
    "    cluster = set(cluster)\n",
    "    candidates = set([])\n",
    "    for word in cluster:\n",
    "        for w, distance in wordvectors.most_similar(word):\n",
    "            if w not in cluster:\n",
    "                candidates.add(w)\n",
    "    out = []\n",
    "    for c in candidates:\n",
    "        out.append((c, np.average(wordvectors.distances(c, cluster))))\n",
    "    out.sort(key=lambda x: x[1])\n",
    "    return out"
   ]
  },
  {
   "cell_type": "code",
   "execution_count": 3,
   "metadata": {},
   "outputs": [],
   "source": [
    "modelFile = f'./models/Sentiment140/Word2Vec.model'\n",
    "wv = Word2Vec.load(modelFile)"
   ]
  },
  {
   "cell_type": "code",
   "execution_count": 23,
   "metadata": {},
   "outputs": [],
   "source": [
    "modelFile = f'./models/AirlineTweets/Word2Vec.model'\n",
    "wv = Word2Vec.load(modelFile)"
   ]
  },
  {
   "cell_type": "code",
   "execution_count": 4,
   "metadata": {},
   "outputs": [
    {
     "output_type": "stream",
     "name": "stdout",
     "text": [
      "('beautiful', 0.5822675)\n",
      "('fabulous', 0.6081853)\n",
      "('fab', 0.6144527)\n",
      "('gorgeous', 0.6382786)\n",
      "('enjoy', 0.65614396)\n",
      "('incredible', 0.67161566)\n",
      "('brilliant', 0.69185996)\n",
      "('loved', 0.70654774)\n",
      "('love', 0.71615195)\n",
      "('interesting', 0.72527385)\n",
      "('blast', 0.73187906)\n",
      "('amaaaazing', 0.7374783)\n",
      "('joyous', 0.7410322)\n",
      "('outstanding', 0.74791694)\n",
      "('awsome', 0.7500341)\n",
      "('weekend', 0.7596955)\n",
      "('restful', 0.7669121)\n",
      "('sunny', 0.76807153)\n",
      "('goooooood', 0.76990324)\n",
      "('lots', 0.76995164)\n",
      "('phenomenal', 0.77025163)\n",
      "('adventurous', 0.77101445)\n",
      "('prosperous', 0.7746502)\n",
      "('aberdeenshire', 0.7783002)\n",
      "('gloriously', 0.7786415)\n",
      "('remarkable', 0.801076)\n",
      "('sunshine', 0.8036303)\n",
      "('gooood', 0.8097563)\n",
      "('cornhole', 0.8120153)\n",
      "('amazinggg', 0.8130605)\n",
      "('morning', 0.81409395)\n",
      "('well', 0.815741)\n",
      "('hot', 0.8180826)\n",
      "('neat', 0.82280046)\n",
      "('cute', 0.82512224)\n",
      "('amazingggg', 0.82757944)\n",
      "('party', 0.8353131)\n",
      "('danmatthews', 0.8373432)\n",
      "('funny', 0.85049474)\n",
      "('tiring', 0.85395247)\n",
      "('bad', 0.85535854)\n",
      "('cooool', 0.8745476)\n",
      "('funn', 0.8752689)\n",
      "('coool', 0.9207716)\n"
     ]
    }
   ],
   "source": [
    "positiveWords = [\"good\", \"nice\", \"cool\", \"lovely\", \"wonderful\", \"great\", \"awesome\", \"fantastic\", \"amazing\", \"fun\", \"excellent\"]\n",
    "for word in suggestWordsForCluster(wv, positiveWords):\n",
    "    print(word)"
   ]
  },
  {
   "cell_type": "code",
   "execution_count": 6,
   "metadata": {},
   "outputs": [
    {
     "output_type": "stream",
     "name": "stdout",
     "text": [
      "('ugh', 0.631745)\n('crap', 0.6605822)\n('stupid', 0.66164094)\n('worse', 0.6637148)\n('horrid', 0.6654697)\n('sick', 0.6738985)\n('suck', 0.679361)\n('dizziness', 0.68060195)\n('baaad', 0.6968435)\n('wretched', 0.7021251)\n('crummy', 0.70287025)\n('ibs', 0.71255636)\n('prone', 0.72431284)\n('dreadful', 0.7299045)\n('pissy', 0.73042226)\n('miserable', 0.7313241)\n('horrific', 0.7407146)\n('irritable', 0.7409125)\n('really', 0.74902475)\n('ineffective', 0.75003755)\n('hates', 0.7612653)\n('chronic', 0.7622753)\n('rubbish', 0.7672777)\n('good', 0.7703985)\n('weirdest', 0.77220356)\n('bleh', 0.77296484)\n('stupidest', 0.77336454)\n('sux', 0.77569866)\n('royally', 0.777575)\n('suckssss', 0.779333)\n('stinks', 0.7818774)\n('draining', 0.7841254)\n('disgusting', 0.78511447)\n('sympathise', 0.7932427)\n('hating', 0.79670995)\n('terrifying', 0.80061805)\n('why', 0.80403864)\n('blows', 0.8074517)\n('whiney', 0.80920637)\n('fractions', 0.8137314)\n('sometimes', 0.8164588)\n('irresponsible', 0.8178096)\n('dislike', 0.8199623)\n('unmotivated', 0.820155)\n('craziest', 0.82090366)\n('scariest', 0.82474214)\n('though', 0.8300353)\n('hanaames', 0.848153)\n('longest', 0.8500849)\n('saddest', 0.86444837)\n('demanding', 0.86699915)\n('best', 0.87735546)\n"
     ]
    }
   ],
   "source": [
    "negativeWords = [\"bad\", \"horrible\", \"terrible\", \"awful\", \"worst\", \"shitty\", \"crappy\", \"sucks\", \"hate\", 'despise']\n",
    "for word in suggestWordsForCluster(wv, negativeWords):\n",
    "    print(word)"
   ]
  },
  {
   "cell_type": "code",
   "execution_count": 7,
   "metadata": {},
   "outputs": [],
   "source": [
    "with open('./wordlists/positiveWords.txt', mode='w') as f:\n",
    "    f.write(','.join(positiveWords))"
   ]
  },
  {
   "cell_type": "code",
   "execution_count": 8,
   "metadata": {},
   "outputs": [],
   "source": [
    "with open('./wordlists/negativeWords.txt', mode='w') as f:\n",
    "    f.write(','.join(negativeWords))"
   ]
  },
  {
   "cell_type": "code",
   "execution_count": 9,
   "metadata": {},
   "outputs": [
    {
     "output_type": "stream",
     "name": "stdout",
     "text": [
      "('summery', 0.75045615)\n('sunny', 0.7524106)\n('evening', 0.7604343)\n('joyous', 0.7611217)\n('fantabulous', 0.7660079)\n('cooperates', 0.7701685)\n('aberdeenshire', 0.7704472)\n('postalguarelas', 0.772976)\n('loved', 0.77560383)\n('sunshine', 0.7778457)\n('brill', 0.7804532)\n('basking', 0.7814349)\n('energizing', 0.7820011)\n('sunday', 0.7840473)\n('atthe', 0.7872841)\n('acropolis', 0.7872985)\n('wondeful', 0.78964275)\n('prosperous', 0.7899814)\n('weekend', 0.790099)\n('redcliffe', 0.7917507)\n('restful', 0.79217947)\n('sunnier', 0.79360014)\n('goooooood', 0.794652)\n('sorrento', 0.79581106)\n('scorcher', 0.7960695)\n('stonehenge', 0.80023324)\n('amaaaazing', 0.8006086)\n('phenomenal', 0.8021485)\n('daaay', 0.8022248)\n('scenery', 0.8029747)\n('browntowers', 0.8047501)\n('afternoon', 0.8060583)\n('unbelievable', 0.8077711)\n('celcius', 0.8081646)\n('blast', 0.8102877)\n('warm', 0.8170857)\n('weather', 0.81846446)\n('stacijshelton', 0.81903136)\n('enjoyin', 0.819066)\n('levywedding', 0.81960225)\n('morning', 0.81997794)\n('cloudless', 0.82311666)\n('outstanding', 0.8234)\n('hope', 0.82404065)\n('lovin', 0.8243136)\n('awsome', 0.8254816)\n('hot', 0.82587886)\n('adventurous', 0.82591057)\n('sussex', 0.82622725)\n('overcast', 0.82747966)\n('lots', 0.8294757)\n('horrific', 0.8333983)\n('delighted', 0.8335063)\n('coorg', 0.83358663)\n('favorite', 0.83542806)\n('hudgensness', 0.8357642)\n('warmth', 0.8364279)\n('bilbao', 0.83649856)\n('interesting', 0.8365621)\n('remarkable', 0.83829886)\n('lounging', 0.8384294)\n('upbeat', 0.83964354)\n('nicer', 0.8402692)\n('amazinggg', 0.84041643)\n('poolside', 0.84083176)\n('gooood', 0.8413777)\n('hilarity', 0.84149474)\n('riviera', 0.8424836)\n('mynameisingrid', 0.84772366)\n('muggy', 0.8477555)\n('bearable', 0.8480264)\n('grainy', 0.8480501)\n('carece', 0.85008246)\n('iconic', 0.85253817)\n('refreshment', 0.8538819)\n('cornhole', 0.8540277)\n('chipper', 0.85548645)\n('teachernz', 0.85912496)\n('unproductive', 0.8592723)\n('mileey', 0.8623368)\n('amazingggg', 0.86332774)\n('lorimoreno', 0.8673982)\n('entertaining', 0.8691352)\n('loves', 0.8710729)\n('chilling', 0.872912)\n('improves', 0.87309444)\n('cute', 0.87489146)\n('jmbuckingham', 0.87662286)\n('cornerstonenapa', 0.87765217)\n('danmatthews', 0.8784495)\n('groom', 0.88498926)\n('greatest', 0.8880027)\n('manics', 0.8888279)\n('though', 0.8890484)\n('tedious', 0.88988894)\n('crikey', 0.89032465)\n('coolest', 0.89144576)\n('liked', 0.8933391)\n('tiring', 0.8937028)\n('hazelnut', 0.8952437)\n('demiii', 0.89705396)\n('sipping', 0.8980296)\n('buttercream', 0.8986657)\n('sauteed', 0.8994417)\n('suns', 0.9002257)\n('neat', 0.9006619)\n('loveeeee', 0.90146637)\n('as', 0.906659)\n('teas', 0.9072194)\n('party', 0.9081105)\n('liking', 0.9091028)\n('bad', 0.91080064)\n('mmmmmmm', 0.91090107)\n('looovee', 0.9125678)\n('cooool', 0.9134289)\n('relax', 0.91630596)\n('frapp', 0.9193473)\n('bestest', 0.91934913)\n('relaxin', 0.9227611)\n('funny', 0.9229079)\n('lt', 0.9231391)\n('miss', 0.9241137)\n('funn', 0.92422116)\n('herbal', 0.9246776)\n('sorbet', 0.9280314)\n('lattes', 0.92827696)\n('ever', 0.9393429)\n('worst', 0.9409234)\n('funniest', 0.95305854)\n('coool', 0.9539983)\n('feverish', 0.96153235)\n('queasy', 0.9634698)\n('looooove', 0.96562773)\n('nauseated', 0.97219825)\n('but', 0.98180676)\n('sick', 0.9968772)\n('worse', 0.999234)\n('not', 1.0031753)\n('anyway', 1.0090061)\n('sicker', 1.0152937)\n('ok', 1.0311942)\n('guess', 1.0533053)\n"
     ]
    }
   ],
   "source": [
    "positiveWords = ['good', 'great', 'nice', 'well', 'lovely', 'fantastic', 'wonderful', 'better', 'great', 'beautiful', 'gorgeous', 'fabulous', 'enjoy', 'perfect', 'amazing', 'awesome', 'fab', 'enjoying', 'fun', 'loving', 'splendid', 'relaxing', 'excellent', 'enjoyed', 'gloriously', 'best', 'cool', 'stunning', 'beatiful', 'incredible', 'breathtaking', 'brilliant', 'terrific', 'love', 'enjoyable', 'heavenly']\n",
    "for word in suggestWordsForCluster(wv, positiveWords):\n",
    "    print(word)"
   ]
  },
  {
   "cell_type": "code",
   "execution_count": 41,
   "metadata": {},
   "outputs": [
    {
     "output_type": "stream",
     "name": "stdout",
     "text": [
      "('dizziness', 0.668331)\n('queasy', 0.6848122)\n('sick', 0.68968564)\n('bunged', 0.69789445)\n('sorethroat', 0.70960397)\n('sneezes', 0.7110739)\n('sandpaper', 0.71762073)\n('dizzyness', 0.72349185)\n('ibs', 0.7245305)\n('hurl', 0.72550714)\n('prone', 0.72634935)\n('scratchy', 0.726472)\n('lightheaded', 0.7284561)\n('icky', 0.73016423)\n('lingering', 0.7311427)\n('ineffective', 0.73308516)\n('coughy', 0.7378253)\n('achoo', 0.73866314)\n('achey', 0.7423365)\n('hurtss', 0.7425254)\n('hurtssss', 0.7433706)\n('feverish', 0.7454103)\n('alleviate', 0.7467811)\n('sniffly', 0.7484043)\n('crummy', 0.74846566)\n('crabby', 0.7510733)\n('stinging', 0.7522747)\n('debilitating', 0.7531113)\n('crampy', 0.75342226)\n('unsettled', 0.7537643)\n('owch', 0.75395507)\n('feeeeel', 0.75447047)\n('blahhh', 0.7555515)\n('tired', 0.75746083)\n('hurts', 0.7575512)\n('indigestion', 0.7576462)\n('nosed', 0.75789624)\n('achy', 0.7592042)\n('chronic', 0.7615639)\n('unusually', 0.7619205)\n('irritable', 0.76218563)\n('spew', 0.7635607)\n('better', 0.7635806)\n('swolen', 0.7636692)\n('stomach', 0.76557714)\n('fucking', 0.7656266)\n('queezy', 0.76618034)\n('pulsating', 0.7668213)\n('stomache', 0.76732755)\n('miserable', 0.772566)\n('grossest', 0.7727991)\n('snuffly', 0.77336085)\n('eyeballs', 0.7744081)\n('ughhh', 0.775594)\n('burps', 0.77584267)\n('tonsilitis', 0.7765445)\n('yuck', 0.77739626)\n('damn', 0.777525)\n('eczema', 0.77775717)\n('feeling', 0.7783617)\n('ughhhh', 0.779384)\n('owwwww', 0.7804911)\n('medication', 0.7813502)\n('ughh', 0.78211534)\n('earaches', 0.78598446)\n('ouchhhh', 0.78605366)\n('draining', 0.7861919)\n('weirdest', 0.7867141)\n('ewwwww', 0.78809303)\n('bloated', 0.78833795)\n('excedrin', 0.7899214)\n('chlorine', 0.7899278)\n('soreee', 0.79153806)\n('crud', 0.7925629)\n('pepto', 0.7966244)\n('really', 0.7972138)\n('shite', 0.7973298)\n('fuck', 0.79787767)\n('anguish', 0.79841685)\n('alergy', 0.79915756)\n('loathe', 0.7991897)\n('sicker', 0.79955584)\n('whiney', 0.8001825)\n('affect', 0.8002517)\n('fractions', 0.8007109)\n('progressively', 0.8010043)\n('slimy', 0.80142224)\n('ugghh', 0.80188674)\n('arthritis', 0.8033053)\n('talky', 0.80387783)\n('dizzy', 0.80470973)\n('ew', 0.8052866)\n('ewwww', 0.80542654)\n('wtf', 0.8054807)\n('infested', 0.80558467)\n('thoat', 0.80650854)\n('fml', 0.8067923)\n('suckssss', 0.80762184)\n('sympathise', 0.8076811)\n('ewww', 0.8090597)\n('bleh', 0.8095527)\n('alkar', 0.8095796)\n('scary', 0.8123211)\n('rubbish', 0.8133288)\n('hates', 0.81421316)\n('hyperactive', 0.81482816)\n('hateeee', 0.815638)\n('stressin', 0.8156688)\n('moly', 0.8185137)\n('downright', 0.8193047)\n('sickening', 0.8197381)\n('violently', 0.8205843)\n('shiit', 0.8209619)\n('eww', 0.82220805)\n('getttin', 0.823078)\n('tireed', 0.82349545)\n('scariest', 0.8237125)\n('stupidest', 0.8285559)\n('royally', 0.82955676)\n('unmotivated', 0.8300009)\n('hurtz', 0.8306111)\n('grossed', 0.83115935)\n('stinks', 0.8314971)\n('vani', 0.8319132)\n('claustrophobic', 0.83331776)\n('good', 0.8336614)\n('compounded', 0.83436114)\n('coupled', 0.8357913)\n('moist', 0.83615667)\n('craziest', 0.83935225)\n('strangest', 0.84029955)\n('irresponsible', 0.84105325)\n('gargle', 0.8411616)\n('hating', 0.84162116)\n('torrential', 0.84167355)\n('moods', 0.8430933)\n('why', 0.8449889)\n('aftertaste', 0.84554195)\n('sux', 0.84780914)\n('fuckin', 0.8483412)\n('blows', 0.8488501)\n('grr', 0.8489275)\n('sometimes', 0.8509294)\n('disturbing', 0.85198766)\n('mood', 0.8537874)\n('dislike', 0.85514545)\n('stoopid', 0.85687536)\n('olorinlorien', 0.8598097)\n('affected', 0.8615611)\n('troubled', 0.8626761)\n('frightening', 0.8638953)\n('poisonous', 0.8639446)\n('grrr', 0.86491305)\n('though', 0.8661147)\n('mrsarchuletaa', 0.867623)\n('grim', 0.8687662)\n('hanaames', 0.87229407)\n('dumb', 0.8747658)\n('grail', 0.8763045)\n('moley', 0.87665755)\n('farted', 0.8769492)\n('fucken', 0.88057935)\n('tragedy', 0.8832655)\n('smelled', 0.88382155)\n('shittt', 0.88956547)\n('fictitious', 0.8901858)\n('longest', 0.8971228)\n('imaginative', 0.89795405)\n('mean', 0.89957285)\n('demanding', 0.9002659)\n('crikey', 0.90031457)\n('snakes', 0.90354335)\n('defer', 0.9041445)\n('mangowe', 0.904787)\n('pleasant', 0.9101512)\n('saddest', 0.91078115)\n('saddening', 0.9153744)\n('niggas', 0.9259005)\n('krill', 0.9261985)\n('best', 0.9462107)\n('haselnuth', 0.95097363)\n('forecast', 0.95519423)\n('harder', 0.96384186)\n"
     ]
    }
   ],
   "source": [
    "negativeWords = ['bad', 'horrible', 'terrible', 'awful', 'worse', 'worst', 'horrid', 'horrific', 'terrifying', 'ugh', 'disgusting', 'horrifying', 'nasty', 'hate', 'shitty', 'crappy', 'sucks','baaad','suck','crap', 'badddd','gross','despise','shit','dreadful','pissy', 'unpleasant','heinous', 'wretched', 'stupid', 'nauseated', 'nauseous', 'nausious']\n",
    "for word in suggestWordsForCluster(wv, negativeWords):\n",
    "    print(word)"
   ]
  },
  {
   "cell_type": "code",
   "execution_count": null,
   "metadata": {},
   "outputs": [],
   "source": []
  }
 ]
}