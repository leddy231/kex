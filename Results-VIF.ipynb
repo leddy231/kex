{
 "cells": [
  {
   "cell_type": "code",
   "execution_count": 1,
   "metadata": {},
   "outputs": [],
   "source": [
    "import os\r\n",
    "import pickle\r\n",
    "import pandas as pd\r\n",
    "from functions import dirs, readSet, VIF"
   ]
  },
  {
   "cell_type": "code",
   "execution_count": 2,
   "metadata": {},
   "outputs": [],
   "source": [
    "datasets = dirs('./data')\r\n",
    "picked = readSet('./data/Dimensions-Picked-Final.txt')"
   ]
  },
  {
   "cell_type": "code",
   "execution_count": 4,
   "metadata": {},
   "outputs": [
    {
     "name": "stdout",
     "output_type": "stream",
     "text": [
      "AirlineTweets\n",
      "                                          VIF\n",
      "opinionPolarity                      1.010072\n",
      "nrAmbiguousSentimentWords/nrWords    1.028251\n",
      "nrDifficultWordsSAT/nrWords          1.034657\n",
      "nrSlangWords/nrWords                 1.043741\n",
      "nrComplexVerbs/nrWords               1.058200\n",
      "nrAdverbs/nrWords                    1.126265\n",
      "nrStrongSentimentWords/nrWords       1.152733\n",
      "nrAdjectives/nrWords                 1.272389\n",
      "nrDeterminers/nrWords                1.274133\n",
      "nrWords/nrSentences                  1.287936\n",
      "nrSynsets/nrWords                    1.288518\n",
      "nrConjunctions/nrWords               1.341241\n",
      "nrPossesives/nrWords                 1.623770\n",
      "nrLetters/nrWords                    1.722138\n",
      "nrDifficultWordsDaleChall/nrWords    1.932137\n",
      "uniquenessSTD                        2.148421\n",
      "uniquenessMean                       2.542902\n",
      "const                              141.907746\n",
      "IMDB\n",
      "                                          VIF\n",
      "nrSlangWords/nrWords                 1.008838\n",
      "opinionPolarity                      1.028838\n",
      "nrAmbiguousSentimentWords/nrWords    1.037245\n",
      "nrWords/nrSentences                  1.046487\n",
      "nrComplexVerbs/nrWords               1.100173\n",
      "nrAdverbs/nrWords                    1.184791\n",
      "nrDifficultWordsSAT/nrWords          1.236219\n",
      "nrConjunctions/nrWords               1.291595\n",
      "nrStrongSentimentWords/nrWords       1.318729\n",
      "nrSynsets/nrWords                    1.353499\n",
      "nrDeterminers/nrWords                1.465810\n",
      "nrAdjectives/nrWords                 1.486327\n",
      "nrPossesives/nrWords                 1.804724\n",
      "nrLetters/nrWords                    1.901440\n",
      "nrDifficultWordsDaleChall/nrWords    2.096924\n",
      "uniquenessMean                       3.190566\n",
      "uniquenessSTD                        3.209992\n",
      "const                              877.785037\n",
      "Sentiment140\n",
      "                                          VIF\n",
      "opinionPolarity                      1.003442\n",
      "nrDifficultWordsSAT/nrWords          1.016444\n",
      "nrAmbiguousSentimentWords/nrWords    1.035543\n",
      "nrSlangWords/nrWords                 1.052439\n",
      "nrComplexVerbs/nrWords               1.093342\n",
      "nrStrongSentimentWords/nrWords       1.125129\n",
      "nrAdverbs/nrWords                    1.128120\n",
      "nrAdjectives/nrWords                 1.194209\n",
      "nrDeterminers/nrWords                1.220438\n",
      "nrConjunctions/nrWords               1.261197\n",
      "uniquenessSTD                        1.303052\n",
      "nrPossesives/nrWords                 1.363069\n",
      "nrSynsets/nrWords                    1.422059\n",
      "nrWords/nrSentences                  1.550164\n",
      "nrLetters/nrWords                    1.559603\n",
      "nrDifficultWordsDaleChall/nrWords    1.793967\n",
      "uniquenessMean                       1.933181\n",
      "const                              105.538105\n"
     ]
    }
   ],
   "source": [
    "for dataset in datasets:\r\n",
    "    #regressionResult = pickle.load(open(f'./data/{dataset}/Regression.pickle'))\r\n",
    "    dims = pd.read_csv(f'./data/{dataset}/Dimensions.csv')\r\n",
    "    dims = dims[picked]\r\n",
    "    vif = VIF(dims)\r\n",
    "    print(dataset)\r\n",
    "    print(vif)"
   ]
  },
  {
   "cell_type": "code",
   "execution_count": null,
   "metadata": {},
   "outputs": [],
   "source": []
  }
 ],
 "metadata": {
  "kernelspec": {
   "display_name": "Python 3.8.5 64-bit (conda)",
   "name": "python385jvsc74a57bd0c44b72c526c8c2d5c61f5343e5a1f2700c1b4b253758e0d185049d36041666fd"
  },
  "language_info": {
   "codemirror_mode": {
    "name": "ipython",
    "version": 3
   },
   "file_extension": ".py",
   "mimetype": "text/x-python",
   "name": "python",
   "nbconvert_exporter": "python",
   "pygments_lexer": "ipython3",
   "version": "3.8.5"
  },
  "orig_nbformat": 2
 },
 "nbformat": 4,
 "nbformat_minor": 2
}