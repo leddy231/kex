{
 "cells": [
  {
   "cell_type": "code",
   "execution_count": 1,
   "metadata": {},
   "outputs": [],
   "source": [
    "import os\n",
    "import pickle\n",
    "import pandas as pd\n",
    "import statsmodels.api as sm\n",
    "from statsmodels.tools.tools import add_constant\n",
    "from tqdm.notebook import tqdm\n",
    "from functions import dirs, regression, readSet, corrMatrix, saveFile, removeExtremes\n",
    "tqdm.pandas()"
   ]
  },
  {
   "cell_type": "code",
   "execution_count": 2,
   "metadata": {},
   "outputs": [],
   "source": [
    "datasets = dirs('./data')"
   ]
  },
  {
   "cell_type": "code",
   "execution_count": 3,
   "metadata": {},
   "outputs": [],
   "source": [
    "picked = list(readSet('./data/Dimensions-Picked-Final.txt'))"
   ]
  },
  {
   "cell_type": "code",
   "execution_count": 18,
   "metadata": {},
   "outputs": [
    {
     "output_type": "display_data",
     "data": {
      "text/plain": "Datasets:   0%|          | 0/2 [00:00<?, ?it/s]",
      "application/vnd.jupyter.widget-view+json": {
       "version_major": 2,
       "version_minor": 0,
       "model_id": "422d757d968b4c0d8d87fb9eb4d912e7"
      }
     },
     "metadata": {}
    },
    {
     "output_type": "display_data",
     "data": {
      "text/plain": "  0%|          | 0/8897 [00:00<?, ?it/s]",
      "application/vnd.jupyter.widget-view+json": {
       "version_major": 2,
       "version_minor": 0,
       "model_id": "4f46b29e03af46c9aa3daeb785d02e82"
      }
     },
     "metadata": {}
    },
    {
     "output_type": "stream",
     "name": "stdout",
     "text": [
      "AirlineTweets2\npositive\n                           Logit Regression Results                           \n==============================================================================\nDep. Variable:                      y   No. Observations:                 1515\nModel:                          Logit   Df Residuals:                     1496\nMethod:                           MLE   Df Model:                           18\nDate:                Thu, 13 May 2021   Pseudo R-squ.:                  0.1879\nTime:                        14:26:08   Log-Likelihood:                -665.04\nconverged:                       True   LL-Null:                       -818.87\nCovariance Type:                  HC3   LLR p-value:                 1.273e-54\n=====================================================================================================\n                                        coef    std err          z      P>|z|      [0.025      0.975]\n-----------------------------------------------------------------------------------------------------\nconst                                 1.6595      1.290      1.286      0.198      -0.869       4.188\nnrPossesives/nrWords                  6.2388      1.395      4.471      0.000       3.504       8.974\nnrStrongSentimentWords/nrWords       -0.7037      0.923     -0.762      0.446      -2.514       1.106\nnrConjunctions/nrWords               -6.1375      1.026     -5.982      0.000      -8.148      -4.127\nnrSynsets/nrWords                    -0.0582      0.029     -1.978      0.048      -0.116      -0.001\nnrAdjectives/nrWords                 -1.2889      0.841     -1.533      0.125      -2.937       0.359\nopinionPolarity                      -0.0947      0.079     -1.203      0.229      -0.249       0.060\nnrDeterminers/nrWords                -3.4787      1.241     -2.804      0.005      -5.910      -1.047\nnrAmbiguousSentimentWords/nrWords    -1.7046      2.186     -0.780      0.436      -5.989       2.580\nnrDifficultWordsDaleChall/nrWords    -2.3419      0.600     -3.900      0.000      -3.519      -1.165\nnrDifficultWordsSAT/nrWords          -1.7439      2.629     -0.663      0.507      -6.896       3.408\nnrSlangWords/nrWords                  2.6633      3.989      0.668      0.504      -5.155      10.482\nuniquenessMean                        4.8545      1.139      4.262      0.000       2.622       7.087\nnrWords/nrSentences                   0.0333      0.031      1.078      0.281      -0.027       0.094\nuniquenessSTD                         6.7110      2.703      2.482      0.013       1.413      12.009\nnrAdverbs/nrWords                     0.0927      0.861      0.108      0.914      -1.594       1.780\nnrLetters/nrWords                    -0.4396      0.094     -4.694      0.000      -0.623      -0.256\nnrComplexVerbs/nrWords                3.0461      1.498      2.034      0.042       0.111       5.981\nnrSentences                           0.6152      0.168      3.664      0.000       0.286       0.944\n=====================================================================================================\nAirlineTweets2\nnegative\n                           Logit Regression Results                           \n==============================================================================\nDep. Variable:                      y   No. Observations:                 7382\nModel:                          Logit   Df Residuals:                     7363\nMethod:                           MLE   Df Model:                           18\nDate:                Thu, 13 May 2021   Pseudo R-squ.:                  0.1698\nTime:                        14:26:08   Log-Likelihood:                -4244.3\nconverged:                       True   LL-Null:                       -5112.4\nCovariance Type:                  HC3   LLR p-value:                     0.000\n=====================================================================================================\n                                        coef    std err          z      P>|z|      [0.025      0.975]\n-----------------------------------------------------------------------------------------------------\nconst                                -5.0716      0.533     -9.510      0.000      -6.117      -4.026\nnrPossesives/nrWords                 -6.8763      0.501    -13.711      0.000      -7.859      -5.893\nnrStrongSentimentWords/nrWords        8.7955      1.197      7.347      0.000       6.449      11.142\nnrConjunctions/nrWords                8.6891      0.445     19.531      0.000       7.817       9.561\nnrSynsets/nrWords                     0.0129      0.013      0.977      0.329      -0.013       0.039\nnrAdjectives/nrWords                  1.1401      0.451      2.527      0.011       0.256       2.024\nopinionPolarity                       0.0547      0.029      1.860      0.063      -0.003       0.112\nnrDeterminers/nrWords                 5.1550      0.507     10.167      0.000       4.161       6.149\nnrAmbiguousSentimentWords/nrWords     6.3003      0.958      6.579      0.000       4.423       8.177\nnrDifficultWordsDaleChall/nrWords     1.7598      0.278      6.341      0.000       1.216       2.304\nnrDifficultWordsSAT/nrWords          -3.5564      0.966     -3.683      0.000      -5.449      -1.664\nnrSlangWords/nrWords                 -7.5278      1.865     -4.037      0.000     -11.182      -3.873\nuniquenessMean                        3.3931      0.918      3.697      0.000       1.594       5.192\nnrWords/nrSentences                  -0.0284      0.010     -2.888      0.004      -0.048      -0.009\nuniquenessSTD                        -1.1079      1.338     -0.828      0.408      -3.731       1.515\nnrAdverbs/nrWords                     0.1200      0.427      0.281      0.779      -0.717       0.957\nnrLetters/nrWords                     0.5771      0.057     10.148      0.000       0.466       0.689\nnrComplexVerbs/nrWords               -0.2199      0.570     -0.386      0.700      -1.337       0.898\nnrSentences                           0.0377      0.059      0.635      0.525      -0.079       0.154\n=====================================================================================================\n"
     ]
    },
    {
     "output_type": "display_data",
     "data": {
      "text/plain": "  0%|          | 0/50000 [00:00<?, ?it/s]",
      "application/vnd.jupyter.widget-view+json": {
       "version_major": 2,
       "version_minor": 0,
       "model_id": "4baa06a5d84e41e89d32559a44211839"
      }
     },
     "metadata": {}
    },
    {
     "output_type": "stream",
     "name": "stderr",
     "text": [
      "C:\\Libraries\\anaconda3\\lib\\site-packages\\statsmodels\\discrete\\discrete_model.py:1799: RuntimeWarning: overflow encountered in exp\n",
      "  return 1/(1+np.exp(-X))\n",
      "C:\\Libraries\\anaconda3\\lib\\site-packages\\statsmodels\\discrete\\discrete_model.py:1852: RuntimeWarning: divide by zero encountered in log\n",
      "  return np.sum(np.log(self.cdf(q*np.dot(X,params))))\n",
      "IMDB\n",
      "positive\n",
      "                           Logit Regression Results                           \n",
      "==============================================================================\n",
      "Dep. Variable:                      y   No. Observations:                25000\n",
      "Model:                          Logit   Df Residuals:                    24981\n",
      "Method:                           MLE   Df Model:                           18\n",
      "Date:                Thu, 13 May 2021   Pseudo R-squ.:                  0.2069\n",
      "Time:                        14:26:09   Log-Likelihood:                -11908.\n",
      "converged:                       True   LL-Null:                       -15014.\n",
      "Covariance Type:                  HC3   LLR p-value:                     0.000\n",
      "=====================================================================================================\n",
      "                                        coef    std err          z      P>|z|      [0.025      0.975]\n",
      "-----------------------------------------------------------------------------------------------------\n",
      "const                               -16.7954      0.543    -30.919      0.000     -17.860     -15.731\n",
      "nrPossesives/nrWords                  2.3608      0.945      2.499      0.012       0.509       4.212\n",
      "nrStrongSentimentWords/nrWords       46.5726      1.874     24.852      0.000      42.900      50.246\n",
      "nrConjunctions/nrWords                7.2739      0.740      9.823      0.000       5.823       8.725\n",
      "nrSynsets/nrWords                     0.2320      0.026      9.002      0.000       0.181       0.282\n",
      "nrAdjectives/nrWords                  6.8622      0.737      9.313      0.000       5.418       8.306\n",
      "opinionPolarity                       0.1659      0.009     17.579      0.000       0.147       0.184\n",
      "nrDeterminers/nrWords                -2.1420      0.817     -2.621      0.009      -3.744      -0.540\n",
      "nrAmbiguousSentimentWords/nrWords     6.7688      1.354      4.998      0.000       4.115       9.423\n",
      "nrDifficultWordsDaleChall/nrWords    11.9016      0.437     27.216      0.000      11.044      12.759\n",
      "nrDifficultWordsSAT/nrWords         -10.1786      1.419     -7.174      0.000     -12.960      -7.398\n",
      "nrSlangWords/nrWords                 -0.4094      9.320     -0.044      0.965     -18.677      17.858\n",
      "uniquenessMean                      -12.6696      1.711     -7.405      0.000     -16.023      -9.316\n",
      "nrWords/nrSentences                  -0.0023      0.001     -2.664      0.008      -0.004      -0.001\n",
      "uniquenessSTD                        16.4085      1.675      9.795      0.000      13.125      19.692\n",
      "nrAdverbs/nrWords                    -7.8380      0.766    -10.229      0.000      -9.340      -6.336\n",
      "nrLetters/nrWords                     1.8346      0.084     21.839      0.000       1.670       1.999\n",
      "nrComplexVerbs/nrWords              -16.1472      1.256    -12.852      0.000     -18.610     -13.685\n",
      "nrSentences                          -0.0157      0.004     -4.417      0.000      -0.023      -0.009\n",
      "=====================================================================================================\n",
      "C:\\Libraries\\anaconda3\\lib\\site-packages\\statsmodels\\discrete\\discrete_model.py:1799: RuntimeWarning: overflow encountered in exp\n",
      "  return 1/(1+np.exp(-X))\n",
      "C:\\Libraries\\anaconda3\\lib\\site-packages\\statsmodels\\discrete\\discrete_model.py:1852: RuntimeWarning: divide by zero encountered in log\n",
      "  return np.sum(np.log(self.cdf(q*np.dot(X,params))))\n",
      "IMDB\n",
      "negative\n",
      "                           Logit Regression Results                           \n",
      "==============================================================================\n",
      "Dep. Variable:                      y   No. Observations:                25000\n",
      "Model:                          Logit   Df Residuals:                    24981\n",
      "Method:                           MLE   Df Model:                           18\n",
      "Date:                Thu, 13 May 2021   Pseudo R-squ.:                  0.2014\n",
      "Time:                        14:26:10   Log-Likelihood:                -2895.4\n",
      "converged:                       True   LL-Null:                       -3625.5\n",
      "Covariance Type:                  HC3   LLR p-value:                1.712e-299\n",
      "=====================================================================================================\n",
      "                                        coef    std err          z      P>|z|      [0.025      0.975]\n",
      "-----------------------------------------------------------------------------------------------------\n",
      "const                                17.0202      1.187     14.335      0.000      14.693      19.347\n",
      "nrPossesives/nrWords                 -2.7897      2.310     -1.207      0.227      -7.318       1.739\n",
      "nrStrongSentimentWords/nrWords       14.9434      3.851      3.881      0.000       7.397      22.490\n",
      "nrConjunctions/nrWords               -8.6081      1.656     -5.199      0.000     -11.853      -5.363\n",
      "nrSynsets/nrWords                    -0.2610      0.060     -4.376      0.000      -0.378      -0.144\n",
      "nrAdjectives/nrWords                 -3.0754      1.645     -1.869      0.062      -6.300       0.149\n",
      "opinionPolarity                      -0.1151      0.028     -4.129      0.000      -0.170      -0.060\n",
      "nrDeterminers/nrWords                 8.4188      1.912      4.404      0.000       4.672      12.166\n",
      "nrAmbiguousSentimentWords/nrWords    -1.8323      3.196     -0.573      0.566      -8.096       4.431\n",
      "nrDifficultWordsDaleChall/nrWords   -14.5635      1.023    -14.231      0.000     -16.569     -12.558\n",
      "nrDifficultWordsSAT/nrWords          14.4572      3.066      4.716      0.000       8.449      20.466\n",
      "nrSlangWords/nrWords                  0.9615     18.853      0.051      0.959     -35.989      37.912\n",
      "uniquenessMean                       21.2501      5.725      3.712      0.000      10.030      32.470\n",
      "nrWords/nrSentences                   0.0066      0.004      1.664      0.096      -0.001       0.014\n",
      "uniquenessSTD                       -21.4993      4.078     -5.272      0.000     -29.493     -13.506\n",
      "nrAdverbs/nrWords                     9.9328      2.237      4.440      0.000       5.548      14.317\n",
      "nrLetters/nrWords                    -1.6946      0.162    -10.442      0.000      -2.013      -1.377\n",
      "nrComplexVerbs/nrWords               22.5910      2.646      8.537      0.000      17.405      27.777\n",
      "nrSentences                           0.0619      0.015      4.168      0.000       0.033       0.091\n",
      "=====================================================================================================\n"
     ]
    }
   ],
   "source": [
    "for dataset in tqdm(datasets, desc=\"Datasets\"):\n",
    "\n",
    "\n",
    "    dims = pd.read_csv(f'./data/{dataset}/Dimensions.csv')\n",
    "    prediction = pd.read_csv(f'./data/{dataset}/Word2Vec-Prediction.csv')\n",
    "\n",
    "    data = dims.join(prediction)\n",
    "    data['y'] = data.progress_apply(lambda row: 1 if row['truth'] == row['predicted'] else 0, axis=1)\n",
    "\n",
    "    for sentiment in ['positive', 'negative']:\n",
    "        outputFile = f'./data/{dataset}/Regression-{sentiment}.pickle'\n",
    "        outputText = f'./data/{dataset}/Regression-{sentiment}.txt'\n",
    "    \n",
    "        data1 = data[data['truth'] == sentiment]\n",
    "\n",
    "        y = data1['y']\n",
    "        X = data1[picked]\n",
    "        #X = data1[[x for x in picked if not x == 'nrStrongSentimentWords/nrWords']]\n",
    "        result = regression(y, X)\n",
    "        summary = str(result.summary())\n",
    "        print(dataset)\n",
    "        print(sentiment)\n",
    "        print(summary)\n",
    "        pickle.dump(result, open(outputFile, mode='wb'))\n",
    "        saveFile(outputText, summary)"
   ]
  },
  {
   "cell_type": "code",
   "execution_count": 13,
   "metadata": {},
   "outputs": [
    {
     "output_type": "execute_result",
     "data": {
      "text/plain": [
       "12.91972"
      ]
     },
     "metadata": {},
     "execution_count": 13
    }
   ],
   "source": [
    "data1['nrPossesives'].mean()"
   ]
  },
  {
   "cell_type": "code",
   "execution_count": null,
   "metadata": {},
   "outputs": [],
   "source": []
  }
 ],
 "metadata": {
  "kernelspec": {
   "name": "python385jvsc74a57bd0c44b72c526c8c2d5c61f5343e5a1f2700c1b4b253758e0d185049d36041666fd",
   "display_name": "Python 3.8.5 64-bit ('base': conda)"
  },
  "language_info": {
   "codemirror_mode": {
    "name": "ipython",
    "version": 3
   },
   "file_extension": ".py",
   "mimetype": "text/x-python",
   "name": "python",
   "nbconvert_exporter": "python",
   "pygments_lexer": "ipython3",
   "version": "3.8.5"
  },
  "orig_nbformat": 2
 },
 "nbformat": 4,
 "nbformat_minor": 2
}