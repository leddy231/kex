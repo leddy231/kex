{
 "cells": [
  {
   "cell_type": "code",
   "execution_count": 1,
   "metadata": {},
   "outputs": [],
   "source": [
    "import os\r\n",
    "from gensim.models import TfidfModel\r\n",
    "from gensim.corpora import Dictionary\r\n",
    "import pandas as pd\r\n",
    "from tqdm.notebook import tqdm\r\n",
    "from functions import dirs\r\n",
    "tqdm.pandas()"
   ]
  },
  {
   "cell_type": "code",
   "execution_count": 2,
   "metadata": {},
   "outputs": [],
   "source": [
    "datasets = dirs('./data')"
   ]
  },
  {
   "cell_type": "code",
   "execution_count": 7,
   "metadata": {},
   "outputs": [
    {
     "data": {
      "application/vnd.jupyter.widget-view+json": {
       "model_id": "53152b293d414424a6417edf1f0d8080",
       "version_major": 2,
       "version_minor": 0
      },
      "text/plain": "Datasets:   0%|          | 0/3 [00:00<?, ?it/s]"
     },
     "metadata": {},
     "output_type": "display_data"
    }
   ],
   "source": [
    "for dataset in tqdm(datasets, desc=\"Datasets\"):\n",
    "    inputFile  = f'./data/{dataset}/Data-Cleaned.csv'\n",
    "    outputFile = f'./models/{dataset}/TF-IDF.model'\n",
    "    dictFile   = f'./models/{dataset}/Dictionary.model'\n",
    "    if not os.path.exists(inputFile):\n",
    "        raise ValueError(f'Dataset {dataset} has not been cleaned')\n",
    "    if not os.path.exists(outputFile):\n",
    "        df = pd.read_csv(inputFile)\n",
    "        dataset = [row.split() for row in df['text']]\n",
    "        dct = Dictionary(dataset)  \n",
    "        corpus = [dct.doc2bow(line) for line in dataset]\n",
    "        model = TfidfModel(corpus)\n",
    "        model.save(outputFile)\n",
    "        dct.save(dictFile)"
   ]
  },
  {
   "cell_type": "code",
   "execution_count": null,
   "metadata": {},
   "outputs": [],
   "source": []
  }
 ],
 "metadata": {
  "kernelspec": {
   "display_name": "Python 3.8.5 64-bit (conda)",
   "name": "python385jvsc74a57bd0c44b72c526c8c2d5c61f5343e5a1f2700c1b4b253758e0d185049d36041666fd"
  },
  "language_info": {
   "name": "python",
   "version": ""
  },
  "orig_nbformat": 2
 },
 "nbformat": 4,
 "nbformat_minor": 2
}