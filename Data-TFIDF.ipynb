{
 "metadata": {
  "language_info": {
   "codemirror_mode": {
    "name": "ipython",
    "version": 3
   },
   "file_extension": ".py",
   "mimetype": "text/x-python",
   "name": "python",
   "nbconvert_exporter": "python",
   "pygments_lexer": "ipython3",
   "version": "3.8.5"
  },
  "orig_nbformat": 2,
  "kernelspec": {
   "name": "python3",
   "display_name": "Python 3.8.5 64-bit ('base': conda)",
   "metadata": {
    "interpreter": {
     "hash": "c44b72c526c8c2d5c61f5343e5a1f2700c1b4b253758e0d185049d36041666fd"
    }
   }
  }
 },
 "nbformat": 4,
 "nbformat_minor": 2,
 "cells": [
  {
   "cell_type": "code",
   "execution_count": 1,
   "metadata": {},
   "outputs": [],
   "source": [
    "import os\n",
    "from gensim.models import TfidfModel\n",
    "from gensim.corpora import Dictionary\n",
    "import pandas as pd\n",
    "from tqdm.notebook import tqdm\n",
    "tqdm.pandas()"
   ]
  },
  {
   "cell_type": "code",
   "execution_count": 2,
   "metadata": {},
   "outputs": [],
   "source": [
    "datasets = os.listdir('./data')"
   ]
  },
  {
   "cell_type": "code",
   "execution_count": 7,
   "metadata": {},
   "outputs": [
    {
     "output_type": "display_data",
     "data": {
      "text/plain": "Datasets:   0%|          | 0/3 [00:00<?, ?it/s]",
      "application/vnd.jupyter.widget-view+json": {
       "version_major": 2,
       "version_minor": 0,
       "model_id": "53152b293d414424a6417edf1f0d8080"
      }
     },
     "metadata": {}
    }
   ],
   "source": [
    "for dataset in tqdm(datasets, desc=\"Datasets\"):\n",
    "    inputFile  = f'./data/{dataset}/Data-Cleaned.csv'\n",
    "    outputFile = f'./models/{dataset}/TF-IDF.model'\n",
    "    dictFile   = f'./models/{dataset}/Dictionary.model'\n",
    "    if not os.path.exists(inputFile):\n",
    "        raise ValueError(f'Dataset {dataset} has not been cleaned')\n",
    "    if not os.path.exists(outputFile):\n",
    "        df = pd.read_csv(inputFile)\n",
    "        dataset = [row.split() for row in df['text']]\n",
    "        dct = Dictionary(dataset)  \n",
    "        corpus = [dct.doc2bow(line) for line in dataset]\n",
    "        model = TfidfModel(corpus)\n",
    "        model.save(outputFile)\n",
    "        dct.save(dictFile)"
   ]
  },
  {
   "cell_type": "code",
   "execution_count": null,
   "metadata": {},
   "outputs": [],
   "source": []
  }
 ]
}