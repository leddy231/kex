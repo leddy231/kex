{
 "metadata": {
  "language_info": {
   "codemirror_mode": {
    "name": "ipython",
    "version": 3
   },
   "file_extension": ".py",
   "mimetype": "text/x-python",
   "name": "python",
   "nbconvert_exporter": "python",
   "pygments_lexer": "ipython3",
   "version": "3.8.5"
  },
  "orig_nbformat": 2,
  "kernelspec": {
   "name": "python385jvsc74a57bd0c44b72c526c8c2d5c61f5343e5a1f2700c1b4b253758e0d185049d36041666fd",
   "display_name": "Python 3.8.5 64-bit ('base': conda)"
  }
 },
 "nbformat": 4,
 "nbformat_minor": 2,
 "cells": [
  {
   "cell_type": "code",
   "execution_count": 1,
   "metadata": {},
   "outputs": [],
   "source": [
    "import os\n",
    "import pickle\n",
    "import pandas as pd\n",
    "import statsmodels.api as sm\n",
    "from statsmodels.tools.tools import add_constant\n",
    "from tqdm.notebook import tqdm\n",
    "from functions import dirs, regression, readSet, corrMatrix, saveFile, removeExtremes\n",
    "tqdm.pandas()"
   ]
  },
  {
   "cell_type": "code",
   "execution_count": 2,
   "metadata": {},
   "outputs": [],
   "source": [
    "datasets = dirs('./data')"
   ]
  },
  {
   "cell_type": "code",
   "execution_count": 3,
   "metadata": {},
   "outputs": [],
   "source": [
    "picked = list(readSet('./data/Dimensions-Picked-Final.txt'))"
   ]
  },
  {
   "cell_type": "code",
   "execution_count": 7,
   "metadata": {},
   "outputs": [
    {
     "output_type": "display_data",
     "data": {
      "text/plain": "Datasets:   0%|          | 0/2 [00:00<?, ?it/s]",
      "application/vnd.jupyter.widget-view+json": {
       "version_major": 2,
       "version_minor": 0,
       "model_id": "93fdb891c13842e2a76ff23fb355e869"
      }
     },
     "metadata": {}
    },
    {
     "output_type": "display_data",
     "data": {
      "text/plain": "  0%|          | 0/8897 [00:00<?, ?it/s]",
      "application/vnd.jupyter.widget-view+json": {
       "version_major": 2,
       "version_minor": 0,
       "model_id": "2f3e68d83f33492caacbc01a6677857f"
      }
     },
     "metadata": {}
    },
    {
     "output_type": "display_data",
     "data": {
      "text/plain": "  0%|          | 0/8897 [00:00<?, ?it/s]",
      "application/vnd.jupyter.widget-view+json": {
       "version_major": 2,
       "version_minor": 0,
       "model_id": "82e0461aa9c842759a11012aa368d322"
      }
     },
     "metadata": {}
    },
    {
     "output_type": "stream",
     "name": "stdout",
     "text": [
      "AirlineTweets2\n                           Logit Regression Results                           \n==============================================================================\nDep. Variable:                      y   No. Observations:                 8897\nModel:                          Logit   Df Residuals:                     8878\nMethod:                           MLE   Df Model:                           18\nDate:                Sun, 23 May 2021   Pseudo R-squ.:                  0.1125\nTime:                        18:34:53   Log-Likelihood:                -5457.7\nconverged:                       True   LL-Null:                       -6149.4\nCovariance Type:                  HC3   LLR p-value:                5.503e-283\n=====================================================================================================\n                                        coef    std err          z      P>|z|      [0.025      0.975]\n-----------------------------------------------------------------------------------------------------\nconst                                -2.9301      0.328     -8.928      0.000      -3.573      -2.287\nnrPossesives/nrWords                 -3.1964      0.396     -8.063      0.000      -3.973      -2.419\nnrStrongSentimentWords/nrWords        1.7372      0.856      2.030      0.042       0.060       3.415\nnrConjunctions/nrWords                5.5243      0.377     14.641      0.000       4.785       6.264\nnrSynsets/nrWords                    -0.0110      0.011     -0.973      0.331      -0.033       0.011\nnrAdjectives/nrWords                  0.8352      0.395      2.113      0.035       0.061       1.610\nopinionPolarity                       0.0422      0.025      1.658      0.097      -0.008       0.092\nnrDeterminers/nrWords                 3.1509      0.449      7.021      0.000       2.271       4.031\nnrAmbiguousSentimentWords/nrWords     4.6227      0.850      5.435      0.000       2.956       6.290\nnrDifficultWordsDaleChall/nrWords     0.5254      0.230      2.281      0.023       0.074       0.977\nnrDifficultWordsSAT/nrWords          -3.0589      0.877     -3.488      0.000      -4.778      -1.340\nnrSlangWords/nrWords                 -4.6337      1.335     -3.472      0.001      -7.250      -2.018\nuniquenessMean                        2.7077      0.574      4.717      0.000       1.583       3.833\nnrWords/nrSentences                  -0.0397      0.005     -8.720      0.000      -0.049      -0.031\nuniquenessSTD                         1.9752      1.099      1.797      0.072      -0.179       4.129\nnrAdverbs/nrWords                     0.2135      0.369      0.579      0.563      -0.509       0.936\nnrLetters/nrWords                     0.3255      0.054      5.986      0.000       0.219       0.432\nnrComplexVerbs/nrWords                0.3525      0.494      0.713      0.476      -0.616       1.321\nsentiment                             1.1724      0.088     13.276      0.000       0.999       1.345\n=====================================================================================================\n"
     ]
    },
    {
     "output_type": "display_data",
     "data": {
      "text/plain": "  0%|          | 0/50000 [00:00<?, ?it/s]",
      "application/vnd.jupyter.widget-view+json": {
       "version_major": 2,
       "version_minor": 0,
       "model_id": "42aad1532d23457bbb08c91b992c9612"
      }
     },
     "metadata": {}
    },
    {
     "output_type": "display_data",
     "data": {
      "text/plain": "  0%|          | 0/50000 [00:00<?, ?it/s]",
      "application/vnd.jupyter.widget-view+json": {
       "version_major": 2,
       "version_minor": 0,
       "model_id": "d020b8cf105c44bda89059110f939451"
      }
     },
     "metadata": {}
    },
    {
     "output_type": "stream",
     "name": "stderr",
     "text": [
      "C:\\Libraries\\anaconda3\\lib\\site-packages\\statsmodels\\discrete\\discrete_model.py:1799: RuntimeWarning: overflow encountered in exp\n",
      "  return 1/(1+np.exp(-X))\n",
      "C:\\Libraries\\anaconda3\\lib\\site-packages\\statsmodels\\discrete\\discrete_model.py:1852: RuntimeWarning: divide by zero encountered in log\n",
      "  return np.sum(np.log(self.cdf(q*np.dot(X,params))))\n",
      "IMDB\n",
      "                           Logit Regression Results                           \n",
      "==============================================================================\n",
      "Dep. Variable:                      y   No. Observations:                50000\n",
      "Model:                          Logit   Df Residuals:                    49981\n",
      "Method:                           MLE   Df Model:                           18\n",
      "Date:                Sun, 23 May 2021   Pseudo R-squ.:                  0.4934\n",
      "Time:                        18:34:55   Log-Likelihood:                -16722.\n",
      "converged:                       True   LL-Null:                       -33011.\n",
      "Covariance Type:                  HC3   LLR p-value:                     0.000\n",
      "=====================================================================================================\n",
      "                                        coef    std err          z      P>|z|      [0.025      0.975]\n",
      "-----------------------------------------------------------------------------------------------------\n",
      "const                                -6.7696      0.420    -16.099      0.000      -7.594      -5.945\n",
      "nrPossesives/nrWords                  1.0011      0.762      1.313      0.189      -0.493       2.495\n",
      "nrStrongSentimentWords/nrWords       40.2524      1.516     26.543      0.000      37.280      43.225\n",
      "nrConjunctions/nrWords                4.5555      0.612      7.439      0.000       3.355       5.756\n",
      "nrSynsets/nrWords                     0.1454      0.022      6.708      0.000       0.103       0.188\n",
      "nrAdjectives/nrWords                  4.2756      0.627      6.824      0.000       3.048       5.504\n",
      "opinionPolarity                       0.1289      0.008     15.174      0.000       0.112       0.146\n",
      "nrDeterminers/nrWords                 0.1264      0.691      0.183      0.855      -1.228       1.480\n",
      "nrAmbiguousSentimentWords/nrWords     5.2572      1.138      4.619      0.000       3.027       7.488\n",
      "nrDifficultWordsDaleChall/nrWords     7.0050      0.365     19.180      0.000       6.289       7.721\n",
      "nrDifficultWordsSAT/nrWords          -6.3049      1.221     -5.162      0.000      -8.699      -3.911\n",
      "nrSlangWords/nrWords                 -0.5294      7.826     -0.068      0.946     -15.867      14.809\n",
      "uniquenessMean                       -5.1847      1.277     -4.060      0.000      -7.688      -2.682\n",
      "nrWords/nrSentences                  -0.0004      0.001     -0.664      0.507      -0.002       0.001\n",
      "uniquenessSTD                         8.3797      1.409      5.948      0.000       5.618      11.141\n",
      "nrAdverbs/nrWords                    -4.7954      0.642     -7.472      0.000      -6.053      -3.538\n",
      "nrLetters/nrWords                     1.2389      0.069     17.992      0.000       1.104       1.374\n",
      "nrComplexVerbs/nrWords               -8.9700      1.013     -8.853      0.000     -10.956      -6.984\n",
      "sentiment                            -4.8422      0.053    -92.209      0.000      -4.945      -4.739\n",
      "=====================================================================================================\n"
     ]
    }
   ],
   "source": [
    "for dataset in tqdm(datasets, desc=\"Datasets\"):\n",
    "\n",
    "\n",
    "    dims = pd.read_csv(f'./data/{dataset}/Dimensions.csv')\n",
    "    prediction = pd.read_csv(f'./data/{dataset}/Word2Vec-Prediction.csv')\n",
    "\n",
    "    data = dims.join(prediction)\n",
    "    data['y'] = data.progress_apply(lambda row: 1 if row['truth'] == row['predicted'] else 0, axis=1)\n",
    "    data['sentiment'] = data.progress_apply(lambda row: 1 if row['truth'] == 'positive' else 0, axis=1)\n",
    "\n",
    "    outputFile = f'./data/{dataset}/Regression-Test.pickle'\n",
    "    outputText = f'./data/{dataset}/Regression-Test.txt'\n",
    "\n",
    "\n",
    "\n",
    "    y = data['y']\n",
    "    X = data[picked + ['sentiment']]\n",
    "\n",
    "    result = regression(y, X)\n",
    "    summary = str(result.summary())\n",
    "    print(dataset)\n",
    "    print(summary)\n",
    "    pickle.dump(result, open(outputFile, mode='wb'))\n",
    "    saveFile(outputText, summary)"
   ]
  },
  {
   "cell_type": "code",
   "execution_count": null,
   "metadata": {},
   "outputs": [],
   "source": []
  }
 ]
}