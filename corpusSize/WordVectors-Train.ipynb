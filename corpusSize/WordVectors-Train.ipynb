{
 "cells": [
  {
   "cell_type": "code",
   "execution_count": 1,
   "metadata": {},
   "outputs": [],
   "source": [
    "import os\n",
    "import sys\n",
    "import inspect\n",
    "currentdir = os.path.dirname(os.path.abspath(inspect.getfile(inspect.currentframe())))\n",
    "parentdir = os.path.dirname(currentdir)\n",
    "sys.path.insert(0, parentdir)\n",
    "\n",
    "import numpy as np\n",
    "import pandas as pd\n",
    "from tqdm.notebook import tqdm\n",
    "from wordEmbedders import Word2Vec\n",
    "from functions import dirs\n",
    "tqdm.pandas()"
   ]
  },
  {
   "cell_type": "code",
   "execution_count": 2,
   "metadata": {},
   "outputs": [],
   "source": [
    "datasets = dirs('../data')"
   ]
  },
  {
   "cell_type": "code",
   "execution_count": 3,
   "metadata": {},
   "outputs": [],
   "source": [
    "embedder = Word2Vec"
   ]
  },
  {
   "cell_type": "code",
   "execution_count": 4,
   "metadata": {},
   "outputs": [],
   "source": [
    "sizes = [75, 50, 25, 10]"
   ]
  },
  {
   "cell_type": "code",
   "execution_count": 5,
   "metadata": {},
   "outputs": [
    {
     "output_type": "display_data",
     "data": {
      "text/plain": "Datasets:   0%|          | 0/3 [00:00<?, ?it/s]",
      "application/vnd.jupyter.widget-view+json": {
       "version_major": 2,
       "version_minor": 0,
       "model_id": "0b8792a60c774fb2963fa84ff6669fbb"
      }
     },
     "metadata": {}
    },
    {
     "output_type": "stream",
     "name": "stdout",
     "text": [
      "Training Word2Vec size 50 for Sentiment140\n",
      "Vocab time: 0.55 mins\n"
     ]
    },
    {
     "output_type": "display_data",
     "data": {
      "text/plain": "Word2Vec epochs:   0%|          | 0/30 [00:00<?, ?it/s]",
      "application/vnd.jupyter.widget-view+json": {
       "version_major": 2,
       "version_minor": 0,
       "model_id": "7cb0ac5043ea44ab823f698d0b887941"
      }
     },
     "metadata": {}
    },
    {
     "output_type": "stream",
     "name": "stdout",
     "text": [
      "Training Word2Vec size 25 for Sentiment140\n",
      "Vocab time: 0.29 mins\n"
     ]
    },
    {
     "output_type": "display_data",
     "data": {
      "text/plain": "Word2Vec epochs:   0%|          | 0/30 [00:00<?, ?it/s]",
      "application/vnd.jupyter.widget-view+json": {
       "version_major": 2,
       "version_minor": 0,
       "model_id": "8e1b86c8c8f64da4a6349528b597ee9c"
      }
     },
     "metadata": {}
    },
    {
     "output_type": "stream",
     "name": "stdout",
     "text": [
      "Training Word2Vec size 10 for Sentiment140\n",
      "Vocab time: 0.13 mins\n"
     ]
    },
    {
     "output_type": "display_data",
     "data": {
      "text/plain": "Word2Vec epochs:   0%|          | 0/30 [00:00<?, ?it/s]",
      "application/vnd.jupyter.widget-view+json": {
       "version_major": 2,
       "version_minor": 0,
       "model_id": "4cd6dd93f3a04103b44db5d9f7f5e8dc"
      }
     },
     "metadata": {}
    }
   ],
   "source": [
    "for dataset in tqdm(datasets, desc=\"Datasets\"):\n",
    "    dataFile = f'../data/{dataset}/Data-Cleaned.csv'\n",
    "    \n",
    "    if not os.path.exists(dataFile):\n",
    "        raise ValueError(f'Dataset {dataset} has not been cleaned')\n",
    "    if not os.path.exists(f'./models/{dataset}'):\n",
    "        os.mkdir(f'./models/{dataset}')\n",
    "\n",
    "    df = pd.read_csv(dataFile)\n",
    "    for size in sizes:\n",
    "        modelFile = f'./models/{dataset}/{embedder.name}-{size}.model'\n",
    "        if not os.path.exists(modelFile):\n",
    "            print(f'Training {embedder.name} size {size} for {dataset}')\n",
    "            data = df.sample(frac=size/100, random_state=1)\n",
    "            model = embedder(data['text'], 1)\n",
    "            print('Vocab time: {} mins'.format(round((model.vocabTime) / 60, 2)))\n",
    "            model.train(tqdm)\n",
    "            model.save(modelFile)"
   ]
  },
  {
   "cell_type": "code",
   "execution_count": null,
   "metadata": {},
   "outputs": [],
   "source": []
  }
 ],
 "metadata": {
  "kernelspec": {
   "name": "python385jvsc74a57bd0c44b72c526c8c2d5c61f5343e5a1f2700c1b4b253758e0d185049d36041666fd",
   "display_name": "Python 3.8.5 64-bit ('base': conda)"
  },
  "language_info": {
   "name": "python",
   "version": "3.8.5"
  },
  "orig_nbformat": 2
 },
 "nbformat": 4,
 "nbformat_minor": 2
}