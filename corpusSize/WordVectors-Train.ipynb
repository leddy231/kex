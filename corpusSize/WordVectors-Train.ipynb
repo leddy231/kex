{
 "cells": [
  {
   "cell_type": "code",
   "execution_count": 7,
   "metadata": {},
   "outputs": [],
   "source": [
    "import os\n",
    "import sys\n",
    "import inspect\n",
    "currentdir = os.path.dirname(os.path.abspath(inspect.getfile(inspect.currentframe())))\n",
    "parentdir = os.path.dirname(currentdir)\n",
    "sys.path.insert(0, parentdir)\n",
    "\n",
    "import numpy as np\n",
    "import pandas as pd\n",
    "from tqdm.notebook import tqdm\n",
    "from wordEmbedders import Word2Vec\n",
    "from functions import dirs\n",
    "tqdm.pandas()"
   ]
  },
  {
   "cell_type": "code",
   "execution_count": 8,
   "metadata": {},
   "outputs": [],
   "source": [
    "datasets = dirs('../data')\n",
    "embedder = Word2Vec\n",
    "sizes = [75, 50, 25, 10]\n",
    "seeds = [1,2,3,4,5]"
   ]
  },
  {
   "cell_type": "code",
   "execution_count": 9,
   "metadata": {},
   "outputs": [
    {
     "output_type": "display_data",
     "data": {
      "text/plain": "Datasets:   0%|          | 0/2 [00:00<?, ?it/s]",
      "application/vnd.jupyter.widget-view+json": {
       "version_major": 2,
       "version_minor": 0,
       "model_id": "fb00f97f5bf344598239d135bcd19dcb"
      }
     },
     "metadata": {}
    },
    {
     "output_type": "stream",
     "name": "stdout",
     "text": [
      "Training Word2Vec size 75 with seed 3 for AirlineTweets2\n",
      "Vocab time: 0.01 mins\n"
     ]
    },
    {
     "output_type": "display_data",
     "data": {
      "text/plain": "Word2Vec epochs:   0%|          | 0/30 [00:00<?, ?it/s]",
      "application/vnd.jupyter.widget-view+json": {
       "version_major": 2,
       "version_minor": 0,
       "model_id": "afd10f2d754a4ad196ae96ef842adbfd"
      }
     },
     "metadata": {}
    },
    {
     "output_type": "stream",
     "name": "stdout",
     "text": [
      "Training Word2Vec size 75 with seed 4 for AirlineTweets2\n",
      "Vocab time: 0.01 mins\n"
     ]
    },
    {
     "output_type": "display_data",
     "data": {
      "text/plain": "Word2Vec epochs:   0%|          | 0/30 [00:00<?, ?it/s]",
      "application/vnd.jupyter.widget-view+json": {
       "version_major": 2,
       "version_minor": 0,
       "model_id": "133d672f121e40209e2b108e42a6f133"
      }
     },
     "metadata": {}
    },
    {
     "output_type": "stream",
     "name": "stdout",
     "text": [
      "Training Word2Vec size 75 with seed 5 for AirlineTweets2\n",
      "Vocab time: 0.01 mins\n"
     ]
    },
    {
     "output_type": "display_data",
     "data": {
      "text/plain": "Word2Vec epochs:   0%|          | 0/30 [00:00<?, ?it/s]",
      "application/vnd.jupyter.widget-view+json": {
       "version_major": 2,
       "version_minor": 0,
       "model_id": "18320203464c4db2b31c2eaa0c1b6ecd"
      }
     },
     "metadata": {}
    },
    {
     "output_type": "stream",
     "name": "stdout",
     "text": [
      "Training Word2Vec size 50 with seed 3 for AirlineTweets2\n",
      "Vocab time: 0.01 mins\n"
     ]
    },
    {
     "output_type": "display_data",
     "data": {
      "text/plain": "Word2Vec epochs:   0%|          | 0/30 [00:00<?, ?it/s]",
      "application/vnd.jupyter.widget-view+json": {
       "version_major": 2,
       "version_minor": 0,
       "model_id": "a6a6cba3dd7c4dc98725b7cb709d1675"
      }
     },
     "metadata": {}
    },
    {
     "output_type": "stream",
     "name": "stdout",
     "text": [
      "Training Word2Vec size 50 with seed 4 for AirlineTweets2\n",
      "Vocab time: 0.01 mins\n"
     ]
    },
    {
     "output_type": "display_data",
     "data": {
      "text/plain": "Word2Vec epochs:   0%|          | 0/30 [00:00<?, ?it/s]",
      "application/vnd.jupyter.widget-view+json": {
       "version_major": 2,
       "version_minor": 0,
       "model_id": "87ae3af83f974ae484334422b739cff6"
      }
     },
     "metadata": {}
    },
    {
     "output_type": "stream",
     "name": "stdout",
     "text": [
      "Training Word2Vec size 50 with seed 5 for AirlineTweets2\n",
      "Vocab time: 0.01 mins\n"
     ]
    },
    {
     "output_type": "display_data",
     "data": {
      "text/plain": "Word2Vec epochs:   0%|          | 0/30 [00:00<?, ?it/s]",
      "application/vnd.jupyter.widget-view+json": {
       "version_major": 2,
       "version_minor": 0,
       "model_id": "8d077ec3299b47b09d5796bd71dd8556"
      }
     },
     "metadata": {}
    },
    {
     "output_type": "stream",
     "name": "stdout",
     "text": [
      "Training Word2Vec size 25 with seed 3 for AirlineTweets2\n",
      "Vocab time: 0.0 mins\n"
     ]
    },
    {
     "output_type": "display_data",
     "data": {
      "text/plain": "Word2Vec epochs:   0%|          | 0/30 [00:00<?, ?it/s]",
      "application/vnd.jupyter.widget-view+json": {
       "version_major": 2,
       "version_minor": 0,
       "model_id": "42598d8b637b41f0bf08159a8ef6741c"
      }
     },
     "metadata": {}
    },
    {
     "output_type": "stream",
     "name": "stdout",
     "text": [
      "Training Word2Vec size 25 with seed 4 for AirlineTweets2\n",
      "Vocab time: 0.0 mins\n"
     ]
    },
    {
     "output_type": "display_data",
     "data": {
      "text/plain": "Word2Vec epochs:   0%|          | 0/30 [00:00<?, ?it/s]",
      "application/vnd.jupyter.widget-view+json": {
       "version_major": 2,
       "version_minor": 0,
       "model_id": "111302a37d37488db8ba97e7900623b4"
      }
     },
     "metadata": {}
    },
    {
     "output_type": "stream",
     "name": "stdout",
     "text": [
      "Training Word2Vec size 25 with seed 5 for AirlineTweets2\n",
      "Vocab time: 0.0 mins\n"
     ]
    },
    {
     "output_type": "display_data",
     "data": {
      "text/plain": "Word2Vec epochs:   0%|          | 0/30 [00:00<?, ?it/s]",
      "application/vnd.jupyter.widget-view+json": {
       "version_major": 2,
       "version_minor": 0,
       "model_id": "6a93d9fcb8214a8d830fdfcc4e44454c"
      }
     },
     "metadata": {}
    },
    {
     "output_type": "stream",
     "name": "stdout",
     "text": [
      "Training Word2Vec size 10 with seed 3 for AirlineTweets2\n",
      "Vocab time: 0.0 mins\n"
     ]
    },
    {
     "output_type": "display_data",
     "data": {
      "text/plain": "Word2Vec epochs:   0%|          | 0/30 [00:00<?, ?it/s]",
      "application/vnd.jupyter.widget-view+json": {
       "version_major": 2,
       "version_minor": 0,
       "model_id": "d5ec4633e2de4e2eb7fa382229744de0"
      }
     },
     "metadata": {}
    },
    {
     "output_type": "stream",
     "name": "stdout",
     "text": [
      "Training Word2Vec size 10 with seed 4 for AirlineTweets2\nVocab time: 0.0 mins\n"
     ]
    },
    {
     "output_type": "display_data",
     "data": {
      "text/plain": "Word2Vec epochs:   0%|          | 0/30 [00:00<?, ?it/s]",
      "application/vnd.jupyter.widget-view+json": {
       "version_major": 2,
       "version_minor": 0,
       "model_id": "29765cbde1a34f999990ec05d0d962e6"
      }
     },
     "metadata": {}
    },
    {
     "output_type": "stream",
     "name": "stdout",
     "text": [
      "Training Word2Vec size 10 with seed 5 for AirlineTweets2\n",
      "Vocab time: 0.0 mins\n"
     ]
    },
    {
     "output_type": "display_data",
     "data": {
      "text/plain": "Word2Vec epochs:   0%|          | 0/30 [00:00<?, ?it/s]",
      "application/vnd.jupyter.widget-view+json": {
       "version_major": 2,
       "version_minor": 0,
       "model_id": "c46cf23e4315406db65e078380a49151"
      }
     },
     "metadata": {}
    },
    {
     "output_type": "stream",
     "name": "stdout",
     "text": [
      "Training Word2Vec size 75 with seed 3 for IMDB\n",
      "Vocab time: 0.46 mins\n"
     ]
    },
    {
     "output_type": "display_data",
     "data": {
      "text/plain": "Word2Vec epochs:   0%|          | 0/30 [00:00<?, ?it/s]",
      "application/vnd.jupyter.widget-view+json": {
       "version_major": 2,
       "version_minor": 0,
       "model_id": "ec4e79b815724b12858266cc4ee9cbc3"
      }
     },
     "metadata": {}
    },
    {
     "output_type": "stream",
     "name": "stdout",
     "text": [
      "Training Word2Vec size 75 with seed 4 for IMDB\n",
      "Vocab time: 0.46 mins\n"
     ]
    },
    {
     "output_type": "display_data",
     "data": {
      "text/plain": "Word2Vec epochs:   0%|          | 0/30 [00:00<?, ?it/s]",
      "application/vnd.jupyter.widget-view+json": {
       "version_major": 2,
       "version_minor": 0,
       "model_id": "9c8907910a8140e29fa3977e11a12752"
      }
     },
     "metadata": {}
    },
    {
     "output_type": "stream",
     "name": "stdout",
     "text": [
      "Training Word2Vec size 75 with seed 5 for IMDB\n",
      "Vocab time: 0.44 mins\n"
     ]
    },
    {
     "output_type": "display_data",
     "data": {
      "text/plain": "Word2Vec epochs:   0%|          | 0/30 [00:00<?, ?it/s]",
      "application/vnd.jupyter.widget-view+json": {
       "version_major": 2,
       "version_minor": 0,
       "model_id": "e9269fbabd364322a43e2cfa45f67d2f"
      }
     },
     "metadata": {}
    },
    {
     "output_type": "stream",
     "name": "stdout",
     "text": [
      "Training Word2Vec size 50 with seed 3 for IMDB\n",
      "Vocab time: 0.31 mins\n"
     ]
    },
    {
     "output_type": "display_data",
     "data": {
      "text/plain": "Word2Vec epochs:   0%|          | 0/30 [00:00<?, ?it/s]",
      "application/vnd.jupyter.widget-view+json": {
       "version_major": 2,
       "version_minor": 0,
       "model_id": "3661d185dd8a4f02874a0dfc36de67e8"
      }
     },
     "metadata": {}
    },
    {
     "output_type": "stream",
     "name": "stdout",
     "text": [
      "Training Word2Vec size 50 with seed 4 for IMDB\n",
      "Vocab time: 0.31 mins\n"
     ]
    },
    {
     "output_type": "display_data",
     "data": {
      "text/plain": "Word2Vec epochs:   0%|          | 0/30 [00:00<?, ?it/s]",
      "application/vnd.jupyter.widget-view+json": {
       "version_major": 2,
       "version_minor": 0,
       "model_id": "63acfadca766490bb4d8ba14bd45784b"
      }
     },
     "metadata": {}
    },
    {
     "output_type": "stream",
     "name": "stdout",
     "text": [
      "Training Word2Vec size 50 with seed 5 for IMDB\n",
      "Vocab time: 0.32 mins\n"
     ]
    },
    {
     "output_type": "display_data",
     "data": {
      "text/plain": "Word2Vec epochs:   0%|          | 0/30 [00:00<?, ?it/s]",
      "application/vnd.jupyter.widget-view+json": {
       "version_major": 2,
       "version_minor": 0,
       "model_id": "dd7e3505f56b4fd4b38f49d6b919ce24"
      }
     },
     "metadata": {}
    },
    {
     "output_type": "stream",
     "name": "stdout",
     "text": [
      "Training Word2Vec size 25 with seed 3 for IMDB\n",
      "Vocab time: 0.17 mins\n"
     ]
    },
    {
     "output_type": "display_data",
     "data": {
      "text/plain": "Word2Vec epochs:   0%|          | 0/30 [00:00<?, ?it/s]",
      "application/vnd.jupyter.widget-view+json": {
       "version_major": 2,
       "version_minor": 0,
       "model_id": "bcdf6210da6043518c2b5d4e00eae694"
      }
     },
     "metadata": {}
    },
    {
     "output_type": "stream",
     "name": "stdout",
     "text": [
      "Training Word2Vec size 25 with seed 4 for IMDB\n",
      "Vocab time: 0.18 mins\n"
     ]
    },
    {
     "output_type": "display_data",
     "data": {
      "text/plain": "Word2Vec epochs:   0%|          | 0/30 [00:00<?, ?it/s]",
      "application/vnd.jupyter.widget-view+json": {
       "version_major": 2,
       "version_minor": 0,
       "model_id": "dad3ae96b44e47eaa1cda787ad94c4b9"
      }
     },
     "metadata": {}
    },
    {
     "output_type": "stream",
     "name": "stdout",
     "text": [
      "Training Word2Vec size 25 with seed 5 for IMDB\n",
      "Vocab time: 0.17 mins\n"
     ]
    },
    {
     "output_type": "display_data",
     "data": {
      "text/plain": "Word2Vec epochs:   0%|          | 0/30 [00:00<?, ?it/s]",
      "application/vnd.jupyter.widget-view+json": {
       "version_major": 2,
       "version_minor": 0,
       "model_id": "4dc44fc6390843efb2f224449be2f3de"
      }
     },
     "metadata": {}
    },
    {
     "output_type": "stream",
     "name": "stdout",
     "text": [
      "Training Word2Vec size 10 with seed 3 for IMDB\n",
      "Vocab time: 0.08 mins\n"
     ]
    },
    {
     "output_type": "display_data",
     "data": {
      "text/plain": "Word2Vec epochs:   0%|          | 0/30 [00:00<?, ?it/s]",
      "application/vnd.jupyter.widget-view+json": {
       "version_major": 2,
       "version_minor": 0,
       "model_id": "f1e7b374b0fe4aceb418b2a4bf7367cf"
      }
     },
     "metadata": {}
    },
    {
     "output_type": "stream",
     "name": "stdout",
     "text": [
      "Training Word2Vec size 10 with seed 4 for IMDB\n",
      "Vocab time: 0.09 mins\n"
     ]
    },
    {
     "output_type": "display_data",
     "data": {
      "text/plain": "Word2Vec epochs:   0%|          | 0/30 [00:00<?, ?it/s]",
      "application/vnd.jupyter.widget-view+json": {
       "version_major": 2,
       "version_minor": 0,
       "model_id": "f79cecb044d341aca0a4e9b25c708f81"
      }
     },
     "metadata": {}
    },
    {
     "output_type": "stream",
     "name": "stdout",
     "text": [
      "Training Word2Vec size 10 with seed 5 for IMDB\n",
      "Vocab time: 0.09 mins\n"
     ]
    },
    {
     "output_type": "display_data",
     "data": {
      "text/plain": "Word2Vec epochs:   0%|          | 0/30 [00:00<?, ?it/s]",
      "application/vnd.jupyter.widget-view+json": {
       "version_major": 2,
       "version_minor": 0,
       "model_id": "afcd145609db464a8cf1837b02719f3b"
      }
     },
     "metadata": {}
    }
   ],
   "source": [
    "for dataset in tqdm(datasets, desc=\"Datasets\"):\n",
    "    dataFile = f'../data/{dataset}/Data-Cleaned.csv'\n",
    "    \n",
    "    if not os.path.exists(dataFile):\n",
    "        raise ValueError(f'Dataset {dataset} has not been cleaned')\n",
    "    if not os.path.exists(f'./models/{dataset}'):\n",
    "        os.mkdir(f'./models/{dataset}')\n",
    "\n",
    "    df = pd.read_csv(dataFile)\n",
    "    for size in sizes:\n",
    "        for seed in seeds:\n",
    "            modelFile = f'./models/{dataset}/{embedder.name}-{size}-{seed}.model'\n",
    "            if not os.path.exists(modelFile):\n",
    "                print(f'Training {embedder.name} size {size} with seed {seed} for {dataset}')\n",
    "                data = df.sample(frac=size/100, random_state=seed)\n",
    "                model = embedder(data['text'], 1)\n",
    "                print('Vocab time: {} mins'.format(round((model.vocabTime) / 60, 2)))\n",
    "                model.train(tqdm)\n",
    "                model.save(modelFile)"
   ]
  },
  {
   "cell_type": "code",
   "execution_count": null,
   "metadata": {},
   "outputs": [],
   "source": []
  }
 ],
 "metadata": {
  "kernelspec": {
   "name": "python385jvsc74a57bd0c44b72c526c8c2d5c61f5343e5a1f2700c1b4b253758e0d185049d36041666fd",
   "display_name": "Python 3.8.5 64-bit ('base': conda)"
  },
  "language_info": {
   "name": "python",
   "version": "3.8.5"
  },
  "orig_nbformat": 2
 },
 "nbformat": 4,
 "nbformat_minor": 2
}